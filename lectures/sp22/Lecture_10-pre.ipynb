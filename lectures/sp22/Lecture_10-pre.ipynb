{
 "cells": [
  {
   "cell_type": "markdown",
   "id": "e15a714d",
   "metadata": {},
   "source": [
    "# Lecture 10 (4/18/22)"
   ]
  },
  {
   "cell_type": "markdown",
   "id": "de5cc50a",
   "metadata": {},
   "source": [
    "**Announcements**\n",
    "- Problem set 2 *due tonight at 11:59pm*\n",
    "- Change of grading basis deadline 4/22 (shooting to have pset 1 & 2, labs 1 & 2 graded by then)"
   ]
  },
  {
   "cell_type": "markdown",
   "id": "a468696c",
   "metadata": {},
   "source": [
    "*Last time we covered:*\n",
    "- graphing with matplotlib\n",
    "- graphing best practices\n",
    "- graphing with seaborn\n",
    "\n",
    "**Today's agenda:**\n",
    "- Cleaning and structuring data with pandas"
   ]
  },
  {
   "cell_type": "markdown",
   "id": "95e2d50c",
   "metadata": {},
   "source": [
    "# Cleaning data: principles and tools"
   ]
  },
  {
   "cell_type": "code",
   "execution_count": null,
   "id": "bcc0ace8",
   "metadata": {},
   "outputs": [],
   "source": [
    "import pandas as pd\n",
    "import numpy as np"
   ]
  },
  {
   "cell_type": "markdown",
   "id": "488521ea",
   "metadata": {},
   "source": [
    "## What are the sorts of things we (typically) don't want in our data?"
   ]
  },
  {
   "cell_type": "markdown",
   "id": "3db74a25",
   "metadata": {},
   "source": [
    "...\n",
    "\n"
   ]
  },
  {
   "cell_type": "markdown",
   "id": "f5198123",
   "metadata": {},
   "source": [
    "## What do the things we don't want in our data look like in python?"
   ]
  },
  {
   "cell_type": "markdown",
   "id": "124cae38",
   "metadata": {},
   "source": [
    "### Duplicates"
   ]
  },
  {
   "cell_type": "code",
   "execution_count": null,
   "id": "68f438b2",
   "metadata": {},
   "outputs": [],
   "source": [
    "# Duplicates: what do they look like?\n",
    "\n",
    "df = pd.DataFrame({\n",
    "    \"sample_int\": np.random.randint(low = 1, high = 10, size = 10)\n",
    "})\n",
    "\n",
    "df\n",
    "# df[df.sample_int == 1]"
   ]
  },
  {
   "cell_type": "markdown",
   "id": "8f593154",
   "metadata": {},
   "source": [
    "Duplicates are hard to detect without a more careful search because they may look like totally normal data otherwise."
   ]
  },
  {
   "cell_type": "markdown",
   "id": "ea348596",
   "metadata": {},
   "source": [
    "### Missing data"
   ]
  },
  {
   "cell_type": "code",
   "execution_count": null,
   "id": "1728368c",
   "metadata": {},
   "outputs": [],
   "source": [
    "# Missing data: what does it look like?\n",
    "\n",
    "df.iloc[0] = np.nan\n",
    "df.iloc[1] = None\n",
    "\n",
    "df # is this what we expected?\n"
   ]
  },
  {
   "cell_type": "code",
   "execution_count": null,
   "id": "a97e5ade",
   "metadata": {},
   "outputs": [],
   "source": [
    "df['nans'] = np.nan\n",
    "df['nones'] = None\n",
    "\n",
    "df"
   ]
  },
  {
   "cell_type": "markdown",
   "id": "9b0d744a",
   "metadata": {},
   "source": [
    "Note: sometimes missing data can take other forms, for example empty strings.\n",
    "\n",
    "This is especially true when your data has had some intermediate processing like being stored as a csv."
   ]
  },
  {
   "cell_type": "markdown",
   "id": "e1a61c66",
   "metadata": {},
   "source": [
    "### Outliers"
   ]
  },
  {
   "cell_type": "code",
   "execution_count": null,
   "id": "60a5cc64",
   "metadata": {},
   "outputs": [],
   "source": [
    "# Outliers: what do they look like?\n",
    "\n",
    "df.iloc[9, 0] = 400\n",
    "\n",
    "df"
   ]
  },
  {
   "cell_type": "markdown",
   "id": "9dae30e8",
   "metadata": {},
   "source": [
    "Be careful here!\n",
    "\n",
    "Not every unexpected data point is an outlier..."
   ]
  },
  {
   "cell_type": "markdown",
   "id": "bbc0a69b",
   "metadata": {},
   "source": [
    "## Aside: why do we want to detect these things in our data?"
   ]
  },
  {
   "cell_type": "code",
   "execution_count": null,
   "id": "fce72a25",
   "metadata": {},
   "outputs": [],
   "source": [
    "# A simple illustration\n",
    "\n",
    "df\n",
    "\n",
    "np.mean(df.sample_int)\n",
    "\n",
    "# np.sum(df.sample_int) / len(df.sample_int)\n",
    "\n",
    "# len(df.sample_int)\n",
    "# np.sum(df.sample_int) / 8\n",
    "\n",
    "\n",
    "\n",
    "np.median(df.sample_int) # uh oh...\n"
   ]
  },
  {
   "cell_type": "markdown",
   "id": "25311f8d",
   "metadata": {},
   "source": [
    "Take-away: these things can impact our analyses in lots of ways, which is why we want to find them!"
   ]
  },
  {
   "cell_type": "markdown",
   "id": "df6fe244",
   "metadata": {},
   "source": [
    "## How do we check for stuff we don't want in our data?"
   ]
  },
  {
   "cell_type": "markdown",
   "id": "2f0be235",
   "metadata": {},
   "source": [
    "### Duplicates"
   ]
  },
  {
   "cell_type": "code",
   "execution_count": null,
   "id": "87eeb150",
   "metadata": {},
   "outputs": [],
   "source": [
    "# Duplicates\n",
    "\n",
    "df[df.duplicated()] # just show the info that's duplicated after the first occurrence\n",
    "\n",
    "# df[df.duplicated(keep = False)] # show all duplicated rows\n",
    "# df"
   ]
  },
  {
   "cell_type": "markdown",
   "id": "33ae0d71",
   "metadata": {},
   "source": [
    "### Missing values"
   ]
  },
  {
   "cell_type": "code",
   "execution_count": null,
   "id": "98c6e21f",
   "metadata": {},
   "outputs": [],
   "source": [
    "# Missing values\n",
    "\n",
    "# Pandas tools: `pd.isna` and `pd.isnull`\n",
    "pd.isna(df['sample_int'])\n",
    "df[pd.isna(df['sample_int'])]\n",
    "\n",
    "df[pd.isnull(df['sample_int'])] # Note: this is the same as `pd.isna` above\n"
   ]
  },
  {
   "cell_type": "code",
   "execution_count": null,
   "id": "be681958",
   "metadata": {},
   "outputs": [],
   "source": [
    "# Numpy tools: `np.isnan` to detect NaNs\n",
    "df[np.isnan(df['sample_int'])]\n",
    "\n",
    "# But watch out! \n",
    "np.isnan(np.nan)\n",
    "# np.isnan(None) # that's weird..."
   ]
  },
  {
   "cell_type": "markdown",
   "id": "6a622f55",
   "metadata": {},
   "source": [
    "### Outliers"
   ]
  },
  {
   "cell_type": "markdown",
   "id": "e72b4635",
   "metadata": {},
   "source": [
    "This is one area where graphing our data can be really helpful!"
   ]
  },
  {
   "cell_type": "markdown",
   "id": "adf8b96b",
   "metadata": {},
   "source": [
    "![anscombe](img/anscombe.png)"
   ]
  },
  {
   "cell_type": "markdown",
   "id": "cae984e1",
   "metadata": {},
   "source": [
    "## How do we get rid of stuff we don't want in our data?\n",
    "\n",
    "Our options are:\n",
    "1. Remove obervations (or otherwise ignore them)\n",
    "2. Fill in the observations (missing values only)"
   ]
  },
  {
   "cell_type": "markdown",
   "id": "17ab0eaf",
   "metadata": {},
   "source": [
    "### Duplicates"
   ]
  },
  {
   "cell_type": "markdown",
   "id": "d721905f",
   "metadata": {},
   "source": [
    "With duplicate data, the best thing is most often to remove it (unless the duplication is expected)"
   ]
  },
  {
   "cell_type": "code",
   "execution_count": null,
   "id": "9143f435",
   "metadata": {},
   "outputs": [],
   "source": [
    "df_no_dupes = df.drop_duplicates(ignore_index = True) # Note: we need this `ignore_index = True`\n",
    "\n",
    "df_no_dupes"
   ]
  },
  {
   "cell_type": "markdown",
   "id": "60bb417f",
   "metadata": {},
   "source": [
    "### Missing values\n",
    "\n",
    "With missing values, it may be best to drop missing values, or fill them in with a reasonable value.\n",
    "\n",
    "\n",
    "More info on missing value handling [here](https://pandas.pydata.org/docs/user_guide/missing_data.html)."
   ]
  },
  {
   "cell_type": "markdown",
   "id": "8fd6279e",
   "metadata": {},
   "source": [
    "**Dropping missing values**: why might we do that?"
   ]
  },
  {
   "cell_type": "code",
   "execution_count": null,
   "id": "6d619fe7",
   "metadata": {},
   "outputs": [],
   "source": [
    "# Dropping NAs\n",
    "\n",
    "df_no_na = df.dropna() # can specify an `axis`: 0 for columns, 1 for rows containing missing values\n",
    "\n",
    "df_no_na # What happened here??"
   ]
  },
  {
   "cell_type": "code",
   "execution_count": null,
   "id": "a177a7a3",
   "metadata": {},
   "outputs": [],
   "source": [
    "df_no_na = df.dropna(how = \"all\") \n",
    "# how = \"all\" will drop rows where *all* values are NaN\n",
    "# how = \"any\" (default) will drop rows where *any* column value is NaN\n",
    "\n",
    "df_no_na # that's better"
   ]
  },
  {
   "cell_type": "markdown",
   "id": "27f986a6",
   "metadata": {},
   "source": [
    "**Filling in missing values**: Why might we do that instead? (and what to put there?)"
   ]
  },
  {
   "cell_type": "markdown",
   "id": "9951a848",
   "metadata": {},
   "source": [
    "The pandas `fillna` function provides a few convenient ways to fill in missing data"
   ]
  },
  {
   "cell_type": "code",
   "execution_count": null,
   "id": "a22e5479",
   "metadata": {},
   "outputs": [],
   "source": [
    "# Can provide a specific number\n",
    "\n",
    "df_no_na = df.fillna(0) \n",
    "\n",
    "# df_no_na = df.fillna(df.mean()) # note this can be handy\n",
    "# df_no_na = df.fillna(np.nanmedian(df['sample_int'])) \n",
    "\n",
    "df_no_na\n"
   ]
  },
  {
   "cell_type": "code",
   "execution_count": null,
   "id": "2e104d38",
   "metadata": {},
   "outputs": [],
   "source": [
    "# Can also use the previous or next value in the sequence (handy for time series data)\n",
    "\n",
    "df.iloc[4, 0] = np.nan\n",
    "\n",
    "df\n",
    "\n",
    "df_no_na = df.fillna(method = 'pad',\n",
    "                     limit = 1 # optional limit argument says how many consecutive times to do this\n",
    "                    )\n",
    "\n",
    "df_no_na"
   ]
  },
  {
   "cell_type": "markdown",
   "id": "498dbb40",
   "metadata": {},
   "source": [
    "Finally, pandas also provides tools for using *interpolation* to guess the missing value. \n",
    "\n",
    "We won't get into that here, but you can check out [this page](https://pandas.pydata.org/docs/user_guide/missing_data.html#interpolation) if you're curious."
   ]
  },
  {
   "cell_type": "markdown",
   "id": "df2c5a8a",
   "metadata": {},
   "source": [
    "### Outliers"
   ]
  },
  {
   "cell_type": "markdown",
   "id": "4d8a89ec",
   "metadata": {},
   "source": [
    "When you have data that includes large outliers, it may be okay to remove them from your data, but you should do this with caution! \n",
    "\n",
    "As a general rule, only remove outliers when you have a good justification for doing so.\n",
    "\n",
    "*What constitutes a good justification?*\n",
    "- If for whatever reason your analysis is only interested in values within a particular range\n",
    "- Or, more often, if you have strong reason to suspect that a datapoint was *generated differently* than the rest (for example, somebody falling asleep at the keyboard)\n",
    "\n",
    "In these cases, you typically set a criterion and remove rows that meet that criterion.\n"
   ]
  },
  {
   "cell_type": "code",
   "execution_count": null,
   "id": "fb89c1ea",
   "metadata": {},
   "outputs": [],
   "source": [
    "\n",
    "\n",
    "np.std(df.sample_int) # can specify e.g., values > X standard deviations above the mean\n",
    "thresh = np.mean(df.sample_int) + 3*np.std(df.sample_int)\n",
    "\n",
    "np.nanquantile(df.sample_int, [0.95]) # or, similarly, the top N% of data points\n",
    "thresh = np.nanquantile(df.sample_int, [0.95])[0]\n",
    "\n",
    "thresh\n",
    "\n",
    "df_no_outliers = df[df.sample_int <= thresh]\n",
    "\n",
    "df_no_outliers"
   ]
  },
  {
   "cell_type": "markdown",
   "id": "b5d86853",
   "metadata": {},
   "source": []
  },
  {
   "cell_type": "code",
   "execution_count": null,
   "id": "3a2dc880",
   "metadata": {},
   "outputs": [],
   "source": []
  }
 ],
 "metadata": {
  "interpreter": {
   "hash": "e774977668b7c0ae8309835a5187aa7fbf7669e7d0bb59755bc63e573643edcd"
  },
  "kernelspec": {
   "display_name": "Python 3 (clean)",
   "language": "python",
   "name": "python3"
  },
  "language_info": {
   "codemirror_mode": {
    "name": "ipython",
    "version": 3
   },
   "file_extension": ".py",
   "mimetype": "text/x-python",
   "name": "python",
   "nbconvert_exporter": "python",
   "pygments_lexer": "ipython3",
   "version": "3.7.4"
  }
 },
 "nbformat": 4,
 "nbformat_minor": 5
}
