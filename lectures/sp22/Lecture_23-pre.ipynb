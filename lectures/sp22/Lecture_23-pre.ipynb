{
 "cells": [
  {
   "cell_type": "markdown",
   "id": "62c7e6f5",
   "metadata": {},
   "source": [
    "# Lecture 23 (5/18/2022)"
   ]
  },
  {
   "cell_type": "markdown",
   "id": "a1ea5e3d",
   "metadata": {},
   "source": [
    "**Announcements**\n",
    "- \n"
   ]
  },
  {
   "cell_type": "markdown",
   "id": "cac90fc6",
   "metadata": {},
   "source": [
    "*Last time we covered:*\n",
    "- Clustering: $k$-means\n",
    "\n",
    "**Today's agenda:**\n",
    "- Evaluating $k$-means and other clustering solutions\n"
   ]
  },
  {
   "cell_type": "code",
   "execution_count": null,
   "id": "aa6ebecc",
   "metadata": {},
   "outputs": [],
   "source": [
    "import numpy as np\n",
    "import pandas as pd\n",
    "import matplotlib.pyplot as plt\n",
    "import seaborn as sns"
   ]
  },
  {
   "cell_type": "markdown",
   "id": "c8e3d210",
   "metadata": {},
   "source": [
    "# Evaluating $k$-means (and other clustering) algorithms\n",
    "\n",
    "Ways $k$-means clustering can fail, and how to overcome them:\n",
    "\n",
    "1. Wrong number of clusters\n",
    "    - Using WCSS and the \"elbow method\" to determine clusters\n",
    "2. Inconsistent (and sometimes sub-optimal) clusters\n",
    "    - Repeated iterations; k-means++ and other variants\n",
    "3. Consistently sub-optimal clusters\n",
    "    - The underlying \"model\" of $k$-means (mouse data)"
   ]
  },
  {
   "cell_type": "markdown",
   "id": "63b1e537",
   "metadata": {},
   "source": [
    "Instead of the `iris` dataset that we used last time, let's check out some of the sklearn tools for *generating* sample data: the sklearn `make_blobs` function [here](https://scikit-learn.org/stable/modules/generated/sklearn.datasets.make_blobs.html) (see other available data generators [here](https://scikit-learn.org/stable/modules/classes.html#samples-generator))\n",
    "\n",
    "**Step 1: generate our data**"
   ]
  },
  {
   "cell_type": "code",
   "execution_count": null,
   "id": "90dbfdcb",
   "metadata": {},
   "outputs": [],
   "source": [
    "from sklearn.datasets import make_blobs\n",
    "\n",
    "sample_vals, sample_clusters = make_blobs(n_samples = 300, # how many samples to generate \n",
    "                                          n_features = 2, # number of features\n",
    "                                          centers = 3, # how many \"blobs\"\n",
    "                                          center_box = (0, 10), # what range the \"centers\" can be in\n",
    "                                          cluster_std = 1, # SD of the blobs (can be a list)\n",
    "                                          random_state = 1\n",
    "                                         )\n",
    "\n",
    "sample_vals\n",
    "sample_clusters"
   ]
  },
  {
   "cell_type": "markdown",
   "id": "85685139",
   "metadata": {},
   "source": [
    "**Step 2: let's take a look!**"
   ]
  },
  {
   "cell_type": "code",
   "execution_count": null,
   "id": "1dafd813",
   "metadata": {},
   "outputs": [],
   "source": [
    "sns.scatterplot(x = sample_vals[:, 0], y = sample_vals[:, 1], hue = sample_clusters)\n",
    "plt.show()"
   ]
  },
  {
   "cell_type": "markdown",
   "id": "610e47f4",
   "metadata": {},
   "source": [
    "**Step 3: profit**\n",
    "\n",
    "![leo](img/leo.gif)"
   ]
  },
  {
   "cell_type": "markdown",
   "id": "b1eb35dd",
   "metadata": {},
   "source": [
    "***"
   ]
  },
  {
   "cell_type": "markdown",
   "id": "7724fb6b",
   "metadata": {},
   "source": [
    "## Ensuring the right number of clusters\n",
    "\n",
    "How do we know when a clustering algorithm like $k$-means has generated the \"right\" number of clusters?\n",
    "\n",
    "One solution that we've relied on for simple data like the above is to just look at the clustering solution. Do the assigned clusters *look right*? \n",
    "\n",
    "But this isn't always an option. What do we do for example when our data is multi-dimensional and we can't easily visualize it?\n",
    "\n",
    "..."
   ]
  },
  {
   "cell_type": "markdown",
   "id": "6a4646a6",
   "metadata": {},
   "source": [
    "### Goldilocks and the Three Clusters\n",
    "\n",
    "Let's start by just thinking about what having the right number of clusters should look like:\n",
    "- When our data is easily clustered and we've properly assigned it to the right clusters, every point should be relatively close to the center of its respective cluster (ideally)\n",
    "- When our data is easily clustered but we've assigned it to too *few* clusters, some of our data points will be far from the cluster's center\n",
    "- When our data is easily clustered but we've assigned it to too *many* clusters, our points will all be pretty close the center of their respective clusters, but maybe not that much better than when we had the right amount because at that point we're just splitting up existing clusters\n",
    "\n",
    "Let's see an example of this with our data above:"
   ]
  },
  {
   "cell_type": "code",
   "execution_count": null,
   "id": "90e9a0a7",
   "metadata": {},
   "outputs": [],
   "source": [
    "from sklearn.cluster import KMeans\n",
    "\n",
    "# Too FEW clusters\n",
    "km1 = KMeans(n_clusters = 1, random_state = 1).fit(X = sample_vals)\n",
    "sns.scatterplot(x = sample_vals[:, 0], y = sample_vals[:, 1], hue = km1.labels_)\n",
    "plt.text(x = km1.cluster_centers_[0, 0], y = km1.cluster_centers_[0, 1], \n",
    "         s = \"X\", fontweight = \"bold\", fontsize = 14, color = \"red\")\n",
    "plt.show()"
   ]
  },
  {
   "cell_type": "markdown",
   "id": "bfb99df4",
   "metadata": {},
   "source": [
    "In the above, some of these points are much farther away from the center of their assigned cluster (in orange) than they would be if we properly assigned them to 2-3 *separate* clusters.\n",
    "\n",
    "*What about when there are too many clusters?*"
   ]
  },
  {
   "cell_type": "code",
   "execution_count": null,
   "id": "c61ba2b3",
   "metadata": {},
   "outputs": [],
   "source": [
    "from sklearn.cluster import KMeans\n",
    "\n",
    "# Too MANY clusters\n",
    "km10 = KMeans(n_clusters = 10, random_state = 1).fit(X = sample_vals)\n",
    "sns.scatterplot(x = sample_vals[:, 0], y = sample_vals[:, 1], hue = km10.labels_)\n",
    "plt.show()"
   ]
  },
  {
   "cell_type": "markdown",
   "id": "2104c3a0",
   "metadata": {},
   "source": [
    "Now, each of these points will be super close to their center, but not that much closer than they would be with just 2-3 cluster centers.\n",
    "\n",
    "Take a look at 3 clusters below to get a sense of this:"
   ]
  },
  {
   "cell_type": "code",
   "execution_count": null,
   "id": "590f045e",
   "metadata": {},
   "outputs": [],
   "source": [
    "# This k-means is juuuust right\n",
    "km3 = KMeans(n_clusters = 3, random_state = 1).fit(X = sample_vals)\n",
    "sns.scatterplot(x = sample_vals[:, 0], y = sample_vals[:, 1], hue = km3.labels_)\n",
    "plt.show()"
   ]
  },
  {
   "cell_type": "markdown",
   "id": "6a4e280e",
   "metadata": {},
   "source": [
    "So, a metric that captures how close each data point is to the center of its assigned cluster might give us a way to estimate the right number of clusters based on these intuitions."
   ]
  },
  {
   "cell_type": "markdown",
   "id": "029da865",
   "metadata": {},
   "source": [
    "### $k$-means *Inertia* or Within-Cluster Sum of Squares (WCSS)\n",
    "\n",
    "The *inertia* metric for our $k$-means clusters tells us how close each data point is to its respective cluster center. \n",
    "\n",
    "$\\text{inertia} = \\sum_{i=1}^{N} {(x_i - C_k)}^2$ where $C_k$ is the *center* of each data point's assigned cluster.\n",
    "\n",
    "Inertia is essentially a measure of the *variance* of our clusters (though it scales with the number of data points).\n",
    "\n",
    "Our sklearn $k$-means model tells us the inertia for the clusters it estimated. \n",
    "\n",
    "*How do our inertia values compare for the models above?*"
   ]
  },
  {
   "cell_type": "code",
   "execution_count": null,
   "id": "7940cb54",
   "metadata": {},
   "outputs": [],
   "source": [
    "print(\"1 cluster: {}\".format(km1.inertia_)) # super high when we only assign 1 cluster\n",
    "print(\"10 clusters: {}\".format(km10.inertia_)) # MUCH lower when we assign 10 clusters\n",
    "print(\"3 clusters: {}\".format(km3.inertia_)) # What about when we assign 3 clusters?\n",
    "# this is definitely higher than for k = 10, but not THAT much higher..."
   ]
  },
  {
   "cell_type": "markdown",
   "id": "a41989eb",
   "metadata": {},
   "source": [
    "The better way to see this pattern is to graph our inertia for increasing numbers of $k$-means clusters:"
   ]
  },
  {
   "cell_type": "code",
   "execution_count": null,
   "id": "96335c39",
   "metadata": {},
   "outputs": [],
   "source": [
    "# Here's a fun list comprehension!\n",
    "inertias = [KMeans(n_clusters = k, random_state = 1).fit(X = sample_vals).inertia_ for k in np.arange(1, 11)]\n",
    "inertias\n",
    "\n",
    "sns.pointplot(x = np.arange(1, 11), y = inertias)\n",
    "plt.xlabel(\"k clusters\")\n",
    "plt.ylabel(\"inertia\")\n",
    "plt.show()"
   ]
  },
  {
   "cell_type": "markdown",
   "id": "96034e49",
   "metadata": {},
   "source": [
    "### The \"Elbow Method\"\n",
    "\n",
    "One strategy for identifying the right number of clusters in your data is the \"elbow method\" (I'm not making this up...), which involves identifying the point in the curve above where the line starts to flatten (i.e., the *elbow*).\n",
    "\n",
    "So in this case, we end up with an optimal number of clusters around 2-3 (which matches our data above pretty well).\n",
    "\n",
    "You can read a nice overview of this approach [here](https://towardsdatascience.com/clustering-how-to-find-hyperparameters-using-inertia-b0343c6fe819).\n",
    "\n",
    "If this feels a bit weirdly subjective, it's because it is... There are other approaches available but none is a silver bullet; you can read more about them on the wikipedia page [here](https://en.wikipedia.org/wiki/Determining_the_number_of_clusters_in_a_data_set). Some are much more complex and some are specific to particular classes of clustering models. Other clustering models don't require you to specify the number of clusters *at all*, but almost all of them have *some* hyperparameter that requires a bit of tuning or intuition. "
   ]
  },
  {
   "cell_type": "markdown",
   "id": "8c9c1ad1",
   "metadata": {},
   "source": [
    "***"
   ]
  },
  {
   "cell_type": "markdown",
   "id": "1dd83fd2",
   "metadata": {},
   "source": [
    "## Ensuring optimal (and stable) clustering\n",
    "\n",
    "Okay, so you've chosen an optimal number of clusters using something like the elbow method. \n",
    "\n",
    "Another important question to ask is whether the cluster assignments that $k$-means produces (and the corresponding *inertia* value) are *stable*. In other words, will $k$-means always converge to the same clusters for a given $k$ value?\n",
    "\n",
    "It turns out, **$k$-means guarantees convergence, but it doesn't guarantee that it will converge to the *global minimum* inertia for a given $k$ value**.\n",
    "\n",
    "![padme](img/padme.jpeg)\n",
    "\n",
    "**Why doesn't $k$-means choose the best cluster allocation every time?**\n",
    "\n",
    "One of the requirements for $k$-means is that you start out with a random set of points as the assigned cluster centers. Which points you choose at the outset can lead to different clustering solutions once the algorithm converges. \n",
    "\n",
    "Here's a really clear illustration of this from the $k$-means wikipedia page ([link](https://en.wikipedia.org/wiki/K-means_clustering)):\n",
    "\n",
    "![km_convergence](img/km_convergence.png)\n",
    "\n",
    "In the example above, we can see a $k$-means *starting state* with four randomly chosen cluster centers on the far left, and then the cluster assignments it converges to at the far right, which obviously doesn't match how this data naturally clusters.\n",
    "\n",
    "*So what can we do about this?*"
   ]
  },
  {
   "cell_type": "markdown",
   "id": "0b50acd0",
   "metadata": {},
   "source": [
    "### Solution 1: try again...\n",
    "\n",
    "Following our intuition in the previous section about the relationship between inertia and proper cluster alignment, it seems like the **bad solution** above (far right) would have much higher inertia than the proper cluster assignment, since the red cluster above is pretty spread out. \n",
    "\n",
    "So, one solution to avoid this problem is to **run the $k$-means algorithm repeatedly** with different random initial states, then choose the *best clustering solution* (i.e., lowest inertia) from among those runs."
   ]
  },
  {
   "cell_type": "markdown",
   "id": "4d59b59a",
   "metadata": {},
   "source": [
    "**Repeated runs in python**\n",
    "\n",
    "In fact, this is actually what sklearn does when you run `KMeans.fit`! \n",
    "\n",
    "By default, it runs the algorithm 10 times and then chooses the best one. \n",
    "\n",
    "You can toggle the number of runs with the `n_init` argument at initialization. \n",
    "\n",
    "Let's take a look at what happens when we run the algorithm a bunch of times with only *one* convergence per run."
   ]
  },
  {
   "cell_type": "code",
   "execution_count": null,
   "id": "37607202",
   "metadata": {},
   "outputs": [],
   "source": [
    "# First, let's run 1000 versions of k means with only ONE convergence per run (instead of default 10)\n",
    "# Another sneaky list comiprehension. Note the `n_init` argument below!\n",
    "inertias = [KMeans(n_clusters = 3, \n",
    "                   n_init = 1 # NOTE\n",
    "                  ).fit(X = sample_vals).inertia_ for k in np.arange(1, 101)]\n",
    "inertias\n",
    "\n",
    "# Now, let's run a single k means with the default 10 convergences and compare them\n",
    "optim = KMeans(n_clusters = 3).fit(X = sample_vals).inertia_\n"
   ]
  },
  {
   "cell_type": "markdown",
   "id": "92dd8272",
   "metadata": {},
   "source": [
    "*What do these look like?*"
   ]
  },
  {
   "cell_type": "code",
   "execution_count": null,
   "id": "02767339",
   "metadata": {},
   "outputs": [],
   "source": [
    "inertias = np.sort(inertias)\n",
    "inertias # whoa, look at those max values...\n",
    "\n",
    "inertias = inertias[inertias < 600]\n",
    "inertias\n",
    "\n",
    "sns.histplot(x = inertias,\n",
    "             bins = 10\n",
    "            )\n",
    "plt.axvline(optim, c = \"r\") # add a line showing inertia for our single k means with 10 runs\n",
    "plt.xlabel(\"Inertia for single runs\")\n",
    "plt.show()"
   ]
  },
  {
   "cell_type": "markdown",
   "id": "fde82490",
   "metadata": {},
   "source": [
    "As you can see above (at least for our pretty clusterable data), running the algorithm 10 times and choosing the best run does a pretty good job identifying the optimal solution."
   ]
  },
  {
   "cell_type": "markdown",
   "id": "d18e470f",
   "metadata": {},
   "source": [
    "### Solution 2: $k$-means++\n",
    "\n",
    "As the name implies, the *$k$-means++* algorithm represents a careful improvement over the *default* $k$-means aimed at optimizing the convergence of the algorithm. \n",
    "\n",
    "*What does it do differently?*\n",
    "\n",
    "Since the default $k$-means runs into issues because of its random assignment of initial cluster centers, one solution is to try and pick more strategic initial clusters at the outset. This is what $k$-means++ does.\n",
    "\n",
    "Specifically, it chooses a *single first cluster center* at random. Then, it computes every other point's distance from that initial starting point, and chooses a second cluster centroid with a probability proportional to each point's distance from the first centroid. It continues doing this for each point's distance to the *closest* centroid chosen so far. These details aren't super important: what matters is that **$k$-means++ will almost always choose starting centers that are far away from each other**. This helps avoid the problems of local minima shown above.\n",
    "\n",
    "The $k$-means++ algorithm has a provable upper bound on the inertia of the eventual clusters."
   ]
  },
  {
   "cell_type": "markdown",
   "id": "66d0af3a",
   "metadata": {},
   "source": [
    "**$k$-means++ in python**\n",
    "\n",
    "Because $k$-means++ offers such an improvement over the random method, the sklearn `KMeans` class also uses this by default! \n",
    "\n",
    "The `init` argument to the `KMeans` class lets you try out alternatives (including passing in explicit points that you want to start as the centroids). \n",
    "\n",
    "Let's compare \"random\" and \"kmeans++\" for single-run $k$-means clusters to see the difference:"
   ]
  },
  {
   "cell_type": "code",
   "execution_count": null,
   "id": "12942517",
   "metadata": {},
   "outputs": [],
   "source": [
    "# Run 100 k-means with \"random\" starting seeds\n",
    "inertias_rand = np.sort([KMeans(n_clusters = 3, \n",
    "                                n_init = 1, \n",
    "                                init = \"random\" # NOTE\n",
    "                               ).fit(X = sample_vals).inertia_ for k in np.arange(1, 101)])\n",
    "\n",
    "# Run 100 k-means with \"k-means++\" starting seeds (the default)\n",
    "inertias_kplus = np.sort([KMeans(n_clusters = 3, \n",
    "                                 n_init = 1, \n",
    "                                 init = \"k-means++\" # NOTE\n",
    "                                ).fit(X = sample_vals).inertia_ for k in np.arange(1, 101)])\n",
    "\n",
    "# Plot the average of the above\n",
    "inertias_df = pd.concat([\n",
    "    pd.DataFrame({\"method\": \"rand\", \"inertia\": inertias_rand}),\n",
    "    pd.DataFrame({\"method\": \"k++\", \"inertia\": inertias_kplus}),\n",
    "])\n",
    "sns.pointplot(data = inertias_df, x = \"method\", y = \"inertia\", hue = \"method\")"
   ]
  },
  {
   "cell_type": "markdown",
   "id": "496c9085",
   "metadata": {},
   "source": [
    "Above, you can see the impact of using $k$-means++ for initial \"seed\" selection.\n",
    "\n",
    "Even though the impact isn't huge here, this can make a big difference with large and complex datasets. "
   ]
  },
  {
   "cell_type": "markdown",
   "id": "3a4cfe24",
   "metadata": {},
   "source": [
    "***"
   ]
  },
  {
   "cell_type": "markdown",
   "id": "962abf5c",
   "metadata": {},
   "source": [
    "## Consistently sub-optimal clusters\n",
    "\n",
    "In the previous sections, we discussed how to identify the right number of clusters for our $k$-means algorithm and how to ensure that the clusters it identifies are stable and reasonably optimal. \n",
    "\n",
    "However, **there are some scenarios where $k$-means will *reliably* fail to cluster in the ways we want**. \n",
    "\n",
    "Here's an intuitive example:"
   ]
  },
  {
   "cell_type": "code",
   "execution_count": null,
   "id": "0abdd634",
   "metadata": {},
   "outputs": [],
   "source": [
    "mouse_vals, mouse_clusters = make_blobs(n_samples = [1000, 500, 500], # how many samples to generate \n",
    "                                          n_features = 2, # number of features\n",
    "                                          centers = [(3, 3), (1.5, 5), (4.5, 5)], # how many \"blobs\"\n",
    "                                          cluster_std = [.75, .25, .25], # SD of the blobs (can be a list)\n",
    "                                          random_state = 1\n",
    "                                         )\n"
   ]
  },
  {
   "cell_type": "code",
   "execution_count": null,
   "id": "044ca1fd",
   "metadata": {},
   "outputs": [],
   "source": [
    "sns.scatterplot(x = mouse_vals[:, 0], \n",
    "                y = mouse_vals[:, 1], \n",
    "#                 hue = mouse_clusters, # toggle comment this\n",
    "                alpha = 0.25\n",
    "               )\n",
    "plt.show()"
   ]
  },
  {
   "cell_type": "markdown",
   "id": "e200a0fd",
   "metadata": {},
   "source": [
    "The wikipedia page for $k$-means illustrates a similar example and calls the data set \"mouse\" (can you guess why??), so we'll do the same here.\n",
    "\n",
    "![mickey](img/mickey.png)\n",
    "\n",
    "Now, let's see what happens when we estimate clusters in this data using $k$-means:"
   ]
  },
  {
   "cell_type": "code",
   "execution_count": null,
   "id": "d322f124",
   "metadata": {},
   "outputs": [],
   "source": [
    "kmouse = KMeans(n_clusters = 3, random_state = 1).fit(X = mouse_vals)\n",
    "\n",
    "sns.scatterplot(x = mouse_vals[:, 0], \n",
    "                y = mouse_vals[:, 1], \n",
    "                hue = kmouse.labels_,\n",
    "                alpha = 0.5\n",
    "               )\n",
    "plt.show()"
   ]
  },
  {
   "cell_type": "markdown",
   "id": "86ae7576",
   "metadata": {},
   "source": [
    "That seems odd... \n",
    "\n",
    "*What's happening here?*\n",
    "\n",
    "..."
   ]
  },
  {
   "cell_type": "code",
   "execution_count": null,
   "id": "ac0c9d41",
   "metadata": {},
   "outputs": [],
   "source": [
    "# Let's take a look at the centroids to get a clearer idea\n",
    "\n",
    "sns.scatterplot(x = mouse_vals[:, 0], \n",
    "                y = mouse_vals[:, 1], \n",
    "                hue = kmouse.labels_,\n",
    "                alpha = 0.5\n",
    "               )\n",
    "plt.text(x = kmouse.cluster_centers_[0, 0], y = kmouse.cluster_centers_[0, 1], \n",
    "         s = \"C1\", fontweight = \"bold\", fontsize = 14)\n",
    "plt.text(x = kmouse.cluster_centers_[1, 0], y = kmouse.cluster_centers_[1, 1], \n",
    "         s = \"C2\", fontweight = \"bold\", fontsize = 14)\n",
    "plt.text(x = kmouse.cluster_centers_[2, 0], y = kmouse.cluster_centers_[2, 1], \n",
    "         s = \"C3\", fontweight = \"bold\", fontsize = 14)\n",
    "plt.show()"
   ]
  },
  {
   "cell_type": "markdown",
   "id": "5a28859e",
   "metadata": {},
   "source": [
    "### Choosing the model to fit the data\n",
    "\n",
    "The mouse example illustrates a really imporant point about evaluating models. \n",
    "\n",
    "**Every model makes certain assumptions about the *generative process* for the data it's trying to capture.** \n",
    "\n",
    "These assumptions or constraints are, in part, what allow the model to make sense of the world; they *simplify* our description of what's going on. \n",
    "\n",
    "> \"All models are wrong, but some are useful\" ~ George Box (a statistician)\n",
    "\n",
    "You've already seen this in a previous problem set: simple linear regression assumes that the relationship between two variables will produce *normally distributed residuals* around the line that gets fit. Multiple regression assumes that the predictors aren't correlated. \n",
    "\n",
    "Sometimes these assumptions aren't stated explicitly but the mechanics of the model require them. With $k$-means clustering, the model will converge to centroids that (roughly) minimize each point's distance to the nearest centroid. **This process therefore assumes that all of the clusters are the same size.**\n",
    "\n",
    "***\n",
    "\n",
    "*So what do we do when a model's assumptions are violated?*\n",
    "- If you think that the *real world process that generated your data* aligns with the model's assumptions, or that  this is a useful simplification to your real world data, then it's probably okay. \n",
    "    - For example, your residuals in a linear regression may never be perfectly normally distributed.\n",
    "- On the other hand, if you think the process that generated your data is more fundamentally at odds with the model's assumptions, then you probably need a different model. \n",
    "    - The data above is a good example of a scenario where $k$-means is probably the wrong model because our clusters have *very* different variances and we want our cluster solutions to reflect that.\n",
    "    \n",
    "***\n",
    "\n",
    "*So what do we use instead?*\n",
    "\n",
    "There are a **lot** of different clustering solutions out there; like classification, we could probably have a whole quarter devoted just to clustering. \n",
    "- The sklearn package has classes for many of the most common ones. You can see the full list [here](https://scikit-learn.org/stable/modules/classes.html#module-sklearn.cluster)\n",
    "\n",
    "We're not going to go through the other solutions out there (there are many, and they're each complex in their own way so we would need a lot more time to cover them. \n",
    "\n",
    "However, on Friday we're going to talk about one other solution that is important to be familiar with: **Gaussian mixture models**.\n",
    "- These are a *generalization* of the $k$-means\n",
    "- They solve the mouse problem we ran into above\n",
    "- And, they give us an opportunity to discuss *Expectation Maximization*, an important concept in model fitting.\n",
    "\n",
    "If you'd like to learn more about these and other solutions, there's a really clear and interesting tutorial about the different sklearn clustering algorithms [here](https://scikit-learn.org/stable/modules/clustering.html#clustering). \n",
    "\n",
    "![clusters](img/clusters.png)"
   ]
  }
 ],
 "metadata": {
  "interpreter": {
   "hash": "e774977668b7c0ae8309835a5187aa7fbf7669e7d0bb59755bc63e573643edcd"
  },
  "kernelspec": {
   "display_name": "Python 3.7.4 64-bit",
   "language": "python",
   "name": "python3"
  },
  "language_info": {
   "codemirror_mode": {
    "name": "ipython",
    "version": 3
   },
   "file_extension": ".py",
   "mimetype": "text/x-python",
   "name": "python",
   "nbconvert_exporter": "python",
   "pygments_lexer": "ipython3",
   "version": "3.7.4"
  }
 },
 "nbformat": 4,
 "nbformat_minor": 5
}
