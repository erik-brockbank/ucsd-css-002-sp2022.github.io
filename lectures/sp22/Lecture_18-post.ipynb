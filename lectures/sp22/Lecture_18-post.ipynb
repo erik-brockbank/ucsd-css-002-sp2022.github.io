{
 "cells": [
  {
   "cell_type": "markdown",
   "id": "62c7e6f5",
   "metadata": {},
   "source": [
    "# Lecture 18 (5/6/2022)"
   ]
  },
  {
   "cell_type": "markdown",
   "id": "a1ea5e3d",
   "metadata": {},
   "source": [
    "**Announcements**\n",
    "- Pset 4 due by 11:59PM tonight\n",
    "- This lecture: download the images from the github repo with lecture content"
   ]
  },
  {
   "cell_type": "markdown",
   "id": "cac90fc6",
   "metadata": {},
   "source": [
    "*Last time we covered:*\n",
    "- Classification intro + $k$-nearest neighbors\n",
    "\n",
    "**Today's agenda:**\n",
    "- Evaluating classification\n"
   ]
  },
  {
   "cell_type": "code",
   "execution_count": null,
   "id": "aa6ebecc",
   "metadata": {},
   "outputs": [],
   "source": [
    "import numpy as np\n",
    "import pandas as pd\n",
    "import matplotlib.pyplot as plt\n",
    "import seaborn as sns"
   ]
  },
  {
   "cell_type": "markdown",
   "id": "c8e3d210",
   "metadata": {},
   "source": [
    "# Evaluating classification algorithms\n",
    "\n",
    "\n",
    "On Wednesday, we talked about the problems that classification algorithms solve and looked at an example solution: $k$-nearest neighbors applied to the `iris` dataset. \n",
    "\n",
    "Let's start with a slightly more complex version of this problem: predicting iris species using *sepal length* and *sepal width*."
   ]
  },
  {
   "cell_type": "code",
   "execution_count": null,
   "id": "c6c64968",
   "metadata": {},
   "outputs": [],
   "source": [
    "iris = sns.load_dataset('iris')\n",
    "iris\n",
    "\n",
    "sns.scatterplot(data = iris, x = \"sepal_length\", y = \"sepal_width\", hue = \"species\", alpha = 0.5)\n",
    "plt.show()\n"
   ]
  },
  {
   "cell_type": "markdown",
   "id": "7f08c305",
   "metadata": {},
   "source": [
    "As you can see, $k$-nearest neighbors is likely to struggle with this one a bit more than the petal length and petal width features we used on Wednesday.\n",
    "\n",
    "*Let's see how it goes.*\n",
    "\n",
    "First, we set aside training and test data, as before:"
   ]
  },
  {
   "cell_type": "code",
   "execution_count": null,
   "id": "bed427b3",
   "metadata": {},
   "outputs": [],
   "source": [
    "from sklearn.model_selection import train_test_split\n",
    "\n",
    "x_vals = iris.loc[:, ('sepal_length', 'sepal_width')]\n",
    "y_vals = iris.loc[:, 'species']\n",
    "\n",
    "xtrain, xtest, ytrain, ytest = train_test_split(x_vals, y_vals, \n",
    "                                                test_size = 0.2, # we'll use a small test set here\n",
    "                                                random_state = 0 # make this process reproducible\n",
    "                                               )\n",
    "xtrain = xtrain.reset_index(drop = True)\n",
    "xtest = xtest.reset_index(drop = True)\n",
    "ytrain = ytrain.reset_index(drop = True)\n",
    "ytest = ytest.reset_index(drop = True)\n"
   ]
  },
  {
   "cell_type": "markdown",
   "id": "46281c68",
   "metadata": {},
   "source": [
    "Next, we fit our $k$-NN model:\n",
    "- We'll use $k$ = 3"
   ]
  },
  {
   "cell_type": "code",
   "execution_count": null,
   "id": "60a21814",
   "metadata": {},
   "outputs": [],
   "source": [
    "# Import the KNeighborsClassifier\n",
    "from sklearn.neighbors import KNeighborsClassifier\n",
    "\n",
    "# Initialize the classifier\n",
    "knn = KNeighborsClassifier(n_neighbors = 3)\n",
    "\n",
    "# Train the classifier\n",
    "knn.fit(X = xtrain, y = ytrain)"
   ]
  },
  {
   "cell_type": "markdown",
   "id": "77984e0d",
   "metadata": {},
   "source": [
    "Now, we use the model to make predicions for our test data:"
   ]
  },
  {
   "cell_type": "code",
   "execution_count": null,
   "id": "729e4bdc",
   "metadata": {},
   "outputs": [],
   "source": [
    "preds = knn.predict(X = xtest)\n",
    "preds"
   ]
  },
  {
   "cell_type": "markdown",
   "id": "7369a983",
   "metadata": {},
   "source": [
    "Let's compare these predictions to the true underlying labels for the test data:"
   ]
  },
  {
   "cell_type": "code",
   "execution_count": null,
   "id": "74ecc480",
   "metadata": {},
   "outputs": [],
   "source": [
    "knn_eval = pd.DataFrame({\n",
    "    \"sepal_length\": xtest['sepal_length'],\n",
    "    \"sepal_width\": xtest['sepal_width'],\n",
    "    \"species\": ytest,\n",
    "    \"prediction\": preds\n",
    "})\n",
    "\n",
    "knn_eval['correct'] = knn_eval['species'] == knn_eval['prediction']\n",
    "knn_eval"
   ]
  },
  {
   "cell_type": "markdown",
   "id": "680c01c3",
   "metadata": {},
   "source": [
    "Let's graph the predictions for easier analysis:"
   ]
  },
  {
   "cell_type": "code",
   "execution_count": null,
   "id": "0d673217",
   "metadata": {},
   "outputs": [],
   "source": [
    "sns.scatterplot(data = knn_eval,\n",
    "                x = \"sepal_length\",\n",
    "                y = \"sepal_width\",\n",
    "                hue = \"species\", # comment this out to just view overall accuracy\n",
    "                style = \"correct\"\n",
    "               )\n",
    "plt.legend(loc = 'upper right', \n",
    "           bbox_to_anchor = (1.3, 1))\n",
    "plt.show()"
   ]
  },
  {
   "cell_type": "markdown",
   "id": "d332166d",
   "metadata": {},
   "source": [
    "**How did our classifier perform?**\n",
    "\n",
    "*What metric(s) should we use to evaluate it?*\n",
    "\n",
    "- Percent that were correct (accuracy)\n"
   ]
  },
  {
   "cell_type": "markdown",
   "id": "fe7ae5ee",
   "metadata": {},
   "source": [
    "## Classifier evaluation metrics\n",
    "\n",
    "\n",
    "There are a number of different ways to evaluate a classifier; the `sklearn` package exports many of the most common metrics [here](https://scikit-learn.org/stable/modules/model_evaluation.html#classification-metrics). As we'll see, some are better than others, so it's worth understanding the tradeoffs!\n",
    "\n",
    "\n",
    "### Accuracy\n",
    "\n",
    "Probably the most intuitive way to determine a classifier's success is just by looking at its overall accuracy. We can do that here with the `sklearn` `accuracy_score` function:"
   ]
  },
  {
   "cell_type": "code",
   "execution_count": null,
   "id": "833fd829",
   "metadata": {},
   "outputs": [],
   "source": [
    "from sklearn.metrics import accuracy_score\n",
    "\n",
    "accuracy_score(y_true = knn_eval['species'], \n",
    "               y_pred = knn_eval['prediction'])\n"
   ]
  },
  {
   "cell_type": "markdown",
   "id": "ac4bfb1c",
   "metadata": {},
   "source": [
    "Note: this is what the `score` function of the `KNeighborsClassifier` returns as well."
   ]
  },
  {
   "cell_type": "code",
   "execution_count": null,
   "id": "df220352",
   "metadata": {},
   "outputs": [],
   "source": [
    "knn.score(X = xtest, y = ytest)"
   ]
  },
  {
   "cell_type": "markdown",
   "id": "9678b00f",
   "metadata": {},
   "source": [
    "**Problems with accuracy**\n",
    "\n",
    "However, there are a few issues with simply using *accuracy* as our metric. \n",
    "\n",
    "Can you think of any?\n",
    "\n",
    "- Some values much more common than others\n",
    "- High stakes classification"
   ]
  },
  {
   "cell_type": "markdown",
   "id": "9e3b825c",
   "metadata": {},
   "source": [
    "1. *Imbalanced classification*: In many cases, the event or variable outcome we want to predict is *rare* in our training data. \n",
    "    - Ex. whether a credit card transaction is fraudulent (the vast majority are not)\n",
    "    - In this case, our classifier could achieve very high accuracy by classifying *everything* it sees as non-fraudulent\n",
    "    - So with imbalanced labels, accuracy isn't really telling us what we want to know about the classifier.\n",
    "\n",
    "2. *Varying costs and benefits*: In other cases, independent of the probability of particular events, the *costs* of an error differ dramatically depending on the *type* of error.\n",
    "    - Ex. a classifier for determining whether a medical image contains a tumor should *never* make the mistake of saying a tumor is non-cancerous when it's actually cancerous. If it sometimes says a tumor is cancerous and a follow-up reveals it's not, this is much less bad.\n",
    "    - A regular *accuracy* metric treats all mistakes equally, but in these cases, we want our model evaluation to penalize some mistakes (incorrect negative labels) much more than others (incorrect positive labels).\n",
    "\n",
    "*So what do we do?*"
   ]
  },
  {
   "cell_type": "markdown",
   "id": "ceacac45",
   "metadata": {},
   "source": [
    "### Confusion matrix\n",
    "\n",
    "Most of the more nuanced evaluation metrics rely on an underlying *[confusion matrix](https://en.wikipedia.org/wiki/Confusion_matrix)* for the classifier. To unpack this more, we'll need to change our results above slightly.\n",
    "\n",
    "Since most of the classifier's mistakes were around labeling the *versicolor* species, let's focus on that one. We'll change our results to be whether the classifier correctly identified each item as *versicolor* or *non-versicolor*, making this a **binary classification** problem. (note the best thing to do here would be to re-run the classifier as a binary classifier but in this case the results should be similar)."
   ]
  },
  {
   "cell_type": "code",
   "execution_count": null,
   "id": "306994ca",
   "metadata": {},
   "outputs": [],
   "source": [
    "# Create a \"mapping\" that will change our prediction values to be BINARY predictions\n",
    "binary_encoding = {\n",
    "    'versicolor': 'versicolor',\n",
    "    'virginica': 'non-versicolor',\n",
    "    'setosa': 'non-versicolor'\n",
    "}\n",
    "\n",
    "# Add binary outcome and prediction columns encoding this information\n",
    "knn_eval['binary_species'] = knn_eval['species'].map(binary_encoding)\n",
    "knn_eval['binary_prediction'] = knn_eval['prediction'].map(binary_encoding)\n",
    "\n",
    "# Take a look at these new columns to get a sense of our binary accuracy\n",
    "knn_eval"
   ]
  },
  {
   "cell_type": "markdown",
   "id": "602c4b04",
   "metadata": {},
   "source": [
    "Now, let's use the `sklearn` `confusion_matrix` function to generate a confusion matrix for these binary results:"
   ]
  },
  {
   "cell_type": "code",
   "execution_count": null,
   "id": "1d7e831c",
   "metadata": {},
   "outputs": [],
   "source": [
    "from sklearn.metrics import confusion_matrix\n",
    "\n",
    "mat = confusion_matrix(knn_eval['binary_species'], \n",
    "                       knn_eval['binary_prediction'], \n",
    "                       labels=['versicolor', 'non-versicolor']\n",
    "                      )\n",
    "mat"
   ]
  },
  {
   "cell_type": "markdown",
   "id": "95b8253c",
   "metadata": {},
   "source": [
    "What's going on in this matrix?\n",
    "\n",
    "Let's add some indexes and column names to clarify:"
   ]
  },
  {
   "cell_type": "code",
   "execution_count": null,
   "id": "e622c8e8",
   "metadata": {},
   "outputs": [],
   "source": [
    "mat_df = pd.DataFrame(mat, \n",
    "                      index = ['species: versicolor', 'species: non-versicolor'],\n",
    "                      columns = ['predicted: versicolor', 'predicted: non-versicolor']\n",
    "                     )\n",
    "\n",
    "mat_df"
   ]
  },
  {
   "cell_type": "markdown",
   "id": "9fbf73d2",
   "metadata": {},
   "source": [
    "*What's happening in this table?*\n",
    "\n",
    "*Which values do we like and which ones do we dislike?*\n",
    "\n",
    "predicted / species: non-versicolor: want high number\n",
    "\n",
    "predicted / species: versicolor: want high number\n",
    "\n",
    "\n",
    "Note: this allows us to distinguish between different *types* of errors, which in turn lets us move beyond just accuracy as a metric."
   ]
  },
  {
   "cell_type": "markdown",
   "id": "7479b45c",
   "metadata": {},
   "source": [
    "## Understanding the confusion matrix\n",
    "\n",
    "The images below walk through how to label the different portions of the confusion matrix and the metrics we use based on it.\n",
    "\n",
    "I'll send out the slides with these images so you can keep this with your lecture slides as well"
   ]
  },
  {
   "cell_type": "markdown",
   "id": "02bfd9a8",
   "metadata": {},
   "source": [
    "**First, here's how we can understand the rows and columns in our confusion matrix:**\n",
    "\n",
    "![confusion_matrix](img/confusion_matrix_1.png)"
   ]
  },
  {
   "cell_type": "markdown",
   "id": "f392814b",
   "metadata": {},
   "source": [
    "**Next, these are the *accurate* (\"true\") classification counts:**\n",
    "- \"True Positive\" (TP): *true* classification with a *positive* label (\"versicolor\")\n",
    "- \"True Negative\" (TN): *true* classification with a *negative* label (\"non-versicolor\")\n",
    "\n",
    "![confusion_matrix](img/confusion_matrix_2.png)"
   ]
  },
  {
   "cell_type": "markdown",
   "id": "84b7b3c7",
   "metadata": {},
   "source": [
    "**Finally, these are the *inaccurate* (\"false\") classification counts:**\n",
    "- \"False Positive\" (FP): *false* classification with a *positive* label (\"versicolor\") -> Type I error\n",
    "- \"False Negative\" (FN): *false* classification with a *negative* label (\"non-versicolor\") -> Type II error\n",
    "\n",
    "![confusion_matrix](img/confusion_matrix_3.png)"
   ]
  },
  {
   "cell_type": "markdown",
   "id": "6b31eeb3",
   "metadata": {},
   "source": [
    "## Evaluating the confusion matrix\n",
    "\n",
    "Broadly, there are two kinds of metrics available with our confusion matrix: \n",
    "1. Metrics based on *subsets* of the confusion matrix (many)\n",
    "2. Overall metrics that summarize the whole confusion matrix\n",
    "    - Accuracy\n",
    "    - Balanced accuracy\n",
    "    - F1 score\n",
    "\n",
    "We'll go through each one for our data above. \n",
    "\n",
    "The goal isn't to memorize these as we go, but to make sure you understand each one and what it tells us."
   ]
  },
  {
   "cell_type": "markdown",
   "id": "c0231c4f",
   "metadata": {},
   "source": [
    "### Metrics for components of the confusion matrix\n",
    "\n",
    "These break down into which *part* of the confusion matrix they are conditioning on: the *true values* or the *predicted values*. \n",
    "\n",
    "Let's walk through each one below:"
   ]
  },
  {
   "cell_type": "markdown",
   "id": "3e27e573",
   "metadata": {},
   "source": [
    "#### Metrics conditioned on the *true* values ($y$)\n",
    "\n",
    "**Conditioned on a *positive* true value**\n",
    "\n",
    "True Postive Rate (TPR) = $\\dfrac{TP}{TP + FN}$\n",
    "\n",
    "Note: this is also called *sensitivity*, *hit rate*, *recall*, or *power*.\n",
    "\n",
    "![confusion_matrix_tpr](img/confusion_matrix_tpr.png)\n",
    "\n",
    "*What's our TPR for the data above?*\n",
    "\n",
    "*What does this actually tell us?* *Do we want it to be large or small?*\n",
    "\n",
    "When looking at \"true\" values, how often did you get it right?\n",
    "-> Want a large value (close to 1)"
   ]
  },
  {
   "cell_type": "code",
   "execution_count": null,
   "id": "dd8803bd",
   "metadata": {},
   "outputs": [],
   "source": [
    "# sklearn has a TPR \"recall\" function\n",
    "from sklearn.metrics import recall_score\n",
    "\n",
    "recall_score(y_true = knn_eval['binary_species'], \n",
    "             y_pred = knn_eval['binary_prediction'],\n",
    "             labels = ['versicolor', 'non-versicolor'], # data labels\n",
    "             pos_label = 'versicolor' # positive label\n",
    "            )\n",
    "\n",
    "# 6/13"
   ]
  },
  {
   "cell_type": "markdown",
   "id": "61291578",
   "metadata": {},
   "source": [
    "**Conditioned on a *positive* true value**\n",
    "\n",
    "False Negative Rate (FNR) = $\\dfrac{FN}{TP + FN}$\n",
    "\n",
    "Note: this is also called *miss rate* or *Type II error rate*.\n",
    "\n",
    "![confusion_matrix_fnr](img/confusion_matrix_fnr.png)\n",
    "\n",
    "*What's our FNR for the data above?*\n",
    "\n",
    "*What does this actually tell us?* *Do we want it to be large or small?*"
   ]
  },
  {
   "cell_type": "markdown",
   "id": "9f51259d",
   "metadata": {},
   "source": [
    "**Conditioned on a *negative* true value**\n",
    "\n",
    "False Positive Rate (FPR) = $\\dfrac{FP}{FP + TN}$\n",
    "\n",
    "Note: this is also called *false alarm rate* or *Type I error rate*.\n",
    "\n",
    "![confusion_matrix_fpr](img/confusion_matrix_fpr.png)\n",
    "\n",
    "*What's our FPR for the data above?*\n",
    "\n",
    "*What does this actually tell us?* *Do we want it to be large or small?*"
   ]
  },
  {
   "cell_type": "markdown",
   "id": "e22ed2c3",
   "metadata": {},
   "source": [
    "**Conditioned on a *negative* true value**\n",
    "\n",
    "True Negative Rate (TNR) = $\\dfrac{TN}{FP + TN}$\n",
    "\n",
    "Note: this is also called *specificity* or *selectivity*, or *correct rejection rate*.\n",
    "\n",
    "![confusion_matrix_tnr](img/confusion_matrix_tnr.png)\n",
    "\n",
    "*What's our TNR for the data above?*\n",
    "\n",
    "*What does this actually tell us?* *Do we want it to be large or small?*"
   ]
  },
  {
   "cell_type": "markdown",
   "id": "b775c168",
   "metadata": {},
   "source": [
    "#### Metrics conditioned on the *predicted* values ($\\hat{y}$)\n",
    "\n",
    "**Conditioned on a *positive* predicted value**\n",
    "\n",
    "Positive predictive value (PPV) = $\\dfrac{TP}{TP + FP}$\n",
    "\n",
    "Note: this is also called *precision*.\n",
    "\n",
    "![confusion_matrix_tpr](img/confusion_matrix_ppv.png)\n",
    "\n",
    "*What's our PPV for the data above?*\n",
    "\n",
    "*What does this actually tell us?* *Do we want it to be large or small?*"
   ]
  },
  {
   "cell_type": "code",
   "execution_count": null,
   "id": "2a0316d6",
   "metadata": {},
   "outputs": [],
   "source": [
    "# sklearn also has a prectision function we can use directly\n",
    "from sklearn.metrics import precision_score\n",
    "\n",
    "precision_score(y_true = knn_eval['binary_species'], \n",
    "                y_pred = knn_eval['binary_prediction'],\n",
    "                labels = ['versicolor', 'non-versicolor'], # data labels\n",
    "                pos_label = 'versicolor' # positive label\n",
    "               )"
   ]
  },
  {
   "cell_type": "markdown",
   "id": "dff21e08",
   "metadata": {},
   "source": [
    "**Conditioned on a *positive* predicted value**\n",
    "\n",
    "False discovery rate (FDR) = $\\dfrac{FP}{TP + FP}$\n",
    "\n",
    "![confusion_matrix_fdr](img/confusion_matrix_fdr.png)\n",
    "\n",
    "*What's our FDR for the data above?*\n",
    "\n",
    "*What does this actually tell us?* *Do we want it to be large or small?*"
   ]
  },
  {
   "cell_type": "markdown",
   "id": "23e0e20f",
   "metadata": {},
   "source": [
    "**Conditioned on a *negative* predicted value**\n",
    "\n",
    "Negative Predictive Value (NPV) = $\\dfrac{TN}{FN + TN}$\n",
    "\n",
    "![confusion_matrix_npv](img/confusion_matrix_npv.png)\n",
    "\n",
    "*What's our NPV for the data above?*\n",
    "\n",
    "*What does this actually tell us?* *Do we want it to be large or small?*"
   ]
  },
  {
   "cell_type": "markdown",
   "id": "a03bc558",
   "metadata": {},
   "source": [
    "**Conditioned on a *negative* predicted value**\n",
    "\n",
    "False Omission Rate (FOR) = $\\dfrac{FN}{FN + TN}$\n",
    "\n",
    "![confusion_matrix_for](img/confusion_matrix_for.png)\n",
    "\n",
    "*What's our FOR for the data above?*\n",
    "\n",
    "*What does this actually tell us?* *Do we want it to be large or small?*"
   ]
  },
  {
   "cell_type": "markdown",
   "id": "a35f185e",
   "metadata": {},
   "source": [
    "### Metrics for summarizing the full confusion matrix\n",
    "\n",
    "The metrics above demonstrated how we can quantify certain key aspects of our classifier's performance. \n",
    "\n",
    "But in many cases, we want to summarize how our classifier is performing overall with a metric applied to the confusion matrix as a whole. How can we do this?\n",
    "\n",
    "Here are a few of the most common metrics:\n",
    "1. Accuracy (okay for balanced problems)\n",
    "2. *Balanced* accuracy\n",
    "3. F1 score\n",
    "\n",
    "We'll walk through each of these briefly to give a flavor for them."
   ]
  },
  {
   "cell_type": "markdown",
   "id": "d326a5dc",
   "metadata": {},
   "source": [
    "#### Accuracy\n",
    "\n",
    "We discussed this above already and it's fairly intuitive, but here's the formal breakdown: \n",
    "\n",
    "Accuracy = $\\dfrac{TP + TN}{TP + FN + FP + TN}$\n",
    "\n",
    "![confusion_matrix_for](img/confusion_matrix_acc.png)"
   ]
  },
  {
   "cell_type": "code",
   "execution_count": null,
   "id": "e69601a6",
   "metadata": {},
   "outputs": [],
   "source": [
    "from sklearn.metrics import accuracy_score\n",
    "\n",
    "accuracy_score(y_true = knn_eval['binary_species'], \n",
    "               y_pred = knn_eval['binary_prediction'])"
   ]
  },
  {
   "cell_type": "markdown",
   "id": "20ca23e8",
   "metadata": {},
   "source": [
    "#### *Balanced* Accuracy\n",
    "\n",
    "Balanced accuracy is the average of the true positive and true negative rates.\n",
    "\n",
    "Balanced Accuracy = $\\dfrac{TPR + TNR}{2}$\n",
    "\n",
    "*How does this resolve the issues of imbalanced classification described above?*"
   ]
  },
  {
   "cell_type": "code",
   "execution_count": null,
   "id": "878e514a",
   "metadata": {},
   "outputs": [],
   "source": [
    "from sklearn.metrics import balanced_accuracy_score\n",
    "\n",
    "balanced_accuracy_score(y_true = knn_eval['binary_species'], \n",
    "                        y_pred = knn_eval['binary_prediction'])"
   ]
  },
  {
   "cell_type": "markdown",
   "id": "1b9a40b8",
   "metadata": {},
   "source": [
    "#### F1 Score\n",
    "\n",
    "The F1 score is the *harmonic mean* (good for averaging *rates*) of TPR and PPV.\n",
    "- Combines the rate at which our predictions of \"versicolor\" were correct across all \"versicolor\" predictions (PPV) and the rate at which true versicolors led us to predict \"versicolor\" (TPR).\n",
    "\n",
    "F1 Score = $2 \\times \\dfrac{TPR \\times PPV}{TPR + PPV}$\n",
    "\n"
   ]
  },
  {
   "cell_type": "code",
   "execution_count": null,
   "id": "807642f3",
   "metadata": {},
   "outputs": [],
   "source": [
    "from sklearn.metrics import f1_score\n",
    "\n",
    "f1_score(y_true = knn_eval['binary_species'], \n",
    "         y_pred = knn_eval['binary_prediction'],\n",
    "         labels = ['versicolor', 'non-versicolor'], # labels to evaluate\n",
    "         pos_label = 'versicolor' # name of positive label\n",
    "        )"
   ]
  },
  {
   "cell_type": "markdown",
   "id": "98bc2e2d",
   "metadata": {},
   "source": [
    "## Advanced classifier evaluation: ROC curves"
   ]
  },
  {
   "cell_type": "markdown",
   "id": "cb4a2e28",
   "metadata": {},
   "source": [
    "### Hard and Soft Classification\n",
    "\n",
    "The $k$-nearest neighbors classifier chooses a predicted label $\\hat{\\lambda}$ for a new set of features $\\theta$ by selecting the *mode* of the labels of the nearest training items. \n",
    "\n",
    "In this way, you can think of the nearest neighbors as essentially \"voting\" for the label of each test item. This produces a single label prediction for each test item. Put another way, all the predictions for our test items in the example above are either `'versicolor'` or `'non-versicolor'`. This sort of *decision policy* is referred to as **Hard Classification**. \n",
    "\n",
    "**But, it doesn't need to be this way.** We can also represent the \"votes\" of the nearest neighbors as generating a *probability distribution* over $\\hat{\\lambda}$ values. \n",
    "- For example, if there are 3 nearest neighbors for our new item and 2 are 'versicolor' and 1 is 'non-versicolor', there's a 2/3 chance that the new item should have a label of 'versicolor'. \n",
    "- Many of the classification algorithms we'll discuss can assign a *probability* of a particular label for a given test item rather than a strict label assignment.\n",
    "\n",
    "This form of classification is called **Soft Classification**. \n",
    "\n",
    "The `sklearn` `KNeighborsClassifier` class exports a `predict_proba` function that is just like the `predict` function except instead of showing us the *hard predictions* for each test item, it shows us the *soft prediction* probabilities:"
   ]
  },
  {
   "cell_type": "code",
   "execution_count": null,
   "id": "1dafd813",
   "metadata": {},
   "outputs": [],
   "source": [
    "x_vals = iris.loc[:, ('sepal_length', 'sepal_width')]\n",
    "\n",
    "iris['species_binary'] = iris['species'].map({'versicolor': 'versicolor',\n",
    "                                             'virginica': 'non-versicolor',\n",
    "                                             'setosa': 'non-versicolor'})\n",
    "y_vals = iris.loc[:, 'species_binary']\n",
    "\n",
    "xtrain, xtest, ytrain, ytest = train_test_split(x_vals, y_vals, \n",
    "                                                test_size = 0.2, # we'll use a small test set here\n",
    "                                                random_state = 0 # make this process reproducible\n",
    "                                               )\n",
    "xtrain = xtrain.reset_index(drop = True)\n",
    "xtest = xtest.reset_index(drop = True)\n",
    "ytrain = ytrain.reset_index(drop = True)\n",
    "ytest = ytest.reset_index(drop = True)\n",
    "\n",
    "\n",
    "knn = KNeighborsClassifier(n_neighbors = 3)\n",
    "\n",
    "# Train the classifier\n",
    "knn.fit(X = xtrain, y = ytrain)\n",
    "\n",
    "# Here's the original `predict` function\n",
    "knn.predict(X = xtest)\n",
    "\n",
    "# Here's the graded probability prediction\n",
    "knn.predict_proba(X = xtest)"
   ]
  },
  {
   "cell_type": "markdown",
   "id": "0f097a5b",
   "metadata": {},
   "source": [
    "In the predictions above, the first column is the probability of 'non-versicolor' and the second is the probability of 'versicolor'.\n",
    "\n",
    "This *Soft Classification* allows us to set more flexible decision policies about what kind of label $\\hat{\\lambda}$ we want to assign to a given test item. Using the *mode* of the nearest neighbor labels in k-NN classification sets a **classification threshold** of 50% (for binary classification), but we could choose any threshold we want depending on the problem.\n",
    "- In some cases, we may want to predict a label value whenever *any* of the neighbors have that label (ex. risk of a fatal disease).\n",
    "- Or, maybe we only want to predict a particular label if 90% of the neighbors have that label (ex. setting a high parole). \n",
    "\n",
    "However, the classification threshold we set will effect how often we assign a particular label to new pieces of data.\n",
    "\n",
    "*Why does this matter?*"
   ]
  },
  {
   "cell_type": "markdown",
   "id": "8f49a384",
   "metadata": {},
   "source": [
    "### Different thresholds change evaluation metrics\n",
    "\n",
    "Critically, our choice of classification threshold will affect our evaluation metrics above in predictable ways.\n",
    "\n",
    "In our `iris` dataset, labeling new data points based on the mode of 3 nearest neighbors sets a threshold of 2/3 for 'versicolor' labels. \n",
    "\n",
    "If we set a *lower* threshold of 1/3: \n",
    "- We will label *more* test items as 'versicolor' since we only need 1 out of 3 neighbors to be 'versicolor'\n",
    "- We will have a **higher true positive rate** (and **lower false negative rate**) because we are more likely to detect all true versicolor items this way\n",
    "- But, we will have a **higher false positive rate** (and **lower true negative rate**) since we will label more things as 'versicolor' that shouldn't be due to our low threshold.\n",
    "\n",
    "If instead we set a very *high* threshold of 3/3:\n",
    "- We will label *fewer* test items as 'versicolor' since we now need 3 out of 3 neighbors to be 'versicolor' before labeling a new item 'versicolor'.\n",
    "- We will have a **lower true positive rate** (and **higher false negative rate**) because we are more likely to pass up on some true versicolor items this way\n",
    "- We will have a **lower false positive rate** (and **higher true negative rate**) since we will label few things as 'versicolor' that shouldn't be due to our high threshold.\n",
    "\n",
    "\n",
    "Let's illustrate this by looking at this pattern in our data."
   ]
  },
  {
   "cell_type": "markdown",
   "id": "847218e1",
   "metadata": {},
   "source": [
    "### ROC curves: expressing accuracy across different thresholds\n",
    "\n",
    "Below, we're going to compute the \"versicolor probability\" in our test set from above for a classifier with 5 nearest neighbors.\n",
    "\n",
    "Then, we'll look at how different *thresholds* for identifying test items as 'versicolor' change our **true positive rate** and **false positive rate** in opposite directions.\n",
    "\n",
    "**Step 1**: use the k-NN `predict_proba` function shown above to get probability values for each test item $p(\\text{'versicolor'})$ rather than hard classifications"
   ]
  },
  {
   "cell_type": "code",
   "execution_count": null,
   "id": "6151b052",
   "metadata": {},
   "outputs": [],
   "source": [
    "knn = KNeighborsClassifier(n_neighbors = 5).fit(X = xtrain, y = ytrain)\n",
    "\n",
    "# Here's our soft classification with 5 nearest neighbors (converted to dataframe for easier processing)\n",
    "versicolor_probs = pd.DataFrame(knn.predict_proba(X = xtest),\n",
    "                                columns = [\"non-versicolor_prob\", \"versicolor_prob\"]\n",
    "                               )\n",
    "\n",
    "# Let's add the true values for comparison\n",
    "versicolor_probs['true_label'] = ytest\n",
    "\n",
    "versicolor_probs"
   ]
  },
  {
   "cell_type": "markdown",
   "id": "376a8768",
   "metadata": {},
   "source": [
    "**Step 2**: Now, let's pick a range of *classification thresholds* for 'versicolor' and show how this changes what values we assign to the test items.\n",
    "\n",
    "For $k$-nearest neighbors, the thresholds are intuitive because we can break them out by each possible voting arrangement of our 5 neighbors."
   ]
  },
  {
   "cell_type": "code",
   "execution_count": null,
   "id": "a7bb90c3",
   "metadata": {},
   "outputs": [],
   "source": [
    "# Which test items get labeled 'versicolor' if you only need 1 nearest neighbor to be versicolor?\n",
    "versicolor_probs['k1_label'] = np.where( # np.where is like an \"if-else\" condition for this column value\n",
    "    versicolor_probs['versicolor_prob'] >= 0.2, # condition\n",
    "    'versicolor', # value in all rows where condition above is True\n",
    "    'non-versicolor' # value in all rows where condition above is False\n",
    ")\n",
    "\n",
    "# Which test items get labeled 'versicolor' if you need at least 2 nearest neighbors to be versicolor?\n",
    "versicolor_probs['k2_label'] = np.where(\n",
    "    versicolor_probs['versicolor_prob'] >= 0.4,\n",
    "    'versicolor',\n",
    "    'non-versicolor'\n",
    ")\n",
    "\n",
    "# Which test items get labeled 'versicolor' if you need at least 3 nearest neighbors to be versicolor?\n",
    "versicolor_probs['k3_label'] = np.where(\n",
    "    versicolor_probs['versicolor_prob'] >= 0.6,\n",
    "    'versicolor',\n",
    "    'non-versicolor'\n",
    ")\n",
    "\n",
    "# Which test items get labeled 'versicolor' if you need at least 4 nearest neighbors to be versicolor?\n",
    "versicolor_probs['k4_label'] = np.where(\n",
    "    versicolor_probs['versicolor_prob'] >= 0.8,\n",
    "    'versicolor',\n",
    "    'non-versicolor'\n",
    ")\n",
    "\n",
    "# Which test items get labeled 'versicolor' if you need *all 5* nearest neighbors to be versicolor?\n",
    "versicolor_probs['k5_label'] = np.where(\n",
    "    versicolor_probs['versicolor_prob'] >= 1.0,\n",
    "    'versicolor',\n",
    "    'non-versicolor'\n",
    ")\n",
    "\n",
    "versicolor_probs"
   ]
  },
  {
   "cell_type": "markdown",
   "id": "573634a5",
   "metadata": {},
   "source": [
    "**Step 3**: How do our **true positive rate** and **false positive rate** change for each of these thresholds?"
   ]
  },
  {
   "cell_type": "code",
   "execution_count": null,
   "id": "dda8378c",
   "metadata": {},
   "outputs": [],
   "source": [
    "# What's the TPR for our lowest threshold (k1) above?\n",
    "k1_tpr = recall_score(y_true = versicolor_probs['true_label'], \n",
    "                      y_pred = versicolor_probs['k1_label'],\n",
    "                      labels = ['versicolor', 'non-versicolor'],\n",
    "                      pos_label = 'versicolor'\n",
    "                     )\n",
    "# What's the FPR for our lowest threshold (k1) above?\n",
    "# Note FPR = 1 - TNR and TNR is just the recall (TPR) for the *negative* label, which we can set below\n",
    "k1_fpr = 1 - recall_score(y_true = versicolor_probs['true_label'], \n",
    "                          y_pred = versicolor_probs['k1_label'],\n",
    "                          labels = ['versicolor', 'non-versicolor'],\n",
    "                          pos_label = 'non-versicolor' # positive label\n",
    "                         )\n",
    "\n",
    "# Same as above for k2 threshold\n",
    "k2_tpr = recall_score(y_true = versicolor_probs['true_label'], \n",
    "                      y_pred = versicolor_probs['k2_label'],\n",
    "                      labels = ['versicolor', 'non-versicolor'],\n",
    "                      pos_label = 'versicolor'\n",
    "                     )\n",
    "k2_fpr = 1 - recall_score(y_true = versicolor_probs['true_label'], \n",
    "                          y_pred = versicolor_probs['k2_label'],\n",
    "                          labels = ['versicolor', 'non-versicolor'],\n",
    "                          pos_label = 'non-versicolor'\n",
    "                         )\n",
    "\n",
    "# Same as above for k3 threshold\n",
    "k3_tpr = recall_score(y_true = versicolor_probs['true_label'], \n",
    "                      y_pred = versicolor_probs['k3_label'],\n",
    "                      labels = ['versicolor', 'non-versicolor'],\n",
    "                      pos_label = 'versicolor'\n",
    "                     )\n",
    "k3_fpr = 1 - recall_score(y_true = versicolor_probs['true_label'], \n",
    "                          y_pred = versicolor_probs['k3_label'],\n",
    "                          labels = ['versicolor', 'non-versicolor'],\n",
    "                          pos_label = 'non-versicolor'\n",
    "                         )\n",
    "\n",
    "\n",
    "# Same as above for k4 threshold\n",
    "k4_tpr = recall_score(y_true = versicolor_probs['true_label'], \n",
    "                      y_pred = versicolor_probs['k4_label'],\n",
    "                      labels = ['versicolor', 'non-versicolor'],\n",
    "                      pos_label = 'versicolor'\n",
    "                     )\n",
    "k4_fpr = 1 - recall_score(y_true = versicolor_probs['true_label'], \n",
    "                          y_pred = versicolor_probs['k4_label'],\n",
    "                          labels = ['versicolor', 'non-versicolor'],\n",
    "                          pos_label = 'non-versicolor'\n",
    "                         )\n",
    "\n",
    "# Same as above for k5 threshold\n",
    "k5_tpr = recall_score(y_true = versicolor_probs['true_label'], \n",
    "                      y_pred = versicolor_probs['k5_label'],\n",
    "                      labels = ['versicolor', 'non-versicolor'],\n",
    "                      pos_label = 'versicolor'\n",
    "                     )\n",
    "k5_fpr = 1 - recall_score(y_true = versicolor_probs['true_label'], \n",
    "                          y_pred = versicolor_probs['k5_label'],\n",
    "                          labels = ['versicolor', 'non-versicolor'],\n",
    "                          pos_label = 'non-versicolor'\n",
    "                         )"
   ]
  },
  {
   "cell_type": "markdown",
   "id": "ad4e057b",
   "metadata": {},
   "source": [
    "Phew! Now let's combine the above to see how they compare:"
   ]
  },
  {
   "cell_type": "code",
   "execution_count": null,
   "id": "f99ca68e",
   "metadata": {},
   "outputs": [],
   "source": [
    "# For each of our thresholds, what is the true positive rate and the false positive rate?\n",
    "\n",
    "np.arange(0, 1.1, 0.2)\n",
    "roc_df = pd.DataFrame({\n",
    "    \"threshold\": np.arange(0.2, 1.1, 0.2),\n",
    "    \"TPR\": [k1_tpr, k2_tpr, k3_tpr, k4_tpr, k5_tpr],\n",
    "    \"FPR\": [k1_fpr, k2_fpr, k3_fpr, k4_fpr, k5_fpr]\n",
    "})\n",
    "\n",
    "roc_df"
   ]
  },
  {
   "cell_type": "markdown",
   "id": "d54cb75b",
   "metadata": {},
   "source": [
    "Now, our final step is to graph this relationship. \n",
    "\n",
    "This is called an **ROC curve** (Receiver Operating Characteristic) and we'll see why it's useful once we've plotted it."
   ]
  },
  {
   "cell_type": "code",
   "execution_count": null,
   "id": "a65452ed",
   "metadata": {},
   "outputs": [],
   "source": [
    "# ROC curve by hand\n",
    "\n",
    "g= sns.pointplot(\n",
    "    data = roc_df,\n",
    "    x = \"FPR\",\n",
    "    y = \"TPR\"\n",
    ")\n",
    "\n",
    "g.set_xlabel(\"False Positive Rate\")\n",
    "g.set_ylabel(\"True Positive Rate\")\n",
    "g.set_xticklabels([])\n",
    "g.set_yticklabels([])\n",
    "plt.show()"
   ]
  },
  {
   "cell_type": "markdown",
   "id": "7db14312",
   "metadata": {},
   "source": [
    "*What is that??*\n",
    "\n",
    "Answer: a somewhat clumsy ROC curve (since we're not working with much data here).\n",
    "\n",
    "*What does this mean?*\n",
    "\n",
    "- Each of our points above is the TPR and FPR for a given *classification threshold*\n",
    "- When we set a *low threshold*, we expect TPR and FPR to be very high (top right)\n",
    "- When we set a *high threshold*, we expect TPR and FPR to both be very low (bottom left)\n",
    "\n",
    "What about in between?\n",
    "\n",
    "- For every threshold in between the top right (low) and bottom left (high), we want to *keep TPR high while FPR goes down*. \n",
    "- Put another way, we want to reduce FPR without having to also sacrifice TPR. \n",
    "\n",
    "Given the above, **a good ROC curve is one that swings as close to the *top left* portion of the axes as possible**.\n",
    "\n",
    "Here's a picture that illustrates this:\n",
    "\n",
    "![roc](img/roc.png)\n",
    "\n",
    "([source](https://medium.com/the-owl/evaluation-metrics-part-3-47c315e07222))\n",
    "\n",
    "\n",
    "**Compared to what?**\n",
    "\n",
    "Note the dashed line across the middle. This indicates what you would expect to happen with TPR and FPR if your classifier was *random*. In other words, we can compare our ROC curve to the \"random classifier\" line to determine how much better our classifier is doing than random guessing. \n",
    "\n",
    "We use a metric called *area under the curve (AUC)* to calculate this difference.\n",
    "\n",
    "This measures the area under the ROC curve. The value ranges from 0 to 1, but since a random classifier has an AUC of 0.5, we're looking for values > 0.5.\n"
   ]
  },
  {
   "cell_type": "markdown",
   "id": "0902c7bf",
   "metadata": {},
   "source": [
    "## ROC curves in scikit-learn\n",
    "\n",
    "Fortunately, we don't need to do all the manual calculations above to generate an ROC curve.\n",
    "\n",
    "As usual, `scikit-learn` has us covered!\n",
    "\n",
    "Below, we call the `roc_curve` function to generate an ROC curve:"
   ]
  },
  {
   "cell_type": "code",
   "execution_count": null,
   "id": "93171fda",
   "metadata": {},
   "outputs": [],
   "source": [
    "from sklearn.metrics import roc_curve\n",
    "\n",
    "fpr, tpr, thresholds = roc_curve(\n",
    "    y_true = ytest,\n",
    "    y_score = knn.predict_proba(X = xtest)[:, 1],\n",
    "    pos_label = 'versicolor'\n",
    ")\n",
    "\n",
    "\n",
    "tpr\n",
    "fpr\n",
    "thresholds"
   ]
  },
  {
   "cell_type": "markdown",
   "id": "8f48e0e7",
   "metadata": {},
   "source": [
    "Then, we can graph the results in seaborn:"
   ]
  },
  {
   "cell_type": "code",
   "execution_count": null,
   "id": "67dd0f5c",
   "metadata": {},
   "outputs": [],
   "source": [
    "g = sns.pointplot(\n",
    "    x = fpr,\n",
    "    y = tpr\n",
    ")\n",
    "\n",
    "g.set_xlabel(\"False Positive Rate\")\n",
    "g.set_ylabel(\"True Positive Rate\")\n",
    "g.set_xticklabels(np.arange(0, 1.1, 0.2))\n",
    "plt.show()"
   ]
  },
  {
   "cell_type": "markdown",
   "id": "7fa1bca2",
   "metadata": {},
   "source": [
    "### AUC\n",
    "\n",
    "`scikit-learn` also exports an AUC function that will report how our ROC curve fares:"
   ]
  },
  {
   "cell_type": "code",
   "execution_count": null,
   "id": "1c39d70a",
   "metadata": {},
   "outputs": [],
   "source": [
    "from sklearn.metrics import roc_auc_score\n",
    "\n",
    "\n",
    "roc_auc_score(\n",
    "    y_true = ytest,\n",
    "    y_score = knn.predict_proba(X = xtest)[:, 1],\n",
    "    labels = ['versicolor', 'non-versicolor']\n",
    ")"
   ]
  },
  {
   "cell_type": "markdown",
   "id": "2bd64609",
   "metadata": {},
   "source": [
    "# Evaluating classification algorithms: summary\n",
    "\n",
    "\n",
    "When we use a classification algorithm like $k$-nearest neighbors, we want a way to quantify *how well it performs* with test data.\n",
    "\n",
    "1. The most intuitive way to do so is with accuracy, but this can mis-construe our classifier's performance when we have imbalanced data.\n",
    "\n",
    "2. Alternatives that rely on the *confusion matrix* allow us to weight the relative impact of different kinds of *errors* (false positives and false negatives).\n",
    "\n",
    "3. Recognizing that our rate of false positives and false negatives is sensitive to the *classification threshold* used in our model (e.g., the \"voting\" procedure in k-NN), we can use an ROC curve to examine the classifier's success across a range of thresholds.\n",
    "\n"
   ]
  }
 ],
 "metadata": {
  "interpreter": {
   "hash": "e774977668b7c0ae8309835a5187aa7fbf7669e7d0bb59755bc63e573643edcd"
  },
  "kernelspec": {
   "display_name": "Python 3 (clean)",
   "language": "python",
   "name": "python3"
  },
  "language_info": {
   "codemirror_mode": {
    "name": "ipython",
    "version": 3
   },
   "file_extension": ".py",
   "mimetype": "text/x-python",
   "name": "python",
   "nbconvert_exporter": "python",
   "pygments_lexer": "ipython3",
   "version": "3.7.4"
  }
 },
 "nbformat": 4,
 "nbformat_minor": 5
}
