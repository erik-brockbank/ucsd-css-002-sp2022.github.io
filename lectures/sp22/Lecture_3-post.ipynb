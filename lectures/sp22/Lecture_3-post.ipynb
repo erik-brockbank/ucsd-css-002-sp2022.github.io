{
 "cells": [
  {
   "cell_type": "markdown",
   "id": "a44986e7",
   "metadata": {},
   "source": [
    "# Lecture 3 (4/1/22)"
   ]
  },
  {
   "cell_type": "markdown",
   "id": "1e2dae03",
   "metadata": {},
   "source": [
    "*Last time we covered:*\n",
    "- Datahub and Jupyter notebooks\n",
    "- Jupyter markdown\n",
    "- Python basics: operations and data types"
   ]
  },
  {
   "cell_type": "markdown",
   "id": "8864c6e6",
   "metadata": {},
   "source": [
    "**Today's agenda:**\n",
    "- Data structures: lists, dictionaries, sets\n",
    "- Loops & conditions\n",
    "- Functions\n"
   ]
  },
  {
   "cell_type": "markdown",
   "id": "d1f8e3d0",
   "metadata": {},
   "source": [
    "![coaster](img/coaster.jpeg)"
   ]
  },
  {
   "cell_type": "markdown",
   "id": "a8de445a",
   "metadata": {},
   "source": [
    "# Data Structures"
   ]
  },
  {
   "cell_type": "markdown",
   "id": "5ba50e3a",
   "metadata": {},
   "source": [
    "## Lists"
   ]
  },
  {
   "cell_type": "markdown",
   "id": "1198a60f",
   "metadata": {},
   "source": [
    "*What is a list?*\n",
    "- Ordered\n",
    "- Mutable\n",
    "- Variable items\n",
    "\n",
    "Examples?"
   ]
  },
  {
   "cell_type": "code",
   "execution_count": null,
   "id": "a9e9109e",
   "metadata": {},
   "outputs": [],
   "source": [
    "# Declaring lists\n",
    "foo = list() # or just: foo = []\n",
    "foo = ['bar', 'hello']\n",
    "\n",
    "css_students = ['ancen', 'jiayi', 'adriana', 'michelle', 'tanvi']\n",
    "css_students\n",
    "\n",
    "\n",
    "# Adding and removing items: append, extend, insert, remove\n",
    "css_students.append('glenn')\n",
    "css_backrow = ['andres', 'starlee', 'advaith']\n",
    "css_students.extend(css_backrow)\n",
    "css_students.insert(0, 'new_student')\n",
    "\n",
    "# css_students.remove('new_student')\n",
    "\n",
    "# Accessing items: indexing, 'in'\n",
    "if ('new_student' in css_students):\n",
    "    css_students.remove('new_student')\n",
    "\n",
    "css_students  \n",
    "\n",
    "css_students[0]\n",
    "css_students[1:]\n",
    "css_students[1:-2]\n",
    "\n",
    "\n",
    "# Note: indexing is really flexible (ranges, -1)\n",
    "\n",
    "\n",
    "\n",
    "# bonus: len\n",
    "len(css_students)\n",
    "\n",
    "\n",
    "# Operations: sort, reverse\n",
    "css_students.append('5')\n",
    "css_students.sort()\n",
    "\n",
    "# css_students.reverse()\n",
    "css_students\n",
    "\n",
    "# Can we put lists inside of lists?? Yes. Yes we can. \n",
    "css_students.append(['more_students_yay'])\n",
    "\n",
    "css_students\n"
   ]
  },
  {
   "cell_type": "code",
   "execution_count": null,
   "id": "7bc8e3b5",
   "metadata": {},
   "outputs": [],
   "source": [
    "# EXTRA BONUS: list comprehensions!!!\n",
    "# Come back to this at the end of class if there's time...\n",
    "\n",
    "\n"
   ]
  },
  {
   "cell_type": "markdown",
   "id": "a33f4ec8",
   "metadata": {},
   "source": [
    "## Dictionaries"
   ]
  },
  {
   "cell_type": "markdown",
   "id": "da0775f0",
   "metadata": {},
   "source": [
    "*What is a dictionary?*\n",
    "- key-value store\n",
    "- Not ordered\n",
    "- Mutable\n",
    "- Item type matters\n",
    "\n",
    "Examples?"
   ]
  },
  {
   "cell_type": "code",
   "execution_count": null,
   "id": "885224bf",
   "metadata": {},
   "outputs": [],
   "source": [
    "# Declaring dictionaries\n",
    "foo = dict() # or just: foo = {}\n",
    "foo = {'blah': 6, 'beep': 0, 'sigh': 3}\n",
    "\n",
    "# Adding and removing items\n",
    "foo['woo'] = 4\n",
    "\n",
    "new_key = 'womp'\n",
    "new_val = 10\n",
    "foo[new_key] = new_val\n",
    "\n",
    "\n",
    "del foo['womp']\n",
    "\n",
    "foo\n",
    "\n",
    "\n",
    "# Accessing items\n",
    "# Note: can use `in` here as well!\n",
    "\n",
    "if 'woo' in foo:\n",
    "    print(\"found woo!\")\n",
    "\n",
    "\n",
    "# bonus: 'keys', 'values', 'items'\n",
    "\n",
    "foo.keys()\n",
    "foo.values()\n",
    "foo.items()\n",
    "\n",
    "# This is a common and helpful way to loop through dictionaries!\n",
    "for key, val in foo.items():\n",
    "    print(key)\n",
    "    print(val)\n",
    "\n",
    "\n",
    "# Can we put a dictionary inside a dictionary?? Youbetchya! This is actually very common.\n",
    "colors = {'R': 'red', 'O': 'orange'}\n",
    "foo['color_lookup'] = colors\n",
    "\n",
    "del foo['color_lookup']\n",
    "# foo\n",
    "\n",
    "foo['boop'] = 0\n",
    "foo\n",
    "\n",
    "foo['boop'] = 2\n",
    "foo"
   ]
  },
  {
   "cell_type": "markdown",
   "id": "607fbfd9",
   "metadata": {},
   "source": [
    "## Sets"
   ]
  },
  {
   "cell_type": "markdown",
   "id": "792bb7de",
   "metadata": {},
   "source": [
    "*What is a set?*\n",
    "- Not ordered\n",
    "- Mutable\n",
    "- Variable items\n",
    "\n",
    "Examples?"
   ]
  },
  {
   "cell_type": "code",
   "execution_count": null,
   "id": "c46e03d3",
   "metadata": {},
   "outputs": [],
   "source": [
    "# Declaring sets\n",
    "foo = set()\n",
    "foo = set('hi how are you')\n",
    "# bar = set('doing fine')\n",
    "foo = {1, 2, 3, 4}\n",
    "bar = {2}\n",
    "\n",
    "\n",
    "\n",
    "# Adding and removing items: add, remove\n",
    "\n",
    "foo.add('b')\n",
    "foo.remove(2)\n",
    "\n",
    "foo\n",
    "\n",
    "# Set operations: &, -, |\n",
    "\n",
    "dir(foo)\n",
    "\n",
    "\n",
    "# Accessing items: bit tricky (use for loop, set operations, `pop`)\n",
    "# In general, this is one reason sets aren't used very often!\n",
    "\n",
    "\n",
    "\n",
    "# Can we put a set inside a set? ...\n",
    "\n",
    "\n"
   ]
  },
  {
   "cell_type": "markdown",
   "id": "24995822",
   "metadata": {},
   "source": [
    "# Loops & Conditions"
   ]
  },
  {
   "cell_type": "markdown",
   "id": "b181fc9f",
   "metadata": {},
   "source": [
    "## `for` Loops"
   ]
  },
  {
   "cell_type": "markdown",
   "id": "afa72385",
   "metadata": {},
   "source": [
    "What is a `for` loop for? [aSk tHe ClaSs]"
   ]
  },
  {
   "cell_type": "code",
   "execution_count": null,
   "id": "eddf794c",
   "metadata": {},
   "outputs": [],
   "source": [
    "# for loop syntax: `for x in some_list`, `for x in range`, `for key, val in dict.items()`\n",
    "\n",
    "# iterate through lists\n",
    "for student in css_students:\n",
    "    print(student)\n",
    "\n",
    "# print(range(0, 10))\n",
    "# iterate through numbers\n",
    "for num in range(0, len(css_students)):\n",
    "    print(css_students[num])\n",
    "\n",
    "# looping through dictionary key/values    \n",
    "for key, val in foo.items():\n",
    "    print(key)\n"
   ]
  },
  {
   "cell_type": "markdown",
   "id": "a109c1cf",
   "metadata": {},
   "source": [
    "## `while` Loops"
   ]
  },
  {
   "cell_type": "markdown",
   "id": "1f6b019f",
   "metadata": {},
   "source": [
    "What is a `while` loop for?"
   ]
  },
  {
   "cell_type": "code",
   "execution_count": null,
   "id": "09f5574e",
   "metadata": {},
   "outputs": [],
   "source": [
    "# while loop syntax: `while ...:`\n",
    "\n",
    "index = 0\n",
    "while index < 5:\n",
    "    print(index)\n",
    "    index += 1\n",
    "\n",
    "\n",
    "# Note: CAUTION when using while loops\n",
    "\n",
    "\n"
   ]
  },
  {
   "cell_type": "markdown",
   "id": "4e1624f0",
   "metadata": {},
   "source": [
    "## Conditions (`if`, `else`)"
   ]
  },
  {
   "cell_type": "markdown",
   "id": "5be7db55",
   "metadata": {},
   "source": [
    "Conditional logic plays an important role in almost any coding problem! \n",
    "(see [this](https://en.wikipedia.org/wiki/Fizz_buzz) famous coding problem)"
   ]
  },
  {
   "cell_type": "code",
   "execution_count": null,
   "id": "894b5168",
   "metadata": {},
   "outputs": [],
   "source": [
    "# ifelse syntax ~inside a for loop~: fizzbuzz!\n",
    "\n",
    "nums = []\n",
    "for num in range(101):\n",
    "    new_num = num\n",
    "    if num % 3 == 0 and num % 5 == 0:\n",
    "        new_num = 'fizzbuzz'\n",
    "    elif num % 3 == 0:\n",
    "        new_num = 'fizz'\n",
    "\n",
    "    nums.append(new_num)\n",
    "\n",
    "nums"
   ]
  },
  {
   "cell_type": "markdown",
   "id": "ead74ff7",
   "metadata": {},
   "source": [
    "# Functions"
   ]
  },
  {
   "cell_type": "markdown",
   "id": "e6463684",
   "metadata": {},
   "source": [
    "Understanding why we use functions, how to write them, and how things can go wrong are really important to coding at all levels. I can't stress this enough! \n",
    "\n",
    "We won't have as much time to dedicate to functions as we should so if any of this feels shaky, please reach out!\n",
    "\n",
    "1. What are functions for?\n",
    "2. How to write them\n",
    "3. If time: scoping"
   ]
  },
  {
   "cell_type": "code",
   "execution_count": null,
   "id": "3347203c",
   "metadata": {},
   "outputs": [],
   "source": [
    "\"\"\"\n",
    "Function cookbook\n",
    "    def name_of_function([optional: parameters]):\n",
    "        CODE HERE\n",
    "        [optional: return X]\n",
    "    \n",
    "\"\"\"\n",
    "# Example: let's turn our fizzbuzz code above into a function!\n",
    "\n",
    "\n",
    "\n",
    "# Add parameters\n",
    "\n",
    "\n",
    "\n",
    "# Discuss: scope\n",
    "# Ex. passing in the fizzbuzz list, modifying in the function w/o returning it\n",
    "\n",
    "\n"
   ]
  }
 ],
 "metadata": {
  "interpreter": {
   "hash": "e774977668b7c0ae8309835a5187aa7fbf7669e7d0bb59755bc63e573643edcd"
  },
  "kernelspec": {
   "display_name": "Python 3 (clean)",
   "language": "python",
   "name": "python3"
  },
  "language_info": {
   "codemirror_mode": {
    "name": "ipython",
    "version": 3
   },
   "file_extension": ".py",
   "mimetype": "text/x-python",
   "name": "python",
   "nbconvert_exporter": "python",
   "pygments_lexer": "ipython3",
   "version": "3.7.4"
  }
 },
 "nbformat": 4,
 "nbformat_minor": 5
}
