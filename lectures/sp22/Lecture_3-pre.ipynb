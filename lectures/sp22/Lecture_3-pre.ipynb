{
 "cells": [
  {
   "cell_type": "markdown",
   "id": "a44986e7",
   "metadata": {},
   "source": [
    "# Lecture 3 (4/1/22)"
   ]
  },
  {
   "cell_type": "markdown",
   "id": "1e2dae03",
   "metadata": {},
   "source": [
    "*Last time we covered:*\n",
    "- Datahub and Jupyter notebooks\n",
    "- Jupyter markdown\n",
    "- Python basics: operations and data types"
   ]
  },
  {
   "cell_type": "markdown",
   "id": "8864c6e6",
   "metadata": {},
   "source": [
    "**Today's agenda:**\n",
    "- Data structures: lists, dictionaries, sets\n",
    "- Loops & conditions\n",
    "- Functions\n"
   ]
  },
  {
   "cell_type": "markdown",
   "id": "d1f8e3d0",
   "metadata": {},
   "source": [
    "![coaster](img/coaster.jpeg)"
   ]
  },
  {
   "cell_type": "markdown",
   "id": "a8de445a",
   "metadata": {},
   "source": [
    "# Data Structures"
   ]
  },
  {
   "cell_type": "markdown",
   "id": "5ba50e3a",
   "metadata": {},
   "source": [
    "## Lists"
   ]
  },
  {
   "cell_type": "markdown",
   "id": "1198a60f",
   "metadata": {},
   "source": [
    "*What is a list?*\n",
    "- Ordered\n",
    "- Mutable\n",
    "- Variable items\n",
    "\n",
    "Examples?"
   ]
  },
  {
   "cell_type": "code",
   "execution_count": null,
   "id": "a9e9109e",
   "metadata": {},
   "outputs": [],
   "source": [
    "# Declaring lists\n",
    "foo = list() # or just: foo = []\n",
    "foo = ['bar']\n",
    "\n",
    "\n",
    "\n",
    "# Adding and removing items: append, extend, insert, remove\n",
    "\n",
    "\n",
    "\n",
    "# Accessing items: indexing, 'in'\n",
    "# Note: indexing is really flexible (ranges, -1)\n",
    "\n",
    "\n",
    "\n",
    "# bonus: len\n",
    "\n",
    "\n",
    "\n",
    "# Operations: sort, reverse\n",
    "\n",
    "\n",
    "\n",
    "# Can we put lists inside of lists?? Yes. Yes we can. \n",
    "\n",
    "\n"
   ]
  },
  {
   "cell_type": "code",
   "execution_count": null,
   "id": "7bc8e3b5",
   "metadata": {},
   "outputs": [],
   "source": [
    "# EXTRA BONUS: list comprehensions!!!\n",
    "# Come back to this at the end of class if there's time...\n",
    "\n",
    "\n"
   ]
  },
  {
   "cell_type": "markdown",
   "id": "a33f4ec8",
   "metadata": {},
   "source": [
    "## Dictionaries"
   ]
  },
  {
   "cell_type": "markdown",
   "id": "da0775f0",
   "metadata": {},
   "source": [
    "*What is a dictionary?*\n",
    "- Not ordered\n",
    "- Mutable\n",
    "- Item type matters\n",
    "\n",
    "Examples?"
   ]
  },
  {
   "cell_type": "code",
   "execution_count": null,
   "id": "885224bf",
   "metadata": {},
   "outputs": [],
   "source": [
    "# Declaring dictionaries\n",
    "foo = dict() # or just: foo = {}\n",
    "\n",
    "\n",
    "# Adding and removing items\n",
    "\n",
    "\n",
    "\n",
    "# Accessing items\n",
    "# Note: can use `in` here as well!\n",
    "\n",
    "\n",
    "\n",
    "\n",
    "# bonus: 'keys', 'values', 'items'\n",
    "\n",
    "\n",
    "\n",
    "# Can we put a dictionary inside a dictionary?? Youbetchya! This is actually very common.\n",
    "\n",
    "\n"
   ]
  },
  {
   "cell_type": "markdown",
   "id": "607fbfd9",
   "metadata": {},
   "source": [
    "## Sets"
   ]
  },
  {
   "cell_type": "markdown",
   "id": "792bb7de",
   "metadata": {},
   "source": [
    "*What is a set?*\n",
    "- Not ordered\n",
    "- Mutable\n",
    "- Variable items\n",
    "\n",
    "Examples?"
   ]
  },
  {
   "cell_type": "code",
   "execution_count": null,
   "id": "c46e03d3",
   "metadata": {},
   "outputs": [],
   "source": [
    "# Declaring sets\n",
    "foo = set()\n",
    "foo = set('hi how are you')\n",
    "bar = set('doing fine')\n",
    "foo = {1, 2, 3, 4}\n",
    "bar = {2}\n",
    "\n",
    "\n",
    "\n",
    "# Adding and removing items: add, remove\n",
    "\n",
    "\n",
    "\n",
    "# Set operations: &, -, |\n",
    "\n",
    "\n",
    "\n",
    "# Accessing items: bit tricky (use for loop, set operations, `pop`)\n",
    "# In general, this is one reason sets aren't used very often!\n",
    "\n",
    "\n",
    "\n",
    "# Can we put a set inside a set? ...\n",
    "\n",
    "\n"
   ]
  },
  {
   "cell_type": "markdown",
   "id": "24995822",
   "metadata": {},
   "source": [
    "# Loops & Conditions"
   ]
  },
  {
   "cell_type": "markdown",
   "id": "b181fc9f",
   "metadata": {},
   "source": [
    "## `for` Loops"
   ]
  },
  {
   "cell_type": "markdown",
   "id": "afa72385",
   "metadata": {},
   "source": [
    "What is a `for` loop for? [aSk tHe ClaSs]"
   ]
  },
  {
   "cell_type": "code",
   "execution_count": null,
   "id": "eddf794c",
   "metadata": {},
   "outputs": [],
   "source": [
    "# for loop syntax: `for x in some_list`, `for x in range`, `for key, val in dict.items()`\n",
    "\n",
    "\n"
   ]
  },
  {
   "cell_type": "markdown",
   "id": "a109c1cf",
   "metadata": {},
   "source": [
    "## `while` Loops"
   ]
  },
  {
   "cell_type": "markdown",
   "id": "1f6b019f",
   "metadata": {},
   "source": [
    "What is a `while` loop for?"
   ]
  },
  {
   "cell_type": "code",
   "execution_count": null,
   "id": "09f5574e",
   "metadata": {},
   "outputs": [],
   "source": [
    "# while loop syntax: `while ...:`\n",
    "\n",
    "\n",
    "\n",
    "# Note: CAUTION when using while loops\n",
    "\n",
    "\n"
   ]
  },
  {
   "cell_type": "markdown",
   "id": "4e1624f0",
   "metadata": {},
   "source": [
    "## Conditions (`if`, `else`)"
   ]
  },
  {
   "cell_type": "markdown",
   "id": "5be7db55",
   "metadata": {},
   "source": [
    "Conditional logic plays an important role in almost any coding problem! \n",
    "(see [this](https://en.wikipedia.org/wiki/Fizz_buzz) famous coding problem)"
   ]
  },
  {
   "cell_type": "code",
   "execution_count": null,
   "id": "894b5168",
   "metadata": {},
   "outputs": [],
   "source": [
    "# ifelse syntax ~inside a for loop~: fizzbuzz!\n",
    "\n",
    "\n"
   ]
  },
  {
   "cell_type": "markdown",
   "id": "ead74ff7",
   "metadata": {},
   "source": [
    "# Functions"
   ]
  },
  {
   "cell_type": "markdown",
   "id": "e6463684",
   "metadata": {},
   "source": [
    "Understanding why we use functions, how to write them, and how things can go wrong are really important to coding at all levels. I can't stress this enough! \n",
    "\n",
    "We won't have as much time to dedicate to functions as we should so if any of this feels shaky, please reach out!\n",
    "\n",
    "1. What are functions for?\n",
    "2. How to write them\n",
    "3. If time: scoping"
   ]
  },
  {
   "cell_type": "code",
   "execution_count": null,
   "id": "3347203c",
   "metadata": {},
   "outputs": [],
   "source": [
    "\"\"\"\n",
    "Function cookbook\n",
    "    def name_of_function([optional: parameters]):\n",
    "        CODE HERE\n",
    "        [optional: return X]\n",
    "    \n",
    "\"\"\"\n",
    "# Example: let's turn our fizzbuzz code above into a function!\n",
    "\n",
    "\n",
    "\n",
    "# Add parameters\n",
    "\n",
    "\n",
    "\n",
    "# Discuss: scope\n",
    "# Ex. passing in the fizzbuzz list, modifying in the function w/o returning it\n",
    "\n",
    "\n"
   ]
  }
 ],
 "metadata": {
  "interpreter": {
   "hash": "e774977668b7c0ae8309835a5187aa7fbf7669e7d0bb59755bc63e573643edcd"
  },
  "kernelspec": {
   "display_name": "Python 3 (clean)",
   "language": "python",
   "name": "python3"
  },
  "language_info": {
   "codemirror_mode": {
    "name": "ipython",
    "version": 3
   },
   "file_extension": ".py",
   "mimetype": "text/x-python",
   "name": "python",
   "nbconvert_exporter": "python",
   "pygments_lexer": "ipython3",
   "version": "3.7.4"
  }
 },
 "nbformat": 4,
 "nbformat_minor": 5
}
