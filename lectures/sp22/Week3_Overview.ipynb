{
 "cells": [
  {
   "cell_type": "markdown",
   "id": "92342300",
   "metadata": {},
   "source": [
    "# Week 3\n",
    "\n",
    "**Lecture 7:** *Introduction to data visualization (guest lecture)*\n",
    "\n",
    "**Lecture 8:** *Data visualization continued ([link](https://www.youtube.com/watch?v=NQC3Mj0Tn08) to video lecture)*\n",
    "\n",
    "**Lecture 9:** *Data visualization with seaborn (guest lecture)*\n",
    "\n",
    "**NOTE: instructions for Lecture 7**\n",
    "\n",
    "At the link to Lecture 7 on this page, you can view the full data visualization tutorial from our guest lecturer with empty code blocks in places meant for in-class practice. The filled in version with answers is linked along with the other \"code complete\" lectures in the section below.\n",
    "\n",
    "*However, if you're watching the lecture at home and wish to follow along, you should **not** download the notebook linked here.* Instead, follow these instructions:\n",
    "- Visit the github repo for this lecture [here](https://github.com/seantrott/data_visualization_python).\n",
    "- On this page, click the green \"Code\" button at the top right and select \"Download ZIP\".\n",
    "- Unzip this folder on your local computer.\n",
    "- Then, on your datahub homepage at datahub.ucsd.edu, upload the file called `Walkthrough (without answers).ipynb`\n",
    "- Next, on your datahub home page in the same directory where you just uploaded `Walkthrough (without answers).ipynb`, make two new folders: one called `img` and another called `data`.\n",
    "- In the `img` folder you just created on datahub, upload all the files in the folder called `img` in Sean's github repo that you just downloaded.\n",
    "- In the `data` folder you just created on datahub, upload the file `missing_work.csv` that is in the `data` folder in Sean's github repo that you just downloaded.\n",
    "\n",
    "Doing the above will allow you to run the `Walkthrough (without answers).ipynb` file on your datahub with the same data and images in Sean's original lecture. If you have questions about how to do any of this, feel free to reach out on campuswire!"
   ]
  }
 ],
 "metadata": {
  "interpreter": {
   "hash": "e774977668b7c0ae8309835a5187aa7fbf7669e7d0bb59755bc63e573643edcd"
  },
  "kernelspec": {
   "display_name": "Python 3 (clean)",
   "language": "python",
   "name": "python3"
  },
  "language_info": {
   "codemirror_mode": {
    "name": "ipython",
    "version": 3
   },
   "file_extension": ".py",
   "mimetype": "text/x-python",
   "name": "python",
   "nbconvert_exporter": "python",
   "pygments_lexer": "ipython3",
   "version": "3.7.4"
  }
 },
 "nbformat": 4,
 "nbformat_minor": 5
}
