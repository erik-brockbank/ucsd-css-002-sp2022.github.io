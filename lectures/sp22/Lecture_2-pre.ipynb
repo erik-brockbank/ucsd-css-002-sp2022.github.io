{
 "cells": [
  {
   "cell_type": "markdown",
   "id": "eeadcad9",
   "metadata": {},
   "source": [
    "# Lecture 2 (3/30/22)\n",
    "\n",
    "*Getting back in the swing of things...*\n",
    "- Datahub and jupyter notebooks\n",
    "- Python review: operations + data types\n",
    "\n",
    "![patrick](img/patrick.jpeg)"
   ]
  },
  {
   "cell_type": "code",
   "execution_count": null,
   "id": "5830fb04",
   "metadata": {},
   "outputs": [],
   "source": []
  },
  {
   "cell_type": "code",
   "execution_count": null,
   "id": "0d7abfc3",
   "metadata": {},
   "outputs": [],
   "source": []
  },
  {
   "cell_type": "markdown",
   "id": "81871a3d",
   "metadata": {},
   "source": [
    "# First up: jupyter notebooks"
   ]
  },
  {
   "cell_type": "markdown",
   "id": "f2718b54",
   "metadata": {},
   "source": [
    "This is a \"markdown\" cell!\n",
    "\n",
    "You can format markdown cells in lots of ways:"
   ]
  },
  {
   "cell_type": "markdown",
   "id": "bd7051e4",
   "metadata": {},
   "source": [
    "# BIIIIGGG HEADERS\n",
    "\n",
    "## Medium Headers\n",
    "\n",
    "### smol headers\n",
    "\n",
    "#### extra smol headers??\n",
    "\n",
    "##### extra smol italic headers???\n"
   ]
  },
  {
   "cell_type": "markdown",
   "id": "3c38526c",
   "metadata": {},
   "source": [
    "You can also format regular text:\n",
    "\n",
    "*FORTUNE* favors the **BOLD**."
   ]
  },
  {
   "cell_type": "markdown",
   "id": "278ac520",
   "metadata": {},
   "source": [
    "Markdown is powerful, but it will never be:\n",
    "- bullet\n",
    "- proof\n",
    "\n",
    "Indeed, some would say markdown's:\n",
    "1. days\n",
    "2. are\n",
    "3. numbered"
   ]
  },
  {
   "cell_type": "markdown",
   "id": "72105a18",
   "metadata": {},
   "source": [
    "A few other tricks:\n",
    "    \n",
    "You can add hyperlinks to the [World Wide Web](https://en.wikipedia.org/wiki/Alan_Turing)"
   ]
  },
  {
   "cell_type": "markdown",
   "id": "0e22771d",
   "metadata": {},
   "source": [
    "You can also embed images:\n",
    "    \n",
    "![ExampleImage](img/florence.jpeg)"
   ]
  },
  {
   "cell_type": "markdown",
   "id": "75ddf3db",
   "metadata": {},
   "source": [
    "In fact, markdown essentially compiles to HTML, so if you have experience coding in HTML, you can do all kinds of nifty things.\n",
    "\n",
    "\n",
    "<span>Hello, world.</span>\n",
    "<div align=\"center\">Watch out!</div>\n",
    "<div align=\"right\">Over here!</div>"
   ]
  },
  {
   "cell_type": "markdown",
   "id": "9a9f6bcc",
   "metadata": {},
   "source": [
    "## What's the point of markdown cells anyway?\n",
    "\n",
    "Good question! Jupyter notebooks are made to simplify the process of sharing and collaborating with code. \n",
    "\n",
    "Often, it's helpful to annotate what your code is doing, describe results in more detail, or just organize your code into different sections. \n",
    "\n",
    "Markdown cells give you the tools to do that.\n"
   ]
  },
  {
   "cell_type": "markdown",
   "id": "de83e0f8",
   "metadata": {},
   "source": [
    "*...But what about the code?* 🤖 🤖 🤖 🤖 🤖"
   ]
  },
  {
   "cell_type": "code",
   "execution_count": null,
   "id": "7a27e1d1",
   "metadata": {},
   "outputs": [],
   "source": [
    "# You can also run python code in jupyter notebooks!\n",
    "# That's actually their main job!"
   ]
  },
  {
   "cell_type": "code",
   "execution_count": null,
   "id": "4cb4d069",
   "metadata": {},
   "outputs": [],
   "source": [
    "print(\"hello, world\")"
   ]
  },
  {
   "cell_type": "markdown",
   "id": "b454fcec",
   "metadata": {},
   "source": [
    "*So what kind of code will we run?*"
   ]
  },
  {
   "cell_type": "markdown",
   "id": "7129a90b",
   "metadata": {},
   "source": [
    "# Time for... python review!"
   ]
  },
  {
   "cell_type": "markdown",
   "id": "a4302b0b",
   "metadata": {},
   "source": [
    "**The goal of this section is to refresh your memory for the basics of python coding.**\n",
    "\n",
    "This should be a review for most of you! \n",
    "\n",
    "However, the more practice you get with the python basics, the easier everything else this quarter will be.\n",
    "\n",
    "If you have questions about any of this, it's important to clear them up now :)"
   ]
  },
  {
   "cell_type": "markdown",
   "id": "35fd8c50",
   "metadata": {},
   "source": [
    "## Operations"
   ]
  },
  {
   "cell_type": "code",
   "execution_count": null,
   "id": "23a414c3",
   "metadata": {},
   "outputs": [],
   "source": [
    "# Arithmetic\n",
    "\n",
    "\n"
   ]
  },
  {
   "cell_type": "code",
   "execution_count": null,
   "id": "b851d5c4",
   "metadata": {},
   "outputs": [],
   "source": [
    "# Booleans ('and', 'or', 'not')\n",
    "\n",
    "\n"
   ]
  },
  {
   "cell_type": "code",
   "execution_count": null,
   "id": "e0d11abf",
   "metadata": {},
   "outputs": [],
   "source": [
    "# Comparison (>, <, ==, !=)\n",
    "\n",
    "\n"
   ]
  },
  {
   "cell_type": "code",
   "execution_count": null,
   "id": "beaa587e",
   "metadata": {},
   "outputs": [],
   "source": [
    "# Assignment\n",
    "\n",
    "\n",
    "\n",
    "# bonus: assignment shorthand (+=)\n",
    "\n"
   ]
  },
  {
   "cell_type": "code",
   "execution_count": null,
   "id": "beba9769",
   "metadata": {},
   "outputs": [],
   "source": [
    "# Special operation: 'in'\n",
    "\n",
    "\n"
   ]
  },
  {
   "cell_type": "markdown",
   "id": "d06073f0",
   "metadata": {},
   "source": [
    "## Data types"
   ]
  },
  {
   "cell_type": "markdown",
   "id": "93872b37",
   "metadata": {},
   "source": [
    "### Integers and floats"
   ]
  },
  {
   "cell_type": "code",
   "execution_count": null,
   "id": "6b38beed",
   "metadata": {},
   "outputs": [],
   "source": [
    "# Integers and floats\n",
    "\n",
    "\n",
    "\n",
    "# Operations: math!\n",
    "\n",
    "\n"
   ]
  },
  {
   "cell_type": "markdown",
   "id": "93fd54ed",
   "metadata": {},
   "source": [
    "### Strings"
   ]
  },
  {
   "cell_type": "code",
   "execution_count": null,
   "id": "4598f57e",
   "metadata": {},
   "outputs": [],
   "source": [
    "# Strings\n",
    "foo = ''\n",
    "bar = \"\"\n",
    "\n",
    "\n",
    "\n",
    "# Operations\n",
    "find()\n",
    "replace()\n",
    "split()\n",
    "\n",
    "\n",
    "\n",
    "# bonus: string indexing\n",
    "\n",
    "\n"
   ]
  },
  {
   "cell_type": "markdown",
   "id": "ad764165",
   "metadata": {},
   "source": [
    "### Identifying data types and operations\n",
    "*A rose by any other name...*"
   ]
  },
  {
   "cell_type": "code",
   "execution_count": null,
   "id": "791bd244",
   "metadata": {},
   "outputs": [],
   "source": [
    "foo = \"bar\"\n",
    "\n",
    "print(type(foo)) # What kind of thing is this?\n",
    "print(dir(foo)) # What operations can we do with this?\n",
    "\n",
    "# Casting\n",
    "\n",
    "\n"
   ]
  },
  {
   "cell_type": "markdown",
   "id": "21601c53",
   "metadata": {},
   "source": [
    "## Data structures"
   ]
  },
  {
   "cell_type": "markdown",
   "id": "7870158d",
   "metadata": {},
   "source": [
    "### Lists"
   ]
  },
  {
   "cell_type": "markdown",
   "id": "02da1821",
   "metadata": {},
   "source": [
    "*What is a list?*"
   ]
  },
  {
   "cell_type": "code",
   "execution_count": null,
   "id": "c610c09f",
   "metadata": {},
   "outputs": [],
   "source": [
    "# Declaring lists\n",
    "\n",
    "foo = ['bar']\n",
    "\n",
    "\n",
    "\n",
    "# Adding and removing items\n",
    "append()\n",
    "extend()\n",
    "insert()\n",
    "remove()\n",
    "\n",
    "\n",
    "\n",
    "# Accessing items: indexing, 'in'\n",
    "\n",
    "\n",
    "\n",
    "# bonus: len\n",
    "\n",
    "\n",
    "\n",
    "# Operations: sort, reverse\n",
    "\n",
    "\n"
   ]
  },
  {
   "cell_type": "markdown",
   "id": "d47d4b29",
   "metadata": {},
   "source": [
    "### Dictionaries"
   ]
  },
  {
   "cell_type": "markdown",
   "id": "2d638e27",
   "metadata": {},
   "source": [
    "*What is a dictionary?*"
   ]
  },
  {
   "cell_type": "code",
   "execution_count": null,
   "id": "4be7859c",
   "metadata": {},
   "outputs": [],
   "source": [
    "# Declaring dictionaries\n",
    "foo = {}\n",
    "foo = dict()\n",
    "\n",
    "\n",
    "# Adding and removing items\n",
    "\n",
    "\n",
    "\n",
    "# Accessing items\n",
    "\n",
    "\n",
    "\n",
    "# bonus: 'keys', 'values', 'items'\n",
    "\n",
    "\n"
   ]
  },
  {
   "cell_type": "markdown",
   "id": "f2c446cd",
   "metadata": {},
   "source": [
    "### Sets"
   ]
  },
  {
   "cell_type": "markdown",
   "id": "e1502764",
   "metadata": {},
   "source": [
    "*What is a set?*"
   ]
  },
  {
   "cell_type": "code",
   "execution_count": null,
   "id": "e9009df2",
   "metadata": {},
   "outputs": [],
   "source": [
    "# Declaring sets\n",
    "foo = set()\n",
    "foo = set('hi how are you')\n",
    "bar = set('doing fine')\n",
    "foo = {1, 2, 3, 4}\n",
    "bar = {2}\n",
    "\n",
    "# Adding and removing items\n",
    "\n",
    "\n",
    "# Set operations: &, -, |\n",
    "\n",
    "\n",
    "\n",
    "# Accessing items: bit tricky...\n",
    "\n"
   ]
  }
 ],
 "metadata": {
  "interpreter": {
   "hash": "e774977668b7c0ae8309835a5187aa7fbf7669e7d0bb59755bc63e573643edcd"
  },
  "kernelspec": {
   "display_name": "Python 3 (clean)",
   "language": "python",
   "name": "python3"
  },
  "language_info": {
   "codemirror_mode": {
    "name": "ipython",
    "version": 3
   },
   "file_extension": ".py",
   "mimetype": "text/x-python",
   "name": "python",
   "nbconvert_exporter": "python",
   "pygments_lexer": "ipython3",
   "version": "3.7.4"
  }
 },
 "nbformat": 4,
 "nbformat_minor": 5
}
