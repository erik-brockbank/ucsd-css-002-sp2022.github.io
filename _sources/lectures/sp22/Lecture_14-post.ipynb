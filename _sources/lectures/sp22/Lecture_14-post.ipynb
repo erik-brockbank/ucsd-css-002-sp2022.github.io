{
 "cells": [
  {
   "cell_type": "markdown",
   "id": "62c7e6f5",
   "metadata": {},
   "source": [
    "# Lecture 14 (4/27/2022)"
   ]
  },
  {
   "cell_type": "markdown",
   "id": "a1ea5e3d",
   "metadata": {},
   "source": [
    "**Announcements**\n",
    "- Lab 5 may take a little longer than previous labs\n",
    "- Pset 3 due today\n",
    "- Purva's OH in ERCA after lab today"
   ]
  },
  {
   "cell_type": "markdown",
   "id": "cac90fc6",
   "metadata": {},
   "source": [
    "*Last time we covered:*\n",
    "- Linear regression basics (ordinary least squares)\n",
    "\n",
    "**Today's agenda:**\n",
    "- Evaluating linear regression\n"
   ]
  },
  {
   "cell_type": "code",
   "execution_count": null,
   "id": "aa6ebecc",
   "metadata": {},
   "outputs": [],
   "source": [
    "import numpy as np\n",
    "import pandas as pd\n",
    "import matplotlib.pyplot as plt\n",
    "import seaborn as sns"
   ]
  },
  {
   "cell_type": "markdown",
   "id": "f0bf917f",
   "metadata": {},
   "source": [
    "# Deep Dive: regression in python"
   ]
  },
  {
   "cell_type": "markdown",
   "id": "1aefefe5",
   "metadata": {},
   "source": [
    "Last time, we talked about a number of different solutions for doing regression in python. \n",
    "\n",
    "The most popular option, and the one we'll focus on today, is the *scikit* `LinearRegression` [class](https://scikit-learn.org/stable/modules/generated/sklearn.linear_model.LinearRegression.html).\n",
    "\n",
    "\\*Context: scikit is a robust set of tools for data science and analysis. Take a look at their other model-fitting resources [here](https://scikit-learn.org/stable/index.html)."
   ]
  },
  {
   "cell_type": "code",
   "execution_count": null,
   "id": "12a6de27",
   "metadata": {},
   "outputs": [],
   "source": [
    "mpg = sns.load_dataset('mpg')\n",
    "\n",
    "mpg"
   ]
  },
  {
   "cell_type": "code",
   "execution_count": null,
   "id": "571c6091",
   "metadata": {},
   "outputs": [],
   "source": [
    "# Let's look at the data\n",
    "# Is there a linear relationship between \"weight\" and \"horsepower\"?\n",
    "\n",
    "sns.scatterplot(data = mpg,\n",
    "                x = \"weight\",\n",
    "                y = \"horsepower\"\n",
    "               )"
   ]
  },
  {
   "cell_type": "code",
   "execution_count": null,
   "id": "0dde6358",
   "metadata": {},
   "outputs": [],
   "source": [
    "# Let's make sure this data is cleaned up by checking for null values!\n",
    "# Handy resource: https://datatofish.com/rows-with-nan-pandas-dataframe/\n",
    "\n",
    "\n",
    "mpg[mpg.isna().any(axis=1)]\n",
    "\n",
    "# mpg.shape\n",
    "# mpg.index"
   ]
  },
  {
   "cell_type": "code",
   "execution_count": null,
   "id": "4cd59ccf",
   "metadata": {},
   "outputs": [],
   "source": [
    "# Looks like we need to handle the null values above\n",
    "mpg_clean = mpg.dropna().reset_index(drop = True)\n",
    "\n",
    "mpg_clean[mpg_clean.isna().any(axis=1)]\n",
    "# mpg.shape\n",
    "# mpg.index"
   ]
  },
  {
   "cell_type": "code",
   "execution_count": null,
   "id": "cc1e15a7",
   "metadata": {},
   "outputs": [],
   "source": [
    "from sklearn.linear_model import LinearRegression # first, import the LinearRegression model class\n",
    "\n",
    "# Prepare our data\n",
    "x_vals = np.array(mpg_clean['weight'])\n",
    "x_vals = x_vals.reshape(len(x_vals), 1) # what's going on here?\n",
    "# x_vals[0]\n",
    "# x_vals[0, 0]\n",
    "# list(x_vals)\n",
    "# x_vals\n",
    "# TODO is there a more intuitive explanation for this?\n",
    "\n",
    "\n",
    "y_vals = np.array(mpg_clean['horsepower'])\n",
    "\n",
    "\n",
    "# Initialize the model\n",
    "mod = LinearRegression()\n",
    "# Fit the model\n",
    "mod = mod.fit(X = x_vals, y = y_vals)\n",
    "\n",
    "mod"
   ]
  },
  {
   "cell_type": "markdown",
   "id": "2924b15d",
   "metadata": {},
   "source": [
    "Our (fitted) model comes with a number of *attributes*, including, most critically, the intercept and slope estimates"
   ]
  },
  {
   "cell_type": "code",
   "execution_count": null,
   "id": "a0a934f2",
   "metadata": {},
   "outputs": [],
   "source": [
    "# Look at the values\n",
    "mod.intercept_\n",
    "# mod.coef_ # why is this different from the above?\n",
    "\n",
    "# Other attributes we won't get into here"
   ]
  },
  {
   "cell_type": "markdown",
   "id": "f66ed07b",
   "metadata": {},
   "source": [
    "Reminder: what do these values *actually mean?*\n",
    "\n",
    "..."
   ]
  },
  {
   "cell_type": "code",
   "execution_count": null,
   "id": "4df2ac0d",
   "metadata": {},
   "outputs": [],
   "source": [
    "sns.scatterplot(data = mpg,\n",
    "                x = \"weight\",\n",
    "                y = \"horsepower\"\n",
    "               )\n",
    "\n",
    "plt.axline(xy1 = (0, mod.intercept_), slope = mod.coef_[0], color = \"r\", linestyle = \"--\")"
   ]
  },
  {
   "cell_type": "markdown",
   "id": "bc1f6025",
   "metadata": {},
   "source": [
    "### Your turn! \n",
    "\n",
    "Take a few minutes now to choose another pair of variables from this dataset. \n",
    "\n",
    "Plot them to see if they have a linear(ish) relationship, then fit a regression to them and examine the parameter estimates. \n",
    "\n",
    "NOTE: when doing this, try not to just copy-paste what I have above; instead, write it out yourself while looking back at the code when you need to. \n",
    "\n",
    "*Why?* Copy-pasting is a big part of coding, but it works better when you're already familiar with the syntax and just need the right details. When you're doing something for the first time, it's good to internalize what you're doing!"
   ]
  },
  {
   "cell_type": "code",
   "execution_count": null,
   "id": "5c901077",
   "metadata": {},
   "outputs": [],
   "source": [
    "### YOUR CODE HERE\n",
    "\n",
    "\n"
   ]
  },
  {
   "cell_type": "markdown",
   "id": "a8fee9d6",
   "metadata": {},
   "source": [
    "*What variables did you choose? How did your regression do?*\n",
    "- weight / acceleration\n",
    "- weight / mpg\n"
   ]
  },
  {
   "cell_type": "markdown",
   "id": "3d9eeb04",
   "metadata": {},
   "source": [
    "***"
   ]
  },
  {
   "cell_type": "markdown",
   "id": "30af6fc0",
   "metadata": {},
   "source": [
    "Above we looked at some of the attributes of our model class. \n",
    "\n",
    "This class also has several useful *functions*. We've seen one already above (`fit()`).\n",
    "\n",
    "What else can a LinearRegression object do?"
   ]
  },
  {
   "cell_type": "code",
   "execution_count": null,
   "id": "b9e4f101",
   "metadata": {},
   "outputs": [],
   "source": [
    "# Other functions we can use\n",
    "\n",
    "mod_preds = mod.predict(X = x_vals) # what is this doing?\n",
    "# mod_preds\n",
    "\n",
    "mod_score = mod.score(X = x_vals, y = y_vals) # what is this? \n",
    "mod_score\n",
    "\n",
    "# These are the primary ones"
   ]
  },
  {
   "cell_type": "markdown",
   "id": "849be729",
   "metadata": {},
   "source": [
    "# Evaluating linear regression\n",
    "\n",
    "In the section above, we generated a regression for the relationship between `weight` and `horsepower`. \n",
    "\n",
    "How do we know if our regression is a good fit to the data? What gives you confidence that it's describing the relationship between the variables well?\n",
    "\n",
    "\n"
   ]
  },
  {
   "cell_type": "markdown",
   "id": "1f1fac23",
   "metadata": {},
   "source": [
    "## $R^2$ (coefficient of determination): how much variance are we explaining?\n",
    "\n",
    "\n",
    "$ R^2 = 1 - \\dfrac{RSS}{TSS} $\n",
    "\n",
    "$ RSS = \\sum_{i=1}^{n}{(y_i - \\hat{y_i})}^2 $\n",
    "\n",
    "*Where have we seen this before?*\n",
    "\n",
    "$ TSS = \\sum_{i=1}^{n}{(y_i - \\bar{y})}^2 $\n",
    "\n",
    "*What does this look like?*\n",
    "\n",
    "$R^2$ ranges between 0 and 1 and can be thought of as the *percentage of variance in $y$ that our model explains*.\n",
    "\n",
    "Intuition for this metric: divide the SS for our guess by the SS if our guess was just the mean of $y$.\n",
    "- Raw value of RSS will vary depending on how many data points we have\n",
    "- What's the lowest value that RSS could have? ...\n",
    "- What's the *highest* value that RSS could have? ...\n",
    "\n",
    "\n",
    "So our RSS should be somewhere between 0 (good) and whatever we would get from guessing $\\bar{y}$ for every point (bad). Divide RSS by that worst case value to indicate how close we are to worst case, then subtract from 1 for how close we are to best case."
   ]
  },
  {
   "cell_type": "markdown",
   "id": "219a2ad0",
   "metadata": {},
   "source": [
    "Here's a graphic illustrating it (source: wikipedia)\n",
    "\n",
    "![rsq](img/rsq.png)\n",
    "\n",
    "Let's calculate it by hand so we understand it better:"
   ]
  },
  {
   "cell_type": "code",
   "execution_count": null,
   "id": "38226e52",
   "metadata": {},
   "outputs": [],
   "source": [
    "rsq_mod = mod.score(X = x_vals, y = y_vals) # R^2 value\n",
    "rsq_mod\n",
    "\n",
    "# Add predicted y values to dataframe\n",
    "preds = mod.predict(X = x_vals)\n",
    "mpg_clean = mpg_clean.assign(model_pred = pd.Series([x for x in preds]))\n",
    "mpg_clean\n",
    "\n",
    "# Calculate RSS based on predicted values\n",
    "mpg_clean = mpg_clean.assign(resid_sum_sq = (mpg_clean['horsepower'] - mpg_clean['model_pred'])**2)\n",
    "\n",
    "# Calculate TSS based on mean of y\n",
    "ybar = mpg_clean['horsepower'].mean()\n",
    "mpg_clean = mpg_clean.assign(total_sum_sq = (mpg_clean['horsepower'] - ybar)**2)\n",
    "\n",
    "rsq_hand = 1 - mpg_clean['resid_sum_sq'].sum() / mpg_clean['total_sum_sq'].sum()\n",
    "rsq_hand\n",
    "\n",
    "# What is the R^2 value?\n",
    "print(\"Model value: {}\".format(rsq_mod))\n",
    "print(\"Hand calculation: {}\".format(rsq_hand))"
   ]
  },
  {
   "cell_type": "markdown",
   "id": "a2e5dc5b",
   "metadata": {},
   "source": [
    "## Out of sample prediction (more on this later!)\n",
    "\n",
    "Since the goal with our model is prediction, another way we can test whether it's doing a good job is to see how it predicts new data! \n",
    "\n",
    "There are a number of different approaches for this that we'll talk more about later. \n",
    "\n",
    "For now, let's demonstrate a simple one: *train* the model, then *test* on *hold-out data*.\n",
    "\n",
    "**Step 1** is to randomly sample, e.g., 25% of our data and set it aside as the *test* data."
   ]
  },
  {
   "cell_type": "code",
   "execution_count": null,
   "id": "ddb3062e",
   "metadata": {},
   "outputs": [],
   "source": [
    "# Randomly sample 25% of our data points to be test data\n",
    "\n",
    "from sklearn.model_selection import train_test_split\n",
    "\n",
    "x_vals = np.array(mpg_clean['weight']).reshape(len(x_vals), 1)\n",
    "y_vals = mpg_clean['horsepower']\n",
    "\n",
    "xtrain, xtest, ytrain, ytest = train_test_split(x_vals, y_vals, \n",
    "                                                test_size = 0.25, \n",
    "                                                random_state = 1\n",
    "                                               )\n",
    "\n",
    "\n",
    "# mpg_clean.shape\n",
    "# len(xtrain)\n",
    "\n"
   ]
  },
  {
   "cell_type": "markdown",
   "id": "3256cd4e",
   "metadata": {},
   "source": [
    "**Step 2** is to fit our regression to the *training data only*."
   ]
  },
  {
   "cell_type": "code",
   "execution_count": null,
   "id": "2e47306c",
   "metadata": {},
   "outputs": [],
   "source": [
    "# Initialize the model\n",
    "mod_tr = LinearRegression()\n",
    "# Fit the model\n",
    "mod_tr = mod_tr.fit(X = xtrain, y = ytrain)\n",
    "\n",
    "mod_tr.intercept_\n",
    "mod_tr.coef_"
   ]
  },
  {
   "cell_type": "markdown",
   "id": "1900ca9f",
   "metadata": {},
   "source": [
    "**Step 3** is to see how well our regression model performs on the *held out test data*"
   ]
  },
  {
   "cell_type": "code",
   "execution_count": null,
   "id": "a13f8aca",
   "metadata": {},
   "outputs": [],
   "source": [
    "mod_preds = mod_tr.predict(X = xtest)\n",
    "\n",
    "mod_preds\n"
   ]
  },
  {
   "cell_type": "code",
   "execution_count": null,
   "id": "5069c7fe",
   "metadata": {},
   "outputs": [],
   "source": [
    "sns.scatterplot(x = xtest.reshape(len(xtest)),\n",
    "                y = ytest\n",
    "               )\n",
    "\n",
    "plt.axline(xy1 = (0, mod_tr.intercept_), slope = mod_tr.coef_[0], color = \"r\", linestyle = \"--\")\n",
    "\n",
    "plt.title(\"Regression performance on held out test data\")"
   ]
  },
  {
   "cell_type": "markdown",
   "id": "54ee29af",
   "metadata": {},
   "source": [
    "**Step 4** is ... \n",
    "\n",
    "... *now what?*"
   ]
  },
  {
   "cell_type": "markdown",
   "id": "a52dda27",
   "metadata": {},
   "source": [
    "Let's compare how our model did on the testing data compared to the training data it was fit to.\n",
    "\n",
    "There are lots of ways to do this (incl. the $R^2$ values we discussed above) and we'll spend more time looking at some of them next week.\n",
    "\n",
    "But one commoon approach worth highlighting is the *mean squared error*."
   ]
  },
  {
   "cell_type": "markdown",
   "id": "1b6a8e16",
   "metadata": {},
   "source": [
    "Mean squared error (MSE) is just the *average* of the squared *residuals* or squared error, the same stuff we've been dealing with from the beginning. \n",
    "\n",
    "$ MSE = \\dfrac{1}{n - 2} \\sum_{i=1}^{n}{(y_i - \\hat{y_i})}^2 = \\dfrac{1}{n - 2} \\sum_{i=1}^{n}{\\epsilon_i}^2 $\n",
    "\n",
    "This tells you, on average, how close your model was to the true value across all the data points.\n",
    "\n",
    "*Why the $n - 2$ here?*\n",
    "\n",
    "Let's calculate it for our train and test datasets and compare them.\n",
    "\n",
    "*Do you think they'll be similar?*"
   ]
  },
  {
   "cell_type": "code",
   "execution_count": null,
   "id": "433ca018",
   "metadata": {},
   "outputs": [],
   "source": [
    "# Training MSE\n",
    "\n",
    "# Generate model predictions for the training data\n",
    "train_pred = mod_tr.predict(X = xtrain)\n",
    "# Calculate the squared error of these predictions\n",
    "train_error = (ytrain - train_pred)**2\n",
    "# Get the mean squared error\n",
    "train_mse = train_error.sum() / (len(train_error) - 2)\n",
    "train_mse\n",
    "\n",
    "# Test MSE\n",
    "\n",
    "# Generate model predictions for the test data (we did this above already)\n",
    "test_pred = mod_tr.predict(X = xtest)\n",
    "# Calculate the squared error of the test predictions\n",
    "test_error = (ytest - test_pred)**2\n",
    "# Get the mean squared error for test data\n",
    "test_mse = test_error.sum() / (len(test_error) - 2)\n",
    "test_mse\n",
    "\n",
    "print(\"Training MSE: {} \\n Test MSE: {}\".format(train_mse, test_mse))"
   ]
  },
  {
   "cell_type": "markdown",
   "id": "1d91f967",
   "metadata": {},
   "source": [
    "*What do these results mean?*\n",
    "\n",
    "*Is this a pretty good regression fit?*\n",
    "\n",
    "..."
   ]
  },
  {
   "cell_type": "markdown",
   "id": "0a01d205",
   "metadata": {},
   "source": [
    "## Parameter estimates\n",
    "\n",
    "The criteria above are mostly concerned with whether we're doing *a good job predicting our $y$ values* with this model.\n",
    "\n",
    "Notice this completely ignores the actual parameter estimates of the model! \n",
    "\n",
    "In many cases, part of what we're concerned with isn't just how well we predict our data, but what kind of relationship our model estimates between $x$ and $y$. \n",
    "- How large or small is the slope?\n",
    "- How confident are we in the estimate?\n",
    "\n",
    "This isn't data we get directly from the `LinearRegression` class.\n",
    "\n",
    "Instead, we can calculate by hand or use another model class like the `statsmodels` class we saw on Monday. "
   ]
  },
  {
   "cell_type": "code",
   "execution_count": null,
   "id": "12714bf6",
   "metadata": {},
   "outputs": [],
   "source": [
    "import statsmodels.formula.api as smf\n",
    "\n",
    "results = smf.ols('horsepower ~ weight', data = mpg_clean).fit()\n",
    "results.summary()"
   ]
  },
  {
   "cell_type": "markdown",
   "id": "71fc2f91",
   "metadata": {},
   "source": [
    "**What do we learn from the above?**\n",
    "\n",
    "Understanding the full output requires a more extensive statistics discussion than we're going to have, but there are a few important take-aways:\n",
    "1. The coefficient for `weight` (0.0392) has a small standard error (0.001) and a very narrow 95% confidence interval (0.037, 0.041) based on the observations here. This means we're pretty certain about this slope estimate.\n",
    "\n",
    "2. The $t$ value for the slope (33.97) is extremely large, meaning we're very confident that this slope value is significantly different from 0. In other words, *there is a significant relationship between weight and horsepower in this data*.\n",
    "\n",
    "This is another way that we can evaluate our regression: the parameter estimates themselves tell us something useful and reasonably precise about the unerlying data."
   ]
  },
  {
   "cell_type": "markdown",
   "id": "b420cb5f",
   "metadata": {},
   "source": [
    "# Regression failures\n",
    "\n",
    "Above we went through how to interpret and evaluate our regression. \n",
    "\n",
    "In this case, we were estimating a linear slope in data that had a pretty strong linear relationship.\n",
    "\n",
    "*But what are the ways that this can break down?*\n",
    "\n",
    "..."
   ]
  },
  {
   "cell_type": "markdown",
   "id": "24a371e5",
   "metadata": {},
   "source": [
    "### Noisy data"
   ]
  },
  {
   "cell_type": "code",
   "execution_count": null,
   "id": "7b2d055b",
   "metadata": {},
   "outputs": [],
   "source": [
    "# mean = [0, 0]\n",
    "# cov = [[1, 0], [0, 1]]\n",
    "# x, y = np.random.multivariate_normal(mean, cov, 100).T\n",
    "\n",
    "\n",
    "g = sns.scatterplot(data = mpg_clean, x = \"acceleration\", y = \"mpg\")\n",
    "\n",
    "\n"
   ]
  },
  {
   "cell_type": "code",
   "execution_count": null,
   "id": "dcc403ce",
   "metadata": {},
   "outputs": [],
   "source": [
    "# Can we fit a regression to the data above?\n",
    "\n",
    "m = LinearRegression().fit(\n",
    "    X = np.array(mpg_clean['acceleration']).reshape(len(mpg_clean['acceleration']), 1), \n",
    "    y = np.array(mpg_clean['mpg'])\n",
    ")\n",
    "\n",
    "m.intercept_\n",
    "m.coef_\n",
    "\n",
    "m.score(\n",
    "    X = np.array(mpg_clean['acceleration']).reshape(len(mpg_clean['acceleration']), 1), \n",
    "    y = np.array(mpg_clean['mpg'])\n",
    ") \n",
    "# not so great..."
   ]
  },
  {
   "cell_type": "code",
   "execution_count": null,
   "id": "bc8df255",
   "metadata": {},
   "outputs": [],
   "source": [
    "sns.lmplot(data = mpg_clean, x = \"acceleration\", y = \"mpg\")"
   ]
  },
  {
   "cell_type": "markdown",
   "id": "6f70855d",
   "metadata": {},
   "source": [
    "### Non-linear data"
   ]
  },
  {
   "cell_type": "code",
   "execution_count": null,
   "id": "1e86c191",
   "metadata": {},
   "outputs": [],
   "source": [
    "# This doesn't seem like a linear relationship...\n",
    "\n",
    "sns.scatterplot(data = mpg_clean, x = \"horsepower\", y = \"mpg\") # hp\n"
   ]
  },
  {
   "cell_type": "code",
   "execution_count": null,
   "id": "4e05e2a8",
   "metadata": {},
   "outputs": [],
   "source": [
    "# Can we fit a regression to the data above?\n",
    "\n",
    "m = LinearRegression().fit(\n",
    "    X = np.array(mpg_clean['horsepower']).reshape(len(mpg_clean['horsepower']), 1), \n",
    "    y = np.array(mpg_clean['mpg'])\n",
    ")\n",
    "\n",
    "m.intercept_\n",
    "m.coef_\n",
    "\n",
    "m.score(\n",
    "    X = np.array(mpg_clean['horsepower']).reshape(len(mpg_clean['horsepower']), 1), \n",
    "    y = np.array(mpg_clean['mpg'])\n",
    ")"
   ]
  },
  {
   "cell_type": "code",
   "execution_count": null,
   "id": "38514346",
   "metadata": {},
   "outputs": [],
   "source": [
    "sns.lmplot(data = mpg_clean, x = \"horsepower\", y = \"mpg\")"
   ]
  },
  {
   "cell_type": "markdown",
   "id": "16109c1b",
   "metadata": {},
   "source": [
    "This graphic shows the correlation coefficient between two variables for a range of different data patterns. \n",
    "\n",
    "The data that doesn't have a strong correlation is also going to be difficult to fit a linear regression to.\n",
    "\n",
    "![corr_ex](img/corr_ex.png)"
   ]
  },
  {
   "cell_type": "markdown",
   "id": "3f6641c5",
   "metadata": {},
   "source": [
    "### Multiple predictors"
   ]
  },
  {
   "cell_type": "code",
   "execution_count": null,
   "id": "6bc13f71",
   "metadata": {},
   "outputs": [],
   "source": [
    "mpg_clean\n",
    "\n",
    "mpg_long = mpg_clean.melt(\n",
    "    id_vars = [\"name\", \"origin\", \"model_year\", \"cylinders\", \"mpg\"]\n",
    ")\n",
    "mpg_long\n",
    "\n",
    "sns.relplot(data = mpg_long,\n",
    "            x = \"value\",\n",
    "            y = \"mpg\",\n",
    "            col = \"variable\",\n",
    "            kind = \"scatter\",\n",
    "            facet_kws={'sharey': False, 'sharex': False}\n",
    "           )\n"
   ]
  },
  {
   "cell_type": "code",
   "execution_count": null,
   "id": "dd4e008e",
   "metadata": {},
   "outputs": [],
   "source": []
  },
  {
   "cell_type": "markdown",
   "id": "6ed4f28c",
   "metadata": {},
   "source": [
    "### [next time] Failures of the linear regression assumptions\n",
    "- Ex. non-normal residuals"
   ]
  },
  {
   "cell_type": "code",
   "execution_count": null,
   "id": "90dbfdcb",
   "metadata": {},
   "outputs": [],
   "source": []
  },
  {
   "cell_type": "code",
   "execution_count": null,
   "id": "1dafd813",
   "metadata": {},
   "outputs": [],
   "source": []
  }
 ],
 "metadata": {
  "interpreter": {
   "hash": "e774977668b7c0ae8309835a5187aa7fbf7669e7d0bb59755bc63e573643edcd"
  },
  "kernelspec": {
   "display_name": "Python 3 (clean)",
   "language": "python",
   "name": "python3"
  },
  "language_info": {
   "codemirror_mode": {
    "name": "ipython",
    "version": 3
   },
   "file_extension": ".py",
   "mimetype": "text/x-python",
   "name": "python",
   "nbconvert_exporter": "python",
   "pygments_lexer": "ipython3",
   "version": "3.7.4"
  }
 },
 "nbformat": 4,
 "nbformat_minor": 5
}
