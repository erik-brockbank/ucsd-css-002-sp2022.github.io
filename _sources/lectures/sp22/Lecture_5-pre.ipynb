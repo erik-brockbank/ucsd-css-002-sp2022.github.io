{
 "cells": [
  {
   "cell_type": "markdown",
   "id": "a823651b",
   "metadata": {},
   "source": [
    "# Lecture 5 (4/6/22)"
   ]
  },
  {
   "cell_type": "markdown",
   "id": "0140e118",
   "metadata": {},
   "source": [
    "*Last time we covered:*\n",
    "- Datahub\n",
    "- Functions\n",
    "- numpy basics"
   ]
  },
  {
   "cell_type": "markdown",
   "id": "c3521170",
   "metadata": {},
   "source": [
    "**Today's agenda:**\n",
    "- numpy wrap-up\n",
    "- pandas basics"
   ]
  },
  {
   "cell_type": "markdown",
   "id": "e76b45cd",
   "metadata": {},
   "source": [
    "# numpy wrap-up"
   ]
  },
  {
   "cell_type": "code",
   "execution_count": null,
   "id": "67071af9",
   "metadata": {},
   "outputs": [],
   "source": [
    "import numpy as np"
   ]
  },
  {
   "cell_type": "markdown",
   "id": "871a5b57",
   "metadata": {},
   "source": [
    "*Recall from last time...*"
   ]
  },
  {
   "cell_type": "markdown",
   "id": "0a6cb11b",
   "metadata": {},
   "source": [
    "**What is it?**\n",
    "\n",
    "numpy is primarily:\n",
    "1. A class of array objects (the `ndarray`)\n",
    "2. A set of high-performance functions that can be executed over those arrays"
   ]
  },
  {
   "cell_type": "code",
   "execution_count": null,
   "id": "8427040b",
   "metadata": {},
   "outputs": [],
   "source": [
    "# 1. The ndarray\n",
    "boring_list = [1, 2, 3, 4, 5, 6] # traditional python list\n",
    "cool_array = np.array([1, 2, 3, 4, 5, 6]) # numpy ndarray\n",
    "\n",
    "cool_array"
   ]
  },
  {
   "cell_type": "code",
   "execution_count": null,
   "id": "41e0650f",
   "metadata": {},
   "outputs": [],
   "source": [
    "# 2. The functions\n",
    "y = np.square(cool_array)\n",
    "y\n",
    "# Note this is much simpler than what we would do to perform the equivalent operation on `boring_list` above"
   ]
  },
  {
   "cell_type": "markdown",
   "id": "dea12643",
   "metadata": {},
   "source": [
    "**Why use it?**\n",
    "\n",
    "This represents an improvement over traditional python `list` operations for several reasons:\n",
    "- It streamlines our code\n",
    "- It's way faster"
   ]
  },
  {
   "cell_type": "code",
   "execution_count": null,
   "id": "36cb66a2",
   "metadata": {},
   "outputs": [],
   "source": [
    "# The code streamlining:\n",
    "\n",
    "y = []\n",
    "for value in boring_list: # traditional python often requires using `for` loops to execute operations on lists\n",
    "    y.append(1/value)\n",
    "    \n",
    "y = 1/cool_array # numpy lets you apply intuitive operations to whole ndarrays at once\n",
    "y"
   ]
  },
  {
   "cell_type": "code",
   "execution_count": null,
   "id": "489c9af9",
   "metadata": {},
   "outputs": [],
   "source": [
    "# The speed:\n",
    "\n",
    "import random\n",
    "x = [random.random() for _ in range(10000)] \n",
    "array_x = np.asarray(x)\n",
    "\n",
    "%timeit y = [val**2 for val in x] # traditional python list-based approach\n",
    "%timeit array_y = np.square(array_x) # numpy\n"
   ]
  },
  {
   "cell_type": "markdown",
   "id": "525fef74",
   "metadata": {},
   "source": [
    "**Combining arrays**\n",
    "\n",
    "We can combine numpy arrays into multi-dimensional *matrices* and perform many useful operations on those matrices"
   ]
  },
  {
   "cell_type": "code",
   "execution_count": null,
   "id": "724b5085",
   "metadata": {},
   "outputs": [],
   "source": [
    "a = np.random.random((3, 2)) # can initialize matrices with 0s, 1s, or random numbers\n",
    "print(a)"
   ]
  },
  {
   "cell_type": "code",
   "execution_count": null,
   "id": "7e7b11eb",
   "metadata": {},
   "outputs": [],
   "source": [
    "# We can access individual rows or columns and individual elements using bracket [row, col] notation\n",
    "a[0,]\n",
    "a[:,1] # note each of these rows/columns is itself a numpy array\n",
    "# type(a[0])"
   ]
  },
  {
   "cell_type": "code",
   "execution_count": null,
   "id": "7496467a",
   "metadata": {},
   "outputs": [],
   "source": [
    "print(np.max(a)) # maximum operation over the whole matrix\n",
    "print(np.max(a, axis = 0)) # maximum operation can specify an \"axis\": 0 (columns) or 1 (rows)"
   ]
  },
  {
   "cell_type": "markdown",
   "id": "2d8b648f",
   "metadata": {},
   "source": [
    "We'll come across numpy at various points throughout the quarter but this should be enough to get us on our feet. \n",
    "\n",
    "You can learn more about numpy and follow the beginner's guide on their website [here](https://numpy.org/doc/stable/user/absolute_beginners.html).\n",
    "\n",
    "For now, it's time to switch to a new tool in our computational social science toolkit.... *pandas*"
   ]
  },
  {
   "cell_type": "markdown",
   "id": "6568846f",
   "metadata": {},
   "source": [
    "# Pandas!"
   ]
  },
  {
   "cell_type": "markdown",
   "id": "978f521c",
   "metadata": {},
   "source": [
    "![panda](img/red_panda.jpeg)"
   ]
  },
  {
   "cell_type": "markdown",
   "id": "7c914103",
   "metadata": {},
   "source": [
    "## First, what is pandas?"
   ]
  },
  {
   "cell_type": "markdown",
   "id": "291ea45d",
   "metadata": {},
   "source": [
    "[pandas](https://pandas.pydata.org/docs/index.html) is a python library for reading, writing, and interacting with *tabular* data. \n",
    "\n",
    "This is convenient because a lot of data is *tabular* data. It's kind of like Excel for python (but way cooler...).\n",
    "\n",
    "There's a *really awesome* cheat sheet [here](https://pandas.pydata.org/Pandas_Cheat_Sheet.pdf) and a series of handy tutorials [here](https://pandas.pydata.org/docs/getting_started/intro_tutorials/index.html). "
   ]
  },
  {
   "cell_type": "code",
   "execution_count": null,
   "id": "1ff26959",
   "metadata": {},
   "outputs": [],
   "source": [
    "import pandas as pd"
   ]
  },
  {
   "cell_type": "markdown",
   "id": "76ac439f",
   "metadata": {},
   "source": [
    "In this class, we will use pandas as the basis for reading, processing, and understanding our data.\n",
    "\n",
    "Let's get started!"
   ]
  },
  {
   "cell_type": "markdown",
   "id": "a40d6ac5",
   "metadata": {},
   "source": [
    "## Reading data with pandas"
   ]
  },
  {
   "cell_type": "code",
   "execution_count": null,
   "id": "1f10ef04",
   "metadata": {},
   "outputs": [],
   "source": [
    "# mcd = pd.read_csv(\"../Datasets/mcd.csv\")\n",
    "mcd = pd.read_csv(\"https://raw.githubusercontent.com/UCSD-CSS-002/ucsd-css-002.github.io/master/datasets/mcd-menu.csv\")"
   ]
  },
  {
   "cell_type": "markdown",
   "id": "1996cb03",
   "metadata": {},
   "source": [
    "Note: there are lots of other ways to read in data, including directly from hosted links online."
   ]
  },
  {
   "cell_type": "code",
   "execution_count": null,
   "id": "5ef434c2",
   "metadata": {},
   "outputs": [],
   "source": [
    "pd.read_csv?"
   ]
  },
  {
   "cell_type": "markdown",
   "id": "0e407ec8",
   "metadata": {},
   "source": [
    "### What is in this dataset?"
   ]
  },
  {
   "cell_type": "code",
   "execution_count": null,
   "id": "d2709d57",
   "metadata": {},
   "outputs": [],
   "source": [
    "mcd"
   ]
  },
  {
   "cell_type": "markdown",
   "id": "3ee7b8b2",
   "metadata": {},
   "source": [
    "Note: printing out the whole dataset is often not the best way to look at it, and sometimes totally infeasible.\n",
    "\n",
    "`pandas` offers several very handy tools for peeking at data."
   ]
  },
  {
   "cell_type": "code",
   "execution_count": null,
   "id": "bd0e4f79",
   "metadata": {},
   "outputs": [],
   "source": [
    "mcd.shape # number of rows and number of columns\n",
    "\n",
    "mcd.head() # this is usually enough to get a sense of what's going on in our data\n",
    "mcd.head(10) # sometimes useful to look at more rows than the default\n",
    "mcd.tail() # if you're curious what kind of values or responses are at the \"end\" of your dataset\n",
    "\n",
    "mcd.columns # helpful when the data has too many columns to preview (as in this data!)\n",
    "mcd.index # we'll come back to this...\n",
    "\n",
    "mcd.describe() # note: this isn't all our columns! only numeric ones\n",
    "mcd.Category.value_counts() # this is the equivalent of `describe` for our categorical variables"
   ]
  },
  {
   "cell_type": "markdown",
   "id": "d7cfe0f6",
   "metadata": {},
   "source": [
    "Note all except the last of these are operations applied directly to the pandas *data frame* `mcd` (more on this later)."
   ]
  },
  {
   "cell_type": "markdown",
   "id": "67be7fa6",
   "metadata": {},
   "source": [
    "### What can we do with this data?"
   ]
  },
  {
   "cell_type": "markdown",
   "id": "b4238941",
   "metadata": {},
   "source": [
    "*Basic*\n",
    "- Which menu items have the most protein? Calories? Largest serving size?\n",
    "- How many items does McDonald's offer for each meal (breakfast, lunch, dinner)?\n",
    "\n",
    "*Intermediate*\n",
    "- What are the healthiest and least healthy items on the menu?\n",
    "- What *meal* (breakfast, lunch, dinner, snack) is the most healthy or unhealthy overall? \n",
    "\n",
    "*Advanced*\n",
    "- Can we identify how McDonald's segments the healthy choice preferences of their customers by clustering the profiles of each menu item?"
   ]
  },
  {
   "cell_type": "markdown",
   "id": "48b80f88",
   "metadata": {},
   "source": [
    "### Why pandas?"
   ]
  },
  {
   "cell_type": "markdown",
   "id": "f837fcb1",
   "metadata": {},
   "source": [
    "Before we go any further, pause and think about how you would store this data with traditional python data structures: *a list of lists?* *Many separate dictionaries?* *A menu item class with each attribute and all items in a list?*\n",
    "\n",
    "Think about how we would answer the questions above using traditional python operations over those data structures.\n",
    "\n",
    "**The ways we routinely interact with data require many different kinds of (sometimes complicated) operations and data structures that can support those operations (we've already seen some of this above just to look at the data in different ways).**\n",
    "\n",
    "We want the *flexibility of code* but the *structure of tools like Excel* to solve these problems.\n",
    "\n",
    "This is where `pandas` comes in!"
   ]
  },
  {
   "cell_type": "markdown",
   "id": "4397ebc1",
   "metadata": {},
   "source": [
    "## How does it work?"
   ]
  },
  {
   "cell_type": "code",
   "execution_count": null,
   "id": "f2c7ff37",
   "metadata": {},
   "outputs": [],
   "source": [
    "type(mcd)"
   ]
  },
  {
   "cell_type": "markdown",
   "id": "1b1f18dd",
   "metadata": {},
   "source": [
    "Tabular data is stored in pandas as a `DataFrame`.\n",
    "\n",
    "A pandas data frame is essentially like a table in Excel and has similar corollaries in R, STATA, etc.\n",
    "\n",
    "It stores data in rows organized by columns, and has some very nifty properties."
   ]
  },
  {
   "cell_type": "code",
   "execution_count": null,
   "id": "4e5c1af5",
   "metadata": {},
   "outputs": [],
   "source": [
    "# Let's look at the 'Item' column\n",
    "menu_items = mcd['Item']\n",
    "menu_items\n",
    "type(menu_items)"
   ]
  },
  {
   "cell_type": "markdown",
   "id": "496f9f42",
   "metadata": {},
   "source": [
    "Each column in a pandas dataframe is a pandas `Series`. \n",
    "\n",
    "A pandas series is a lot like a numpy array, but with one additional property: the *index*."
   ]
  },
  {
   "cell_type": "code",
   "execution_count": null,
   "id": "736e7b11",
   "metadata": {},
   "outputs": [],
   "source": [
    "menu_items.index"
   ]
  },
  {
   "cell_type": "markdown",
   "id": "ef54cd99",
   "metadata": {},
   "source": [
    "The index is a unique value used to identify each row in the series. \n",
    "\n",
    "You can use the index to fetch individual items in the series. \n",
    "\n",
    "By default, pandas just uses the row number as the index for the values in each column. "
   ]
  },
  {
   "cell_type": "code",
   "execution_count": null,
   "id": "484f577c",
   "metadata": {},
   "outputs": [],
   "source": [
    "menu_items[2]"
   ]
  },
  {
   "cell_type": "markdown",
   "id": "8706a1c2",
   "metadata": {},
   "source": [
    "In this way, it's a lot like a normal list or numpy array.\n",
    "\n",
    "But, in pandas an index can use unique values of any *hashable type*."
   ]
  },
  {
   "cell_type": "code",
   "execution_count": null,
   "id": "b4f0ea4f",
   "metadata": {},
   "outputs": [],
   "source": [
    "menu_cals = mcd['Calories'] # Let's fetch the `Calories` column\n",
    "menu_cals\n",
    "menu_cals.index # Here's the default index\n",
    "\n",
    "# Instead, let's use each menu item as an index\n",
    "menu_cals_item = pd.Series(list(mcd['Calories']), index = menu_items)\n",
    "menu_cals_item"
   ]
  },
  {
   "cell_type": "markdown",
   "id": "adf736f3",
   "metadata": {},
   "source": [
    "Now, we can access items in the list using this new index!"
   ]
  },
  {
   "cell_type": "code",
   "execution_count": null,
   "id": "cc9cb63a",
   "metadata": {},
   "outputs": [],
   "source": [
    "menu_cals_item['Egg McMuffin']"
   ]
  },
  {
   "cell_type": "markdown",
   "id": "68e9182e",
   "metadata": {},
   "source": [
    "What does it look like when we can look up array items with strings as keys?"
   ]
  },
  {
   "cell_type": "code",
   "execution_count": null,
   "id": "6a25cebc",
   "metadata": {},
   "outputs": [],
   "source": [
    "# We can access `index` and `values` just like dictionary keys and values\n",
    "menu_cals_item.index\n",
    "menu_cals_item.values\n",
    "\n",
    "\n",
    "# This functions just like a dictionary in traditional python\n",
    "menu_cals_lookup = dict()\n",
    "for i in range(len(menu_items)):\n",
    "    menu_cals_lookup[menu_items[i]] = menu_cals[i]\n",
    "\n",
    "menu_cals_lookup\n",
    "menu_cals_lookup.keys()\n",
    "menu_cals_lookup.values()"
   ]
  },
  {
   "cell_type": "markdown",
   "id": "74208eb0",
   "metadata": {},
   "source": [
    "## Take-aways"
   ]
  },
  {
   "cell_type": "markdown",
   "id": "322e75c2",
   "metadata": {},
   "source": [
    "- A pandas `DataFrame` stores tabular data in rows and columns\n",
    "- Each column is a pandas `Series` object\n",
    "- A pandas `Series` is similar to a numpy array (fixed `dtype`) but has an *index* that allows for rapid and flexible data access"
   ]
  },
  {
   "cell_type": "markdown",
   "id": "ca3d4398",
   "metadata": {},
   "source": [
    "## Accessing data in a data frame"
   ]
  },
  {
   "cell_type": "markdown",
   "id": "3cafa1de",
   "metadata": {},
   "source": [
    "In the code above, we used bracket notation `dataframe['col']` to access column data.\n",
    "\n",
    "There are a number of different ways to access columns in a data frame.\n",
    "\n",
    "Any of these are fine, best to pick one and stick with it (and know the others exist)."
   ]
  },
  {
   "cell_type": "code",
   "execution_count": null,
   "id": "0d120931",
   "metadata": {},
   "outputs": [],
   "source": [
    "# Accessing individual columns\n",
    "menu_items = mcd['Item']\n",
    "menu_items = mcd.Item\n",
    "menu_items = mcd.loc[:, 'Item']\n",
    "menu_items = mcd.iloc[:,1]\n",
    "menu_items"
   ]
  },
  {
   "cell_type": "markdown",
   "id": "f7b50bb6",
   "metadata": {},
   "source": [
    "Many of these let us access multiple columns at once:"
   ]
  },
  {
   "cell_type": "code",
   "execution_count": null,
   "id": "8762a71d",
   "metadata": {},
   "outputs": [],
   "source": [
    "menu_subset = mcd[['Item', 'Category', 'Calories']] # Access specific columns by name\n",
    "menu_subset = mcd.loc[:, 'Category':'Calories'] # Access a range of columns by name\n",
    "menu_subset = mcd.iloc[:,1:4] # Access a range of columns by index\n",
    "menu_subset = mcd.iloc[:,[1, 2, 5]] # Access specific columns by index\n",
    "menu_subset"
   ]
  }
 ],
 "metadata": {
  "interpreter": {
   "hash": "e774977668b7c0ae8309835a5187aa7fbf7669e7d0bb59755bc63e573643edcd"
  },
  "kernelspec": {
   "display_name": "Python 3 (clean)",
   "language": "python",
   "name": "python3"
  },
  "language_info": {
   "codemirror_mode": {
    "name": "ipython",
    "version": 3
   },
   "file_extension": ".py",
   "mimetype": "text/x-python",
   "name": "python",
   "nbconvert_exporter": "python",
   "pygments_lexer": "ipython3",
   "version": "3.7.4"
  }
 },
 "nbformat": 4,
 "nbformat_minor": 5
}
