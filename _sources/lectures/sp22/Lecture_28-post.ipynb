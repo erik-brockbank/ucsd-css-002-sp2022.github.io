{
 "cells": [
  {
   "cell_type": "markdown",
   "id": "62c7e6f5",
   "metadata": {},
   "source": [
    "# Lecture 28 (6/3/2022)"
   ]
  },
  {
   "cell_type": "markdown",
   "id": "a1ea5e3d",
   "metadata": {},
   "source": [
    "**Announcements**\n",
    "- Any late code assignments (labs, problem sets) due by 11:59pm Monday, 6/6 for up to 50% credit\n",
    "- Final projects due 11:59pm Wednesday, 6/8\n",
    "    - Turn in (by email) *one* jupyter notebook with names of all project members\n",
    "    - Please also include your data file or an external link to it so we can run your code!"
   ]
  },
  {
   "cell_type": "markdown",
   "id": "cac90fc6",
   "metadata": {},
   "source": [
    "**Today's agenda:**\n",
    "- Course evals\n",
    "- Special topic: web scraping and APIs\n"
   ]
  },
  {
   "cell_type": "code",
   "execution_count": null,
   "id": "aa6ebecc",
   "metadata": {},
   "outputs": [],
   "source": [
    "import numpy as np\n",
    "import pandas as pd\n",
    "import matplotlib.pyplot as plt\n",
    "import seaborn as sns"
   ]
  },
  {
   "cell_type": "markdown",
   "id": "6b47ffc0",
   "metadata": {},
   "source": [
    "# Course evals\n",
    "\n",
    "Before we jump into content for today, **I want to set aside 5 mins. for folks to complete course evaluations.**\n",
    "\n",
    "Here's why you should take the time to fill them out:\n",
    "- I'm new to teaching so I take them seriously! Because I'm still figuring out how I like to teach, it's important to me that I develop good habits, and your feedback helps.\n",
    "- This content matters and figuring out how to teach it well matters. If you have thoughts about what would have made it better, these aren't just things I can incorporate into my own teaching, they're things I can share with other teachers (including future CSS I and II professors). \n",
    "- Positive evaluations are an important part of evaluating teaching and academic job candidates. If there are things you like about the course, your feedback can help me and Purva continue to do this.\n",
    "- Purva and I have both put a ton of hours into this course (as have many of you!). *Sharing what worked and what didn't is an important part of evaluating **anything** you've put your valuable time and energy into!*\n",
    "\n",
    "So, I'm setting aside 5 mins. now for folks to open up their evals and at least get them started.\n",
    "\n",
    "Head to: https://academicaffairs.ucsd.edu/Modules/Evals\n",
    "\n",
    "Evaluations are **due by 11:59pm on Monday, June 6th.**"
   ]
  },
  {
   "cell_type": "markdown",
   "id": "c8e3d210",
   "metadata": {},
   "source": [
    "# Data Sources in 2022"
   ]
  },
  {
   "cell_type": "markdown",
   "id": "7eca97be",
   "metadata": {},
   "source": [
    "**How to access data for building and testing models:**\n",
    "1. Use available datasets\n",
    "    - [Kaggle](https://www.kaggle.com/datasets)\n",
    "    - [Our world in data](https://ourworldindata.org/)\n",
    "    - Inter-university Consortium for Political and Social Research [ICPSR](https://www.icpsr.umich.edu/web/pages/)\n",
    "    - The list goes on...\n",
    "2. Collect your own data from human subjects\n",
    "    - On twitter\n",
    "    - On other social media ([tiktok](https://www.theverge.com/2021/9/24/22688278/tiktok-science-study-survey-prolific)??)\n",
    "    - In the lab\n",
    "3. Gather data from the web\n",
    "    - Web scraping\n",
    "    - APIs\n",
    "\n",
    "In this course, we've mostly looked at pre-generated datasets like the ones in category 1 above (and in your final projects, you've encountered some of the challenges with this). \n",
    "\n",
    "Collecting behavioral data online comes with a number of challenges of its own; you could teach a whole course on methodologies for this. \n",
    "\n",
    "Today, we'll talk a bit about another option, which is gathering data using web scraping and APIs."
   ]
  },
  {
   "cell_type": "markdown",
   "id": "0d3bd71a",
   "metadata": {},
   "source": [
    "# Web Scraping\n",
    "\n",
    "**Web scraping is extracting data that's available on publicly accessible websites to answer a research question or create a useful dataset**. \n",
    "\n",
    "Usually, it involves *writing code* to:\n",
    "1. Send web requests to (often many) web pages to retrieve their HTML content\n",
    "2. Processing or analyzing their HTML content to extract the desired data\n",
    "\n",
    "\n",
    "**Web scraping presents a unique opportunity to harvest large batches of data from the internet.** Large text corpora from recipe sites or message boards, product information from Amazon or Walmart, etc. Cool!\n",
    "\n",
    "\n",
    "**However, in my opinion (others may disagree here), web scraping is a bit of a dying art.** *Why?*\n",
    "\n",
    "- First, modern web pages load a lot of content *dynamically*, so your may need more advanced web scraping techniques to extract all the content you see when you load the page in a browser.\n",
    "- Second, many modern web pages, especially those that people historically scraped for information, have developed tools to discourage web scraping. Why? Because that's their product! Try making a script to scrape product information from Amazon or flight information from United and you'll quickly find your requests failing...\n",
    "- Third, many web pages have developed sophisticated **APIs** for fetching information from them. On the one hand, this gives you a much more structured and reliable response than merely web scraping. On the other hand, it also gives the web pages themselves much more control over what information you can request. \n",
    "\n",
    "\n",
    "This doesn't mean it's useless! There are still lots of potentially great applications of it. To summarize: **it's a good skill to have in your data modeling toolbox, but it's also important to be aware of the limitations.**\n",
    "\n",
    "With that, let's take a quick peek! "
   ]
  },
  {
   "cell_type": "markdown",
   "id": "2911bafa",
   "metadata": {},
   "source": [
    "## Libraries\n",
    "\n",
    "We're going to use two libraries below. \n",
    "\n",
    "The generic python `requests` library allows you to *issue http requests* to a given URL. Briefly, this involves sending a request to the server that stores the web content for a particular URL and asking it (in a very structured way) for that content. It's what your browser does behind the scenes to *fetch a website's content* anytime you visit a webpage.\n",
    "\n",
    "Next, we're going to use a popular python library called `BeautifulSoup` ([home page](https://www.crummy.com/software/BeautifulSoup/)) that was made specifically to support *processing html content* when web scraping. "
   ]
  },
  {
   "cell_type": "code",
   "execution_count": null,
   "id": "62327e67",
   "metadata": {},
   "outputs": [],
   "source": [
    "import requests\n",
    "from bs4 import BeautifulSoup # now we get beautiful soup"
   ]
  },
  {
   "cell_type": "markdown",
   "id": "5f6083e3",
   "metadata": {},
   "source": [
    "## Web scraping example\n",
    "\n",
    "We're going to go fetch the wikipedia page for UCSD. You can check it out yourself [here](https://en.wikipedia.org/wiki/University_of_California,_San_Diego). \n",
    "\n",
    "Below we start by using the `requests` library to go fetch the raw HTML content at the wikipedia link above. "
   ]
  },
  {
   "cell_type": "code",
   "execution_count": null,
   "id": "5c5f1cb1",
   "metadata": {},
   "outputs": [],
   "source": [
    "url = 'https://en.wikipedia.org/wiki/University_of_California,_San_Diego'\n",
    "response = requests.get(url)"
   ]
  },
  {
   "cell_type": "markdown",
   "id": "7e76bd81",
   "metadata": {},
   "source": [
    "What information does this give us?\n",
    "- `status_code` tells us if our request was successful\n",
    "- `content` gives us the actual content. But it's not in a useful format right now. "
   ]
  },
  {
   "cell_type": "code",
   "execution_count": null,
   "id": "f89816cf",
   "metadata": {},
   "outputs": [],
   "source": [
    "response\n",
    "response.status_code\n",
    "type(response.content) # this doesn't help us so much..."
   ]
  },
  {
   "cell_type": "markdown",
   "id": "6eb9cfc3",
   "metadata": {},
   "source": [
    "This is where BeautifulSoup comes in! \n",
    "\n",
    "BeautifulSoup gives us a bunch of functions for turning this response content *byte string* into something we can extract information from.\n",
    "\n",
    "Step 1 is to convert it to a BeautifulSoup class. This is an object that stores the information in the HTML page in a very *structured* way, allowing us to pull all kinds of information out of it."
   ]
  },
  {
   "cell_type": "code",
   "execution_count": null,
   "id": "50a2f07c",
   "metadata": {},
   "outputs": [],
   "source": [
    "soup = BeautifulSoup(response.content, 'html.parser')\n",
    "# soup.prettify()"
   ]
  },
  {
   "cell_type": "markdown",
   "id": "8bc867d7",
   "metadata": {},
   "source": [
    "Now, we can use available functions exported by the BeautifulSoup class to extract information from the HTML. \n",
    "\n",
    "We're not going to go through everything here, just a teaser. You can check out the full set of functions on their documentation page [here](https://www.crummy.com/software/BeautifulSoup/bs4/doc/). "
   ]
  },
  {
   "cell_type": "code",
   "execution_count": null,
   "id": "c3800bdb",
   "metadata": {},
   "outputs": [],
   "source": [
    "# use `find_all` to get all instances of an HTML tag (div, p, etc.)\n",
    "\n",
    "divs = soup.find_all('div')\n",
    "len(divs)\n",
    "\n",
    "ps = soup.find_all('p')\n",
    "len(ps)\n",
    "\n",
    "spans = soup.find_all('span')\n",
    "len(spans) # yikes...\n",
    "\n",
    "# divs"
   ]
  },
  {
   "cell_type": "markdown",
   "id": "b7b7e4e4",
   "metadata": {},
   "source": [
    "With this, we can start to dissect what's on the page using functions like `get` and attributes of the items themselves."
   ]
  },
  {
   "cell_type": "code",
   "execution_count": null,
   "id": "ba13c1a1",
   "metadata": {},
   "outputs": [],
   "source": [
    "divs[0] # boring...\n",
    "divs[1] # boring\n",
    "# divs[2] # ah-ha!"
   ]
  },
  {
   "cell_type": "code",
   "execution_count": null,
   "id": "3ccc216d",
   "metadata": {},
   "outputs": [],
   "source": [
    "# Use the `get` function to get attributes of the HTML tag\n",
    "divs[2].get('class')\n",
    "\n",
    "# Use the `text` attribute to get the actual content inside the tag\n",
    "# divs[2].text"
   ]
  },
  {
   "cell_type": "markdown",
   "id": "a7effee3",
   "metadata": {},
   "source": [
    "### \"Bottom-up\" web scraping\n",
    "\n",
    "Note, this has some powerful tools for \"bottom up\" web processing. In other words, extracting content from the page without any knowledge of how the page is structured (that wording is something I just called it, not a technical term for this!). \n",
    "\n",
    "For example, without knowing anything about the structure of the page, we can find out all the other wikipedia pages it links to:"
   ]
  },
  {
   "cell_type": "code",
   "execution_count": null,
   "id": "0e620636",
   "metadata": {},
   "outputs": [],
   "source": [
    "links = soup.find_all('a')\n",
    "len(links)\n",
    "\n",
    "# Let's see an example\n",
    "links[3]\n",
    "links[3].get('href')\n",
    "links[3].text\n",
    "\n",
    "# Let's use this to go figure out all the different external links on this page\n",
    "link_lookup = {}\n",
    "for elem in links:\n",
    "    if elem.text != '' and elem.get('href') is not None:\n",
    "        link_lookup[elem.text] = elem.get('href')\n",
    "\n",
    "# link_lookup        "
   ]
  },
  {
   "cell_type": "markdown",
   "id": "27db94a8",
   "metadata": {},
   "source": [
    "The above is a bit clunky, but with a little additional processing we could figure out all the other wikipedia pages that our page connects to, or all the external web links that it references. \n",
    "\n",
    "**However, when web scraping, it's often more useful to know something about the structure of the page you're scraping and how to find the content you're looking for.**\n",
    "\n",
    "This requires more manual work with the page itself. \n"
   ]
  },
  {
   "cell_type": "markdown",
   "id": "85d0caa1",
   "metadata": {},
   "source": [
    "### \"Top down\" web scraping\n",
    "\n",
    "What I'm calling \"top down\" web scraping (again, there may be more technical verbage for this) involves looking at the structure of the page ahead of time to allow for a more directed search for the information you want to extract.\n",
    "\n",
    "Let's take a look at the UCSD [wikipedia page](https://en.wikipedia.org/wiki/University_of_California,_San_Diego) content *in the browser* and try to extract useful information that way. \n",
    "\n",
    "**Here, we'll try to extract the *number of students currently enrolled* using a more careful, directed search** informed by how the page is actually set up rather than just searching blindly.\n",
    "\n",
    "NOTE: this requires a more advanced understanding of HTML code. If HTML is new to you, this should still be fairly understandable. "
   ]
  },
  {
   "cell_type": "code",
   "execution_count": null,
   "id": "47b97eea",
   "metadata": {},
   "outputs": [],
   "source": [
    "tables = soup.find_all('table')\n",
    "len(tables) # what the heck...\n",
    "\n",
    "# Let's get more specific\n",
    "info_table = soup.find_all(attrs = {'class': 'infobox', 'class': 'vcard'})\n",
    "len(info_table) # that's better\n",
    "info_table = info_table[0]\n",
    "info_table\n",
    "\n",
    "\n",
    "# Now, let's go through the rows to extract the info we want\n",
    "rows = info_table.find_all('tr')\n",
    "len(rows)\n",
    "\n",
    "for elem in rows:\n",
    "    row_key = elem.find_all('th')\n",
    "    if len(row_key) > 0 and row_key[0].text == \"Students\":\n",
    "        students = elem.find_all('td')[0].text\n",
    "\n",
    "        \n",
    "print(students)\n"
   ]
  },
  {
   "cell_type": "markdown",
   "id": "b636b5cc",
   "metadata": {},
   "source": [
    "That worked! \n",
    "\n",
    "Now, we can leverage the consistent structure of wikipedia pages to try something more bold...\n",
    "\n",
    "*Remember the lecture at the beginning of this quarter where we did all kinds of python operations with a list of students across the UCs?*\n",
    "\n",
    "For class, I typed that in manually. Let's go fetch it automatically! "
   ]
  },
  {
   "cell_type": "code",
   "execution_count": null,
   "id": "a8bfc9b7",
   "metadata": {},
   "outputs": [],
   "source": [
    "def process_pages(url):\n",
    "    response = requests.get(url)\n",
    "    soup = BeautifulSoup(response.content, 'html.parser')\n",
    "    info_table = soup.find_all(attrs = {'class': 'infobox', 'class': 'vcard'})\n",
    "    if len(info_table) > 0: \n",
    "        info_table = info_table[0]\n",
    "        rows = info_table.find_all('tr')\n",
    "        for row in rows:\n",
    "            row_key = row.find_all('th')\n",
    "            if len(row_key) > 0 and row_key[0].text == \"Students\":\n",
    "                students = row.find_all('td')[0].text\n",
    "                return students"
   ]
  },
  {
   "cell_type": "code",
   "execution_count": null,
   "id": "8398c230",
   "metadata": {},
   "outputs": [],
   "source": [
    "urls = {\n",
    "    'San Diego': 'https://en.wikipedia.org/wiki/University_of_California,_San_Diego',\n",
    "    'Berkeley': 'https://en.wikipedia.org/wiki/University_of_California,_Berkeley',\n",
    "    'Davis': 'https://en.wikipedia.org/wiki/University_of_California,_Davis',\n",
    "    'Irvine': 'https://en.wikipedia.org/wiki/University_of_California,_Irvine',\n",
    "    'Los Angeles': 'https://en.wikipedia.org/wiki/University_of_California,_Los_Angeles',\n",
    "    'Santa Barbara': 'https://en.wikipedia.org/wiki/University_of_California,_Santa_Barbara',\n",
    "    'Santa Cruz': 'https://en.wikipedia.org/wiki/University_of_California,_Santa_Cruz',\n",
    "    'Merced': 'https://en.wikipedia.org/wiki/University_of_California,_Merced',\n",
    "    'Riverside': 'https://en.wikipedia.org/wiki/University_of_California,_Riverside',\n",
    "    'San Francisco': 'https://en.wikipedia.org/wiki/University_of_California,_San_Francisco'\n",
    "}\n",
    "\n",
    "student_lookup = {}\n",
    "\n",
    "for campus, url in urls.items():\n",
    "    student_lookup[campus] = process_pages(url)\n",
    "\n",
    "student_lookup"
   ]
  },
  {
   "cell_type": "markdown",
   "id": "e5e650b6",
   "metadata": {},
   "source": [
    "That's it on web scraping! \n",
    "\n",
    "If you have some comfort with HTML and how web pages are organized, there's a lot more you can do here. \n",
    "\n",
    "But, as you can see, it's pretty tedious and how far you can go with this depends in part on:\n",
    "- How consistently structured the pages you're scraping are\n",
    "- Whether they have any kind of advanced rate limiting to prevent you from systematically requesting all their content\n",
    "\n",
    "Many modern web pages will instead surface ***APIs*** that you can use to query information from the site. "
   ]
  },
  {
   "cell_type": "markdown",
   "id": "b24b94b7",
   "metadata": {},
   "source": [
    "***"
   ]
  },
  {
   "cell_type": "markdown",
   "id": "ef082c93",
   "metadata": {},
   "source": [
    "# APIs\n",
    "\n",
    "*What is an API??*\n",
    "\n",
    "API stands for *Application Programming Interface*. What it means is that it's a **structured way to request information from (and sometimes pass information to) a website**. \n",
    "\n",
    "For purposes of data analysis, it's a lot like web scraping but with more structure. Like web scraping, it's an exchange that happens between code you execute on your own computer and a distant web server with information you want to obtain.\n",
    "\n",
    "Specifically:\n",
    "- The *requester* (you) sends a specific *query* that's formatted to indicate what information they want\n",
    "- The *receiver* (a sever) sends a *response* in a format that's easier for the requester to parse \n",
    "\n",
    "APIs are defined by **endpoints**, which are just URLs that have been configured for people to request certain kinds of information from.\n",
    "\n",
    "There's a lot more to say about APIs and how they work, but this is enough to get us started. "
   ]
  },
  {
   "cell_type": "markdown",
   "id": "46b4e8a2",
   "metadata": {},
   "source": [
    "## API Examples\n",
    "\n",
    "Let's take a look at some examples! \n",
    "- Twitter API [homepage](https://developer.twitter.com/en/docs) (the requests we can make are [here](https://developer.twitter.com/en/docs/twitter-api/tweets/lookup/introduction))\n",
    "- Spotify API [homepage](https://developer.spotify.com/documentation/) (example requests we can make are [here](https://developer.spotify.com/documentation/web-api/reference/#/))\n",
    "- Facebook API [homepage](https://developers.facebook.com/?no_redirect=1) (facebook graph API is [here](https://developers.facebook.com/docs/graph-api/) and instagram graph API is [here](https://developers.facebook.com/docs/instagram-api/))\n",
    "- New York Times API [homepage](https://developer.nytimes.com/apis) (great for fetching articles and text!)\n",
    "- Google maps API [homepage](https://developers.google.com/maps) (you can use this for lots of online mapping operations. Just ask uber or lyft!)\n",
    "- Giphy API [homepage](https://developers.giphy.com/)\n",
    "\n",
    "...and many many more!\n",
    "\n"
   ]
  },
  {
   "cell_type": "markdown",
   "id": "a0c67a7f",
   "metadata": {},
   "source": [
    "## What you need to make API \"requests\"\n",
    "\n",
    "1. For almost all publicly facing APIs like the ones above, your first step is to create a \"developer account\" so the API can track the requests you're making.\n",
    "2. Next, you create an \"app\" on your developer account. When you do this, the API will give you a set of \"keys\" or \"tokens\" that you can use to make requests against the API. This is confusing the first time around, but becomes a lot of copy-paste once you've done it.\n",
    "\n",
    "For most APIs, you can view your apps and copy or regenerate keys on a page like this one:\n",
    "\n",
    "![twitter_dev](img/twitter_dev.png)\n",
    "\n",
    "\n",
    "On this page, the \"bearer token\" I created is what I use to make requests to the twitter API.\n",
    "\n",
    "In the code below, I'm reading the \"bearer token\" from a file in the same directory as my code. \n",
    "\n",
    "It's important that you **DO NOT put this information directly in your code**, or even in the github repositories or other public places where you store your code. It's like a password."
   ]
  },
  {
   "cell_type": "markdown",
   "id": "ff6a6b5e",
   "metadata": {},
   "source": [
    "## What's in an API request?\n",
    "\n",
    "1. A URL that says what information you want from the API\n",
    "    - Note: this is where all the flexibility of APIs comes in. You can specify lots of different information using URL parameters\n",
    "2. Some form of authentication key or token that you pass along to the request\n",
    "    - This is what the API uses to ensure that you have a right to request the information you're asking for\n",
    "\n",
    "\n",
    "## What gets *returned* by an API request?\n",
    "\n",
    "The API request returns (at a minimum):\n",
    "1. A *status code* indicating whether your request was successful\n",
    "2. A structured response with the information you requested\n",
    "    - The first step is usually to convert this to *JSON* so you can parse the response in your code\n",
    "\n",
    "Let's take a look!"
   ]
  },
  {
   "cell_type": "code",
   "execution_count": null,
   "id": "f0930587",
   "metadata": {},
   "outputs": [],
   "source": [
    "import json \n",
    "\n",
    "# The API request URL: this says what information I want\n",
    "url = \"https://api.twitter.com/2/users/by?usernames=ErikBrockbank\"\n",
    "\n",
    "# The bearer token I stored separately in a text file\n",
    "bearer_token = open(\"twitter_bearer_token.txt\", \"r\").readline()\n",
    "\n",
    "\n",
    "# A function to formulate an \"authentication\" object with my bearer token\n",
    "# NOTE function was copied directly from resources here, which the twitter api links to as well:\n",
    "# https://github.com/twitterdev/Twitter-API-v2-sample-code/blob/main/Tweet-Lookup/get_tweets_with_bearer_token.py\n",
    "def bearer_oauth(r):\n",
    "    r.headers[\"Authorization\"] = f\"Bearer {bearer_token}\"\n",
    "    return r\n",
    "\n",
    "\n",
    "# Now, I make a HTTP request just like I did in the web scraping example,\n",
    "# but this time to the API url and with my authentication information included\n",
    "response = requests.request(\"GET\", url, auth=bearer_oauth)\n",
    "\n",
    "# # Here's what I get back\n",
    "print(response.status_code)\n",
    "print(response.json())\n",
    "\n",
    "\n",
    "# I can use this to extract my own twitter user ID (this was the whole point of this request...)\n",
    "userid = response.json()['data'][0]['id']\n"
   ]
  },
  {
   "cell_type": "markdown",
   "id": "6482142c",
   "metadata": {},
   "source": [
    "Neat! But this request just gave me my user ID. \n",
    "\n",
    "That's a bit boring, but now I can use that to request a whole batch of tweets from my own account using [this](https://developer.twitter.com/en/docs/twitter-api/tweets/timelines/api-reference/get-users-id-tweets) API \"endpoint\":"
   ]
  },
  {
   "cell_type": "code",
   "execution_count": null,
   "id": "8fde7819",
   "metadata": {},
   "outputs": [],
   "source": [
    "# Notice how this URL is different from the one above. I'm requesting from a new endpoint\n",
    "url=\"https://api.twitter.com/2/users/{}/tweets\".format(userid)\n",
    "\n",
    "# Now I formulate the request hte same way I did above\n",
    "response = requests.request(\"GET\", url, auth=bearer_oauth)\n",
    "\n",
    "# And presto! Look at this big batch of data!\n",
    "print(response.status_code)\n",
    "response_json = response.json()\n",
    "response_json['data']"
   ]
  },
  {
   "cell_type": "markdown",
   "id": "5e751887",
   "metadata": {},
   "source": [
    "Now, just for demonstration, I'll show how you can get a whole bunch of additional information about a particular tweet by supplying particular \"fields\" in the API request.\n",
    "\n",
    "I'm following the example [here](https://developer.twitter.com/en/docs/labs/tweets-and-users/quick-start/get-tweets)."
   ]
  },
  {
   "cell_type": "code",
   "execution_count": null,
   "id": "760f79f7",
   "metadata": {},
   "outputs": [],
   "source": [
    "ids = \"ids=1530327762803625984\" # specific tweet ID\n",
    "\n",
    "# I want all of the \"fields\" blow as part of the response\n",
    "fields = \"tweet.fields=created_at,author_id,lang,source,public_metrics,context_annotations,entities\"\n",
    "url = \"https://api.twitter.com/2/tweets?{}&{}\".format(ids, fields)\n",
    "\n",
    "# Now, I formulate my request with the more complicated URL above\n",
    "response = requests.request(\"GET\", url, auth=bearer_oauth)\n",
    "print(response.status_code)\n",
    "print(response.json())"
   ]
  },
  {
   "cell_type": "markdown",
   "id": "c206ecff",
   "metadata": {},
   "source": [
    "# Your turn!\n",
    "\n",
    "That's all we're going to cover on APIs! \n",
    "\n",
    "There's a lot more to say here but hopefully this gives you the ingredients to get started yourself.\n",
    "\n",
    "The good news is, companies *want* people using their APIs, so there are a lot of resources available to help you get started. \n",
    "\n",
    "If we have time left over, you can try creating a developer account with one of these APIs and making a request of your own."
   ]
  },
  {
   "cell_type": "code",
   "execution_count": null,
   "id": "aa1c4dd8",
   "metadata": {},
   "outputs": [],
   "source": [
    "### YOUR CODE HERE\n",
    "\n",
    "\n",
    "\n"
   ]
  },
  {
   "cell_type": "markdown",
   "id": "f97a8102",
   "metadata": {},
   "source": [
    "# Other CSS Resources\n",
    "\n",
    "*Keep educating yourself!*\n",
    "\n",
    "**Summer Institute for Computational Social Sciences** (SICSS)\n",
    "- Website [here](https://sicss.io/overview) with tons of video content and tutorials\n"
   ]
  }
 ],
 "metadata": {
  "interpreter": {
   "hash": "e774977668b7c0ae8309835a5187aa7fbf7669e7d0bb59755bc63e573643edcd"
  },
  "kernelspec": {
   "display_name": "Python 3.7.4 64-bit",
   "language": "python",
   "name": "python3"
  },
  "language_info": {
   "codemirror_mode": {
    "name": "ipython",
    "version": 3
   },
   "file_extension": ".py",
   "mimetype": "text/x-python",
   "name": "python",
   "nbconvert_exporter": "python",
   "pygments_lexer": "ipython3",
   "version": "3.7.4"
  }
 },
 "nbformat": 4,
 "nbformat_minor": 5
}
