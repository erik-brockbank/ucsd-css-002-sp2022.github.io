{
 "cells": [
  {
   "cell_type": "markdown",
   "id": "62c7e6f5",
   "metadata": {},
   "source": [
    "# Lecture 11 (4/20/2022)"
   ]
  },
  {
   "cell_type": "markdown",
   "id": "a1ea5e3d",
   "metadata": {},
   "source": [
    "**Announcements**\n",
    "- Problem set 3 coming out today, will be due *next Wednesday* 4/27\n"
   ]
  },
  {
   "cell_type": "markdown",
   "id": "cac90fc6",
   "metadata": {},
   "source": [
    "*Last time we covered:*\n",
    "- Data cleaning with python (duplicates, missing data, outliers)\n",
    "\n",
    "**Today's agenda:**\n",
    "- *Wide* versus *long* data\n"
   ]
  },
  {
   "cell_type": "code",
   "execution_count": null,
   "id": "aa6ebecc",
   "metadata": {},
   "outputs": [],
   "source": [
    "import numpy as np\n",
    "import pandas as pd\n",
    "import matplotlib.pyplot as plt\n",
    "import seaborn as sns"
   ]
  },
  {
   "cell_type": "markdown",
   "id": "c8e3d210",
   "metadata": {},
   "source": [
    "# Wide and Long Data"
   ]
  },
  {
   "cell_type": "markdown",
   "id": "c1420786",
   "metadata": {},
   "source": [
    "> \"Like families, tidy datasets are all alike but every messy dataset is messy in its own way.\"\n",
    "~ Hadley Wickham"
   ]
  },
  {
   "cell_type": "markdown",
   "id": "ff7d9c4d",
   "metadata": {},
   "source": [
    "## What is *wide* data?\n",
    "\n",
    "..."
   ]
  },
  {
   "cell_type": "markdown",
   "id": "3c74508d",
   "metadata": {},
   "source": [
    "When we interact with data that's made to be read by people, it's most often in *wide* format. \n",
    "\n",
    "The definition of wide data can be a little hard to pin down but one rule of thumb is that *wide* data spreads multiple observations or variables across columns in a given row.\n",
    "\n",
    "| y | x1 | x2 | x3 |\n",
    "| -- | -- | -- | -- |\n",
    "| 1 | a | b | c |\n",
    "| 2 | d | e | f |\n",
    "| ... | ... | ... | ... |"
   ]
  },
  {
   "cell_type": "markdown",
   "id": "e43bce1a",
   "metadata": {},
   "source": [
    "Here's some data I made up about average temperatures in five US cities over three consecutive years:"
   ]
  },
  {
   "cell_type": "code",
   "execution_count": null,
   "id": "1dafd813",
   "metadata": {},
   "outputs": [],
   "source": [
    "cities = pd.DataFrame({\n",
    "    \"City\": [\"San Diego\", \"Denver\", \"New York City\", \"Los Angeles\", \"San Francisco\"],\n",
    "    \"2010\": [75, 60, 55, 65, 70],\n",
    "    \"2011\": [77, 63, 58, 67, 72],\n",
    "    \"2012\": [77, 62, 56, 67, 71]\n",
    "})\n",
    "\n",
    "cities"
   ]
  },
  {
   "cell_type": "markdown",
   "id": "48385504",
   "metadata": {},
   "source": [
    "This data can also be presented with *year* as our variable of interest and each city as a column:"
   ]
  },
  {
   "cell_type": "code",
   "execution_count": null,
   "id": "02b55c7c",
   "metadata": {},
   "outputs": [],
   "source": [
    "years = pd.DataFrame({\n",
    "    \"Year\": [2010, 2011, 2012],\n",
    "    \"San Diego\": [75, 77, 77],\n",
    "    \"Denver\": [60, 63, 62],\n",
    "    \"New York City\": [55, 58, 56],\n",
    "    \"Los Angeles\": [65, 67, 67],\n",
    "    \"San Francisco\": [70, 72, 71]\n",
    "})\n",
    "\n",
    "years"
   ]
  },
  {
   "cell_type": "markdown",
   "id": "75545678",
   "metadata": {},
   "source": [
    "Both of these are pretty easy to read and pretty intuitive. \n",
    "\n",
    "**What kind of questions can we answer most easily with each dataframe?**\n",
    "\n",
    "`cities`: \n",
    "    \n",
    "`years`: \n",
    "\n"
   ]
  },
  {
   "cell_type": "markdown",
   "id": "8a911d48",
   "metadata": {},
   "source": [
    "Note: this is easiest to illustrate with *time sequence* data, but most data can be toggled around this way to some degree:"
   ]
  },
  {
   "cell_type": "code",
   "execution_count": null,
   "id": "0d817d49",
   "metadata": {},
   "outputs": [],
   "source": [
    "students = pd.DataFrame({\n",
    "    \"Student\": [\"Erik\", \"Amanda\", \"Maia\"],\n",
    "    \"Math\": [90, 95, 80],\n",
    "    \"Writing\": [90, 85, 95]\n",
    "})\n",
    "\n",
    "students"
   ]
  },
  {
   "cell_type": "code",
   "execution_count": null,
   "id": "919553b9",
   "metadata": {},
   "outputs": [],
   "source": [
    "classes = pd.DataFrame({\n",
    "    \"Subject\": [\"Math\", \"Writing\"],\n",
    "    \"Erik\": [80, 95],\n",
    "    \"Amanda\": [95, 85],\n",
    "    \"Maia\": [80, 95]\n",
    "})\n",
    "\n",
    "classes"
   ]
  },
  {
   "cell_type": "markdown",
   "id": "faeb6018",
   "metadata": {},
   "source": [
    "The first table makes it easier to ask questions like \"which student performed best?\", while the second is easier for asking questions like \"are these students better at math or writing?\""
   ]
  },
  {
   "cell_type": "markdown",
   "id": "88aef7ab",
   "metadata": {},
   "source": [
    "**Self-quiz:** do the above examples give you an okay intuition for what *wide* data looks like?"
   ]
  },
  {
   "cell_type": "markdown",
   "id": "11e7448e",
   "metadata": {},
   "source": [
    "## So what's the problem?"
   ]
  },
  {
   "cell_type": "markdown",
   "id": "ff79c7f8",
   "metadata": {},
   "source": [
    "1. First, the exercise above suggests that for different kinds of questions, we need to format our data in different ways. That seems onerous...\n",
    "\n",
    "2. Second, even though tables like this make these data easy to read as humans, answering questions about the data when it's formatted like this can be difficult and inefficient. "
   ]
  },
  {
   "cell_type": "markdown",
   "id": "36b8c52e",
   "metadata": {},
   "source": [
    "*Using the data below, how do we figure out which city was hottest on average (using our python skills)?*"
   ]
  },
  {
   "cell_type": "code",
   "execution_count": null,
   "id": "3314ba44",
   "metadata": {},
   "outputs": [],
   "source": [
    "cities"
   ]
  },
  {
   "cell_type": "code",
   "execution_count": null,
   "id": "606fc259",
   "metadata": {},
   "outputs": [],
   "source": [
    "# CODE HERE\n",
    "\n"
   ]
  },
  {
   "cell_type": "markdown",
   "id": "b190be2d",
   "metadata": {},
   "source": [
    "Notice that we have to do this by calculating an average row by row. Seems inefficient.\n",
    "\n",
    "Can we do any better with our `years` dataframe?"
   ]
  },
  {
   "cell_type": "code",
   "execution_count": null,
   "id": "ad6c62e5",
   "metadata": {},
   "outputs": [],
   "source": [
    "years"
   ]
  },
  {
   "cell_type": "code",
   "execution_count": null,
   "id": "7ecb5317",
   "metadata": {},
   "outputs": [],
   "source": [
    "# CODE HERE\n",
    "\n"
   ]
  },
  {
   "cell_type": "markdown",
   "id": "e84c2901",
   "metadata": {},
   "source": [
    "*Using the data below, how do we decide which year had the highest recorded temperature across these cities?*"
   ]
  },
  {
   "cell_type": "code",
   "execution_count": null,
   "id": "7897e0d2",
   "metadata": {},
   "outputs": [],
   "source": [
    "years"
   ]
  },
  {
   "cell_type": "code",
   "execution_count": null,
   "id": "946efe9c",
   "metadata": {},
   "outputs": [],
   "source": [
    "# CODE HERE\n",
    "\n"
   ]
  },
  {
   "cell_type": "markdown",
   "id": "d6ee3772",
   "metadata": {},
   "source": [
    "Yikes 😬"
   ]
  },
  {
   "cell_type": "markdown",
   "id": "18c8dc0c",
   "metadata": {},
   "source": [
    "**Self-quiz:** is it clear how data that's easy to read in wide format can be kind of tricky to interact with when trying to analyze it in python?"
   ]
  },
  {
   "cell_type": "markdown",
   "id": "60ffce66",
   "metadata": {},
   "source": [
    "## What do we do about this? Answer: tidy (long) data!"
   ]
  },
  {
   "cell_type": "markdown",
   "id": "31618af4",
   "metadata": {},
   "source": [
    "With *long* or *tidy* data, every observation gets its own row, with columns indicating the variable values that correpond to that observation.\n",
    "\n",
    "The *wide* table at the beginning of the previous section looked like this:\n",
    "\n",
    "| y | x1 | x2 | x3 |\n",
    "| -- | -- | -- | -- |\n",
    "| 1 | a | b | c |\n",
    "| 2 | d | e | f |\n",
    "| ... | ... | ... | ... |\n",
    "\n",
    "Compare the table above to this one:\n",
    "\n",
    "| y | variable | value |\n",
    "| -- | -- | -- |\n",
    "| 1 | x1 | a |\n",
    "| 1 | x2 | b |\n",
    "| 1 | x3 | c | \n",
    "| 2 | x1 | d | \n",
    "| 2 | x2 | e | \n",
    "| 2 | x3 | f | \n",
    "| ... | ... | ... |"
   ]
  },
  {
   "cell_type": "markdown",
   "id": "66e71c7d",
   "metadata": {},
   "source": [
    "Here's a concrete example with the student data above. \n",
    "\n",
    "In wide form, it looked like this:"
   ]
  },
  {
   "cell_type": "code",
   "execution_count": null,
   "id": "9c1f5586",
   "metadata": {},
   "outputs": [],
   "source": [
    "students"
   ]
  },
  {
   "cell_type": "markdown",
   "id": "ca019db9",
   "metadata": {},
   "source": [
    "In *tidy* form, it looks like this:\n"
   ]
  },
  {
   "cell_type": "code",
   "execution_count": null,
   "id": "b3e330fc",
   "metadata": {},
   "outputs": [],
   "source": [
    "tidy_students = pd.DataFrame({\n",
    "    \"Student\": [\"Erik\", \"Erik\", \"Amanda\", \"Amanda\", \"Maia\", \"Maia\"],\n",
    "    \"Subject\": [\"Math\", \"Writing\", \"Math\", \"Writing\", \"Math\", \"Writing\"],\n",
    "    \"Score\": [90, 90, 95, 85, 80, 95]\n",
    "})\n",
    "\n",
    "tidy_students"
   ]
  },
  {
   "cell_type": "markdown",
   "id": "b9c06cc0",
   "metadata": {},
   "source": [
    "**Self-quiz:** is it clear how the *tidy* data here differs from *wide* data?\n",
    "\n",
    "If you want to go into the weeds on this, [here's](https://www.jstatsoft.org/article/view/v059i10) a paper by the inventor of `tidyverse`, a large library in R with many similar functions to `pandas`. "
   ]
  },
  {
   "cell_type": "markdown",
   "id": "bb6c09a6",
   "metadata": {},
   "source": [
    "## So what does *tidy* data do for us?"
   ]
  },
  {
   "cell_type": "markdown",
   "id": "4716626b",
   "metadata": {},
   "source": [
    "The tidy data in the previous examples are harder to read and harder to interpret in the ways we often want to think about tabular data. \n",
    "\n",
    "*So how does this help us?*"
   ]
  },
  {
   "cell_type": "markdown",
   "id": "521cf90d",
   "metadata": {},
   "source": [
    "**Summary**\n",
    "- Tidy data avoids the pitfalls of having to reformat our data for different kinds of questions (usually)\n",
    "- Tidy data enforces structure so there isn't confusion about how best to represent our data (there may be multiple wide formats but usually only one tidy format) -> *best practice*\n",
    "- Tidy data is easier to interact with and analyze with code\n",
    "- Tidy data lets us take advantage of the *vectorization* that numpy, pandas, and other modern coding languages employ to make calculations super speedy"
   ]
  },
  {
   "cell_type": "markdown",
   "id": "dc803b8b",
   "metadata": {},
   "source": [
    "**Example**\n",
    "\n",
    "Let's go through a simple example with the temperature data above. \n",
    "\n",
    "Here's the original wide dataframe:"
   ]
  },
  {
   "cell_type": "code",
   "execution_count": null,
   "id": "f1c1fbd7",
   "metadata": {},
   "outputs": [],
   "source": [
    "cities"
   ]
  },
  {
   "cell_type": "markdown",
   "id": "91034d7c",
   "metadata": {},
   "source": [
    "Here it is in tidy format:"
   ]
  },
  {
   "cell_type": "code",
   "execution_count": null,
   "id": "13fc6d23",
   "metadata": {},
   "outputs": [],
   "source": [
    "tidy_cities = pd.DataFrame({\n",
    "    \"City\": [\"San Diego\", \"San Diego\", \"San Diego\", \n",
    "             \"Denver\", \"Denver\", \"Denver\", \n",
    "             \"New York City\", \"New York City\", \"New York City\", \n",
    "             \"Los Angeles\", \"Los Angeles\", \"Los Angeles\", \n",
    "             \"San Francisco\", \"San Francisco\", \"San Francisco\"\n",
    "            ],\n",
    "    \"Year\": [2010, 2011, 2012, \n",
    "             2010, 2011, 2012, \n",
    "             2010, 2011, 2012, \n",
    "             2010, 2011, 2012, \n",
    "             2010, 2011, 2012\n",
    "            ],\n",
    "    \"Temp\": [75, 77, 77,\n",
    "             60, 63, 62,\n",
    "             55, 58, 56,\n",
    "             65, 67, 67,\n",
    "             70, 72, 71\n",
    "            ]\n",
    "})\n",
    "\n",
    "tidy_cities"
   ]
  },
  {
   "cell_type": "markdown",
   "id": "b8fd1941",
   "metadata": {},
   "source": [
    "Now, let's return to our original question: *which city was the hottest on average during this time?*"
   ]
  },
  {
   "cell_type": "code",
   "execution_count": null,
   "id": "05148b9e",
   "metadata": {},
   "outputs": [],
   "source": [
    "# CODE HERE\n",
    "\n"
   ]
  },
  {
   "cell_type": "markdown",
   "id": "9ade897d",
   "metadata": {},
   "source": [
    "That was pretty easy. \n",
    "\n",
    "And under the hood, pandas `groupby` means that we compute the average temperature using vectorization rather than calculating row by row as we did in the solution above. \n"
   ]
  },
  {
   "cell_type": "markdown",
   "id": "eb563a56",
   "metadata": {},
   "source": [
    "What about our second question: *which year had the highest recorded temperature?*"
   ]
  },
  {
   "cell_type": "code",
   "execution_count": null,
   "id": "9504774d",
   "metadata": {},
   "outputs": [],
   "source": [
    "# CODE HERE\n",
    "\n"
   ]
  },
  {
   "cell_type": "markdown",
   "id": "600649ff",
   "metadata": {},
   "source": [
    "Okay, that was also pretty easy.\n",
    "\n",
    "So, this is far from an exhaustive survey of wide versus tidy/long data, but should give you a flavor for why this distinction is useful."
   ]
  },
  {
   "cell_type": "markdown",
   "id": "59dcc2b6",
   "metadata": {},
   "source": [
    "**Self-quiz:** do the examples above make it pretty clear why tidy data makes our lives simpler, clearer, and easier for coding / analysis?"
   ]
  },
  {
   "cell_type": "markdown",
   "id": "6a2333e5",
   "metadata": {},
   "source": [
    "## Pandas helps you convert data easily"
   ]
  },
  {
   "cell_type": "markdown",
   "id": "7f510484",
   "metadata": {},
   "source": [
    "Lots of data in the real world comes in wide form or requires some re-shuffling to get into tidy format.\n",
    "\n",
    "If you're working with a dataset that isn't in tidy form, it's almost always a good first step. \n",
    "\n",
    "We'll quickly review the tools that `pandas` has for toggling data formats.\n",
    "\n",
    "Much more info about this [here](https://pandas.pydata.org/pandas-docs/stable/user_guide/reshaping.html#).\n"
   ]
  },
  {
   "cell_type": "markdown",
   "id": "7d0fb38d",
   "metadata": {},
   "source": [
    "### Converting from wide to long with `melt`"
   ]
  },
  {
   "cell_type": "markdown",
   "id": "25f48d17",
   "metadata": {},
   "source": [
    "First, let's turn to a familiar dataset: the `gapminder` data.\n",
    "\n",
    "*Is this data in tidy form?*"
   ]
  },
  {
   "cell_type": "code",
   "execution_count": null,
   "id": "e3fa9f1b",
   "metadata": {},
   "outputs": [],
   "source": [
    "gap = pd.read_csv(\"https://raw.githubusercontent.com/UCSD-CSS-002/ucsd-css-002.github.io/master/datasets/gapminder.csv\")\n",
    "\n",
    "gap\n",
    "# gap.shape # note the size. Things are about to change..."
   ]
  },
  {
   "cell_type": "markdown",
   "id": "ce9b8d67",
   "metadata": {},
   "source": [
    "Let's move the \"observations\" (`lifeExp`, `pop`, and `gdpPercap`) to their own rows using [`melt`](https://pandas.pydata.org/pandas-docs/stable/reference/api/pandas.melt.html#pandas.melt):"
   ]
  },
  {
   "cell_type": "code",
   "execution_count": null,
   "id": "88171199",
   "metadata": {},
   "outputs": [],
   "source": [
    "gap_tidy = gap.melt(\n",
    "    id_vars = [\"Unnamed: 0\", \"country\", \"continent\", \"year\"], # columns to keep in each row\n",
    "    value_vars = [\"lifeExp\", \"pop\", \"gdpPercap\"], # columns to be moved into their own rows\n",
    "    var_name = \"measure\", # name of the column that will store the \"value_vars\" column names\n",
    "    value_name = \"value\" # name of the column that will store the \"value_vars\" column values\n",
    ")\n",
    "\n",
    "gap_tidy # take a look at the data. Is this what you expected?\n",
    "\n",
    "# gap_tidy.shape # note how many rows we added with this"
   ]
  },
  {
   "cell_type": "markdown",
   "id": "19f6590c",
   "metadata": {},
   "source": [
    "What can we do with this?\n",
    "\n",
    "Quick example! \n",
    "\n",
    "(think about how we would do the below with our data in wide format)"
   ]
  },
  {
   "cell_type": "code",
   "execution_count": null,
   "id": "172e9a57",
   "metadata": {},
   "outputs": [],
   "source": [
    "gap_tidy.groupby(\n",
    "    ['country', 'measure']\n",
    ")['value'].mean().reset_index()"
   ]
  },
  {
   "cell_type": "markdown",
   "id": "8f03a3d5",
   "metadata": {},
   "source": [
    "### Converting from long to wide with `pivot`"
   ]
  },
  {
   "cell_type": "markdown",
   "id": "b8269731",
   "metadata": {},
   "source": [
    "But wait! I thought we wanted our data in tidy format???\n",
    "\n",
    "The [`pivot`](https://pandas.pydata.org/pandas-docs/stable/reference/api/pandas.DataFrame.pivot.html) function makes it easy for us to convert to wide format when it's convenient. "
   ]
  },
  {
   "cell_type": "code",
   "execution_count": null,
   "id": "2a43a041",
   "metadata": {},
   "outputs": [],
   "source": [
    "gap_wide = gap_tidy.pivot(\n",
    "    index = \"year\", # column to be treated as the index\n",
    "    columns = [\"measure\", \"country\"], # columns to be spread out into their own columns for each value\n",
    "    values = \"value\" # value to be inserted in each new column\n",
    ")\n",
    "\n",
    "gap_wide\n",
    "# gap_wide.shape # this is super condensed"
   ]
  },
  {
   "cell_type": "code",
   "execution_count": null,
   "id": "a64d2259",
   "metadata": {},
   "outputs": [],
   "source": [
    "# We access data in the above by making our way down the hierarchical columns\n",
    "gap_wide.columns\n",
    "\n",
    "gap_wide['lifeExp']['Australia'][2002]"
   ]
  },
  {
   "cell_type": "code",
   "execution_count": null,
   "id": "395b219f",
   "metadata": {},
   "outputs": [],
   "source": [
    "# This can make things like plotting this data a little easier (no need to filter ahead of time)\n",
    "g = sns.scatterplot(x = gap_wide['gdpPercap']['United States'],\n",
    "                    y = gap_wide['lifeExp']['United States']\n",
    "                   )\n",
    "\n",
    "g.set_xlabel(\"Average income ($ GDP / capita)\")\n",
    "g.set_ylabel(\"Avg. life expectancy (years)\")\n",
    "g.set_title(\"Income and life expectancy in the US\")"
   ]
  },
  {
   "cell_type": "markdown",
   "id": "e4dcd1a9",
   "metadata": {},
   "source": [
    "## Bonus: `stack` and `unstack`\n",
    "\n",
    "A really clear overview [here](https://pandas.pydata.org/pandas-docs/stable/user_guide/reshaping.html#reshaping-by-stacking-and-unstacking)\n",
    "\n"
   ]
  },
  {
   "cell_type": "code",
   "execution_count": null,
   "id": "6b54e458",
   "metadata": {},
   "outputs": [],
   "source": [
    "gap_stack = gap_wide.stack(\"country\")\n",
    "\n",
    "gap_stack\n",
    "# gap_stack.columns"
   ]
  },
  {
   "cell_type": "code",
   "execution_count": null,
   "id": "8a8fd841",
   "metadata": {},
   "outputs": [],
   "source": [
    "# gap_stack['pop']\n",
    "# gap_stack[gap_stack['year'] == 2007]"
   ]
  },
  {
   "cell_type": "code",
   "execution_count": null,
   "id": "0fa65821",
   "metadata": {},
   "outputs": [],
   "source": [
    "gap_unstack = gap_stack.unstack(\"year\")\n",
    "gap_unstack"
   ]
  }
 ],
 "metadata": {
  "interpreter": {
   "hash": "e774977668b7c0ae8309835a5187aa7fbf7669e7d0bb59755bc63e573643edcd"
  },
  "kernelspec": {
   "display_name": "Python 3 (clean)",
   "language": "python",
   "name": "python3"
  },
  "language_info": {
   "codemirror_mode": {
    "name": "ipython",
    "version": 3
   },
   "file_extension": ".py",
   "mimetype": "text/x-python",
   "name": "python",
   "nbconvert_exporter": "python",
   "pygments_lexer": "ipython3",
   "version": "3.7.4"
  }
 },
 "nbformat": 4,
 "nbformat_minor": 5
}
