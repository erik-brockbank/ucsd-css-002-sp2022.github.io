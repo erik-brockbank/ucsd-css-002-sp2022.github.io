{
 "cells": [
  {
   "cell_type": "markdown",
   "id": "62c7e6f5",
   "metadata": {},
   "source": [
    "# Lecture 24 (5/20/2022)"
   ]
  },
  {
   "cell_type": "markdown",
   "id": "a1ea5e3d",
   "metadata": {},
   "source": [
    "**Announcements**\n"
   ]
  },
  {
   "cell_type": "markdown",
   "id": "cac90fc6",
   "metadata": {},
   "source": [
    "*Last time we covered:*\n",
    "- Evaluating $k$-means (and other clustering solutions)\n",
    "\n",
    "**Today's agenda:**\n",
    "- Clustering with Gaussian Mixture Models\n"
   ]
  },
  {
   "cell_type": "code",
   "execution_count": null,
   "id": "aa6ebecc",
   "metadata": {},
   "outputs": [],
   "source": [
    "import numpy as np\n",
    "import pandas as pd\n",
    "import matplotlib.pyplot as plt\n",
    "import seaborn as sns"
   ]
  },
  {
   "cell_type": "markdown",
   "id": "c8e3d210",
   "metadata": {},
   "source": [
    "# Review: challenges with $k$-means\n",
    "\n",
    "In Wednesday's lecture, we discussed a shortcoming of $k$-means clustering: the algorithm assumes that **all the clusters are the same variance**.\n",
    "\n",
    "In some cases, when we have data that is very *clearly clustered* but unequal variance, the algorithm fails to cluster the data in the way we would want.\n",
    "\n",
    "To illustrate this, here's a set of data we might want to cluster. This has a pretty intuitive clustering solution:"
   ]
  },
  {
   "cell_type": "code",
   "execution_count": null,
   "id": "90dbfdcb",
   "metadata": {},
   "outputs": [],
   "source": [
    "from sklearn.datasets import make_blobs\n",
    "\n",
    "mouse_vals, mouse_clusters = make_blobs(n_samples = [1000, 500, 500], # how many samples to generate \n",
    "                                          n_features = 2, # number of features\n",
    "                                          centers = [(3, 3), (1.5, 5), (4.5, 5)], # how many \"blobs\"\n",
    "                                          cluster_std = [0.75, 0.25, 0.25], # SD of the blobs (can be a list)\n",
    "                                          random_state = 1\n",
    "                                         )\n",
    "\n",
    "sns.scatterplot(x = mouse_vals[:, 0], \n",
    "                y = mouse_vals[:, 1], \n",
    "#                 hue = mouse_clusters, # toggle comment this\n",
    "                alpha = 0.25\n",
    "               )\n",
    "plt.xlabel(\"x1\")\n",
    "plt.ylabel(\"x2\")\n",
    "plt.show()"
   ]
  },
  {
   "cell_type": "markdown",
   "id": "5496341e",
   "metadata": {},
   "source": [
    "However, when we estimate clusters in this data using $k$-means clustering, we get a very unintuitive solution:"
   ]
  },
  {
   "cell_type": "code",
   "execution_count": null,
   "id": "62327e67",
   "metadata": {},
   "outputs": [],
   "source": [
    "from sklearn.cluster import KMeans\n",
    "\n",
    "kmouse = KMeans(n_clusters = 3, random_state = 1).fit(X = mouse_vals)\n",
    "\n",
    "sns.scatterplot(x = mouse_vals[:, 0], \n",
    "                y = mouse_vals[:, 1], \n",
    "                hue = kmouse.labels_,\n",
    "                alpha = 0.5\n",
    "               )\n",
    "# Show cluster centers\n",
    "sns.scatterplot(x = kmouse.cluster_centers_[:, 0], \n",
    "                y = kmouse.cluster_centers_[:, 1]\n",
    "               )\n",
    "plt.xlabel(\"x1\")\n",
    "plt.ylabel(\"x2\")\n",
    "plt.show()"
   ]
  },
  {
   "cell_type": "markdown",
   "id": "7e4760ae",
   "metadata": {},
   "source": [
    "**Our $k$-means clustering is finding 3 cluster centers and then assigning points to their closest center without any ability to accommodate the fact that the clusters are of different sizes (size == variance here, not number of elements).**\n",
    "\n",
    "![kmouse_clusters](img/kmouse_clusters.png)"
   ]
  },
  {
   "cell_type": "markdown",
   "id": "269c351d",
   "metadata": {},
   "source": [
    "***What can we do about this? How do we revise our clustering solution to allow for clusters that vary in size?***\n",
    "\n",
    "..."
   ]
  },
  {
   "cell_type": "markdown",
   "id": "fed85b5b",
   "metadata": {},
   "source": [
    "***"
   ]
  },
  {
   "cell_type": "markdown",
   "id": "38174edf",
   "metadata": {},
   "source": [
    "# Gaussian Mixture Models: generalizing $k$-means\n",
    "\n",
    "One way we can think about $k$-means clustering is that it tries to find a set of cluster *means* (as the name implies) that minimize the inertia of the data points around their closest mean. \n",
    "\n",
    "What Gaussian Mixture Models do is solve the same problem but with two additional improvements:\n",
    "- We also identify an optimal *variance* for each cluster (same dimensions as the data: a covariance matrix)\n",
    "- We identify a *weight* for each cluster that reflects the different number of data points assigned to each one\n",
    "\n",
    "These are some big improvements! *Is it magic???* No, it's Gaussians. \n",
    "\n",
    "This amounts to finding a set of *multi-variate Gaussians* whose individual means and variances best capture the data (plus their corresponding weights). \n",
    "\n",
    "Critically, this allows our clusters to have different sizes and shapes, which *loosens* the constraint implied by $k$-means that the clusters only vary in their means. \n",
    "\n",
    "![em](img/em.gif)\n",
    "\n",
    "(Source: [wikipedia](https://en.wikipedia.org/wiki/Expectation%E2%80%93maximization_algorithm))\n",
    "\n",
    "In the example above, we use this approach to identify two clusters of types of Old Faithful eruptions, using the *Duration* and *Delay* of each observed eruption. Note that the end state of the GIF is essentially two different Gaussians that may have different means and covariance values, and different numbers of points in each cluster."
   ]
  },
  {
   "cell_type": "markdown",
   "id": "8e42749d",
   "metadata": {},
   "source": [
    "**Overview**\n",
    "\n",
    "Gaussian Mixture Models estimate three *parameters* in our data:\n",
    "1. A vector of *means* $\\mu$ with an individual mean $\\mu_j$ for each of our $k$ clusters\n",
    "2. A vector of *covariances* $\\Sigma$ with $\\Sigma_j$ for each of our $k$ clusters\n",
    "3. A vector of *weights* $w$ that determines the relative densities of our clusters. Note these weights sum to 1: $\\sum_{j=1}^{k} w_j = 1$\n",
    "\n",
    "Using these parameters, often referred to as $\\theta = \\{\\mu, \\Sigma, w\\}$, we can estimate, for all of our data points, the probability that they were sampled from their respective cluster. Note: if we compare this to $k$-means, which just assigns each point to a cluster, $k$-means and GMMs are similar to *hard classification* and *soft classification* applied to clustering.\n",
    "\n",
    "In this formulation, we assign the probability of our data $X$ given the parameters $\\theta$ above to be:\n",
    "$$p(X | \\theta) = \\sum_{j=1}^{k} w_j \\ \\mathcal{N}(X | \\mu_j, \\Sigma_j)$$\n",
    "\n",
    "Here, $\\mathcal{N}(X | \\mu_j, \\Sigma_j)$ is just the probability of our data points under a normal (multi-variate Gaussian) distribution with mean $\\mu_j$ and covariance $\\Sigma_j$.\n",
    "\n",
    "The challenge for our model is to find the parameter values $\\theta = \\{\\mu, \\Sigma, w\\}$ that maximizes $p(X | \\theta)$:\n",
    "\n",
    "$$\\hat{\\theta} = arg max_{\\theta} p(X | \\theta)$$\n",
    "\n",
    "It turns out, there's a (relatively) straightforward process for doing this."
   ]
  },
  {
   "cell_type": "markdown",
   "id": "cf9d6e31",
   "metadata": {},
   "source": [
    "## Estimating GMMs\n",
    "\n",
    "There's a really excellent tutorial [here](https://towardsdatascience.com/gaussian-mixture-models-and-expectation-maximization-a-full-explanation-50fa94111ddd) that walks through how this works with the `iris` dataset (the first part anyway; later on things get a little more complicated). Another tutorial [here](https://towardsdatascience.com/gaussian-mixture-models-explained-6986aaf5a95) illustrates the math in fine detail if you want to understand this on a more technical level. \n",
    "\n",
    "The process of estimating this model follows two steps, very similar to $k$-means clustering!\n",
    "\n",
    "**Initialization**\n",
    "\n",
    "Like $k$-means, we start by *initializing our clusters*. With $k$-means all we needed was to guess our cluster centers. Now, we need initial estimates for all the parameters above: $\\mu$, $\\Sigma$, and $w$. \n",
    "\n",
    "- $w$: For our weights, we can assume to start that each cluster has an equal number of data points: $w_j = 1/k$\n",
    "- $\\mu$: in theory, we can initialize our $\\mu$ values to be randomly sampled points like we did with $k$-means. However, the more popular approach here is to actually run $k$-means and use the centers that it estimates!\n",
    "- $\\Sigma$: our covariance matrix can be initialized to something generic (identity matrix, 1s, etc.)\n",
    "\n",
    "**Step 1**\n",
    "\n",
    "Now, the first step of the algorithm is to figure out the *probability that each data point was sampled from each of the potential clusters* with the cluster parameters initialized above.\n",
    "\n",
    "Essentially, we make a table like the one below for each point in $X$. This table assumes that $X$ is 2-dimensional as in our mouse example above, and assumes there are 3 clusters:\n",
    "\n",
    "\n",
    "| $x$ | $p(j=1)$ | $p(j=2)$ | $p(j=3)$ | \n",
    "| :---: | :---: | :---: | :---: |\n",
    "| (1, 3) |  |  | | |\n",
    "| (2, 5) |  |  | | |\n",
    "| ... |  |  | | |\n",
    "\n",
    "\n",
    "With multi-variate Gaussians, the probability that a point was sampled from a particular distribution is pretty straightforward: we can use the probability density function for the Gaussian with the current parameter estimates $\\mu_j$ and $\\Sigma_j$.\n",
    "- Here, we also scale the probabilities by the weights for each cluster and divide by the probabilities assigned to the other clusters for each point. \n",
    "- So each row in the table above would have $x_1$ and $x_2$ values for a given point, plus three probabilities that sum to 1 indicating the probability of that point belonging to each cluster $j$. \n",
    "\n",
    "For cluster 1, we would set the probability that $x_i$ is in cluster 1 to be:\n",
    "\n",
    "$$p(x_i = \\text{cluster 1} | \\ \\theta) = \\dfrac{w_1 \\ \\mathcal{N}(x_i | \\mu_1, \\Sigma_1)}{\\sum_{j=1}^{k} w_j \\ \\mathcal{N}(x_i | \\mu_j, \\Sigma_j)} $$\n",
    "\n",
    "Note this step echoes the *assignment* step of $k$-means, except we're calculating a *probability* for each point belonging in each cluster instead of simply assigning each point to a cluster.\n",
    "\n",
    "**Step 2**\n",
    "\n",
    "Next, we figure out the *best parameter estimates* for each cluster **based on the probabilities assigned to each data point in Step 1**. This echoes the step in $k$-means where we re-evaluated each cluster center. However, now things are more complicated because we need to revise all the cluster parameters above.\n",
    "- $w_j$: We start by adding up the probability of each point belonging to cluster $j$ from Step 1. This tells us how many points we *expect* to have in that cluster. Then, we set each weight $w_j$ to just be the number of points estimated for that cluster divided by the total number of data points $N$. For example, our weight for cluster 1, $w_1$, would be set to:\n",
    "$$w_1 := \\dfrac{\\sum_{i=1}^{N} p(j=1)_i}{N}$$\n",
    "- $\\mu_j$: Our $\\mu_j$, the estimated mean of each cluster, will be the average of all our data points weighted by the probability of each value belonging to cluster $j$. For example:\n",
    "$$\\mu_1 := \\dfrac{\\sum_{i=1}^{N} x_n \\ p(j=1)_i}{\\sum_{i=1}^{N} p(j=1)_i}$$\n",
    "- $\\Sigma_j$: Our $\\Sigma_j$, similar to the above, will be the covariance of all our datapoints $(x_1, x_2)$, weighted by the probability of each point belonging to our cluster $j$. If you're familiar with the notation for expressing covariance below, it looks like this:\n",
    "$$\\Sigma_1 := \\dfrac{\\sum_{i=1}^{N} p(j=1)_i \\ (x_i - \\mu_1)(x_i - \\mu_1)^T}{\\sum_{i=1}^{N} p(j=1)_i}$$\n",
    "\n",
    "The formal steps for these parameter updates isn't super important (but is helpful if this is familiar notation!). The key take-away is the *operation* being done.\n",
    "\n",
    "**Step 3** \n",
    "\n",
    "Repeat Step 1 and Step 2 until convergence. Convergence occurs when we've more or less maximized our *log likelihood*, the $log \\ p(X | \\theta)$ using the equation for $p(X | \\theta)$ above.\n",
    "\n"
   ]
  },
  {
   "cell_type": "markdown",
   "id": "014264e9",
   "metadata": {},
   "source": [
    "## Aside: Expectation Maximization\n",
    "\n",
    "If the above seemed like an especially tedious trip into the depths of model estimation, there's a reason we did this!\n",
    "\n",
    "Steps 1 and 2 in the model estimation process above are examples of a *more general process called Expectation Maximization*.\n",
    "\n",
    "Using EM to estimate a model's parameters involves breaking down the process into two steps:\n",
    "\n",
    "1. The **\"E-Step\"**: what is the (expected) likelihood of the data $X$ given the current estimates for the parameters $\\theta$ (Step 1 above)?\n",
    "\n",
    "2. The **\"M-Step\"**: what are the parameter estimates $\\theta$ that will maximize the likelihoods in the previous *E-Step* (Step 2 above)?\n",
    "\n",
    "In fact, the process for simple $k$-means clustering that we discussed on Wednesday is *also* a simplified example of the EM process:\n",
    "- E-Step: assign data points to the nearest cluster\n",
    "- M-Step: estimate the new cluster centers given the data point assignments\n",
    "\n",
    "Expectation Maximization is a way to estimate model parameters when those parameters depend on *latent variables*, in this case our cluster assignments. We don't need to get into the formal details of EM more generally, but this way you're familiar with the underlying idea behind the algorithms for $k$-means and GMMs above. \n",
    "\n",
    "Now, let's jump into the actual coding!"
   ]
  },
  {
   "cell_type": "markdown",
   "id": "3aa44796",
   "metadata": {},
   "source": [
    "## Gaussian Mixture Models in sklearn\n",
    "\n",
    "The `GaussianMixture` class documentation is [here](https://scikit-learn.org/stable/modules/generated/sklearn.mixture.GaussianMixture.html).\n",
    "\n",
    "There's a nice overview of how they work in sklearn [here](https://scikit-learn.org/stable/modules/mixture.html).\n"
   ]
  },
  {
   "cell_type": "code",
   "execution_count": null,
   "id": "87faf770",
   "metadata": {},
   "outputs": [],
   "source": [
    "from sklearn.mixture import GaussianMixture\n",
    "\n",
    "gm = GaussianMixture(n_components = 3, random_state = 1)\n",
    "\n",
    "gm.fit(X = mouse_vals)\n",
    "gm"
   ]
  },
  {
   "cell_type": "code",
   "execution_count": null,
   "id": "6d1549c4",
   "metadata": {},
   "outputs": [],
   "source": [
    "labels = gm.fit_predict(X = mouse_vals)\n",
    "labels\n",
    "\n",
    "sns.scatterplot(\n",
    "    x = mouse_vals[:, 0], \n",
    "    y = mouse_vals[:, 1], \n",
    "    hue = labels,\n",
    "    alpha = 0.5\n",
    ")\n",
    "plt.show()"
   ]
  },
  {
   "cell_type": "markdown",
   "id": "f5d59103",
   "metadata": {},
   "source": [
    "# WOW!!"
   ]
  },
  {
   "cell_type": "markdown",
   "id": "e6356628",
   "metadata": {},
   "source": [
    "*What information did we fit?*"
   ]
  },
  {
   "cell_type": "code",
   "execution_count": null,
   "id": "1e93646a",
   "metadata": {},
   "outputs": [],
   "source": [
    "gm.converged_ # Did it work?\n",
    "gm.n_iter_ # How many iterations?"
   ]
  },
  {
   "cell_type": "markdown",
   "id": "636a3c60",
   "metadata": {},
   "source": [
    "The `n_iter_` attribute above tells us how many times the Expectation Maximization algorithm ran to estimate the parameters."
   ]
  },
  {
   "cell_type": "markdown",
   "id": "a93cd2c4",
   "metadata": {},
   "source": [
    "*What about the parameter values themselves?*"
   ]
  },
  {
   "cell_type": "code",
   "execution_count": null,
   "id": "aecbcef5",
   "metadata": {},
   "outputs": [],
   "source": [
    "gm.means_ # Original: [(3, 3), (1.5, 5), (4.5, 5)]"
   ]
  },
  {
   "cell_type": "markdown",
   "id": "028ee6e3",
   "metadata": {},
   "source": [
    "**Our recovered means are very close to the ones that generated the data.**\n",
    "\n",
    "How do our recovered standard deviations compare?"
   ]
  },
  {
   "cell_type": "code",
   "execution_count": null,
   "id": "e993e355",
   "metadata": {},
   "outputs": [],
   "source": [
    "gm.covariances_ # Covariance matrix estimate (x1 and x2) for each cluster\n",
    "\n",
    "gm.covariances_[0]\n",
    "np.sqrt(gm.covariances_[0, 0, 0]) # compare to 0.25 for cluster 0\n",
    "np.sqrt(gm.covariances_[0, 1, 1]) # compare to 0.25 for cluster 0\n",
    "\n",
    "gm.covariances_[1]\n",
    "np.sqrt(gm.covariances_[1, 0, 0]) # compare to 0.25 for cluster 1\n",
    "np.sqrt(gm.covariances_[1, 1, 1]) # compare to 0.25 for cluster 1\n",
    "\n",
    "gm.covariances_[2]\n",
    "np.sqrt(gm.covariances_[2, 0, 0]) # compare to 0.75 for cluster 2\n",
    "np.sqrt(gm.covariances_[2, 1, 1]) # compare to 0.75 for cluster 2"
   ]
  },
  {
   "cell_type": "markdown",
   "id": "2ae95cc6",
   "metadata": {},
   "source": [
    "Pretty good! We did generate this data using Gaussian mixtures, but even so...\n",
    "\n",
    "Finally, we can see what *weights* it estimated for our data, i.e., the relative density of points in each cluster:"
   ]
  },
  {
   "cell_type": "code",
   "execution_count": null,
   "id": "488790b1",
   "metadata": {},
   "outputs": [],
   "source": [
    "gm.weights_ # Original values: 100, 100, 300"
   ]
  },
  {
   "cell_type": "markdown",
   "id": "44f091d1",
   "metadata": {},
   "source": [
    "Woo hoo!"
   ]
  },
  {
   "cell_type": "markdown",
   "id": "a083b39d",
   "metadata": {},
   "source": [
    "## Evaluating Gaussian Mixture Models\n",
    "\n",
    "One of the advantages of the Expectation Maximization algorithm used to fit GMMs is that we have a *likelihood value* that tells us how well our data fits the model with the specified parameters (specifically, the probability of our data $X$ given the model parameter estimates $\\theta$, $p(X | \\theta)$). \n",
    "\n",
    "We can use this as the basis for evaluating our model or comparing it to other possible models (e.g., ones with more or fewer clusters).\n",
    "\n",
    "Scores like ***[AIC](https://en.wikipedia.org/wiki/Akaike_information_criterion)*** (Akaike Information Criterion, see also [here](https://towardsdatascience.com/introduction-to-aic-akaike-information-criterion-9c9ba1c96ced)) or ***[BIC](https://en.wikipedia.org/wiki/Bayesian_information_criterion)*** (Bayesian Information Criterion), both exported by the `GaussianMixture` class, are based on the likelihood of our model fit. They tell you how well your model accounts for the data, while penalizing models that have *more* parameters.\n",
    "\n",
    "We can use these values to evaluate our model or (more often) compare it to other models.\n"
   ]
  },
  {
   "cell_type": "code",
   "execution_count": null,
   "id": "a43cde82",
   "metadata": {},
   "outputs": [],
   "source": [
    "gm.score(X = mouse_vals) # this is the average per-sample log likelihood of our data\n",
    "gm.aic(X = mouse_vals) # AIC\n",
    "gm.bic(X = mouse_vals) # BIC"
   ]
  },
  {
   "cell_type": "markdown",
   "id": "c74d0cbf",
   "metadata": {},
   "source": [
    "Let's see how this compares to if we fit a model above with only *two* clusters:"
   ]
  },
  {
   "cell_type": "code",
   "execution_count": null,
   "id": "96c702c7",
   "metadata": {},
   "outputs": [],
   "source": [
    "gm2 = GaussianMixture(n_components = 2, random_state = 1)\n",
    "labels2 = gm2.fit_predict(X = mouse_vals)\n",
    "labels2\n",
    "\n",
    "sns.scatterplot(\n",
    "    x = mouse_vals[:, 0], \n",
    "    y = mouse_vals[:, 1], \n",
    "    hue = labels2,\n",
    "    alpha = 0.5\n",
    ")\n",
    "plt.show()"
   ]
  },
  {
   "cell_type": "markdown",
   "id": "124beb8b",
   "metadata": {},
   "source": [
    "Yikes! How does this compare to the 3 cluster version?"
   ]
  },
  {
   "cell_type": "code",
   "execution_count": null,
   "id": "b8d8fa09",
   "metadata": {},
   "outputs": [],
   "source": [
    "gm2.aic(X = mouse_vals) # lower is better, so this is worse than the 3 cluster one above!\n",
    "gm2.bic(X = mouse_vals) # same story here"
   ]
  },
  {
   "cell_type": "markdown",
   "id": "e7d9eef6",
   "metadata": {},
   "source": [
    "## Failure Modes\n",
    "\n",
    "Because of the additional complexity involved in estimating Gaussian mixture models, things can sometimes go awry, e.g., when there are few data points in a given cluster. We're not going to dive into this, but it's worth being aware of.\n",
    "\n",
    "Some of these problems can be avoided by starting out with pretty good guesses about the Gaussian means. \n",
    "\n",
    "How do we make good starting guesses? \n",
    "\n",
    "$k$-means clustering! \n",
    "\n",
    "The sklearn `GaussianMixture` class has an `init_params` argument specifying how the initial parameter values should be estimated.\n",
    "- The default value for this is \"kmeans\", but you can also supply \"kmeans++\" or two versions of random selection.\n"
   ]
  },
  {
   "cell_type": "markdown",
   "id": "94954002",
   "metadata": {},
   "source": [
    "# Practice\n",
    "\n",
    "If we get through all the above with time left over, you can practice fitting a GMM yourself! \n",
    "\n",
    "Read in the `iris` dataset and try using a Gaussian Mixture Model to cluster the iris species (you can use any 1, 2, or all 4 features).\n"
   ]
  },
  {
   "cell_type": "code",
   "execution_count": null,
   "id": "7ce78579",
   "metadata": {},
   "outputs": [],
   "source": [
    "### YOUR CODE HERE\n",
    "\n",
    "iris = sns.load_dataset('iris')\n",
    "iris"
   ]
  }
 ],
 "metadata": {
  "interpreter": {
   "hash": "e774977668b7c0ae8309835a5187aa7fbf7669e7d0bb59755bc63e573643edcd"
  },
  "kernelspec": {
   "display_name": "Python 3.7.4 64-bit",
   "language": "python",
   "name": "python3"
  },
  "language_info": {
   "codemirror_mode": {
    "name": "ipython",
    "version": 3
   },
   "file_extension": ".py",
   "mimetype": "text/x-python",
   "name": "python",
   "nbconvert_exporter": "python",
   "pygments_lexer": "ipython3",
   "version": "3.7.4"
  }
 },
 "nbformat": 4,
 "nbformat_minor": 5
}
