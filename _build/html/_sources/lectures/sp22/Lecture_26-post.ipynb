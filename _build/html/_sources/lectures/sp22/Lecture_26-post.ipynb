{
 "cells": [
  {
   "cell_type": "markdown",
   "id": "62c7e6f5",
   "metadata": {},
   "source": [
    "# Lecture 26 (5/25/2022)"
   ]
  },
  {
   "cell_type": "markdown",
   "id": "a1ea5e3d",
   "metadata": {},
   "source": [
    "**Announcements**\n",
    "- Today's lab + OH on zoom as well! See announcement from Purva\n",
    "- This week's lab due Friday 5/27!\n",
    "- Plan for upcoming lectures\n",
    "    - Friday 5/27: last \"official course content\" lecture\n",
    "    - Monday 5/30: no class (holiday)\n",
    "    - Wednesday 6/1: **class in ERC 117** for final project presentations\n",
    "        - Sign up for a slot [here](https://docs.google.com/spreadsheets/d/1Ppe4Ff3Tfj2rMSWaBVSo9bHT6mJRREtFF-mFr7AQ_0k/edit?usp=sharing)\n",
    "    - Friday 6/3: special topic: APIs\n"
   ]
  },
  {
   "cell_type": "markdown",
   "id": "cac90fc6",
   "metadata": {},
   "source": [
    "*Last time we covered:*\n",
    "- Dimensionality reduction: intro to Principal Components Analysis\n",
    "\n",
    "**Today's agenda:**\n",
    "- Interpreting PCA results (cont'd from last time) + Evaluating PCA \n",
    "    - These are kind of interchangeable so we'll mostly be presenting interpretation and evaluation measures together\n"
   ]
  },
  {
   "cell_type": "code",
   "execution_count": null,
   "id": "aa6ebecc",
   "metadata": {},
   "outputs": [],
   "source": [
    "import numpy as np\n",
    "import pandas as pd\n",
    "import matplotlib.pyplot as plt\n",
    "import seaborn as sns"
   ]
  },
  {
   "cell_type": "markdown",
   "id": "c8e3d210",
   "metadata": {},
   "source": [
    "# Interpreting Principal Components Analysis\n",
    "\n",
    "## Review\n",
    "\n",
    "On Monday, we walked through the basics of how PCA works and how to implement it with the sklearn `PCA` class. \n",
    "\n",
    "As a reminder, we're looking for lines like the blue and red ones below, which form the *principal components* of our data. \n",
    "\n",
    "![pca_static](img/pca_static.jpeg)\n",
    "\n",
    "([Source](https://towardsdatascience.com/understanding-pca-fae3e243731d))\n",
    "\n",
    "These lines have two key properties:\n",
    "\n",
    "1. They represent the axes on which our data has the highest variance (the first principal component is the highest, the second is the second highest, ...)\n",
    "2. They are *orthogonal* to each other, meaning they are *independent* as predictors of our data\n",
    "\n",
    "Because of these properties, when we *project* our data onto the principal components, we can often describe most of the variance in our high-dimensional data with only a few principal component axes. In other words, they provide a high fidelity *summary* of what our data is doing without needing all the original dimensions. \n",
    "\n",
    "![pca](img/pca.gif)\n",
    "\n",
    "([Source](https://stats.stackexchange.com/questions/2691/making-sense-of-principal-component-analysis-eigenvectors-eigenvalues))\n",
    "\n",
    "For this reason, PCA is one of the most popular *dimensionality reduction* techniques in modern data science. \n",
    "\n",
    "Today, we're going to talk about how to interpret and evaluate our PCA resuls. "
   ]
  },
  {
   "cell_type": "markdown",
   "id": "fd3ba623",
   "metadata": {},
   "source": [
    "## Example: low-dimensional representation of pokemon attributes\n",
    "\n",
    "Today, we'll use the `pokemon` dataset, which we've discussed in previous lectures and assignments, to create a low-dimensional encoding of pokemon attributes.\n",
    "\n",
    "In the data below, take a look at the columns indicating each pokemon's effectiveness (`HP`, `Attack`, `Defense`, `Sp. Atk`, `Sp. Def`, `Speed`); we need a very high-dimensional representation of each pokemon if we use all these columns to cluster or classify them!"
   ]
  },
  {
   "cell_type": "code",
   "execution_count": null,
   "id": "62327e67",
   "metadata": {},
   "outputs": [],
   "source": [
    "# Read in the data\n",
    "pokemon = pd.read_csv(\"https://raw.githubusercontent.com/erik-brockbank/css2_sp22-public/main/Datasets/Pokemon.csv\")\n",
    "pokemon\n"
   ]
  },
  {
   "cell_type": "markdown",
   "id": "14477e90",
   "metadata": {},
   "source": [
    "Let's find the principal components of these pokemon behavior attributes to create a lower-dimensional representation:"
   ]
  },
  {
   "cell_type": "code",
   "execution_count": null,
   "id": "1dafd813",
   "metadata": {},
   "outputs": [],
   "source": [
    "from sklearn.decomposition import PCA\n",
    "\n",
    "# Use these columns as the basis for PCA\n",
    "cols = ['HP', 'Attack', 'Defense', 'Sp. Atk', 'Sp. Def', 'Speed']\n",
    "\n",
    "# Fit the PCA class to our data\n",
    "pca = PCA(random_state = 1).fit(pokemon.loc[:, cols])\n",
    "pca"
   ]
  },
  {
   "cell_type": "markdown",
   "id": "478a2ee8",
   "metadata": {},
   "source": [
    "How effective is PCA here?\n",
    "\n",
    "- Look at the explained variance ratio to see how many principal components we need to account for a large amount of the variance in our data "
   ]
  },
  {
   "cell_type": "markdown",
   "id": "5a582f7d",
   "metadata": {},
   "source": [
    "### Proportion of explained variance: how well do our principal components summarize the data?\n",
    "\n",
    "A good first step after running PCA is to see how well each successive component accounts for variance in our original data. Remember, the principal components are identified in order of how much of the variance in the data they can explain. \n",
    "\n",
    "A *good* PCA result will show that you can account for a large percentage of the variance in the underlying data with much fewer dimensions."
   ]
  },
  {
   "cell_type": "code",
   "execution_count": null,
   "id": "60b632a9",
   "metadata": {},
   "outputs": [],
   "source": [
    "sns.pointplot(x = np.arange(1, pca.n_components_ + 1), y = pca.explained_variance_ratio_)\n",
    "plt.xlabel(\"Principal component\")\n",
    "plt.ylabel(\"Proportion of additional variance explained\")\n",
    "plt.show()"
   ]
  },
  {
   "cell_type": "markdown",
   "id": "ffb11cd9",
   "metadata": {},
   "source": [
    "The plot above suggests that we can explain 70-80% of variance in our (6-dimensional) data with just 2-3 dimensions. In other words, a lof the general pattern of our data is captured by a couple key axes. \n",
    "\n",
    "We can confirm this by adding up the actual values from the graph above:"
   ]
  },
  {
   "cell_type": "code",
   "execution_count": null,
   "id": "0026fe44",
   "metadata": {},
   "outputs": [],
   "source": [
    "pca.explained_variance_ratio_[0] + pca.explained_variance_ratio_[1]"
   ]
  },
  {
   "cell_type": "markdown",
   "id": "4e8d9627",
   "metadata": {},
   "source": [
    "So what are these axes? \n",
    "\n",
    "Remember that a \"principal component\" is just a line through our data, expressed via *weights* on each of the existing dimensions that are a lot like regression coefficients. Like regression coefficients, these weights tell us about the pattern in our original variables that each principal component is capturing."
   ]
  },
  {
   "cell_type": "markdown",
   "id": "c6adda44",
   "metadata": {},
   "source": [
    "### Principal component weights: what are the key \"axes\" along which our data varies?\n",
    "\n",
    "Below, we'll plot the weights applied to each of our original dimensions to create the principal components. Ideally, these should give us some indication of the smaller number of \"axes\" that our data varies along. "
   ]
  },
  {
   "cell_type": "code",
   "execution_count": null,
   "id": "f5207cc6",
   "metadata": {},
   "outputs": [],
   "source": [
    "sns.barplot(x = pca.components_[0], y = cols)\n",
    "plt.title(\"Component 1\")\n",
    "plt.show()\n",
    "\n",
    "sns.barplot(x = pca.components_[1], y = cols)\n",
    "plt.title(\"Component 2\")\n",
    "plt.show()\n",
    "\n",
    "sns.barplot(x = pca.components_[2], y = cols)\n",
    "plt.title(\"Component 3\")\n",
    "plt.show()"
   ]
  },
  {
   "cell_type": "markdown",
   "id": "7cab0bc6",
   "metadata": {},
   "source": [
    "**How do we interpret these plots? What does each one mean?**\n",
    "\n",
    "Ideally, should have some interpretation in terms of more abstract patterns in the data.\n",
    "\n",
    "\n",
    "Note: PCA can sometimes present challenges in *interpreting* the principal components. In some cases, they may index really clear aspects of the data. In other cases, they may be more ambiguous. For this reason, it's best to have a grasp of the domain of the data when interpreting PCA. Like unsupervised clustering we talked about last week, it requires more subjective interpretation than our supervised methods."
   ]
  },
  {
   "cell_type": "markdown",
   "id": "aa39f2f9",
   "metadata": {},
   "source": [
    "***"
   ]
  },
  {
   "cell_type": "markdown",
   "id": "b42cb471",
   "metadata": {},
   "source": [
    "### Transforming data onto principal components: how well do they summarize our data?\n",
    "\n",
    "Since our principal components are *new orthogonal lines drawn through our data*, we can plot the value that each of our original data points takes on when *projected onto these lines*.\n",
    "\n",
    "If the first 2-3 principal components describe our data well, we should see it line up in a fairly orderly way along these axes. \n",
    "\n",
    "Our first step is to *transform* our original data into a position on each of the principal components that our PCA identified:"
   ]
  },
  {
   "cell_type": "code",
   "execution_count": null,
   "id": "1ecbf434",
   "metadata": {},
   "outputs": [],
   "source": [
    "pokemon_transform = pca.transform(X = pokemon.loc[:, cols])\n",
    "pokemon_transform = pd.DataFrame(pokemon_transform, columns = ['Component ' + str(i) for i in np.arange(1, pca.n_components_ + 1)])\n",
    "\n",
    "pokemon_transform"
   ]
  },
  {
   "cell_type": "markdown",
   "id": "343861ab",
   "metadata": {},
   "source": [
    "The dataframe above shows us the values of each row of our original data *projected onto the principal components*.\n",
    "\n",
    "In other words, instead of each Pokemon's values in $x_1$, $x_2$, ..., $x_n$, it shows us each pokemon's new value on $pc_1$, $pc_2$, ..., $pc_n$.\n",
    "\n",
    "Let's add these to our original dataframe so we can do interesting comparisons:"
   ]
  },
  {
   "cell_type": "code",
   "execution_count": null,
   "id": "e76a3148",
   "metadata": {},
   "outputs": [],
   "source": [
    "pokemon = pd.concat([pokemon, pokemon_transform], axis = 1)\n",
    "pokemon"
   ]
  },
  {
   "cell_type": "markdown",
   "id": "f738f156",
   "metadata": {},
   "source": [
    "Now, let's get a sense of how well our first couple principal components summarize our data by plotting the data projected onto these components:\n",
    "\n",
    "In other words, we plot each of our data points but instead of plotting them on our original axes, we plot them on the *new* principal component axes:"
   ]
  },
  {
   "cell_type": "code",
   "execution_count": null,
   "id": "75bdfc82",
   "metadata": {},
   "outputs": [],
   "source": [
    "sns.scatterplot(data = pokemon, x = \"Component 1\", y = \"Component 2\", alpha = 0.5)\n",
    "plt.show()"
   ]
  },
  {
   "cell_type": "markdown",
   "id": "fa727b24",
   "metadata": {},
   "source": [
    "**How should we interpret this plot? What does it show?**\n",
    "\n",
    "PC1 does a really nice job capturing variance in our data long its axis. PC2 as well. "
   ]
  },
  {
   "cell_type": "markdown",
   "id": "22e9c45e",
   "metadata": {},
   "source": [
    "***"
   ]
  },
  {
   "cell_type": "markdown",
   "id": "8cbee68d",
   "metadata": {},
   "source": [
    "## Applying Principal Components: can we understand our data better by looking at the primary axes it varies along?\n",
    "\n",
    "In the plot above, there seemed to be an intriguing discontinuity in our data along the first two principal components. \n",
    "\n",
    "One way to evaluate PCA is to see how well it affords the analyses we *want* to do with our high-dimensional data, like classification and clustering."
   ]
  },
  {
   "cell_type": "code",
   "execution_count": null,
   "id": "5df9c814",
   "metadata": {},
   "outputs": [],
   "source": [
    "sns.scatterplot(data = pokemon, x = \"Component 1\", y = \"Component 2\", alpha = 0.5)\n",
    "plt.axvline(x = 50, c = \"r\", ls = \"--\")\n",
    "plt.show()"
   ]
  },
  {
   "cell_type": "markdown",
   "id": "dcfdac54",
   "metadata": {},
   "source": [
    "*Is the discontinuity in our first principal component telling us something useful about how our data is arranged in high-dimensional space?*\n",
    "\n",
    "One way we can approach this question is by applying a clustering algorithm to our data, **but now we'll cluster along the principal components rather than the original data points**. \n",
    "\n",
    "This tells us how our low-dimensional data representation can be clustered.\n",
    "\n",
    "*Does a Gaussian Mixture Model cluster according to the discontinuity we detected above?*"
   ]
  },
  {
   "cell_type": "code",
   "execution_count": null,
   "id": "902fbeae",
   "metadata": {},
   "outputs": [],
   "source": [
    "from sklearn.mixture import GaussianMixture\n",
    "\n",
    "# Fit a GMM with 4 clusters\n",
    "gm = GaussianMixture(n_components = 4, random_state = 1)\n",
    "\n",
    "# Then, generate labels for each of our data points based on these clusters\n",
    "preds = gm.fit_predict(X = pokemon.loc[:, ('Component 1', 'Component 2')])\n",
    "\n",
    "# Finally, let's add these labels to our original dataframe\n",
    "pokemon['pca_lab'] = preds\n",
    "\n",
    "pokemon"
   ]
  },
  {
   "cell_type": "markdown",
   "id": "e1fa04b0",
   "metadata": {},
   "source": [
    "Now, let's see how well the clustering above did with our data arranged along the first two principal components:"
   ]
  },
  {
   "cell_type": "code",
   "execution_count": null,
   "id": "bdac3163",
   "metadata": {},
   "outputs": [],
   "source": [
    "sns.scatterplot(data = pokemon, \n",
    "                x = \"Component 1\", \n",
    "                y = \"Component 2\", \n",
    "                hue = \"pca_lab\",\n",
    "                alpha = 0.5)\n",
    "plt.show()"
   ]
  },
  {
   "cell_type": "markdown",
   "id": "6514b6dd",
   "metadata": {},
   "source": [
    "This seems to do a decently good job clustering our data.\n",
    "\n",
    "Interestingly, it does somewhat capture the discontinuity we observed at $pc_1 = 50$, though not perfectly.\n",
    "\n",
    "As an aside, we can show that 4 clusters is a pretty good choice using the \"elbow method\" with the GMM's \"Akaike Information Criterion\" below:"
   ]
  },
  {
   "cell_type": "code",
   "execution_count": null,
   "id": "e19b9823",
   "metadata": {},
   "outputs": [],
   "source": [
    "clusters = np.arange(1, 11)\n",
    "scores = []\n",
    "\n",
    "for k in clusters:\n",
    "    scores.append(GaussianMixture(n_components = k, random_state = 1).fit(\n",
    "            X = pokemon.loc[:, ('Component 1', 'Component 2')]).aic(\n",
    "            X = pokemon.loc[:, ('Component 1', 'Component 2')]))\n",
    "scores\n",
    "    \n",
    "sns.lineplot(x = clusters, y = scores)"
   ]
  },
  {
   "cell_type": "markdown",
   "id": "705dd03d",
   "metadata": {},
   "source": [
    "*So what's happening at that discontinuity in our first principal component?*\n",
    "\n",
    "*Is there anything interpretable in our data that the PCA identified?*\n",
    "\n",
    "Note, there's nothing guaranteeing that this will be the case, but here, it looks like this discontinuity may in part reflect whether a pokemon is \"Legendary\" or not!"
   ]
  },
  {
   "cell_type": "code",
   "execution_count": null,
   "id": "da743e89",
   "metadata": {},
   "outputs": [],
   "source": [
    "sns.scatterplot(data = pokemon, \n",
    "                x = \"Component 1\", \n",
    "                y = \"Component 2\", \n",
    "                hue = \"Legendary\",\n",
    "                alpha = 0.5)\n",
    "plt.show()"
   ]
  },
  {
   "cell_type": "markdown",
   "id": "1594d4e9",
   "metadata": {},
   "source": [
    "That's pretty cool! Our Principal Components Analysis showed us a pattern in our data along the primary axes that our data varies on. \n",
    "\n",
    "And, when we cluster based on those primary axes, we do a decent job separating out the \"Legendary\" pokemon based on this discontinuity:"
   ]
  },
  {
   "cell_type": "code",
   "execution_count": null,
   "id": "1895a1bf",
   "metadata": {
    "scrolled": true
   },
   "outputs": [],
   "source": [
    "sns.scatterplot(data = pokemon, \n",
    "                x = \"Component 1\", \n",
    "                y = \"Component 2\", \n",
    "                hue = \"pca_lab\",\n",
    "                style = \"Legendary\",\n",
    "                alpha = 0.5)\n",
    "plt.show()"
   ]
  },
  {
   "cell_type": "markdown",
   "id": "c99df477",
   "metadata": {},
   "source": [
    "It's not perfect, but pretty good!\n",
    "\n",
    "Now, if you're skeptical of the above, you might be thinking, \"maybe we could have done all this *without* our fancy PCA and clustering based on principal components.\" \n",
    "\n",
    "When we look at our data with \"Legendary\" pokemon highlighted in each of the two-dimensional representations of our original data, it seems kind of unlikely that a clustering solution would easily isolate those labels..."
   ]
  },
  {
   "cell_type": "code",
   "execution_count": null,
   "id": "ce796c18",
   "metadata": {},
   "outputs": [],
   "source": [
    "cols.append('Legendary')\n",
    "sns.pairplot(pokemon.loc[:, cols],\n",
    "             hue = \"Legendary\",\n",
    "             plot_kws = {\"alpha\": 0.5}\n",
    "            )"
   ]
  },
  {
   "cell_type": "markdown",
   "id": "c21748b4",
   "metadata": {},
   "source": [
    "But, just for thoroughness, we can run a similar GMM with 4 clusters on the *original high-dimensional data* and see if we do as clean a job separating out the \"Legendary\" pokemon:"
   ]
  },
  {
   "cell_type": "code",
   "execution_count": null,
   "id": "1857334a",
   "metadata": {},
   "outputs": [],
   "source": [
    "# Use these columns as the basis for our high-dimensional GMM\n",
    "cols = ['HP', 'Attack', 'Defense', 'Sp. Atk', 'Sp. Def', 'Speed']\n",
    "\n",
    "# Then, fit a GMM and assign the labels to our original data \n",
    "# we call them 'highd_lab' to differentiate from the PCA labels ('pca_lab')\n",
    "pokemon['highd_lab'] = GaussianMixture(n_components = 4, random_state = 1).fit_predict(X = pokemon.loc[:, cols])\n",
    "pokemon"
   ]
  },
  {
   "cell_type": "markdown",
   "id": "6848e577",
   "metadata": {},
   "source": [
    "How did we do here? Did these clusters also identify our \"Legendary\" pokemon?\n",
    "\n",
    "One drawback of doing the high-dimensional clustering is that it's not easy to visualize our data in this many dimensions!\n",
    "\n",
    "Instead, we can resort to a summary based on counting the percent of \"Legendary\" pokemon assigned to each of our high dimensional clusters:"
   ]
  },
  {
   "cell_type": "code",
   "execution_count": null,
   "id": "05b7159d",
   "metadata": {},
   "outputs": [],
   "source": [
    "highd_summary = pokemon.groupby(\"highd_lab\").agg(\n",
    "    Legendary = (\"Legendary\", \"sum\"),\n",
    ").reset_index()\n",
    "\n",
    "highd_summary['Legendary_pct'] = highd_summary['Legendary'] / np.sum(highd_summary['Legendary'])\n",
    "highd_summary"
   ]
  },
  {
   "cell_type": "markdown",
   "id": "a009488a",
   "metadata": {},
   "source": [
    "We did... not great. We have about 23% of our \"Legendary\" pokemon in one cluster, 58% in another, and 19% in a third. \n",
    "\n",
    "How does this compare to our PCA-based clusters above, using only the first two principal components?"
   ]
  },
  {
   "cell_type": "code",
   "execution_count": null,
   "id": "0d170161",
   "metadata": {},
   "outputs": [],
   "source": [
    "lowd_summary = pokemon.groupby(\"pca_lab\").agg(\n",
    "    Legendary = (\"Legendary\", \"sum\"),\n",
    ").reset_index()\n",
    "\n",
    "lowd_summary['Legendary_pct'] = lowd_summary['Legendary'] / np.sum(lowd_summary['Legendary'])\n",
    "lowd_summary"
   ]
  },
  {
   "cell_type": "markdown",
   "id": "fa45b8c3",
   "metadata": {},
   "source": [
    "With PCA and only *two* dimensions, we put 83% of our \"Legendary\" pokemon into a single cluster and less than 10% in the others. This is much better!"
   ]
  },
  {
   "cell_type": "markdown",
   "id": "f8baecfc",
   "metadata": {},
   "source": [
    "***What's the point of all this?***\n",
    "\n",
    "When we take our high-dimensional data and use a dimensionality reduction technique like PCA to identify the primary axes that our data varies on, this can actually help us understand our data **better** than in its original form. \n",
    "\n",
    "Here, for example, we saw that the primary axis along which our data varies does a pretty good job of separating out \"Legendary\" pokemon from the others. Clustering algorithms based on just the first two principal components do a better job isolating these pokemon than the same algorithms applied to our original data!\n",
    "\n"
   ]
  },
  {
   "cell_type": "markdown",
   "id": "e7402e43",
   "metadata": {},
   "source": [
    "***"
   ]
  },
  {
   "cell_type": "markdown",
   "id": "ea1846d7",
   "metadata": {},
   "source": [
    "### Evaluating PCA along individual dimensions\n",
    "\n"
   ]
  },
  {
   "cell_type": "code",
   "execution_count": null,
   "id": "8b56f4e3",
   "metadata": {},
   "outputs": [],
   "source": [
    "cols = ['HP', 'Attack', 'Defense', 'Sp. Atk', 'Sp. Def', 'Speed']\n",
    "\n",
    "pokemon_subset = pokemon.loc[:, cols]\n",
    "\n",
    "# Fit the PCA class to our data with just two principal components\n",
    "pca2 = PCA(n_components = 2).fit(pokemon_subset)\n",
    "\n",
    "# Transform our data onto these two principal components\n",
    "pca2_vals = pd.DataFrame(pca2.transform(pokemon.loc[:, cols]), columns = [\"PC1\", \"PC2\"])\n",
    "pca2_vals\n",
    "\n",
    "# Add the transformed data to our dataframe\n",
    "pokemon_subset = pd.concat([pokemon_subset, pca2_vals], axis = 1)\n",
    "pokemon_subset\n",
    "\n",
    "# Run the \"inverse transform\" of our data projected onto the principal components\n",
    "inv_transform = pca2.inverse_transform(pca2.transform(pokemon.loc[:, cols]))\n",
    "inv_transform\n",
    "\n",
    "# Make a dataframe of the new predictions and add it to our original dataframe for comparison\n",
    "pca2_preds = pd.DataFrame(inv_transform, columns = [elem + \"_pred\" for elem in cols])\n",
    "pca2_preds\n",
    "\n",
    "pokemon_subset = pd.concat([pokemon_subset, pca2_preds], axis = 1)\n",
    "pokemon_subset"
   ]
  },
  {
   "cell_type": "code",
   "execution_count": null,
   "id": "6719783b",
   "metadata": {},
   "outputs": [],
   "source": [
    "# What is the difference between our original values and our \"predicted\" values?\n",
    "pokemon_subset[cols] - pca2.inverse_transform(pca2.transform(pokemon_subset[cols]))"
   ]
  },
  {
   "cell_type": "code",
   "execution_count": null,
   "id": "3357675a",
   "metadata": {},
   "outputs": [],
   "source": [
    "# What is the mean of these differences squared in each column?\n",
    "((pokemon_subset[cols] - pca2.inverse_transform(pca2.transform(pokemon_subset[cols])))**2).mean()"
   ]
  },
  {
   "cell_type": "markdown",
   "id": "2a04eb1a",
   "metadata": {},
   "source": [
    "**What does this tell us?**\n",
    "\n",
    "The mean squared error for each of our columns when we project them onto the principal components gives us an indication of how much information we lose when we project our original data in high dimensions onto (in this case) just two principal components.\n",
    "\n",
    "Now, we can calculate something kind of like $R^2$ to see how much of the variance in each column's individual values is accounted for by the principal component predictions."
   ]
  },
  {
   "cell_type": "code",
   "execution_count": null,
   "id": "a832d247",
   "metadata": {},
   "outputs": [],
   "source": [
    "# This is the mean total sum of squares for each column (essentially the variance)\n",
    "((pokemon_subset[cols] - pokemon_subset[cols].mean())**2).mean()"
   ]
  },
  {
   "cell_type": "code",
   "execution_count": null,
   "id": "1b47aba9",
   "metadata": {},
   "outputs": [],
   "source": [
    "# When we divide the mean sum of squared \"residuals\" by the mean total sum of squares (and subtract from 1),\n",
    "# this gives us an R^2 metric for our PCA broken out by each column\n",
    "1 - (((pokemon_subset[cols] - pca2.inverse_transform(pca2.transform(pokemon_subset[cols])))**2).mean() / ((pokemon_subset[cols] - pokemon_subset[cols].mean())**2).mean())"
   ]
  },
  {
   "cell_type": "code",
   "execution_count": null,
   "id": "647542cb",
   "metadata": {},
   "outputs": [],
   "source": []
  },
  {
   "cell_type": "code",
   "execution_count": null,
   "id": "1fa9fd31",
   "metadata": {},
   "outputs": [],
   "source": []
  }
 ],
 "metadata": {
  "interpreter": {
   "hash": "e774977668b7c0ae8309835a5187aa7fbf7669e7d0bb59755bc63e573643edcd"
  },
  "kernelspec": {
   "display_name": "Python 3.7.4 64-bit",
   "language": "python",
   "name": "python3"
  },
  "language_info": {
   "codemirror_mode": {
    "name": "ipython",
    "version": 3
   },
   "file_extension": ".py",
   "mimetype": "text/x-python",
   "name": "python",
   "nbconvert_exporter": "python",
   "pygments_lexer": "ipython3",
   "version": "3.7.4"
  }
 },
 "nbformat": 4,
 "nbformat_minor": 5
}
