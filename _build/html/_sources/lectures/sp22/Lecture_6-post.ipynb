{
 "cells": [
  {
   "cell_type": "markdown",
   "id": "faffd32c",
   "metadata": {},
   "source": [
    "# Lecture 6 (4/8/22)"
   ]
  },
  {
   "cell_type": "markdown",
   "id": "9eff3fbf",
   "metadata": {},
   "source": [
    "*Last time we covered:*\n",
    "- numpy continuation\n",
    "- pandas basics"
   ]
  },
  {
   "cell_type": "markdown",
   "id": "1a7fcedb",
   "metadata": {},
   "source": [
    "**Today's agenda:**\n",
    "- Processing data with pandas"
   ]
  },
  {
   "cell_type": "code",
   "execution_count": null,
   "id": "53182e4a",
   "metadata": {},
   "outputs": [],
   "source": [
    "import pandas as pd\n",
    "import numpy as np"
   ]
  },
  {
   "cell_type": "markdown",
   "id": "757e65df",
   "metadata": {},
   "source": [
    "# Creating new dataframes"
   ]
  },
  {
   "cell_type": "markdown",
   "id": "611f29de",
   "metadata": {},
   "source": [
    "It's worth noting: there are *many* different ways to do operations like dataframe creation in pandas. \n",
    "\n",
    "This is probably the most intuitive but you may come across others!"
   ]
  },
  {
   "cell_type": "code",
   "execution_count": null,
   "id": "0a44bf92",
   "metadata": {},
   "outputs": [],
   "source": [
    "# First let's initialize some data\n",
    "# Typically, we want to think of our data as being lists of the stuff in each column\n",
    "uc_schools = np.array([\"Berkeley\", \"San Diego\", \"Los Angeles\", \"Santa Barbara\", \"San Francisco\", \n",
    "                       \"Irvine\", \"Davis\", \"Riverside\", \"Santa Cruz\", \"Merced\"])\n",
    "uc_founded = [1868, 1960, 1919, 1909, 1864, 1965, 1905, 1954, 1965, 2005]\n",
    "uc_students = pd.Series([45057, 42875, 45742, 26314, 3132, 35220, 40031, 25548, 19161, 8847])\n",
    "uc_grads = np.zeros((10))\n",
    "\n",
    "\n",
    "\n",
    "\n",
    "\n",
    "\n",
    "\n",
    "\n",
    "\n",
    "\n",
    "\n",
    "# Now let's put it in a dataframe!\n",
    "uc_data = pd.DataFrame({ # start by declaring a new data frame\n",
    "    \"Campus\": uc_schools, # each column name is a dictionary key and the list of column data points is the value\n",
    "    \"Date_founded\": uc_founded,\n",
    "    \"Number_of_students\": uc_students,\n",
    "#     \"grads\": uc_grads\n",
    "})\n",
    "\n",
    "uc_data"
   ]
  },
  {
   "cell_type": "markdown",
   "id": "1e7c4ab9",
   "metadata": {},
   "source": [
    "We will likely find ourselves reading in data more often than creating new dataframes, but it's occassionally useful and good to know how to do it!"
   ]
  },
  {
   "cell_type": "markdown",
   "id": "73cf7938",
   "metadata": {},
   "source": [
    "# Adding data to existing dataframes"
   ]
  },
  {
   "cell_type": "markdown",
   "id": "3a1191ab",
   "metadata": {},
   "source": [
    "## Adding columns (common!)"
   ]
  },
  {
   "cell_type": "markdown",
   "id": "72bf1652",
   "metadata": {},
   "source": [
    "We may often find ourselves adding columns to a dataframe, e.g., creating columns that represent our existing data in a new way"
   ]
  },
  {
   "cell_type": "code",
   "execution_count": null,
   "id": "f7cc9b09",
   "metadata": {},
   "outputs": [],
   "source": [
    "# One option: when we have new data to add\n",
    "uc_undergrads = pd.Series([33343, 31543, 23349, 0, 30222, 31162, 22055, 17207, 8151, 31814],\n",
    "                         index = [\"San Diego\", \"Los Angeles\", \"Santa Barbara\", \"San Francisco\", \n",
    "                       \"Irvine\", \"Davis\", \"Riverside\", \"Santa Cruz\", \"Merced\", \"Berkeley\"])\n",
    "\n",
    "# uc_undergrads.index = [\"Berkeley\", \"San Diego\", \"Los Angeles\", \"Santa Barbara\", \"San Francisco\", \n",
    "#                        \"Irvine\", \"Davis\", \"Riverside\", \"Santa Cruz\", \"Merced\"]\n",
    "\n",
    "uc_data.index = [\"Berkeley\", \"San Diego\", \"Los Angeles\", \"Santa Barbara\", \"San Francisco\", \n",
    "                       \"Irvine\", \"Davis\", \"Riverside\", \"Santa Cruz\", \"Merced\"]\n",
    "\n",
    "# uc_undergrads\n",
    "uc_data['Undergraduates'] = uc_undergrads # Use bracket syntax to declare a new column\n",
    "\n",
    "uc_data"
   ]
  },
  {
   "cell_type": "code",
   "execution_count": null,
   "id": "5c7e97db",
   "metadata": {},
   "outputs": [],
   "source": [
    "# A second option: when we want to process existing data and form a new column\n",
    "\n",
    "uc_data = uc_data.assign(Undergraduate_pct = uc_data['Undergraduates'] / uc_data['Number_of_students'])\n",
    "\n",
    "# uc_data['Undergraduate_pct'] = uc_data['Undergraduates'] / uc_data['Number_of_students']\n",
    "\n",
    "uc_data # Note what happens if we don't do the re-assignment above\n",
    "\n",
    "uc_data = uc_data.assign(Total = uc_data['Undergraduates']+ uc_data['Number_of_students'])\n",
    "\n",
    "uc_data\n",
    "# For this sort of processing, we can also use similar syntax to the above (try it yourself!)\n",
    "# but `assign` gives us some additional flexibility"
   ]
  },
  {
   "cell_type": "markdown",
   "id": "36ee4c72",
   "metadata": {},
   "source": [
    "## Adding rows"
   ]
  },
  {
   "cell_type": "code",
   "execution_count": null,
   "id": "acd3f51c",
   "metadata": {},
   "outputs": [],
   "source": [
    "# Let's say the UC system decides it's long overdue to build a campus in Lake Tahoe near the Nevada border. \n",
    "# We want to add some projected data\n",
    "\n",
    "# First, we make our new row into a dataframe of its own, with matching columns\n",
    "uc_tahoe = pd.DataFrame({\n",
    "    \"Campus\": [\"Lake Tahoe\"],\n",
    "    \"Date founded\": [2022] # Note we don't need to know all the column info here\n",
    "})\n",
    "\n",
    "uc_tahoe"
   ]
  },
  {
   "cell_type": "code",
   "execution_count": null,
   "id": "6687cb00",
   "metadata": {},
   "outputs": [],
   "source": [
    "# Next, we use `concat` to add it to the previous dataframe\n",
    "uc_data = pd.concat([uc_data, uc_tahoe])\n",
    "\n",
    "uc_data"
   ]
  },
  {
   "cell_type": "markdown",
   "id": "8e3aba92",
   "metadata": {},
   "source": [
    "# Processing data: filtering, grouping, summarizing"
   ]
  },
  {
   "cell_type": "markdown",
   "id": "83ac3846",
   "metadata": {},
   "source": [
    "First, note that some operations can be done on our dataframe without having to use filtering or grouping"
   ]
  },
  {
   "cell_type": "code",
   "execution_count": null,
   "id": "eccbe9aa",
   "metadata": {},
   "outputs": [],
   "source": [
    "uc_data = uc_data.sort_values('Date_founded', ascending = True)\n",
    "uc_data\n",
    "\n",
    "# Note this doesn't change index at far left!"
   ]
  },
  {
   "cell_type": "code",
   "execution_count": null,
   "id": "2166eec5",
   "metadata": {},
   "outputs": [],
   "source": [
    "print(uc_data.max())"
   ]
  },
  {
   "cell_type": "code",
   "execution_count": null,
   "id": "714e0e02",
   "metadata": {},
   "outputs": [],
   "source": [
    "print(uc_data['Number_of_students'].min())"
   ]
  },
  {
   "cell_type": "markdown",
   "id": "c217f160",
   "metadata": {},
   "source": [
    "## Filtering: fetch rows that meet certain conditions"
   ]
  },
  {
   "cell_type": "markdown",
   "id": "90692cbd",
   "metadata": {},
   "source": [
    "### Filtering operations given by pandas"
   ]
  },
  {
   "cell_type": "markdown",
   "id": "75167a9f",
   "metadata": {},
   "source": [
    "We can do some kinds of filtering with built-in operations like `nlargest`"
   ]
  },
  {
   "cell_type": "code",
   "execution_count": null,
   "id": "3d30dfcb",
   "metadata": {},
   "outputs": [],
   "source": [
    "top_3_students = uc_data.nlargest(3, 'Number_of_students')\n",
    "top_3_students"
   ]
  },
  {
   "cell_type": "markdown",
   "id": "e4df7df7",
   "metadata": {},
   "source": [
    "### Logical filtering"
   ]
  },
  {
   "cell_type": "markdown",
   "id": "cb54a75b",
   "metadata": {},
   "source": [
    "Most often, we filter by setting logical criteria over certain column values"
   ]
  },
  {
   "cell_type": "code",
   "execution_count": null,
   "id": "8e7fa6a8",
   "metadata": {},
   "outputs": [],
   "source": [
    "# Get quantiles of undergraduate sizes\n",
    "q = uc_data['Undergraduates'].quantile([0.25, 0.75])\n",
    "q[0.75]\n"
   ]
  },
  {
   "cell_type": "code",
   "execution_count": null,
   "id": "5d1f4a54",
   "metadata": {},
   "outputs": [],
   "source": [
    "# Fetch uc_data rows where uc_data['Undergraduates'] is > the 75th percentile value above\n",
    "large_undergrads = uc_data[uc_data['Undergraduates'] > q[0.75]] \n",
    "large_undergrads"
   ]
  },
  {
   "cell_type": "markdown",
   "id": "e1ab8743",
   "metadata": {},
   "source": [
    "*How does this work?*"
   ]
  },
  {
   "cell_type": "code",
   "execution_count": null,
   "id": "c5fa9894",
   "metadata": {},
   "outputs": [],
   "source": [
    "uc_data['Undergraduates'] > q[0.75]"
   ]
  },
  {
   "cell_type": "markdown",
   "id": "48ed6c98",
   "metadata": {},
   "source": [
    "So in the code above, we're basically saying \"fetch the rows where this condition evaluates to `True`\".\n",
    "\n",
    "Note this can get much more complicated..."
   ]
  },
  {
   "cell_type": "code",
   "execution_count": null,
   "id": "f7af6585",
   "metadata": {},
   "outputs": [],
   "source": [
    "# What's going on here?\n",
    "max_undergrad = uc_data[uc_data['Undergraduates'] == uc_data['Undergraduates'].max()]\n",
    "max_undergrad"
   ]
  },
  {
   "cell_type": "markdown",
   "id": "86cdf455",
   "metadata": {},
   "source": [
    "### Why is this useful?"
   ]
  },
  {
   "cell_type": "markdown",
   "id": "7c52c514",
   "metadata": {},
   "source": [
    "Let's ask: what is the average number of undergraduates in the schools with the most students overall"
   ]
  },
  {
   "cell_type": "code",
   "execution_count": null,
   "id": "1e642db8",
   "metadata": {},
   "outputs": [],
   "source": [
    "q = uc_data['Number_of_students'].quantile([0.2, 0.80])\n",
    "# type(q)\n",
    "# q.index\n",
    "q[0.8]\n",
    "\n",
    "# What's going on here?\n",
    "uc_data[uc_data['Number_of_students'] >= q[0.8]]['Undergraduates'].mean()\n",
    "uc_data[uc_data['Number_of_students'] >= q[0.2]]['Undergraduates'].mean()\n",
    "# uc_data[uc_data['Number_of_students'] >= q[0.4]]['Undergraduates'].mean()"
   ]
  },
  {
   "cell_type": "markdown",
   "id": "61761e75",
   "metadata": {},
   "source": [
    "Here, we applied some statistics to a filtered subset of our data. \n",
    "\n",
    "Imagine we wanted the same average for *each quartile* of student numbers, instead of just the top 20%.\n",
    "\n",
    "This kind of thing is pretty common: this is where grouping comes in. "
   ]
  },
  {
   "cell_type": "markdown",
   "id": "8e18120f",
   "metadata": {},
   "source": [
    "## Grouping and summarizing: analyze and graph your data"
   ]
  },
  {
   "cell_type": "markdown",
   "id": "42050471",
   "metadata": {},
   "source": [
    "First let's read in some more complex data.\n",
    "\n",
    "What's going on with this data?"
   ]
  },
  {
   "cell_type": "code",
   "execution_count": null,
   "id": "434caa71",
   "metadata": {},
   "outputs": [],
   "source": [
    "# pokemon = pd.read_csv(\"../Datasets/Pokemon.csv\")\n",
    "# Use this code in class\n",
    "pokemon = pd.read_csv(\"https://raw.githubusercontent.com/UCSD-CSS-002/ucsd-css-002.github.io/master/datasets/Pokemon.csv\")\n",
    "pokemon"
   ]
  },
  {
   "cell_type": "markdown",
   "id": "49b68dd6",
   "metadata": {},
   "source": [
    "Let's say we want to know which `Type 1` group has the most `HP` on average\n",
    "[any guesses?]"
   ]
  },
  {
   "cell_type": "code",
   "execution_count": null,
   "id": "7c583ef0",
   "metadata": {},
   "outputs": [],
   "source": [
    "# First, what are we dealing with here?\n",
    "pokemon['Type 1'].value_counts()"
   ]
  },
  {
   "cell_type": "markdown",
   "id": "2d329330",
   "metadata": {},
   "source": [
    "One solution: \n",
    "1. Look at each individual `Type 1` value in our data\n",
    "2. Then, one by one, filter the data to match each unique `Type 1` value\n",
    "3. Then, compute the average `HP` in that filtered data\n",
    "4. Then save it somewhere else to keep track of \n",
    "5. Then see which one is largest\n",
    "\n",
    "This seems pretty tough..."
   ]
  },
  {
   "cell_type": "markdown",
   "id": "35b26aa6",
   "metadata": {},
   "source": [
    "Let's start with something simpler: how many of each kind of `Type 1` pokemon are there?"
   ]
  },
  {
   "cell_type": "code",
   "execution_count": null,
   "id": "9275a59a",
   "metadata": {},
   "outputs": [],
   "source": [
    "pokemon.groupby(['Type 1']).size().reset_index()"
   ]
  },
  {
   "cell_type": "markdown",
   "id": "7a66c37c",
   "metadata": {},
   "source": [
    "Above, we just asked pandas to tell us the value of `size()` applied to each unique group of `Type 1` pokemon.\n",
    "\n",
    "Can we do the same thing but for more complex operations than `size()`? You bet!"
   ]
  },
  {
   "cell_type": "code",
   "execution_count": null,
   "id": "08efc51d",
   "metadata": {},
   "outputs": [],
   "source": [
    "pokemon.groupby(['Type 1']).agg( # .agg is our friend here!\n",
    "    mean_hp = ('HP', np.mean) # this defines a new statistic over each grouping. Apply `np.mean` to the `HP` column\n",
    ").reset_index()\n"
   ]
  },
  {
   "cell_type": "markdown",
   "id": "8a7111bf",
   "metadata": {},
   "source": [
    "We don't need to stop there. We can group by multiple variables and add multiple metrics!"
   ]
  },
  {
   "cell_type": "code",
   "execution_count": null,
   "id": "067df166",
   "metadata": {},
   "outputs": [],
   "source": [
    "type1_hp_summary = pokemon.groupby(\n",
    "    ['Type 1', 'Legendary'] # Note we're now grouping by each combination of Type 1 and Legendary\n",
    ").agg(\n",
    "    mean_hp = ('HP', np.mean), # And we're compiling multiple statistics here\n",
    "    min_hp = ('HP', np.min),\n",
    "    max_hp = ('HP', np.max)\n",
    ").reset_index()\n",
    "\n",
    "type1_hp_summary"
   ]
  },
  {
   "cell_type": "markdown",
   "id": "d3f5d09b",
   "metadata": {},
   "source": [
    "Now we can apply the filtering we discussed above for example."
   ]
  },
  {
   "cell_type": "code",
   "execution_count": null,
   "id": "364bbe6b",
   "metadata": {},
   "outputs": [],
   "source": [
    "type1_hp_summary.nlargest(5, 'mean_hp')"
   ]
  },
  {
   "cell_type": "markdown",
   "id": "05dc840a",
   "metadata": {},
   "source": [
    "## Let's practice!"
   ]
  },
  {
   "cell_type": "code",
   "execution_count": null,
   "id": "efa25384",
   "metadata": {},
   "outputs": [],
   "source": []
  },
  {
   "cell_type": "markdown",
   "id": "1ef1f599",
   "metadata": {},
   "source": [
    "In each `Generation`, how many different `Type 1` and `Type 2` types are there? (did they change across generations?)\n",
    "\n",
    "[HINT: use the `nunique` summary function]"
   ]
  },
  {
   "cell_type": "code",
   "execution_count": null,
   "id": "002bca8a",
   "metadata": {},
   "outputs": [],
   "source": [
    "# Write here\n",
    "\n",
    "\n",
    "\n",
    "\n",
    "\n",
    "\n",
    "\n",
    "\n",
    "\n",
    "\n",
    "\n",
    "\n",
    "\n",
    "\n",
    "# SOLUTION\n",
    "# pokemon.groupby('Generation').agg(\n",
    "#     type1_types = ('Type 1', 'nunique'),\n",
    "#     type2_types = ('Type 2', 'nunique')\n",
    "# ).reset_index()"
   ]
  },
  {
   "cell_type": "markdown",
   "id": "433cccde",
   "metadata": {},
   "source": [
    "Make a new column called `Composite_force` that's the average of each pokemon's `Attack`, `Defense`, and `Speed` values.\n",
    "\n",
    "Next, for each `Type 1` type, what is the maximum of this new column?"
   ]
  },
  {
   "cell_type": "code",
   "execution_count": null,
   "id": "0f64ead2",
   "metadata": {
    "scrolled": true
   },
   "outputs": [],
   "source": [
    "# Write here\n",
    "\n",
    "\n",
    "\n",
    "\n",
    "\n",
    "\n",
    "\n",
    "\n",
    "\n",
    "\n",
    "\n",
    "\n",
    "\n",
    "\n",
    "\n",
    "\n",
    "# SOLUTION\n",
    "# pokemon = pokemon.assign(\n",
    "#     Composite_force = (pokemon['Attack'] + pokemon['Defense'] + pokemon['Speed'])/3\n",
    "# )\n",
    "\n",
    "# max_force = pokemon.groupby(['Generation']).agg(\n",
    "#     max_force = ('Composite_force', np.max)\n",
    "# ).reset_index()"
   ]
  }
 ],
 "metadata": {
  "interpreter": {
   "hash": "e774977668b7c0ae8309835a5187aa7fbf7669e7d0bb59755bc63e573643edcd"
  },
  "kernelspec": {
   "display_name": "Python 3 (clean)",
   "language": "python",
   "name": "python3"
  },
  "language_info": {
   "codemirror_mode": {
    "name": "ipython",
    "version": 3
   },
   "file_extension": ".py",
   "mimetype": "text/x-python",
   "name": "python",
   "nbconvert_exporter": "python",
   "pygments_lexer": "ipython3",
   "version": "3.7.4"
  }
 },
 "nbformat": 4,
 "nbformat_minor": 5
}
