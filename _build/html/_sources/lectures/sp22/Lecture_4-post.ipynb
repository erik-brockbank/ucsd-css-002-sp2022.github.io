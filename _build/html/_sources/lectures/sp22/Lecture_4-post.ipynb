{
 "cells": [
  {
   "cell_type": "markdown",
   "id": "b24ac7b1",
   "metadata": {},
   "source": [
    "# Lecture 4 (4/4/22)"
   ]
  },
  {
   "cell_type": "markdown",
   "id": "6f726a3f",
   "metadata": {},
   "source": [
    "*Last time we covered:*\n",
    "- Data structures: lists, dictionaries, sets\n",
    "- Loops & conditions"
   ]
  },
  {
   "cell_type": "markdown",
   "id": "39877291",
   "metadata": {},
   "source": [
    "**Today's agenda:**\n",
    "- Datahub\n",
    "- Functions\n",
    "- numpy basics"
   ]
  },
  {
   "cell_type": "markdown",
   "id": "dd022661",
   "metadata": {},
   "source": [
    "### First, a little motivation"
   ]
  },
  {
   "cell_type": "markdown",
   "id": "ab938cf4",
   "metadata": {},
   "source": [
    "![jobs](img/hiring.png)"
   ]
  },
  {
   "cell_type": "markdown",
   "id": "fa88929e",
   "metadata": {},
   "source": [
    "# Datahub"
   ]
  },
  {
   "cell_type": "markdown",
   "id": "bb79e26c",
   "metadata": {},
   "source": [
    "- This week's lab will be available on datahub.ucsd.edu during the first lab session today. \n",
    "\n",
    "- In lab, Purva will go over how to pull assignments down on datahub and help you work through the lab problems.\n",
    "\n",
    "- This lab will be coding practice that should help a lot with this week's problem set :) and will be due next week before lab."
   ]
  },
  {
   "cell_type": "markdown",
   "id": "a519a2da",
   "metadata": {},
   "source": [
    "# Functions"
   ]
  },
  {
   "cell_type": "markdown",
   "id": "6b74a2ca",
   "metadata": {},
   "source": [
    "Understanding why we use functions, how to write them, and how things can go wrong are really important to coding at all levels. I can't stress this enough! \n",
    "\n",
    "We won't have as much time to dedicate to functions as we should so if any of this feels shaky, please reach out!\n",
    "\n",
    "1. What are functions for?\n",
    "2. How to write them\n",
    "3. If time: scoping"
   ]
  },
  {
   "cell_type": "code",
   "execution_count": null,
   "id": "47011a11",
   "metadata": {},
   "outputs": [],
   "source": [
    "\"\"\"\n",
    "Function cookbook\n",
    "    def name_of_function([optional: parameters]):\n",
    "        CODE HERE\n",
    "        [optional: return X]\n",
    "    \n",
    "\"\"\"\n",
    "\n",
    "# Simple example: how to add two numbers\n",
    "def add_two_numbers(num1, num2):\n",
    "    num1 += 1\n",
    "    return num1 + num2\n",
    "\n",
    "\n",
    "num1 = 5\n",
    "num2 = 6\n",
    "new_number = add_two_numbers(num1, num2)\n",
    "new_number\n",
    "\n",
    "num1\n",
    "\n",
    "\n"
   ]
  },
  {
   "cell_type": "code",
   "execution_count": null,
   "id": "cbb65cb2",
   "metadata": {},
   "outputs": [],
   "source": [
    "# More tricky example: let's solve the fizzbuzz problem using a function!\n",
    "# See: https://en.wikipedia.org/wiki/Fizz_buzz\n",
    "\n",
    "# Write a function called fizz_buzz that takes in a list of numbers from 1 - 1000 and return a new list modified\n",
    "# to match the rules of fizz buzz\n",
    "# If a number is divisible by 3: we replace it with \"fizz\"\n",
    "# If a number is divisible by 5: we replace it with \"buzz\"\n",
    "# If a number is divisible by 3 *and* 5, we replace it with \"fizzbuzz\"\n",
    "# Otherwise, we keep the same number\n",
    "\n",
    "def fizz_buzz(number_list):\n",
    "    # iterate through each number in the list (`for` loop)\n",
    "    # check if the number is divisible by 3 *and* 5\n",
    "    # if it is: replace with \"fizzbuzz\"\n",
    "    # if it isn't: check if the number is divisible by 3\n",
    "        # if it is: replace with \"fizz\"\n",
    "    # check if the number is divisible by 5\n",
    "        # if it is: replace with \"buzz\"\n",
    "    # if it isn't divisible by any of these: maybe put the original number in there?\n",
    "    for i in range(len(number_list)):\n",
    "        if number_list[i] % 3 == 0 and number_list[i] % 5 == 0:\n",
    "            number_list[i] = \"fizzbuzz\"\n",
    "        elif number_list[i] % 3 == 0:\n",
    "            number_list[i] = \"fizz\"\n",
    "        elif number_list[i] % 5 == 0:\n",
    "            number_list[i] = \"buzz\"\n",
    "\n",
    "    return number_list\n",
    "\n",
    "\n",
    "test_list = list(range(1, 21))\n",
    "# test_list\n",
    "fizz_buzz_test = fizz_buzz(test_list)\n",
    "fizz_buzz_test\n",
    "\n",
    "real_list_for_real = list(range(1, 1001))\n",
    "fizz_buzz_supreme = fizz_buzz(real_list_for_real)\n",
    "# fizz_buzz_supreme"
   ]
  },
  {
   "cell_type": "code",
   "execution_count": null,
   "id": "4ebf8c65",
   "metadata": {},
   "outputs": [],
   "source": [
    "# If time: function scope\n",
    "# Ex. passing in the fizzbuzz list, modifying in the function w/o returning it\n",
    "\n",
    "\n"
   ]
  },
  {
   "cell_type": "markdown",
   "id": "a047b06b",
   "metadata": {},
   "source": [
    "That's it on functions. You're going to practice writing a relatively simple function in this week's lab. This week's problem set will involve several problems that require slighly more complex functions, so if this still feels shaky by the end of this week, come on by office hours!"
   ]
  },
  {
   "cell_type": "markdown",
   "id": "63c0b70f",
   "metadata": {},
   "source": [
    "# Numpy!"
   ]
  },
  {
   "cell_type": "markdown",
   "id": "b974455c",
   "metadata": {},
   "source": [
    "## First, what is numpy??"
   ]
  },
  {
   "cell_type": "markdown",
   "id": "a8239106",
   "metadata": {},
   "source": [
    "Numpy is a python library that's made to support *fast* and *reliable* scientific computing. Cool. "
   ]
  },
  {
   "cell_type": "code",
   "execution_count": null,
   "id": "cef1ec09",
   "metadata": {},
   "outputs": [],
   "source": [
    "import numpy as np\n"
   ]
  },
  {
   "cell_type": "markdown",
   "id": "3ff1cd74",
   "metadata": {},
   "source": [
    "For our purposes, there are two primary things we need to know about numpy:\n",
    "1. It's based around using *numpy arrays* instead of traditional python lists\n",
    "2. It offers a wide range of mathematical tools and operations over these arrays\n",
    "\n",
    "What's the difference?\n",
    "    "
   ]
  },
  {
   "cell_type": "code",
   "execution_count": null,
   "id": "a3bf4311",
   "metadata": {},
   "outputs": [],
   "source": [
    "boring_list = [1, 2, 3, 4, 5, 6]\n",
    "cool_array = np.array([1, 2, 3, 4, 5, 6])\n",
    "\n",
    "print(type(boring_list))\n",
    "print(type(cool_array))"
   ]
  },
  {
   "cell_type": "code",
   "execution_count": null,
   "id": "c3d0f212",
   "metadata": {},
   "outputs": [],
   "source": [
    "# How to square our list of numbers above?\n",
    "\n",
    "y = [val**2 for val in boring_list] # traditional python list comprehension\n",
    "\n",
    "y = np.square(cool_array) # numpy syntax: we do the operation over the array (no iteration, nice tidy operation)\n",
    "\n",
    "y"
   ]
  },
  {
   "cell_type": "markdown",
   "id": "d24efaaf",
   "metadata": {},
   "source": [
    "There's a lot more to say about numpy arrays and array operations than we'll have time for. \n",
    "\n",
    "It's worth peeking a bit at their [website](https://numpy.org/doc/stable/user/absolute_beginners.html) to get a deeper explanation of some of this stuff. "
   ]
  },
  {
   "cell_type": "markdown",
   "id": "186af840",
   "metadata": {},
   "source": [
    "## Numpy arrays: more than meets the eye"
   ]
  },
  {
   "cell_type": "markdown",
   "id": "493423f6",
   "metadata": {},
   "source": [
    "One important and fundamental difference between numpy arrays and python lists is that arrays have to have the same kind of object inside them."
   ]
  },
  {
   "cell_type": "markdown",
   "id": "e457cadd",
   "metadata": {},
   "source": [
    "**First**, this helps avoid some of the pitfalls of traditional python lists."
   ]
  },
  {
   "cell_type": "code",
   "execution_count": null,
   "id": "db673429",
   "metadata": {},
   "outputs": [],
   "source": [
    "confusing_list = [1, 2, '3', '4', 5.0]\n",
    "confusing_list # python lets us put different kinds of stuff in a list..."
   ]
  },
  {
   "cell_type": "code",
   "execution_count": null,
   "id": "adee16ed",
   "metadata": {},
   "outputs": [],
   "source": [
    "# ...but when we try to do operations with it, that can get us into trouble\n",
    "[elem + 1 for elem in confusing_list]"
   ]
  },
  {
   "cell_type": "code",
   "execution_count": null,
   "id": "9b154c32",
   "metadata": {},
   "outputs": [],
   "source": [
    "clear_array = np.array([1, 2, '3', '4', 5.0])\n",
    "clear_array # numpy automatically chooses a format for these values"
   ]
  },
  {
   "cell_type": "code",
   "execution_count": null,
   "id": "51c4a24b",
   "metadata": {},
   "outputs": [],
   "source": [
    "clear_array = np.array([1, 2, '3', '4', 5.0], dtype='float') # or we can set one ourselves\n",
    "clear_array"
   ]
  },
  {
   "cell_type": "code",
   "execution_count": null,
   "id": "fd4e7658",
   "metadata": {},
   "outputs": [],
   "source": [
    "clear_array + 1 # that lets us operate on them super easily"
   ]
  },
  {
   "cell_type": "markdown",
   "id": "1492f53f",
   "metadata": {},
   "source": [
    "**Second**, operating with numpy arrays can make our code a lot cleaner."
   ]
  },
  {
   "cell_type": "code",
   "execution_count": null,
   "id": "a96fc669",
   "metadata": {},
   "outputs": [],
   "source": [
    "import random\n",
    "\n",
    "# Let's make a python list of 10000 random values between 0 and 1\n",
    "x = [random.random() for _ in range(10000)]\n",
    "print(x[:10])"
   ]
  },
  {
   "cell_type": "code",
   "execution_count": null,
   "id": "27a41382",
   "metadata": {},
   "outputs": [],
   "source": [
    "# Now, we want a new list that calculates 1/x\n",
    "y = []\n",
    "for value in x:\n",
    "    y.append(1/value)\n",
    "print(y[:10])"
   ]
  },
  {
   "cell_type": "code",
   "execution_count": null,
   "id": "aa9d27d0",
   "metadata": {},
   "outputs": [],
   "source": [
    "# The code above is pretty clunky. With numpy, it's super straightforward.\n",
    "array_x = np.asarray(x)\n",
    "\n",
    "array_y = 1/array_x\n",
    "array_y"
   ]
  },
  {
   "cell_type": "markdown",
   "id": "64a7f3d8",
   "metadata": {},
   "source": [
    "**Third**, this makes operations with numpy arrays *way faster*. Like, a lot. "
   ]
  },
  {
   "cell_type": "code",
   "execution_count": null,
   "id": "815d3551",
   "metadata": {},
   "outputs": [],
   "source": [
    "import random\n",
    "x = [random.random() for _ in range(10000)] \n",
    "array_x = np.asarray(x)"
   ]
  },
  {
   "cell_type": "code",
   "execution_count": null,
   "id": "35d86f37",
   "metadata": {},
   "outputs": [],
   "source": [
    "# How long does it take to square everything in our list with normal python operations?\n",
    "%timeit y = [val**2 for val in x]"
   ]
  },
  {
   "cell_type": "code",
   "execution_count": null,
   "id": "ecfabdfe",
   "metadata": {},
   "outputs": [],
   "source": [
    "# What about with numpy?\n",
    "%timeit array_y = np.square(array_x)"
   ]
  },
  {
   "cell_type": "markdown",
   "id": "8bd11584",
   "metadata": {},
   "source": [
    "**Why are numpy operations so different from operating on python lists?**\n",
    "\n",
    "Numpy operations use *vectorization* on numpy arrays, meaning that the the operation is performed on the whole array at once (for the person coding), rather than having to iterate through the list ([source](https://numpy.org/doc/stable/user/whatisnumpy.html)).\n",
    "\n",
    "![numpy](img/numpy.png)\n"
   ]
  },
  {
   "cell_type": "markdown",
   "id": "2e4832c8",
   "metadata": {},
   "source": [
    "## Numpy arrays -> matrices"
   ]
  },
  {
   "cell_type": "markdown",
   "id": "5367436a",
   "metadata": {},
   "source": [
    "The numpy array generalizes to matrices and supports a lot of simple slicing and dicing. \n",
    "\n",
    "While we likely won't use numpy matrices as much in this course, it's worth knowing about them."
   ]
  },
  {
   "cell_type": "code",
   "execution_count": null,
   "id": "62c30936",
   "metadata": {},
   "outputs": [],
   "source": [
    "a = np.ones((3, 2))\n",
    "print(a)\n",
    "\n",
    "rng = np.random.default_rng(0)\n",
    "a = rng.random((3, 2))\n",
    "print(a)"
   ]
  },
  {
   "cell_type": "code",
   "execution_count": null,
   "id": "abbbe3d5",
   "metadata": {},
   "outputs": [],
   "source": [
    "print(a.ndim) # number of dimensions\n",
    "print(a.shape) # number of values in each dimension\n",
    "print(a.size) # total number of cells"
   ]
  },
  {
   "cell_type": "code",
   "execution_count": null,
   "id": "090d979c",
   "metadata": {},
   "outputs": [],
   "source": [
    "print(np.max(a)) # maximum operation over the whole matrix\n",
    "print(np.max(a, axis = 0)) # maximum operation can specify an \"axis\": 0 (columns) or 1 (rows)"
   ]
  },
  {
   "cell_type": "markdown",
   "id": "b97604b7",
   "metadata": {},
   "source": [
    "## One more thing: `pandas` is built on numpy"
   ]
  },
  {
   "cell_type": "markdown",
   "id": "f56b1507",
   "metadata": {},
   "source": [
    "It's good to be familiar with numpy syntax and functions:\n",
    "- Sometimes we'll use them in our code (esp. the super fast numpy operations)\n",
    "- And some things we do in pandas will be similar to numpy"
   ]
  }
 ],
 "metadata": {
  "interpreter": {
   "hash": "e774977668b7c0ae8309835a5187aa7fbf7669e7d0bb59755bc63e573643edcd"
  },
  "kernelspec": {
   "display_name": "Python 3 (clean)",
   "language": "python",
   "name": "python3"
  },
  "language_info": {
   "codemirror_mode": {
    "name": "ipython",
    "version": 3
   },
   "file_extension": ".py",
   "mimetype": "text/x-python",
   "name": "python",
   "nbconvert_exporter": "python",
   "pygments_lexer": "ipython3",
   "version": "3.7.4"
  }
 },
 "nbformat": 4,
 "nbformat_minor": 5
}
