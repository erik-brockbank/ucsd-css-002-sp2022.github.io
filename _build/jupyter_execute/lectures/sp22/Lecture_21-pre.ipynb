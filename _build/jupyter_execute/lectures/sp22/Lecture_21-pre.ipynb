{
 "cells": [
  {
   "cell_type": "markdown",
   "id": "62c7e6f5",
   "metadata": {},
   "source": [
    "# Lecture 21 (5/13/2022)"
   ]
  },
  {
   "cell_type": "markdown",
   "id": "a1ea5e3d",
   "metadata": {},
   "source": [
    "**Announcements**\n",
    "\n"
   ]
  },
  {
   "cell_type": "markdown",
   "id": "cac90fc6",
   "metadata": {},
   "source": [
    "*Last time we covered:*\n",
    "- Common classification models\n",
    "\n",
    "**Today's agenda:**\n",
    "- Classification wrap-up: SVMs and beyond!\n",
    "- Computational social science science ethics\n"
   ]
  },
  {
   "cell_type": "code",
   "execution_count": 1,
   "id": "aa6ebecc",
   "metadata": {},
   "outputs": [],
   "source": [
    "import numpy as np\n",
    "import pandas as pd\n",
    "import matplotlib.pyplot as plt\n",
    "import seaborn as sns\n",
    "\n",
    "from sklearn.model_selection import train_test_split"
   ]
  },
  {
   "cell_type": "markdown",
   "id": "a8587dd7",
   "metadata": {},
   "source": [
    "# Common Classification Models cont'd."
   ]
  },
  {
   "cell_type": "markdown",
   "id": "b9e6db3d",
   "metadata": {},
   "source": [
    "**Initialize our data**\n",
    "\n",
    "Reminder: predictors of Coronary Heart Disease, [source](https://hastie.su.domains/ElemStatLearn/).\n"
   ]
  },
  {
   "cell_type": "code",
   "execution_count": 2,
   "id": "dca0e547",
   "metadata": {},
   "outputs": [],
   "source": [
    "data = pd.read_csv('https://web.stanford.edu/~hastie/ElemStatLearn/datasets/SAheart.data')\n",
    "data\n",
    "\n",
    "x_vals = np.array(data['age']).reshape(len(data), 1)\n",
    "y_vals = np.array(data['chd'])\n",
    "\n",
    "xtrain, xtest, ytrain, ytest = train_test_split(x_vals, y_vals, random_state = 1)"
   ]
  },
  {
   "cell_type": "code",
   "execution_count": 3,
   "id": "2ce04f43",
   "metadata": {},
   "outputs": [
    {
     "data": {
      "text/plain": [
       "Text(0, 0.5, 'CHD')"
      ]
     },
     "execution_count": 3,
     "metadata": {},
     "output_type": "execute_result"
    },
    {
     "data": {
      "image/png": "[encoded data removed]",
      "text/plain": [
       "<Figure size 432x288 with 1 Axes>"
      ]
     },
     "metadata": {
      "filenames": {
       "image/png": "/Users/erikbrockbank/web/teaching/ucsd-css-002-sp2022.github.io/_build/jupyter_execute/lectures/sp22/Lecture_21-pre_7_1.png"
      },
      "needs_background": "light"
     },
     "output_type": "display_data"
    }
   ],
   "source": [
    "sns.scatterplot(x = xtrain[:, 0], y = ytrain)\n",
    "# sns.scatterplot(x = xtest[:, 0], y = ytest)\n",
    "plt.xlabel(\"Age\")\n",
    "plt.ylabel(\"CHD\")"
   ]
  },
  {
   "cell_type": "markdown",
   "id": "dab90f84",
   "metadata": {},
   "source": [
    "## Support Vector Machines (SVMs)\n",
    "\n",
    "Support Vector Machines work by trying to find a line or plane (usually in a high-dimensional space) that *maximally separates* the training labels in that space. \n",
    "\n",
    "The intuition for this is relatively straightforward but the implementation can get complicated!\n",
    "\n",
    "In the plot below, the linear funtion $h_3(x_1, x_2)$ is the best way to separate our training data because it maximizes the margin on either side of the line.\n",
    "\n",
    "SVMs try to find the equivalent of $h_3$ given some training data. This separator can be defined by the closest points in the data to the line; these are called the \"support vectors\". Finding the best separator usually requires mapping the training data into a high-dimensional space where it can be effectively separated.\n",
    "\n",
    "![svm](img/svm2.png)\n",
    "\n",
    "([Source](https://en.wikipedia.org/wiki/Support-vector_machine))"
   ]
  },
  {
   "cell_type": "markdown",
   "id": "b707638e",
   "metadata": {},
   "source": [
    "### SVMs in python\n",
    "\n",
    "The documentation for SVMs in scikit-learn is [here](https://scikit-learn.org/stable/modules/generated/sklearn.svm.SVC.html)."
   ]
  },
  {
   "cell_type": "code",
   "execution_count": 4,
   "id": "df6d30e2",
   "metadata": {},
   "outputs": [
    {
     "data": {
      "text/plain": [
       "SVC()"
      ]
     },
     "execution_count": 4,
     "metadata": {},
     "output_type": "execute_result"
    }
   ],
   "source": [
    "from sklearn.svm import SVC\n",
    "\n",
    "svm = SVC()\n",
    "\n",
    "svm.fit(xtrain, ytrain)"
   ]
  },
  {
   "cell_type": "markdown",
   "id": "12a47dfa",
   "metadata": {},
   "source": [
    "In the case of SVMs, there are class attributes that help you recover the separator that was fit.\n",
    "\n",
    "We won't get into these but if you're interested in learning more it's good to know about!"
   ]
  },
  {
   "cell_type": "code",
   "execution_count": 5,
   "id": "6ba6b288",
   "metadata": {},
   "outputs": [
    {
     "data": {
      "image/png": "[encoded data removed]",
      "text/plain": [
       "<Figure size 432x288 with 1 Axes>"
      ]
     },
     "metadata": {
      "filenames": {
       "image/png": "/Users/erikbrockbank/web/teaching/ucsd-css-002-sp2022.github.io/_build/jupyter_execute/lectures/sp22/Lecture_21-pre_12_0.png"
      },
      "needs_background": "light"
     },
     "output_type": "display_data"
    },
    {
     "data": {
      "image/png": "[encoded data removed]",
      "text/plain": [
       "<Figure size 432x288 with 1 Axes>"
      ]
     },
     "metadata": {
      "filenames": {
       "image/png": "/Users/erikbrockbank/web/teaching/ucsd-css-002-sp2022.github.io/_build/jupyter_execute/lectures/sp22/Lecture_21-pre_12_1.png"
      },
      "needs_background": "light"
     },
     "output_type": "display_data"
    }
   ],
   "source": [
    "# svm.intercept_\n",
    "# svm.coef_ # only for 'linear' kernel\n",
    "# svm.support_vectors_\n",
    "# svm.support_\n",
    "\n",
    "# For example, we can view the items in the training set that formed the support vector\n",
    "sns.scatterplot(x = xtrain[:, 0], y = ytrain)\n",
    "plt.title(\"Training data\")\n",
    "plt.show()\n",
    "\n",
    "sns.scatterplot(x = xtrain[svm.support_][:, 0], y = ytrain[svm.support_])\n",
    "plt.title(\"Support vectors\")\n",
    "plt.show()"
   ]
  },
  {
   "cell_type": "markdown",
   "id": "c85f949f",
   "metadata": {},
   "source": [
    "The SVM class has a `score` function that returns the accuracy of a test set, plus prediction functions."
   ]
  },
  {
   "cell_type": "code",
   "execution_count": 6,
   "id": "fcbd63fe",
   "metadata": {},
   "outputs": [
    {
     "data": {
      "text/plain": [
       "0.646551724137931"
      ]
     },
     "execution_count": 6,
     "metadata": {},
     "output_type": "execute_result"
    }
   ],
   "source": [
    "# Percent of correct classifications\n",
    "svm.score(X = xtrain, y = ytrain)\n",
    "svm.score(X = xtest, y = ytest)"
   ]
  },
  {
   "cell_type": "code",
   "execution_count": 7,
   "id": "f7e8508f",
   "metadata": {},
   "outputs": [
    {
     "data": {
      "text/plain": [
       "array([0, 0, 0, 0, 1, 0, 0, 1, 0, 1, 1, 0, 0, 1, 0, 0, 0, 1, 0, 0, 0, 0,\n",
       "       0, 0, 0, 1, 0, 0, 1, 1, 1, 0, 0, 0, 0, 0, 0, 1, 0, 0, 0, 0, 0, 1,\n",
       "       0, 0, 1, 0, 1, 0, 0, 1, 1, 1, 0, 0, 0, 0, 1, 1, 0, 0, 0, 0, 1, 1,\n",
       "       0, 0, 0, 0, 0, 0, 0, 0, 0, 0, 0, 1, 0, 0, 1, 1, 0, 1, 1, 0, 1, 1,\n",
       "       0, 1, 0, 0, 1, 0, 1, 0, 0, 0, 0, 0, 0, 0, 1, 0, 1, 1, 0, 0, 1, 0,\n",
       "       0, 1, 0, 0, 0, 1])"
      ]
     },
     "execution_count": 7,
     "metadata": {},
     "output_type": "execute_result"
    }
   ],
   "source": [
    "ypreds = svm.predict(X = xtest)\n",
    "ypreds"
   ]
  },
  {
   "cell_type": "markdown",
   "id": "7a89b677",
   "metadata": {},
   "source": [
    "However, soft prediction requires configuring the initial model to do soft classification (by default, SVMs are made to only do hard classification)."
   ]
  },
  {
   "cell_type": "code",
   "execution_count": 8,
   "id": "24263ecc",
   "metadata": {},
   "outputs": [
    {
     "data": {
      "text/plain": [
       "array([[0.76933614, 0.23066386],\n",
       "       [0.77048218, 0.22951782],\n",
       "       [0.71680033, 0.28319967],\n",
       "       [0.77000393, 0.22999607],\n",
       "       [0.38906564, 0.61093436],\n",
       "       [0.7693514 , 0.2306486 ],\n",
       "       [0.77473392, 0.22526608],\n",
       "       [0.48462904, 0.51537096],\n",
       "       [0.77048218, 0.22951782],\n",
       "       [0.3943812 , 0.6056188 ],\n",
       "       [0.42747946, 0.57252054],\n",
       "       [0.76978542, 0.23021458],\n",
       "       [0.7693514 , 0.2306486 ],\n",
       "       [0.39658574, 0.60341426],\n",
       "       [0.76777941, 0.23222059],\n",
       "       [0.71680033, 0.28319967],\n",
       "       [0.77029537, 0.22970463],\n",
       "       [0.51976714, 0.48023286],\n",
       "       [0.76777941, 0.23222059],\n",
       "       [0.7746238 , 0.2253762 ],\n",
       "       [0.76936097, 0.23063903],\n",
       "       [0.76936097, 0.23063903],\n",
       "       [0.7508805 , 0.2491195 ],\n",
       "       [0.77048218, 0.22951782],\n",
       "       [0.76933614, 0.23066386],\n",
       "       [0.41009142, 0.58990858],\n",
       "       [0.77048218, 0.22951782],\n",
       "       [0.76153853, 0.23846147],\n",
       "       [0.41009142, 0.58990858],\n",
       "       [0.38906564, 0.61093436],\n",
       "       [0.45345106, 0.54654894],\n",
       "       [0.76864247, 0.23135753],\n",
       "       [0.77048218, 0.22951782],\n",
       "       [0.76712728, 0.23287272],\n",
       "       [0.76864247, 0.23135753],\n",
       "       [0.59434272, 0.40565728],\n",
       "       [0.76938329, 0.23061671],\n",
       "       [0.40758449, 0.59241551],\n",
       "       [0.76857657, 0.23142343],\n",
       "       [0.59434272, 0.40565728],\n",
       "       [0.76938329, 0.23061671],\n",
       "       [0.76777941, 0.23222059],\n",
       "       [0.77279737, 0.22720263],\n",
       "       [0.55707755, 0.44292245],\n",
       "       [0.76863294, 0.23136706],\n",
       "       [0.77000393, 0.22999607],\n",
       "       [0.42747946, 0.57252054],\n",
       "       [0.76938329, 0.23061671],\n",
       "       [0.40758449, 0.59241551],\n",
       "       [0.76933614, 0.23066386],\n",
       "       [0.76153853, 0.23846147],\n",
       "       [0.41009142, 0.58990858],\n",
       "       [0.48462904, 0.51537096],\n",
       "       [0.39658574, 0.60341426],\n",
       "       [0.66088831, 0.33911169],\n",
       "       [0.77208063, 0.22791937],\n",
       "       [0.77029537, 0.22970463],\n",
       "       [0.71680033, 0.28319967],\n",
       "       [0.40758449, 0.59241551],\n",
       "       [0.45345106, 0.54654894],\n",
       "       [0.77473392, 0.22526608],\n",
       "       [0.77029537, 0.22970463],\n",
       "       [0.62943962, 0.37056038],\n",
       "       [0.76978542, 0.23021458],\n",
       "       [0.55707755, 0.44292245],\n",
       "       [0.3943812 , 0.6056188 ],\n",
       "       [0.76153853, 0.23846147],\n",
       "       [0.76153853, 0.23846147],\n",
       "       [0.77208063, 0.22791937],\n",
       "       [0.76864247, 0.23135753],\n",
       "       [0.76938329, 0.23061671],\n",
       "       [0.76938329, 0.23061671],\n",
       "       [0.77473392, 0.22526608],\n",
       "       [0.77042055, 0.22957945],\n",
       "       [0.76913607, 0.23086393],\n",
       "       [0.7688928 , 0.2311072 ],\n",
       "       [0.76870163, 0.23129837],\n",
       "       [0.3943812 , 0.6056188 ],\n",
       "       [0.7693514 , 0.2306486 ],\n",
       "       [0.77000393, 0.22999607],\n",
       "       [0.48462904, 0.51537096],\n",
       "       [0.55707755, 0.44292245],\n",
       "       [0.76857657, 0.23142343],\n",
       "       [0.42747946, 0.57252054],\n",
       "       [0.51976714, 0.48023286],\n",
       "       [0.76913607, 0.23086393],\n",
       "       [0.38820911, 0.61179089],\n",
       "       [0.48462904, 0.51537096],\n",
       "       [0.7508805 , 0.2491195 ],\n",
       "       [0.45345106, 0.54654894],\n",
       "       [0.76712728, 0.23287272],\n",
       "       [0.77019241, 0.22980759],\n",
       "       [0.38820911, 0.61179089],\n",
       "       [0.77473392, 0.22526608],\n",
       "       [0.38906564, 0.61093436],\n",
       "       [0.77370999, 0.22629001],\n",
       "       [0.77048218, 0.22951782],\n",
       "       [0.77370999, 0.22629001],\n",
       "       [0.77048218, 0.22951782],\n",
       "       [0.76933614, 0.23066386],\n",
       "       [0.77370999, 0.22629001],\n",
       "       [0.62943962, 0.37056038],\n",
       "       [0.42747946, 0.57252054],\n",
       "       [0.76864247, 0.23135753],\n",
       "       [0.42747946, 0.57252054],\n",
       "       [0.39658574, 0.60341426],\n",
       "       [0.76864247, 0.23135753],\n",
       "       [0.76864247, 0.23135753],\n",
       "       [0.55707755, 0.44292245],\n",
       "       [0.59434272, 0.40565728],\n",
       "       [0.77000393, 0.22999607],\n",
       "       [0.38820911, 0.61179089],\n",
       "       [0.77000393, 0.22999607],\n",
       "       [0.77370999, 0.22629001],\n",
       "       [0.76153853, 0.23846147],\n",
       "       [0.38820911, 0.61179089]])"
      ]
     },
     "execution_count": 8,
     "metadata": {},
     "output_type": "execute_result"
    }
   ],
   "source": [
    "svm_soft = SVC(probability = True) # indicate that you want the SVM to do soft classification\n",
    "svm_soft.fit(X = xtrain, y = ytrain)\n",
    "\n",
    "ypreds_soft = svm_soft.predict_proba(X = xtest)\n",
    "ypreds_soft"
   ]
  },
  {
   "cell_type": "markdown",
   "id": "13aad56e",
   "metadata": {},
   "source": [
    "Note: ROC curves require this soft prediction"
   ]
  },
  {
   "cell_type": "code",
   "execution_count": 9,
   "id": "0f356c5b",
   "metadata": {},
   "outputs": [
    {
     "data": {
      "image/png": "[encoded data removed]",
      "text/plain": [
       "<Figure size 432x288 with 1 Axes>"
      ]
     },
     "metadata": {
      "filenames": {
       "image/png": "/Users/erikbrockbank/web/teaching/ucsd-css-002-sp2022.github.io/_build/jupyter_execute/lectures/sp22/Lecture_21-pre_19_0.png"
      },
      "needs_background": "light"
     },
     "output_type": "display_data"
    }
   ],
   "source": [
    "from sklearn.metrics import roc_curve\n",
    "\n",
    "# ROC curve\n",
    "fpr, tpr, thresholds = roc_curve(\n",
    "    y_true = ytest,\n",
    "    y_score = ypreds_soft[:, 1],\n",
    "    pos_label = 1\n",
    ")\n",
    "\n",
    "\n",
    "sns.lineplot(x = fpr, y = tpr)\n",
    "plt.axline(xy1 = (0, 0), slope = 1, c = \"r\")\n",
    "\n",
    "plt.xlabel(\"FPR\")\n",
    "plt.ylabel(\"TPR\")\n",
    "plt.show()"
   ]
  },
  {
   "cell_type": "markdown",
   "id": "6329dcc1",
   "metadata": {},
   "source": [
    "***"
   ]
  },
  {
   "cell_type": "markdown",
   "id": "55a02ecc",
   "metadata": {},
   "source": [
    "# Classifier Wrap-Up\n",
    "\n",
    "This is just a sample of what's out there!\n",
    "\n",
    "There are a number of other common classifiers you should take a look at if you're interested:\n",
    "- Naive Bayes ([here](https://scikit-learn.org/stable/modules/naive_bayes.html))\n",
    "- Discriminant analysis ([linear](https://scikit-learn.org/stable/modules/generated/sklearn.discriminant_analysis.LinearDiscriminantAnalysis.html) and [quadratic](https://scikit-learn.org/stable/modules/generated/sklearn.discriminant_analysis.QuadraticDiscriminantAnalysis.html))\n",
    "- Neural networks ([here](https://scikit-learn.org/stable/modules/generated/sklearn.neural_network.MLPClassifier.html))\n",
    "- Random forests ([here](https://scikit-learn.org/stable/modules/generated/sklearn.ensemble.RandomForestClassifier.html)) (related to decision trees)\n",
    "- Gradient boosted trees ([here](https://scikit-learn.org/stable/modules/generated/sklearn.ensemble.GradientBoostingClassifier.html))\n",
    "- ...\n",
    "\n",
    "The main goal of this lecture is to show you some of the creative ways that people solve classification problems and how the scikit-learn library supports these solutions. \n",
    "\n",
    "This should empower you to go off and try some of these other ones on your own!"
   ]
  },
  {
   "cell_type": "markdown",
   "id": "b67a6c7c",
   "metadata": {},
   "source": [
    "***"
   ]
  },
  {
   "cell_type": "markdown",
   "id": "c8e3d210",
   "metadata": {},
   "source": [
    "# Ethics in computational social science\n",
    "\n",
    "## Overview\n",
    "\n",
    "- Why discuss ethics of computational social science?\n",
    "- What are some of the most salient principles we should adhere to, and how do they arise?\n",
    "    - Be sensitive to personal privacy\n",
    "    - Be sensitive to bias and inequality\n",
    "    - Be sensitive to models that can have unethical agency of their own!\n"
   ]
  },
  {
   "cell_type": "markdown",
   "id": "6431eba8",
   "metadata": {},
   "source": [
    "## Why discuss ethics of computational social science?"
   ]
  },
  {
   "cell_type": "markdown",
   "id": "dd3c9964",
   "metadata": {},
   "source": [
    "**1. Issues of fairness and ethical use of data arise *the moment* you start building models**\n",
    "\n",
    "This is from the same `sklearn` dataset repository that we've been drawing on all quarter!\n",
    "\n",
    "![boston](img/boston_housing.png)\n",
    "\n",
    "([Source](https://scikit-learn.org/stable/modules/generated/sklearn.datasets.load_boston.html))\n"
   ]
  },
  {
   "cell_type": "markdown",
   "id": "91367957",
   "metadata": {},
   "source": [
    "**2. These issues are more and more prescient as rich computational modeling infiltrates our lives**\n",
    "\n",
    "![ai_spend](img/ai_spend.png)\n",
    "\n",
    "([Source](https://news.harvard.edu/gazette/story/2020/10/ethical-concerns-mount-as-ai-takes-bigger-decision-making-role/))\n"
   ]
  },
  {
   "cell_type": "markdown",
   "id": "30172803",
   "metadata": {},
   "source": [
    "**Failure to adhere to ethical standards in computational social science can have serious impacts**\n",
    "\n",
    "There are many examples of the consequences of misusing the tools we learn in this class; today we'll cover a handful but you may be familiar with others already!\n",
    "\n",
    "Note: many of the examples and topics we'll discuss today extend well beyond the basics of computational social science. However, more advanced artificial intelligence is built on many of the same techniques and ideas as the modeling we've been discussing this quarter (and will talk about in the next 2-3 weeks). \n",
    "\n",
    "Therefore, it's worth thinking about these issues even as general practitioners of modeling and computational work!"
   ]
  },
  {
   "cell_type": "markdown",
   "id": "3808685a",
   "metadata": {},
   "source": [
    "## Ethics Position: be sensitive to ways your models can violate privacy\n",
    "\n",
    "**The availability of massive behavioral datasets online offers a rich opportunity for research and modeling.**\n",
    "\n",
    "However, in some cases, collection of certain kinds of data may run against existing legal frameworks.\n",
    "\n",
    "![facebook](img/facebook.png)\n",
    "\n",
    "([Source](https://techcrunch.com/2022/02/14/texas-attorney-general-files-lawsuit-against-meta-over-facebooks-facial-recognition-technology/))\n",
    "\n",
    "In other cases, ethics of data collection can be more subtle. \n",
    "- For example, most human behavior experiments require informed consent from participants. \n",
    "\n",
    "*If you're using data to train a model, should you have to obtain consent from the people whose data you're using?*"
   ]
  },
  {
   "cell_type": "markdown",
   "id": "11d72cd5",
   "metadata": {},
   "source": [
    "**People's data, even when it is meant to keep identities safe, may be easily de-anonymized by adversarial actors when it is made publicly available.**\n",
    "\n",
    "![netflix](img/netflix.png)\n",
    "\n",
    "([Source](https://arxiv.org/pdf/cs/0610105.pdf))\n",
    "\n",
    "***What happened here??* The Netflix Challenge is a canonical example of good intentions gone awry.**\n",
    "- The key to de-anonymization (in this case) was aligning information in the Netflix dataset with other publicly available info (IMDB reviews) to learn *new* information from the Netflix dataset."
   ]
  },
  {
   "cell_type": "markdown",
   "id": "57b9ffc1",
   "metadata": {},
   "source": [
    "**When this data contains medical information or potentially sensitive consumer records, the consequences of de-anonymization can be serious.**\n",
    "\n",
    "![jane-doe](img/jane_doe.png)\n",
    "\n",
    "([Source](https://www.wired.com/2009/12/netflix-privacy-lawsuit/))\n",
    "\n",
    "\n",
    "**Take-away: data that is meant to protect privacy may not always do so.**\n",
    "\n",
    "Be aware of this any time you're generating, distributing, or working with large datasets."
   ]
  },
  {
   "cell_type": "markdown",
   "id": "6d4a7f88",
   "metadata": {},
   "source": [
    "***What else can you do?***\n",
    "\n",
    "- There *are* ways to safeguard people's data and use it responsibly. But it requires thoughtful and responsible engineering.\n",
    "- Lots of debate about whether certain data should be collected in the first place. This has led to interesting ideas about how to do good modeling *without* keeping sensitive data around.\n",
    "\n",
    "![apple](img/apple.png)\n",
    "\n",
    "([Source](https://ui.adsabs.harvard.edu/abs/2021arXiv210203316C/abstract); see more approachable blog post [here](https://machinelearning.apple.com/research/learning-with-privacy-at-scale))\n",
    "\n",
    "**Take-away (more positive): respect for user privacy can open the door to innovative modeling and data science.**\n",
    "\n"
   ]
  },
  {
   "cell_type": "markdown",
   "id": "9e8ff11f",
   "metadata": {},
   "source": [
    "## Ethics Position: be sensitive to ways your models can introduce bias or inequality\n",
    "\n",
    "Much of the conversation around ethics in AI and computational modeling focuses on the risks of models introducing or reinforcing bias and inequality.  \n",
    "\n",
    "In 2022, I probably don't need to tell you that this can have very serious consequences for people's lives and livelihoods. \n",
    "\n",
    "Here, the problem is typically that the model is trained or otherwise relies on data that is fundamentally biased or lacks representation. As a result, the *predictive features* the model learns for classification, regression, or other processes have the same underlying bias(es). \n",
    "\n",
    "**This is an important concept in all modeling contexts, sometimes called \"garbage in, garbage out\"**. In general terms, it says that shortcomings or misrepresentations in your data will emerge in your model.\n",
    "\n",
    "Below, I'm going to walk through a few examples of how bias or inequality can arise in important settings, and the complications of thinking about computational models of decision making in these settings.\n",
    "\n",
    "\n",
    "### Criminal justice\n",
    "\n",
    "As noted in our classification intro lecture, classification and similar classes of models are in widespread use in the criminal justice system, where they take in data about a defendant's prior history and other information that might help in making sentencing or parole decisions, then make recommendations based on the perceived risk of recidivism.\n",
    "\n",
    "![nyt_rai](img/nyt_rai.png)\n",
    "\n",
    "([Source](https://www.nytimes.com/2020/02/06/technology/predictive-algorithms-crime.html))\n",
    "\n",
    "However, these algorithms have faced widespread criticism for reinforcing racial biases in the criminal justice system due to their reliance on prior criminal records, which are seen as disproportionately punishing black people.\n",
    "\n",
    "![mit_rai](img/mit_rai.png)\n",
    "\n",
    "([Source](https://www.technologyreview.com/2019/01/21/137783/algorithms-criminal-justice-ai/))\n",
    "\n",
    "\n",
    ">\"One of the most concerning possible sources of bias can come from the historical outcomes that an RAI [risk assessment instrument] learns to predict. If these outcomes are the product of unfair practices, it is possible that any derivative model will learn to replicate them, rather than predict the true underlying risk for misconduct.\"\n",
    "\n",
    "Part of what makes this issue difficult is that in many cases, these tools may be replacing people who are just as fallible:\n",
    "\n",
    ">\"The authors found that if judges had used their proposed checklist-style model to determine pretrial release, decisions would have been more consistent across cases, and they would have detained 30% fewer defendants overall without a corresponding rise in pretrial misconduct.\"\n",
    "\n",
    "([Source](https://www.brookings.edu/research/understanding-risk-assessment-instruments-in-criminal-justice/))\n",
    "\n",
    "\n",
    "The strain on the criminal justice system creates increasing demand for algorithmic solutions even as many people object to their use:\n",
    "\n",
    ">\"Last July, more than 100 civil rights and community-based organizations, including the ACLU and the NAACP, signed a statement urging against the use of risk assessment. At the same time, more and more jurisdictions and states, including California, have turned to them in a hail-Mary effort to fix their overburdened jails and prisons.\"\n",
    "\n",
    "([Source](https://www.technologyreview.com/2019/01/21/137783/algorithms-criminal-justice-ai/))\n",
    "\n",
    "*Is this a problem of reinforcing bad decisions with biased data, or improving on fallible human decisions with more systematic policies?*\n",
    "\n",
    "\n",
    "### Hiring\n",
    "\n",
    "Another area where computational models can support more efficient decision making is when hiring people.\n",
    "\n",
    "Here, the model can use a rich set of inputs related to a candidate's qualifications and make recommendations about their fit for a role.\n",
    "\n",
    "As with criminal justice, this is an area where advocates argue that the use of algorithmic tools can improve fairness and avoid human biases (note that's not what the article below is about):\n",
    "\n",
    "![hiring_bias](img/hiring_bias.png)\n",
    "\n",
    "([Source](https://hbr.org/2019/06/how-to-reduce-personal-bias-when-hiring))\n",
    "\n",
    "However, here again we encounter concerns that the algorithms themselves have biases of their own.\n",
    "\n",
    "![amazon](img/amazon.png)\n",
    "\n",
    "([Source](https://www.reuters.com/article/us-amazon-com-jobs-automation-insight/amazon-scraps-secret-ai-recruiting-tool-that-showed-bias-against-women-idUSKCN1MK08G))\n",
    "\n",
    "Once again, these biases arise because of biases in the underlying data that the algorithms were trained with.\n",
    "\n",
    "![amazon_bias](img/amazon_bias.png)\n",
    "\n",
    "(Source: same as above)\n",
    "\n",
    "*How can these systems be improved to avoid these issues?*\n"
   ]
  },
  {
   "cell_type": "markdown",
   "id": "9d4fe9e7",
   "metadata": {},
   "source": [
    "## Ethics Position: be sensitive to ways your models can be misused or behave unethically\n",
    "\n",
    "Whereas concerns about data that is biased or violates privacy have been around for a little while, the possibility of AI acting in unexpected ways or being used unethically is a growing issue.\n",
    "\n",
    "Here, we'll talk about two different versions of this concern (but there are probably others!):\n",
    "1. Models in bad hands\n",
    "2. Models doing bad things on their own(ish)\n",
    "\n",
    "Note: this category of modeling ethics is often thought of or described in very futuristic terms (\"the AI takeover\"). In some cases, the concerns people have are very forward-looking. But, as some of the examples below illustrate, people run up against this concern in much more benign ways. \n",
    "\n",
    "\n",
    "### Models in the hands of \"bad actors\"\n",
    "\n",
    "Large artificial intelligence models are created for many different purposes (including basic research), but people have also pointed out out various ways in which they can be used for unethical purposes.\n",
    "\n",
    "Here's a fun example from discussions about recent advances in \"Large Language Models\". \n",
    "\n",
    "![ai_papers](img/ai_papers.png)\n",
    "\n",
    "The author points out that this concern isn't limited to students: teachers could just as easily ask a language model like this to evaluate student short answer responses. \n",
    "\n",
    "This is probably *not* what the designers of large language models had in mind. \n",
    "\n",
    "**Does this mean we shouldn't build large language models?**\n",
    "\n",
    "No, but it does underscore the need to be thoughtful about the unexpected uses of our models!\n",
    "\n",
    "\n",
    "### Models making bad decisions of their own\n",
    "\n",
    "Increasingly, we may find ourselves trusting large computational models in risky or high-stakes scenarios. In some cases, this may represent a welcome change!\n",
    "\n",
    "However, it's important to be aware of the ways that this trust can lead to AI behavior that challenges our ethics. \n",
    "\n",
    "The example often used in this conversation is self-driving cars.\n",
    "\n",
    "![self_driving](img/tesla.png)\n",
    "\n",
    "([Source](https://www.washingtonpost.com/nation/2021/04/19/tesla-texas-driverless-crash/))\n",
    "\n",
    "In the above example, it was an error by the self-driving model that led to the crash. \n",
    "\n",
    "However, in this case, the Tesla software was not found to be at fault because the driver had enough time to override and correct the car's self-driving.\n",
    "\n",
    "**While concerns about the testing and reliability of self-driving car software are important, so too is the fact that driving accidents are a leading cause of death *without* self-driving cars.**\n",
    "\n",
    "> \"Despite claims to the contrary, self-driving cars currently have a higher rate of accidents than human-driven cars, but the injuries are less severe. On average, there are 9.1 self-driving car accidents per million miles driven, while the same rate is 4.1 crashes per million miles for regular vehicles.\"\n",
    "\n",
    "([Source](https://www.natlawreview.com/article/dangers-driverless-cars))\n",
    "\n",
    "\n",
    "### Hybrid: models in the hands of \"bad actors\" making bad decisions\n",
    "\n",
    "In some cases, the line between a model behaving badly on its own and being used for nefarious purposes can be a litte blurry. \n",
    "\n",
    "Here's a fairly canonical example. In 2016, Microsoft released a chat bot named \"Tay\" whose purpose was to learn novel uses of language by engaging with people on Twitter:\n",
    "\n",
    "\n",
    "![Tay](img/Tay.png)\n",
    "\n",
    "([Source](https://spectrum.ieee.org/in-2016-microsofts-racist-chatbot-revealed-the-dangers-of-online-conversation))\n",
    "\n",
    "**Unfortunately, things very quickly went South for Tay...**\n",
    "\n",
    "Tay was shut down after only 16 hours online. *Why?*\n",
    "- Tay began unexpectedly tweeting racist and highly offensive content\n",
    "- Once again, this is presumably not what her engineers had in mind...\n",
    "\n",
    "**How did this happen?**\n",
    "\n",
    "A concerted effort of online users were able to steer the model's language learning through the inputs they provided. \n",
    "\n",
    "![Tay_downfall](img/Tay_downfall.png)\n",
    "\n",
    "(Source: same as above)"
   ]
  },
  {
   "cell_type": "markdown",
   "id": "41d5b3b9",
   "metadata": {},
   "source": [
    "# Summary\n",
    "\n",
    "How can we think about a more general framework for ethics in modeling? \n",
    "\n",
    "This is beyond the scope of this lecture (and my knowledge!), but here are some guideposts:\n",
    "\n",
    "\n",
    "## Data considerations (inputs)\n",
    "\n",
    "Most of the issues outlined above center on *data*, the model's *inputs*.\n",
    "- Models used in business and public sector work often require large amounts of data to train and validate.\n",
    "- This raises ethical concerns about the data's *source* and its *representativeness*. \n",
    "\n",
    "Here are some things you should think about when modeling large datasets:\n",
    "\n",
    "1. Where does your data *come from*?\n",
    "- Collecting and distributing this data can introduce concerns around privacy and consent\n",
    "\n",
    "2. Is your data *representative*?\n",
    "- If your data has significant biases or doesn't represent certain populations, your model risks making predictions, classifications, or recommendations that reflect these same biases or omissions.\n",
    "\n",
    "\n",
    "## Model behavior considerations (outputs)\n",
    "\n",
    "Not all of the ethical considerations that arise with modeling and AI are centered on data. In some cases, the model's *behavior itself* may be deemed unethical.\n",
    "\n",
    "Here are some things worth considering when it comes to the model's *output*:\n",
    "\n",
    "1. Could this model be a problem in the hands of *bad actors*?\n",
    "- Models that are initially constructed for one purpose can be misused. What are the potential consequences?\n",
    "- Note: potential bad consequences don't mean we *shouldn't* use the model, but it's an important discussion.\n",
    "\n",
    "2. Could this model engage in behavior that would be considered unethical or harmful through its normal operations?\n",
    "- Models that are used in high stakes settings (e.g., driving) may make decisions that can harm others. What kinds of harm or undesired behavior can we anticipate when leveraging a model?\n",
    "- Note: once again, the potential for harm may not be in and of itself a reason to avoid the model (self-driving cars are likely to get in accidents) but once again, this is an important discussion to have.\n",
    "\n",
    "\n",
    "## Future Directions\n",
    "\n",
    "Issues of ethical AI and modeling are at the forefront of many public policy debates. \n",
    "\n",
    "If you're interested in this, take a look at discussions of \"transparent\" or \"explainable\" AI ([wikipedia](https://en.wikipedia.org/wiki/Explainable_artificial_intelligence)), or other specific initiatives aimed at providing oversight into how AI gets used in various setting (e.g. [this](https://pretrialrisk.com/) group for monitoring use of risk assessment tools in criminal settings).\n"
   ]
  },
  {
   "cell_type": "markdown",
   "id": "2c742698",
   "metadata": {},
   "source": [
    "# Resources\n",
    "\n",
    "Summer Institute for Computational Social Science (SICCS) [website](https://sicss.io/overview)\n",
    "- Lots of cool content here, including stuff you might be interested in that we don't cover in this course!\n",
    "\n"
   ]
  }
 ],
 "metadata": {
  "interpreter": {
   "hash": "e774977668b7c0ae8309835a5187aa7fbf7669e7d0bb59755bc63e573643edcd"
  },
  "kernelspec": {
   "display_name": "Python 3.7.4 64-bit",
   "language": "python",
   "name": "python3"
  },
  "language_info": {
   "codemirror_mode": {
    "name": "ipython",
    "version": 3
   },
   "file_extension": ".py",
   "mimetype": "text/x-python",
   "name": "python",
   "nbconvert_exporter": "python",
   "pygments_lexer": "ipython3",
   "version": "3.8.3"
  }
 },
 "nbformat": 4,
 "nbformat_minor": 5
}