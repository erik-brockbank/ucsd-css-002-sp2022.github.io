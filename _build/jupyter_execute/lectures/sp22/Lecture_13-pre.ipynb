{
 "cells": [
  {
   "cell_type": "markdown",
   "id": "62c7e6f5",
   "metadata": {},
   "source": [
    "# Lecture 13 (4/25/22)"
   ]
  },
  {
   "cell_type": "markdown",
   "id": "a1ea5e3d",
   "metadata": {},
   "source": [
    "**Announcements**\n",
    "- Pset 3 due this Wednesday, 4/27\n"
   ]
  },
  {
   "cell_type": "markdown",
   "id": "cac90fc6",
   "metadata": {},
   "source": [
    "*Last time we covered:*\n",
    "- Data cleaning, organizing, and transforming\n",
    "\n",
    "**Today's agenda:**\n",
    "- Linear regression overview\n"
   ]
  },
  {
   "cell_type": "code",
   "execution_count": 1,
   "id": "aa6ebecc",
   "metadata": {},
   "outputs": [],
   "source": [
    "import numpy as np\n",
    "import pandas as pd\n",
    "import matplotlib.pyplot as plt\n",
    "import seaborn as sns"
   ]
  },
  {
   "cell_type": "markdown",
   "id": "c8e3d210",
   "metadata": {},
   "source": [
    "# Linear regression\n",
    "\n",
    "Briefly, linear regression is a way of describing a linear relationship between two (continuous) variables.\n",
    "\n",
    "\n",
    "## What does it do for us?\n",
    "\n",
    "- **Predict** unknown values of $y$ based on unseen values of $x$\n",
    "- **Quantify** the strength and direction of the relationship between $y$ and $x$\n",
    "\n",
    "*To understand this better, let's look at an example.*"
   ]
  },
  {
   "cell_type": "code",
   "execution_count": 2,
   "id": "90dbfdcb",
   "metadata": {},
   "outputs": [
    {
     "name": "stdout",
     "output_type": "stream",
     "text": [
      "   dataset     x      y\n",
      "0        I  10.0   8.04\n",
      "1        I   8.0   6.95\n",
      "2        I  13.0   7.58\n",
      "3        I   9.0   8.81\n",
      "4        I  11.0   8.33\n",
      "5        I  14.0   9.96\n",
      "6        I   6.0   7.24\n",
      "7        I   4.0   4.26\n",
      "8        I  12.0  10.84\n",
      "9        I   7.0   4.82\n",
      "10       I   5.0   5.68\n"
     ]
    },
    {
     "data": {
      "image/png": "[encoded data removed]",
      "text/plain": [
       "<Figure size 432x288 with 1 Axes>"
      ]
     },
     "metadata": {
      "filenames": {
       "image/png": "/Users/erikbrockbank/web/teaching/ucsd-css-002-sp2022.github.io/_build/jupyter_execute/lectures/sp22/Lecture_13-pre_5_1.png"
      },
      "needs_background": "light"
     },
     "output_type": "display_data"
    }
   ],
   "source": [
    "ans = sns.load_dataset('anscombe')\n",
    "dat = ans[ans['dataset'] == \"I\"]\n",
    "print(dat)\n",
    "\n",
    "sns.scatterplot(data = dat, x = \"x\", y = \"y\")\n",
    "plt.show()\n"
   ]
  },
  {
   "cell_type": "markdown",
   "id": "f94326c3",
   "metadata": {},
   "source": [
    "Looking at the graph above, it seems like we can do a decent job predicting $y$ if we know $x$!"
   ]
  },
  {
   "cell_type": "markdown",
   "id": "f0275dbb",
   "metadata": {},
   "source": [
    "## How can we describe the relationship between $y$ and $x$ here?\n",
    "\n",
    "1. \"Larger $y$ values lead to larger $x$ values\"\n",
    "2. \"The *covariance* between $x$ and $y$ is 5.5\" => will change with values of $x$ and $y$\n",
    "2. \"The *correlation* between $x$ and $y$ is 0.8\" => does not tell us about *slope*\n",
    "3. \"Every time $x$ increases by 1, $y$ increases by about 0.5\" => requires estimating a slope value"
   ]
  },
  {
   "cell_type": "code",
   "execution_count": 3,
   "id": "a2c63cdc",
   "metadata": {},
   "outputs": [
    {
     "name": "stdout",
     "output_type": "stream",
     "text": [
      "   x1  y1  x2  y2\n",
      "0   1   1   4   4\n",
      "1   2   2   6   6\n",
      "2   3   3   8   8\n",
      "Covariance between x and y1: [[1. 1.]\n",
      " [1. 1.]]\n",
      "Covariance between x and y2: [[4. 4.]\n",
      " [4. 4.]]\n"
     ]
    },
    {
     "data": {
      "image/png": "[encoded data removed]",
      "text/plain": [
       "<Figure size 432x288 with 1 Axes>"
      ]
     },
     "metadata": {
      "filenames": {
       "image/png": "/Users/erikbrockbank/web/teaching/ucsd-css-002-sp2022.github.io/_build/jupyter_execute/lectures/sp22/Lecture_13-pre_8_1.png"
      },
      "needs_background": "light"
     },
     "output_type": "display_data"
    }
   ],
   "source": [
    "# Quick illustration of 2 above: same relationship, different covariance\n",
    "\n",
    "covdat = pd.DataFrame({\"x1\": [1, 2, 3],\n",
    "                       \"y1\": [1, 2, 3],\n",
    "                       \"x2\": [4, 6, 8],\n",
    "                       \"y2\": [4, 6, 8]\n",
    "                   })\n",
    "\n",
    "sns.scatterplot(x = covdat.x1, y = covdat.y1)\n",
    "sns.scatterplot(x = covdat.x2, y = covdat.y2)\n",
    "plt.xlabel(\"x\")\n",
    "plt.ylabel(\"y\")\n",
    "\n",
    "print(covdat)\n",
    "print(\"Covariance between x and y1: {}\".format(np.cov(covdat.x1, covdat.y1)))\n",
    "print(\"Covariance between x and y2: {}\".format(np.cov(covdat.x2, covdat.y2)))\n"
   ]
  },
  {
   "cell_type": "code",
   "execution_count": 4,
   "id": "1dafd813",
   "metadata": {},
   "outputs": [
    {
     "name": "stdout",
     "output_type": "stream",
     "text": [
      "   x  y1  y2\n",
      "0  1   4   2\n",
      "1  2   5   4\n",
      "2  3   6   6\n",
      "Correlation between x and y1: [[1. 1.]\n",
      " [1. 1.]]\n",
      "Correlation between x and y2: [[1. 1.]\n",
      " [1. 1.]]\n"
     ]
    },
    {
     "data": {
      "image/png": "[encoded data removed]",
      "text/plain": [
       "<Figure size 408.375x360 with 1 Axes>"
      ]
     },
     "metadata": {
      "filenames": {
       "image/png": "/Users/erikbrockbank/web/teaching/ucsd-css-002-sp2022.github.io/_build/jupyter_execute/lectures/sp22/Lecture_13-pre_9_1.png"
      },
      "needs_background": "light"
     },
     "output_type": "display_data"
    }
   ],
   "source": [
    "# Quick illustration of 3 above: same correlation, very different relationship\n",
    "\n",
    "cordat = pd.DataFrame({\"x\": [1, 2, 3],\n",
    "                    \"y1\": [4, 5, 6],\n",
    "                    \"y2\": [2, 4, 6]\n",
    "                   })\n",
    "cordat_l = cordat.melt(id_vars = \"x\")\n",
    "\n",
    "print(cordat)\n",
    "print(\"Correlation between x and y1: {}\".format(np.corrcoef(cordat.x, cordat.y1)))\n",
    "print(\"Correlation between x and y2: {}\".format(np.corrcoef(cordat.x, cordat.y2)))\n",
    "\n",
    "sns.lmplot(data = cordat_l, x = \"x\", y = \"value\", hue = \"variable\")\n",
    "plt.show()\n"
   ]
  },
  {
   "cell_type": "markdown",
   "id": "59383dc9",
   "metadata": {},
   "source": [
    "So to describe the relationship between $x$ and $y$ in our original data in a way that is consistent for data that show a similar relationship (ex. 1 above) and distinct for data that have a different relationship (ex. 2 above), we want to know the *slope of the best line through the points*.\n",
    "\n",
    "This tells us about how these variables are related and lets us predict $y$ from values of $x$ that we haven't seen before."
   ]
  },
  {
   "cell_type": "markdown",
   "id": "0ebb7033",
   "metadata": {},
   "source": [
    "## So how do we find the *best* slope estimate?\n",
    "\n",
    "Our goal is to quantify how changes in $x$ lead to changes in $y$. \n",
    "\n",
    "But lots of different lines can be drawn through our data. \n",
    "\n",
    "*How do we decide?*"
   ]
  },
  {
   "cell_type": "code",
   "execution_count": 5,
   "id": "9e72c0e4",
   "metadata": {},
   "outputs": [
    {
     "data": {
      "image/png": "[encoded data removed]",
      "text/plain": [
       "<Figure size 432x288 with 1 Axes>"
      ]
     },
     "metadata": {
      "filenames": {
       "image/png": "/Users/erikbrockbank/web/teaching/ucsd-css-002-sp2022.github.io/_build/jupyter_execute/lectures/sp22/Lecture_13-pre_12_0.png"
      },
      "needs_background": "light"
     },
     "output_type": "display_data"
    }
   ],
   "source": [
    "# Our original data\n",
    "sns.scatterplot(data = dat, x = \"x\", y = \"y\")\n",
    "plt.show()"
   ]
  },
  {
   "cell_type": "code",
   "execution_count": 6,
   "id": "9e1b6f11",
   "metadata": {},
   "outputs": [
    {
     "data": {
      "image/png": "[encoded data removed]",
      "text/plain": [
       "<Figure size 432x288 with 1 Axes>"
      ]
     },
     "metadata": {
      "filenames": {
       "image/png": "/Users/erikbrockbank/web/teaching/ucsd-css-002-sp2022.github.io/_build/jupyter_execute/lectures/sp22/Lecture_13-pre_13_0.png"
      },
      "needs_background": "light"
     },
     "output_type": "display_data"
    }
   ],
   "source": [
    "# Which of these lines is best? Why?\n",
    "sns.scatterplot(data = dat, x = \"x\", y = \"y\")\n",
    "plt.axline(xy1 = (0, 1), slope = .75, color = \"r\", linestyle = \"--\")\n",
    "plt.axline(xy1 = (0, 4), slope = .5, color = \"g\", linestyle = \"--\")\n",
    "plt.axline(xy1 = (0, 3.5), slope = .4, color = \"k\", linestyle = \"--\")\n",
    "plt.xlim(0, 15)\n",
    "plt.ylim(0, 12)\n",
    "plt.show()"
   ]
  },
  {
   "cell_type": "markdown",
   "id": "99e4a931",
   "metadata": {},
   "source": [
    "## Linear regression: choose the line that *minimizes the sum of the squared errors*\n",
    "\n",
    "This isn't the only solution, but it's a pretty good one for many situations. But what does this mean? \n",
    "\n",
    "First, we can describe each possible line through our data as having an *intercept* $\\beta_0$ and a *slope* $\\beta_1$."
   ]
  },
  {
   "cell_type": "code",
   "execution_count": 7,
   "id": "6d08af23",
   "metadata": {},
   "outputs": [
    {
     "data": {
      "image/png": "[encoded data removed]",
      "text/plain": [
       "<Figure size 432x288 with 1 Axes>"
      ]
     },
     "metadata": {
      "filenames": {
       "image/png": "/Users/erikbrockbank/web/teaching/ucsd-css-002-sp2022.github.io/_build/jupyter_execute/lectures/sp22/Lecture_13-pre_15_0.png"
      },
      "needs_background": "light"
     },
     "output_type": "display_data"
    }
   ],
   "source": [
    "sns.scatterplot(data = dat, x = \"x\", y = \"y\")\n",
    "plt.axline(xy1 = (0, 1), slope = .75, color = \"r\", linestyle = \"--\")\n",
    "plt.xlim(0, 15)\n",
    "plt.ylim(0, 12)\n",
    "\n",
    "plt.text(2, 1, \"\\u03B20 = 1 \\n\\u03B21 = 0.75\", fontsize = 12)\n",
    "plt.show()"
   ]
  },
  {
   "cell_type": "markdown",
   "id": "e034302b",
   "metadata": {},
   "source": [
    "How well does a line like the one above describe the relationship between $x$ and $y$?\n",
    "\n",
    "For a line describing our data with intercept $\\beta_0$ and slope $\\beta_1$, we can quantify how well each of our data points $(x_i, y_i)$ is predicted by this line:\n",
    "\n",
    "$y_i = \\beta_0 + \\beta_1*x_i + \\epsilon_i$\n",
    "\n",
    "The $\\epsilon_i$ term here is the *error* term. If this value is 0 for a given data point, it means our line captures that data point perfectly. If it's large (positive or negative), our line is doing a bad job predicting our data at that location.\n"
   ]
  },
  {
   "cell_type": "markdown",
   "id": "8f8dd623",
   "metadata": {},
   "source": [
    "![reg_error](img/reg_error.png)"
   ]
  },
  {
   "cell_type": "markdown",
   "id": "f11eebbe",
   "metadata": {},
   "source": [
    "Other lines will have different error spread across our data points:"
   ]
  },
  {
   "cell_type": "markdown",
   "id": "b4f6e400",
   "metadata": {},
   "source": [
    "![reg_error2](img/reg_error2.png)"
   ]
  },
  {
   "cell_type": "markdown",
   "id": "73512acc",
   "metadata": {},
   "source": [
    "Now, the idea is that if we choose $\\beta_0$ and $\\beta_1$ to minimize the error $\\epsilon_i$ across our data, we'll have a pretty good line. \n",
    "\n",
    "What does this look like in our actual data? \n",
    "\n",
    "Let's fill in the predictions and the error for $\\beta_0 = 1$ and $\\beta_1 = 0.75$."
   ]
  },
  {
   "cell_type": "code",
   "execution_count": 8,
   "id": "4fb0f9f3",
   "metadata": {},
   "outputs": [
    {
     "data": {
      "text/html": [
       "<div>\n",
       "<style scoped>\n",
       "    .dataframe tbody tr th:only-of-type {\n",
       "        vertical-align: middle;\n",
       "    }\n",
       "\n",
       "    .dataframe tbody tr th {\n",
       "        vertical-align: top;\n",
       "    }\n",
       "\n",
       "    .dataframe thead th {\n",
       "        text-align: right;\n",
       "    }\n",
       "</style>\n",
       "<table border=\"1\" class=\"dataframe\">\n",
       "  <thead>\n",
       "    <tr style=\"text-align: right;\">\n",
       "      <th></th>\n",
       "      <th>dataset</th>\n",
       "      <th>x</th>\n",
       "      <th>y</th>\n",
       "    </tr>\n",
       "  </thead>\n",
       "  <tbody>\n",
       "    <tr>\n",
       "      <th>0</th>\n",
       "      <td>I</td>\n",
       "      <td>10.0</td>\n",
       "      <td>8.04</td>\n",
       "    </tr>\n",
       "    <tr>\n",
       "      <th>1</th>\n",
       "      <td>I</td>\n",
       "      <td>8.0</td>\n",
       "      <td>6.95</td>\n",
       "    </tr>\n",
       "    <tr>\n",
       "      <th>2</th>\n",
       "      <td>I</td>\n",
       "      <td>13.0</td>\n",
       "      <td>7.58</td>\n",
       "    </tr>\n",
       "    <tr>\n",
       "      <th>3</th>\n",
       "      <td>I</td>\n",
       "      <td>9.0</td>\n",
       "      <td>8.81</td>\n",
       "    </tr>\n",
       "    <tr>\n",
       "      <th>4</th>\n",
       "      <td>I</td>\n",
       "      <td>11.0</td>\n",
       "      <td>8.33</td>\n",
       "    </tr>\n",
       "    <tr>\n",
       "      <th>5</th>\n",
       "      <td>I</td>\n",
       "      <td>14.0</td>\n",
       "      <td>9.96</td>\n",
       "    </tr>\n",
       "    <tr>\n",
       "      <th>6</th>\n",
       "      <td>I</td>\n",
       "      <td>6.0</td>\n",
       "      <td>7.24</td>\n",
       "    </tr>\n",
       "    <tr>\n",
       "      <th>7</th>\n",
       "      <td>I</td>\n",
       "      <td>4.0</td>\n",
       "      <td>4.26</td>\n",
       "    </tr>\n",
       "    <tr>\n",
       "      <th>8</th>\n",
       "      <td>I</td>\n",
       "      <td>12.0</td>\n",
       "      <td>10.84</td>\n",
       "    </tr>\n",
       "    <tr>\n",
       "      <th>9</th>\n",
       "      <td>I</td>\n",
       "      <td>7.0</td>\n",
       "      <td>4.82</td>\n",
       "    </tr>\n",
       "    <tr>\n",
       "      <th>10</th>\n",
       "      <td>I</td>\n",
       "      <td>5.0</td>\n",
       "      <td>5.68</td>\n",
       "    </tr>\n",
       "  </tbody>\n",
       "</table>\n",
       "</div>"
      ],
      "text/plain": [
       "   dataset     x      y\n",
       "0        I  10.0   8.04\n",
       "1        I   8.0   6.95\n",
       "2        I  13.0   7.58\n",
       "3        I   9.0   8.81\n",
       "4        I  11.0   8.33\n",
       "5        I  14.0   9.96\n",
       "6        I   6.0   7.24\n",
       "7        I   4.0   4.26\n",
       "8        I  12.0  10.84\n",
       "9        I   7.0   4.82\n",
       "10       I   5.0   5.68"
      ]
     },
     "execution_count": 8,
     "metadata": {},
     "output_type": "execute_result"
    }
   ],
   "source": [
    "dat"
   ]
  },
  {
   "cell_type": "markdown",
   "id": "910ae549",
   "metadata": {},
   "source": [
    "What is the predicted $y$ value for the $\\beta_0$ and $\\beta_1$ values above?"
   ]
  },
  {
   "cell_type": "code",
   "execution_count": 9,
   "id": "e7b35d71",
   "metadata": {},
   "outputs": [
    {
     "data": {
      "text/html": [
       "<div>\n",
       "<style scoped>\n",
       "    .dataframe tbody tr th:only-of-type {\n",
       "        vertical-align: middle;\n",
       "    }\n",
       "\n",
       "    .dataframe tbody tr th {\n",
       "        vertical-align: top;\n",
       "    }\n",
       "\n",
       "    .dataframe thead th {\n",
       "        text-align: right;\n",
       "    }\n",
       "</style>\n",
       "<table border=\"1\" class=\"dataframe\">\n",
       "  <thead>\n",
       "    <tr style=\"text-align: right;\">\n",
       "      <th></th>\n",
       "      <th>dataset</th>\n",
       "      <th>x</th>\n",
       "      <th>y</th>\n",
       "      <th>y_pred</th>\n",
       "    </tr>\n",
       "  </thead>\n",
       "  <tbody>\n",
       "    <tr>\n",
       "      <th>0</th>\n",
       "      <td>I</td>\n",
       "      <td>10.0</td>\n",
       "      <td>8.04</td>\n",
       "      <td>8.50</td>\n",
       "    </tr>\n",
       "    <tr>\n",
       "      <th>1</th>\n",
       "      <td>I</td>\n",
       "      <td>8.0</td>\n",
       "      <td>6.95</td>\n",
       "      <td>7.00</td>\n",
       "    </tr>\n",
       "    <tr>\n",
       "      <th>2</th>\n",
       "      <td>I</td>\n",
       "      <td>13.0</td>\n",
       "      <td>7.58</td>\n",
       "      <td>10.75</td>\n",
       "    </tr>\n",
       "    <tr>\n",
       "      <th>3</th>\n",
       "      <td>I</td>\n",
       "      <td>9.0</td>\n",
       "      <td>8.81</td>\n",
       "      <td>7.75</td>\n",
       "    </tr>\n",
       "    <tr>\n",
       "      <th>4</th>\n",
       "      <td>I</td>\n",
       "      <td>11.0</td>\n",
       "      <td>8.33</td>\n",
       "      <td>9.25</td>\n",
       "    </tr>\n",
       "    <tr>\n",
       "      <th>5</th>\n",
       "      <td>I</td>\n",
       "      <td>14.0</td>\n",
       "      <td>9.96</td>\n",
       "      <td>11.50</td>\n",
       "    </tr>\n",
       "    <tr>\n",
       "      <th>6</th>\n",
       "      <td>I</td>\n",
       "      <td>6.0</td>\n",
       "      <td>7.24</td>\n",
       "      <td>5.50</td>\n",
       "    </tr>\n",
       "    <tr>\n",
       "      <th>7</th>\n",
       "      <td>I</td>\n",
       "      <td>4.0</td>\n",
       "      <td>4.26</td>\n",
       "      <td>4.00</td>\n",
       "    </tr>\n",
       "    <tr>\n",
       "      <th>8</th>\n",
       "      <td>I</td>\n",
       "      <td>12.0</td>\n",
       "      <td>10.84</td>\n",
       "      <td>10.00</td>\n",
       "    </tr>\n",
       "    <tr>\n",
       "      <th>9</th>\n",
       "      <td>I</td>\n",
       "      <td>7.0</td>\n",
       "      <td>4.82</td>\n",
       "      <td>6.25</td>\n",
       "    </tr>\n",
       "    <tr>\n",
       "      <th>10</th>\n",
       "      <td>I</td>\n",
       "      <td>5.0</td>\n",
       "      <td>5.68</td>\n",
       "      <td>4.75</td>\n",
       "    </tr>\n",
       "  </tbody>\n",
       "</table>\n",
       "</div>"
      ],
      "text/plain": [
       "   dataset     x      y  y_pred\n",
       "0        I  10.0   8.04    8.50\n",
       "1        I   8.0   6.95    7.00\n",
       "2        I  13.0   7.58   10.75\n",
       "3        I   9.0   8.81    7.75\n",
       "4        I  11.0   8.33    9.25\n",
       "5        I  14.0   9.96   11.50\n",
       "6        I   6.0   7.24    5.50\n",
       "7        I   4.0   4.26    4.00\n",
       "8        I  12.0  10.84   10.00\n",
       "9        I   7.0   4.82    6.25\n",
       "10       I   5.0   5.68    4.75"
      ]
     },
     "execution_count": 9,
     "metadata": {},
     "output_type": "execute_result"
    }
   ],
   "source": [
    "beta0 = 1.0\n",
    "beta1 = 0.75\n",
    "\n",
    "dat = dat.assign(y_pred = beta0 + beta1 * dat.x)\n",
    "\n",
    "dat\n",
    "\n",
    "# Is it clear what y_pred represents here?"
   ]
  },
  {
   "cell_type": "markdown",
   "id": "40502b2d",
   "metadata": {},
   "source": [
    "So what's our error $\\epsilon_i$?"
   ]
  },
  {
   "cell_type": "code",
   "execution_count": 10,
   "id": "6364282d",
   "metadata": {},
   "outputs": [
    {
     "data": {
      "text/html": [
       "<div>\n",
       "<style scoped>\n",
       "    .dataframe tbody tr th:only-of-type {\n",
       "        vertical-align: middle;\n",
       "    }\n",
       "\n",
       "    .dataframe tbody tr th {\n",
       "        vertical-align: top;\n",
       "    }\n",
       "\n",
       "    .dataframe thead th {\n",
       "        text-align: right;\n",
       "    }\n",
       "</style>\n",
       "<table border=\"1\" class=\"dataframe\">\n",
       "  <thead>\n",
       "    <tr style=\"text-align: right;\">\n",
       "      <th></th>\n",
       "      <th>dataset</th>\n",
       "      <th>x</th>\n",
       "      <th>y</th>\n",
       "      <th>y_pred</th>\n",
       "      <th>error</th>\n",
       "    </tr>\n",
       "  </thead>\n",
       "  <tbody>\n",
       "    <tr>\n",
       "      <th>0</th>\n",
       "      <td>I</td>\n",
       "      <td>10.0</td>\n",
       "      <td>8.04</td>\n",
       "      <td>8.50</td>\n",
       "      <td>-0.46</td>\n",
       "    </tr>\n",
       "    <tr>\n",
       "      <th>1</th>\n",
       "      <td>I</td>\n",
       "      <td>8.0</td>\n",
       "      <td>6.95</td>\n",
       "      <td>7.00</td>\n",
       "      <td>-0.05</td>\n",
       "    </tr>\n",
       "    <tr>\n",
       "      <th>2</th>\n",
       "      <td>I</td>\n",
       "      <td>13.0</td>\n",
       "      <td>7.58</td>\n",
       "      <td>10.75</td>\n",
       "      <td>-3.17</td>\n",
       "    </tr>\n",
       "    <tr>\n",
       "      <th>3</th>\n",
       "      <td>I</td>\n",
       "      <td>9.0</td>\n",
       "      <td>8.81</td>\n",
       "      <td>7.75</td>\n",
       "      <td>1.06</td>\n",
       "    </tr>\n",
       "    <tr>\n",
       "      <th>4</th>\n",
       "      <td>I</td>\n",
       "      <td>11.0</td>\n",
       "      <td>8.33</td>\n",
       "      <td>9.25</td>\n",
       "      <td>-0.92</td>\n",
       "    </tr>\n",
       "    <tr>\n",
       "      <th>5</th>\n",
       "      <td>I</td>\n",
       "      <td>14.0</td>\n",
       "      <td>9.96</td>\n",
       "      <td>11.50</td>\n",
       "      <td>-1.54</td>\n",
       "    </tr>\n",
       "    <tr>\n",
       "      <th>6</th>\n",
       "      <td>I</td>\n",
       "      <td>6.0</td>\n",
       "      <td>7.24</td>\n",
       "      <td>5.50</td>\n",
       "      <td>1.74</td>\n",
       "    </tr>\n",
       "    <tr>\n",
       "      <th>7</th>\n",
       "      <td>I</td>\n",
       "      <td>4.0</td>\n",
       "      <td>4.26</td>\n",
       "      <td>4.00</td>\n",
       "      <td>0.26</td>\n",
       "    </tr>\n",
       "    <tr>\n",
       "      <th>8</th>\n",
       "      <td>I</td>\n",
       "      <td>12.0</td>\n",
       "      <td>10.84</td>\n",
       "      <td>10.00</td>\n",
       "      <td>0.84</td>\n",
       "    </tr>\n",
       "    <tr>\n",
       "      <th>9</th>\n",
       "      <td>I</td>\n",
       "      <td>7.0</td>\n",
       "      <td>4.82</td>\n",
       "      <td>6.25</td>\n",
       "      <td>-1.43</td>\n",
       "    </tr>\n",
       "    <tr>\n",
       "      <th>10</th>\n",
       "      <td>I</td>\n",
       "      <td>5.0</td>\n",
       "      <td>5.68</td>\n",
       "      <td>4.75</td>\n",
       "      <td>0.93</td>\n",
       "    </tr>\n",
       "  </tbody>\n",
       "</table>\n",
       "</div>"
      ],
      "text/plain": [
       "   dataset     x      y  y_pred  error\n",
       "0        I  10.0   8.04    8.50  -0.46\n",
       "1        I   8.0   6.95    7.00  -0.05\n",
       "2        I  13.0   7.58   10.75  -3.17\n",
       "3        I   9.0   8.81    7.75   1.06\n",
       "4        I  11.0   8.33    9.25  -0.92\n",
       "5        I  14.0   9.96   11.50  -1.54\n",
       "6        I   6.0   7.24    5.50   1.74\n",
       "7        I   4.0   4.26    4.00   0.26\n",
       "8        I  12.0  10.84   10.00   0.84\n",
       "9        I   7.0   4.82    6.25  -1.43\n",
       "10       I   5.0   5.68    4.75   0.93"
      ]
     },
     "execution_count": 10,
     "metadata": {},
     "output_type": "execute_result"
    }
   ],
   "source": [
    "dat = dat.assign(error = dat.y - dat.y_pred)\n",
    "\n",
    "dat\n",
    "\n",
    "# What does our error look like?"
   ]
  },
  {
   "cell_type": "markdown",
   "id": "e65a81f4",
   "metadata": {},
   "source": [
    "So now we have our error for $\\beta_0$ = 1 and $\\beta_1$ = 0.75. \n",
    "\n",
    "How do we combine these values to compare them to other possible $\\beta_0$ and $\\beta_1$ fits?\n",
    "- Add up the error values? \n",
    "- Take the average? \n",
    "\n",
    "Can you think of any problems with the above?"
   ]
  },
  {
   "cell_type": "code",
   "execution_count": 11,
   "id": "e190ce70",
   "metadata": {},
   "outputs": [
    {
     "name": "stdout",
     "output_type": "stream",
     "text": [
      "Sum of the error values: -2.7399999999999993\n",
      "Mean of the error values: -0.24909090909090903\n"
     ]
    },
    {
     "data": {
      "image/png": "[encoded data removed]",
      "text/plain": [
       "<Figure size 432x288 with 1 Axes>"
      ]
     },
     "metadata": {
      "filenames": {
       "image/png": "/Users/erikbrockbank/web/teaching/ucsd-css-002-sp2022.github.io/_build/jupyter_execute/lectures/sp22/Lecture_13-pre_27_1.png"
      },
      "needs_background": "light"
     },
     "output_type": "display_data"
    }
   ],
   "source": [
    "sns.histplot(data = dat, x = \"error\", bins = 10, kde = True)\n",
    "plt.axvline(0, color = \"k\", linestyle = \"--\")\n",
    "\n",
    "print(\"Sum of the error values: {}\".format(dat['error'].sum()))\n",
    "# positive and negative error values cancel each other out\n",
    "\n",
    "print(\"Mean of the error values: {}\".format(dat['error'].mean()))\n",
    "# how do we compare negative and positive average error?"
   ]
  },
  {
   "cell_type": "markdown",
   "id": "289907a8",
   "metadata": {},
   "source": [
    "**Linear regression**: evaluate $\\beta_0$ and $\\beta_1$ using sum of squared error\n",
    "- Square each error value $\\epsilon_i$ so that positive and negative error both contribute equally to our parameter estimates\n",
    "- Then sum up the squared error across all our data points $(x_i, y_i)$\n",
    "\n",
    "We'll call this our **sum of squared error (SSE)**.\n",
    "\n",
    "$ SSE = \\sum_{i=1}^{n} {\\epsilon_i}^2 $\n",
    "\n",
    "Now, our best-fitting line is parameterized by the $\\beta_0$ and $\\beta_1$ values that *minimize sum of squared error*.\n",
    "\n",
    "$ \\hat{\\beta_0} = \\arg \\min_{\\beta_0} \\sum_{i=1}^{n} {\\epsilon_i}^2 = \\arg \\min_{\\beta_0} SSE $\n",
    "\n",
    "$ \\hat{\\beta_1} = \\arg \\min_{\\beta_1} \\sum_{i=1}^{n} {\\epsilon_i}^2 = \\arg \\min_{\\beta_1} SSE $\n",
    "\n",
    "This is often called *ordinary least squares (OLS)* regression."
   ]
  },
  {
   "cell_type": "markdown",
   "id": "01b28930",
   "metadata": {},
   "source": [
    "**Calculating sum of squared error**\n",
    "\n",
    "Let's calculate SSE for our sample $\\beta_0$ = 1 and $\\beta_1$ = 0.75 parameter values above."
   ]
  },
  {
   "cell_type": "code",
   "execution_count": 12,
   "id": "bee7a7ae",
   "metadata": {},
   "outputs": [
    {
     "data": {
      "text/html": [
       "<div>\n",
       "<style scoped>\n",
       "    .dataframe tbody tr th:only-of-type {\n",
       "        vertical-align: middle;\n",
       "    }\n",
       "\n",
       "    .dataframe tbody tr th {\n",
       "        vertical-align: top;\n",
       "    }\n",
       "\n",
       "    .dataframe thead th {\n",
       "        text-align: right;\n",
       "    }\n",
       "</style>\n",
       "<table border=\"1\" class=\"dataframe\">\n",
       "  <thead>\n",
       "    <tr style=\"text-align: right;\">\n",
       "      <th></th>\n",
       "      <th>dataset</th>\n",
       "      <th>x</th>\n",
       "      <th>y</th>\n",
       "      <th>y_pred</th>\n",
       "      <th>error</th>\n",
       "      <th>sq_error</th>\n",
       "    </tr>\n",
       "  </thead>\n",
       "  <tbody>\n",
       "    <tr>\n",
       "      <th>0</th>\n",
       "      <td>I</td>\n",
       "      <td>10.0</td>\n",
       "      <td>8.04</td>\n",
       "      <td>8.50</td>\n",
       "      <td>-0.46</td>\n",
       "      <td>0.2116</td>\n",
       "    </tr>\n",
       "    <tr>\n",
       "      <th>1</th>\n",
       "      <td>I</td>\n",
       "      <td>8.0</td>\n",
       "      <td>6.95</td>\n",
       "      <td>7.00</td>\n",
       "      <td>-0.05</td>\n",
       "      <td>0.0025</td>\n",
       "    </tr>\n",
       "    <tr>\n",
       "      <th>2</th>\n",
       "      <td>I</td>\n",
       "      <td>13.0</td>\n",
       "      <td>7.58</td>\n",
       "      <td>10.75</td>\n",
       "      <td>-3.17</td>\n",
       "      <td>10.0489</td>\n",
       "    </tr>\n",
       "    <tr>\n",
       "      <th>3</th>\n",
       "      <td>I</td>\n",
       "      <td>9.0</td>\n",
       "      <td>8.81</td>\n",
       "      <td>7.75</td>\n",
       "      <td>1.06</td>\n",
       "      <td>1.1236</td>\n",
       "    </tr>\n",
       "    <tr>\n",
       "      <th>4</th>\n",
       "      <td>I</td>\n",
       "      <td>11.0</td>\n",
       "      <td>8.33</td>\n",
       "      <td>9.25</td>\n",
       "      <td>-0.92</td>\n",
       "      <td>0.8464</td>\n",
       "    </tr>\n",
       "    <tr>\n",
       "      <th>5</th>\n",
       "      <td>I</td>\n",
       "      <td>14.0</td>\n",
       "      <td>9.96</td>\n",
       "      <td>11.50</td>\n",
       "      <td>-1.54</td>\n",
       "      <td>2.3716</td>\n",
       "    </tr>\n",
       "    <tr>\n",
       "      <th>6</th>\n",
       "      <td>I</td>\n",
       "      <td>6.0</td>\n",
       "      <td>7.24</td>\n",
       "      <td>5.50</td>\n",
       "      <td>1.74</td>\n",
       "      <td>3.0276</td>\n",
       "    </tr>\n",
       "    <tr>\n",
       "      <th>7</th>\n",
       "      <td>I</td>\n",
       "      <td>4.0</td>\n",
       "      <td>4.26</td>\n",
       "      <td>4.00</td>\n",
       "      <td>0.26</td>\n",
       "      <td>0.0676</td>\n",
       "    </tr>\n",
       "    <tr>\n",
       "      <th>8</th>\n",
       "      <td>I</td>\n",
       "      <td>12.0</td>\n",
       "      <td>10.84</td>\n",
       "      <td>10.00</td>\n",
       "      <td>0.84</td>\n",
       "      <td>0.7056</td>\n",
       "    </tr>\n",
       "    <tr>\n",
       "      <th>9</th>\n",
       "      <td>I</td>\n",
       "      <td>7.0</td>\n",
       "      <td>4.82</td>\n",
       "      <td>6.25</td>\n",
       "      <td>-1.43</td>\n",
       "      <td>2.0449</td>\n",
       "    </tr>\n",
       "    <tr>\n",
       "      <th>10</th>\n",
       "      <td>I</td>\n",
       "      <td>5.0</td>\n",
       "      <td>5.68</td>\n",
       "      <td>4.75</td>\n",
       "      <td>0.93</td>\n",
       "      <td>0.8649</td>\n",
       "    </tr>\n",
       "  </tbody>\n",
       "</table>\n",
       "</div>"
      ],
      "text/plain": [
       "   dataset     x      y  y_pred  error  sq_error\n",
       "0        I  10.0   8.04    8.50  -0.46    0.2116\n",
       "1        I   8.0   6.95    7.00  -0.05    0.0025\n",
       "2        I  13.0   7.58   10.75  -3.17   10.0489\n",
       "3        I   9.0   8.81    7.75   1.06    1.1236\n",
       "4        I  11.0   8.33    9.25  -0.92    0.8464\n",
       "5        I  14.0   9.96   11.50  -1.54    2.3716\n",
       "6        I   6.0   7.24    5.50   1.74    3.0276\n",
       "7        I   4.0   4.26    4.00   0.26    0.0676\n",
       "8        I  12.0  10.84   10.00   0.84    0.7056\n",
       "9        I   7.0   4.82    6.25  -1.43    2.0449\n",
       "10       I   5.0   5.68    4.75   0.93    0.8649"
      ]
     },
     "execution_count": 12,
     "metadata": {},
     "output_type": "execute_result"
    }
   ],
   "source": [
    "# Square the error term for each datapoint (xi, yi)\n",
    "dat = dat.assign(sq_error = dat.error**2)\n",
    "\n",
    "dat"
   ]
  },
  {
   "cell_type": "code",
   "execution_count": 13,
   "id": "e9854275",
   "metadata": {},
   "outputs": [
    {
     "data": {
      "text/plain": [
       "21.315199999999997"
      ]
     },
     "execution_count": 13,
     "metadata": {},
     "output_type": "execute_result"
    }
   ],
   "source": [
    "# Calculate the sum of the squared error values\n",
    "sum_sq_error = dat.sq_error.sum()\n",
    "sum_sq_error"
   ]
  },
  {
   "cell_type": "markdown",
   "id": "5c33e7b0",
   "metadata": {},
   "source": [
    "Your turn! See if you can identify a pair of values $\\beta_0$ and $\\beta_1$ that have a *lower* SSE than the value above."
   ]
  },
  {
   "cell_type": "code",
   "execution_count": 14,
   "id": "f45039e0",
   "metadata": {},
   "outputs": [],
   "source": [
    "### CODE HERE ###\n",
    "\n",
    "\n"
   ]
  },
  {
   "cell_type": "markdown",
   "id": "b62fdf15",
   "metadata": {},
   "source": [
    "We just calculated SSE for sample $\\beta_0$ and $\\beta_1$ values, but how do we find the values that are guaranteed to have the lowest SSE?"
   ]
  },
  {
   "cell_type": "markdown",
   "id": "8cdf6ac9",
   "metadata": {},
   "source": [
    "## How do we find our optimal linear regression parameters?"
   ]
  },
  {
   "cell_type": "markdown",
   "id": "acba96d6",
   "metadata": {},
   "source": [
    "As we'll see throughout this quarter, fitting parameters in a model often involves finding values that *minimize a particular loss function* (in this case, SSE). \n",
    "\n",
    "There are a lot of techniques for doing this. Optimization is largely focused on comparing and evaluating these techniques.  \n",
    "\n",
    "**Option 1**: Search the parameter space ourselves!\n",
    "\n",
    "Let's illustrate a simple one to get an intuition for it: a basic *grid search*. "
   ]
  },
  {
   "cell_type": "code",
   "execution_count": 15,
   "id": "1c748048",
   "metadata": {},
   "outputs": [
    {
     "name": "stdout",
     "output_type": "stream",
     "text": [
      "Best fits by grid search: beta0 = 2.999999999999954, beta1 = 0.4999999999999627\n"
     ]
    }
   ],
   "source": [
    "best_beta0 = -np.inf \n",
    "best_beta1 = -np.inf\n",
    "min_sse = np.inf\n",
    "\n",
    "def sse(b0, b1, data):\n",
    "    return np.sum((data.y - (b0 + b1 * data.x))**2)\n",
    "\n",
    "# Test the above!\n",
    "sse(b0 = 1, b1 = 0.75, data = dat)\n",
    "\n",
    "# Find our best fitting b0 and b1 values by searching over a reasonable range\n",
    "# Takes ~30s to run\n",
    "for b0 in np.arange(start = -10, stop = 10, step = 0.1): # what beta_0 values do we want to consider?\n",
    "    for b1 in np.arange(start = -10, stop = 10, step = 0.1): # what beta_1 values do we want to consider?\n",
    "        sse_tmp = sse(b0, b1, dat)\n",
    "        if sse_tmp < min_sse:\n",
    "            best_beta0 = b0\n",
    "            best_beta1 = b1\n",
    "            min_sse = sse_tmp\n",
    "            \n",
    "print(\"Best fits by grid search: beta0 = {}, beta1 = {}\".format(best_beta0, best_beta1))\n",
    "        "
   ]
  },
  {
   "cell_type": "markdown",
   "id": "97054b71",
   "metadata": {},
   "source": [
    "*How did we do?*\n",
    "\n",
    "Let's graph our original data with the solution above:"
   ]
  },
  {
   "cell_type": "code",
   "execution_count": 16,
   "id": "49f76d7f",
   "metadata": {},
   "outputs": [
    {
     "data": {
      "image/png": "[encoded data removed]",
      "text/plain": [
       "<Figure size 432x288 with 1 Axes>"
      ]
     },
     "metadata": {
      "filenames": {
       "image/png": "/Users/erikbrockbank/web/teaching/ucsd-css-002-sp2022.github.io/_build/jupyter_execute/lectures/sp22/Lecture_13-pre_39_0.png"
      },
      "needs_background": "light"
     },
     "output_type": "display_data"
    }
   ],
   "source": [
    "sns.scatterplot(data = dat, x = \"x\", y = \"y\")\n",
    "plt.axline(xy1 = (0, best_beta0), slope = best_beta1, color = \"r\", linestyle = \"--\")\n",
    "plt.xlim(0, 15)\n",
    "plt.ylim(0, 12)\n",
    "\n",
    "plt.text(2, 1, \"\\u03B20 = {} \\n\\u03B21 = {}\".format(round(best_beta0, 3), round(best_beta1, 3)), fontsize = 12)\n",
    "plt.show()"
   ]
  },
  {
   "cell_type": "markdown",
   "id": "dcc84002",
   "metadata": {},
   "source": [
    "This is a pretty good guess. But it's slow, not as precise, and required us to specify ahead of time what range we thought the values would take on.\n",
    "\n",
    "In other settings, we can do better by trying out values which are closer and closer to the best fitting value, rather than just trying everything in a range.\n",
    "\n",
    "\n",
    "**Option 2:** Solve for $\\beta_0$ and $\\beta_1$\n",
    "\n",
    "For linear regression, it turns out that the best fitting solution can be specified *analytically*: we know ahead of time what the best fitting parameter values will be!\n",
    "\n",
    "$ \\hat{\\beta} = ({X^T}X)^{-1}{X^T}y $\n",
    "\n",
    "Why does this solution exist every time? Beyond the scope of this lecture but take a look at the resources at the bottom if you're curious :) \n",
    "\n",
    "For now, let's just see what values we get when we solve our original regression analytically using the solution above:"
   ]
  },
  {
   "cell_type": "code",
   "execution_count": 17,
   "id": "8d38c60e",
   "metadata": {},
   "outputs": [
    {
     "data": {
      "text/plain": [
       "array([[3.00009091],\n",
       "       [0.50009091]])"
      ]
     },
     "execution_count": 17,
     "metadata": {},
     "output_type": "execute_result"
    }
   ],
   "source": [
    "from numpy.linalg import inv\n",
    "\n",
    "y = np.array(dat['y'])\n",
    "y = y.reshape(len(dat['y']), 1)\n",
    "b0 = np.ones((len(dat.x), 1))\n",
    "b1 = np.array(dat['x'])\n",
    "b1 = b1.reshape((len(dat['x']), 1))\n",
    "\n",
    "X = np.concatenate((b0, b1), axis = 1)\n",
    "\n",
    "betas = inv(X.T.dot(X)).dot(X.T).dot(y)\n",
    "betas"
   ]
  },
  {
   "cell_type": "markdown",
   "id": "7f74ce02",
   "metadata": {},
   "source": [
    "This is the *true* minimum, pretty close to what we found in our basic grid search!\n",
    "\n",
    "Fortunately, when doing regression with actual data, we don't need to do the grid search *or* the linear algebra solution by hand! \n",
    "\n",
    "**Option 3:** Fit a model with python tools\n",
    "\n",
    "Here's a solution using the *scikit learn LinearRegression* [library](https://scikit-learn.org/stable/modules/generated/sklearn.linear_model.LinearRegression.html)."
   ]
  },
  {
   "cell_type": "code",
   "execution_count": 18,
   "id": "8d746ae1",
   "metadata": {},
   "outputs": [
    {
     "name": "stdout",
     "output_type": "stream",
     "text": [
      "Model fits: intercept = [3.00009091], slope = [[0.50009091]]\n"
     ]
    }
   ],
   "source": [
    "# Import the LinearRegression model from scikit learn\n",
    "from sklearn.linear_model import LinearRegression\n",
    "\n",
    "# Initialize our model\n",
    "model = LinearRegression() # note you can pass in add'l arguments at initialization here\n",
    "\n",
    "# Fit the model to our data\n",
    "model.fit(X = b1, y = y) # note: it expects numpy arrays formatted the way we set them up above!\n",
    "\n",
    "# Output the model parameter fits\n",
    "print(\"Model fits: intercept = {}, slope = {}\".format(model.intercept_, model.coef_))\n"
   ]
  },
  {
   "cell_type": "code",
   "execution_count": 19,
   "id": "2ebed1d2",
   "metadata": {},
   "outputs": [
    {
     "data": {
      "image/png": "[encoded data removed]",
      "text/plain": [
       "<Figure size 432x288 with 1 Axes>"
      ]
     },
     "metadata": {
      "filenames": {
       "image/png": "/Users/erikbrockbank/web/teaching/ucsd-css-002-sp2022.github.io/_build/jupyter_execute/lectures/sp22/Lecture_13-pre_44_0.png"
      },
      "needs_background": "light"
     },
     "output_type": "display_data"
    }
   ],
   "source": [
    "sns.scatterplot(data = dat, x = \"x\", y = \"y\")\n",
    "plt.axline(xy1 = (0, model.intercept_[0]), slope = model.coef_[0][0], color = \"r\", linestyle = \"--\")\n",
    "plt.xlim(0, 15)\n",
    "plt.ylim(0, 12)\n",
    "\n",
    "plt.text(2, 1, \"\\u03B20 = {} \\n\\u03B21 = {}\".format(round(model.intercept_[0], 3), round(model.coef_[0][0], 3)), fontsize = 12)\n",
    "plt.show()"
   ]
  },
  {
   "cell_type": "markdown",
   "id": "0b049812",
   "metadata": {},
   "source": [
    "For linear regression, there are several other common python libraries available which will all produce fairly similar outputs.\n",
    "\n",
    "You don't need to learn all of them as long as you find one you're comfortable with!\n",
    "\n",
    "- Numpy [polyfit](https://numpy.org/doc/stable/reference/generated/numpy.polyfit.html)\n",
    "- Statsmodels [OLS](https://www.statsmodels.org/dev/index.html)"
   ]
  },
  {
   "cell_type": "code",
   "execution_count": 20,
   "id": "1729f6b2",
   "metadata": {},
   "outputs": [
    {
     "data": {
      "text/plain": [
       "array([0.50009091, 3.00009091])"
      ]
     },
     "execution_count": 20,
     "metadata": {},
     "output_type": "execute_result"
    }
   ],
   "source": [
    "# Numpy polyfit\n",
    "np.polyfit(dat.x, dat.y, 1)\n"
   ]
  },
  {
   "cell_type": "code",
   "execution_count": 21,
   "id": "8b0fe2c3",
   "metadata": {},
   "outputs": [
    {
     "name": "stderr",
     "output_type": "stream",
     "text": [
      "/opt/anaconda3/lib/python3.8/site-packages/scipy/stats/stats.py:1603: UserWarning: kurtosistest only valid for n>=20 ... continuing anyway, n=11\n",
      "  warnings.warn(\"kurtosistest only valid for n>=20 ... continuing \"\n"
     ]
    },
    {
     "data": {
      "text/html": [
       "<table class=\"simpletable\">\n",
       "<caption>OLS Regression Results</caption>\n",
       "<tr>\n",
       "  <th>Dep. Variable:</th>            <td>y</td>        <th>  R-squared:         </th> <td>   0.667</td>\n",
       "</tr>\n",
       "<tr>\n",
       "  <th>Model:</th>                   <td>OLS</td>       <th>  Adj. R-squared:    </th> <td>   0.629</td>\n",
       "</tr>\n",
       "<tr>\n",
       "  <th>Method:</th>             <td>Least Squares</td>  <th>  F-statistic:       </th> <td>   17.99</td>\n",
       "</tr>\n",
       "<tr>\n",
       "  <th>Date:</th>             <td>Tue, 14 Jun 2022</td> <th>  Prob (F-statistic):</th>  <td>0.00217</td>\n",
       "</tr>\n",
       "<tr>\n",
       "  <th>Time:</th>                 <td>18:22:07</td>     <th>  Log-Likelihood:    </th> <td> -16.841</td>\n",
       "</tr>\n",
       "<tr>\n",
       "  <th>No. Observations:</th>      <td>    11</td>      <th>  AIC:               </th> <td>   37.68</td>\n",
       "</tr>\n",
       "<tr>\n",
       "  <th>Df Residuals:</th>          <td>     9</td>      <th>  BIC:               </th> <td>   38.48</td>\n",
       "</tr>\n",
       "<tr>\n",
       "  <th>Df Model:</th>              <td>     1</td>      <th>                     </th>     <td> </td>   \n",
       "</tr>\n",
       "<tr>\n",
       "  <th>Covariance Type:</th>      <td>nonrobust</td>    <th>                     </th>     <td> </td>   \n",
       "</tr>\n",
       "</table>\n",
       "<table class=\"simpletable\">\n",
       "<tr>\n",
       "      <td></td>         <th>coef</th>     <th>std err</th>      <th>t</th>      <th>P>|t|</th>  <th>[0.025</th>    <th>0.975]</th>  \n",
       "</tr>\n",
       "<tr>\n",
       "  <th>Intercept</th> <td>    3.0001</td> <td>    1.125</td> <td>    2.667</td> <td> 0.026</td> <td>    0.456</td> <td>    5.544</td>\n",
       "</tr>\n",
       "<tr>\n",
       "  <th>x</th>         <td>    0.5001</td> <td>    0.118</td> <td>    4.241</td> <td> 0.002</td> <td>    0.233</td> <td>    0.767</td>\n",
       "</tr>\n",
       "</table>\n",
       "<table class=\"simpletable\">\n",
       "<tr>\n",
       "  <th>Omnibus:</th>       <td> 0.082</td> <th>  Durbin-Watson:     </th> <td>   3.212</td>\n",
       "</tr>\n",
       "<tr>\n",
       "  <th>Prob(Omnibus):</th> <td> 0.960</td> <th>  Jarque-Bera (JB):  </th> <td>   0.289</td>\n",
       "</tr>\n",
       "<tr>\n",
       "  <th>Skew:</th>          <td>-0.122</td> <th>  Prob(JB):          </th> <td>   0.865</td>\n",
       "</tr>\n",
       "<tr>\n",
       "  <th>Kurtosis:</th>      <td> 2.244</td> <th>  Cond. No.          </th> <td>    29.1</td>\n",
       "</tr>\n",
       "</table><br/><br/>Notes:<br/>[1] Standard Errors assume that the covariance matrix of the errors is correctly specified."
      ],
      "text/plain": [
       "<class 'statsmodels.iolib.summary.Summary'>\n",
       "\"\"\"\n",
       "                            OLS Regression Results                            \n",
       "==============================================================================\n",
       "Dep. Variable:                      y   R-squared:                       0.667\n",
       "Model:                            OLS   Adj. R-squared:                  0.629\n",
       "Method:                 Least Squares   F-statistic:                     17.99\n",
       "Date:                Tue, 14 Jun 2022   Prob (F-statistic):            0.00217\n",
       "Time:                        18:22:07   Log-Likelihood:                -16.841\n",
       "No. Observations:                  11   AIC:                             37.68\n",
       "Df Residuals:                       9   BIC:                             38.48\n",
       "Df Model:                           1                                         \n",
       "Covariance Type:            nonrobust                                         \n",
       "==============================================================================\n",
       "                 coef    std err          t      P>|t|      [0.025      0.975]\n",
       "------------------------------------------------------------------------------\n",
       "Intercept      3.0001      1.125      2.667      0.026       0.456       5.544\n",
       "x              0.5001      0.118      4.241      0.002       0.233       0.767\n",
       "==============================================================================\n",
       "Omnibus:                        0.082   Durbin-Watson:                   3.212\n",
       "Prob(Omnibus):                  0.960   Jarque-Bera (JB):                0.289\n",
       "Skew:                          -0.122   Prob(JB):                        0.865\n",
       "Kurtosis:                       2.244   Cond. No.                         29.1\n",
       "==============================================================================\n",
       "\n",
       "Notes:\n",
       "[1] Standard Errors assume that the covariance matrix of the errors is correctly specified.\n",
       "\"\"\""
      ]
     },
     "execution_count": 21,
     "metadata": {},
     "output_type": "execute_result"
    }
   ],
   "source": [
    "# Statsmodels\n",
    "import statsmodels.formula.api as smf\n",
    "results = smf.ols('y ~ x', data = dat).fit()\n",
    "results.summary()"
   ]
  },
  {
   "cell_type": "markdown",
   "id": "b3a58136",
   "metadata": {},
   "source": [
    "# Resources\n",
    "\n",
    "There are lots of awesome resources out there to make sense of ordinary least squares regression. If you'd like to get a better handle on the stuff we discussed today, or if you want to dig deeper on the math (it's neat!), take a look at some of these pages:\n",
    "- [This](https://setosa.io/ev/ordinary-least-squares-regression/) page lets you play around with values to see how OLS works\n",
    "- [This](https://towardsdatascience.com/understanding-the-ols-method-for-simple-linear-regression-e0a4e8f692cc) page shows how the analytic solution relates to correlation and covariation\n",
    "- [This](https://towardsdatascience.com/building-linear-regression-least-squares-with-linear-algebra-2adf071dd5dd) page walks through the linear algebra underlying the analytic solution"
   ]
  }
 ],
 "metadata": {
  "interpreter": {
   "hash": "e774977668b7c0ae8309835a5187aa7fbf7669e7d0bb59755bc63e573643edcd"
  },
  "kernelspec": {
   "display_name": "Python 3 (clean)",
   "language": "python",
   "name": "python3"
  },
  "language_info": {
   "codemirror_mode": {
    "name": "ipython",
    "version": 3
   },
   "file_extension": ".py",
   "mimetype": "text/x-python",
   "name": "python",
   "nbconvert_exporter": "python",
   "pygments_lexer": "ipython3",
   "version": "3.8.3"
  }
 },
 "nbformat": 4,
 "nbformat_minor": 5
}