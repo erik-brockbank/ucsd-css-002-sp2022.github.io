{
 "cells": [
  {
   "cell_type": "markdown",
   "id": "62c7e6f5",
   "metadata": {},
   "source": [
    "# Lecture 20 (5/11/2022)"
   ]
  },
  {
   "cell_type": "markdown",
   "id": "a1ea5e3d",
   "metadata": {},
   "source": [
    "**Announcements**\n",
    "- Final projects! \n",
    "\n",
    "- TODO ERIK make next week's lab include some work component for final project"
   ]
  },
  {
   "cell_type": "markdown",
   "id": "cac90fc6",
   "metadata": {},
   "source": [
    "*Last time we covered:*\n",
    "- ROC curves\n",
    "\n",
    "**Today's agenda:**\n",
    "- Common classification models\n"
   ]
  },
  {
   "cell_type": "code",
   "execution_count": 1,
   "id": "aa6ebecc",
   "metadata": {},
   "outputs": [],
   "source": [
    "import numpy as np\n",
    "import pandas as pd\n",
    "import matplotlib.pyplot as plt\n",
    "import seaborn as sns\n",
    "\n",
    "from sklearn.model_selection import train_test_split"
   ]
  },
  {
   "cell_type": "markdown",
   "id": "c8e3d210",
   "metadata": {},
   "source": [
    "# Common Classification Models\n",
    "\n",
    "- $k$-nearest neighbors\n",
    "- Logistic regression\n",
    "- Decision trees\n",
    "- Support Vector Machines (SVMs)\n",
    "- Other: naive Bayes, neural networks, discriminant analysis\n"
   ]
  },
  {
   "cell_type": "markdown",
   "id": "ae4357ce",
   "metadata": {},
   "source": [
    "## Data: Predicting Heart Disease\n",
    "\n",
    "\n",
    "From [source](https://hastie.su.domains/ElemStatLearn/):\n",
    "\n",
    "> A retrospective sample of males in a heart-disease high-risk region\n",
    "of the Western Cape, South Africa. There are roughly two controls per\n",
    "case of CHD. Many of the CHD positive men have undergone blood\n",
    "pressure reduction treatment and other programs to reduce their risk\n",
    "factors after their CHD event. In some cases the measurements were\n",
    "made after these treatments. These data are taken from a larger\n",
    "dataset, described in  Rousseauw et al, 1983, South African Medical\n",
    "Journal. \n",
    "\n",
    "- sbp: systolic blood pressure\n",
    "- tobacco: cumulative tobacco (kg)\n",
    "- ldl: low densiity lipoprotein cholesterol\n",
    "- adiposity\n",
    "- famhist: family history of heart disease (Present, Absent)\n",
    "- typea: type-A behavior\n",
    "- obesity\n",
    "- alcohol: current alcohol consumption\n",
    "- age: age at onset\n",
    "- chd: **response**, coronary heart disease"
   ]
  },
  {
   "cell_type": "code",
   "execution_count": 2,
   "id": "c54222ec",
   "metadata": {},
   "outputs": [
    {
     "data": {
      "text/html": [
       "<div>\n",
       "<style scoped>\n",
       "    .dataframe tbody tr th:only-of-type {\n",
       "        vertical-align: middle;\n",
       "    }\n",
       "\n",
       "    .dataframe tbody tr th {\n",
       "        vertical-align: top;\n",
       "    }\n",
       "\n",
       "    .dataframe thead th {\n",
       "        text-align: right;\n",
       "    }\n",
       "</style>\n",
       "<table border=\"1\" class=\"dataframe\">\n",
       "  <thead>\n",
       "    <tr style=\"text-align: right;\">\n",
       "      <th></th>\n",
       "      <th>row.names</th>\n",
       "      <th>sbp</th>\n",
       "      <th>tobacco</th>\n",
       "      <th>ldl</th>\n",
       "      <th>adiposity</th>\n",
       "      <th>famhist</th>\n",
       "      <th>typea</th>\n",
       "      <th>obesity</th>\n",
       "      <th>alcohol</th>\n",
       "      <th>age</th>\n",
       "      <th>chd</th>\n",
       "    </tr>\n",
       "  </thead>\n",
       "  <tbody>\n",
       "    <tr>\n",
       "      <th>0</th>\n",
       "      <td>1</td>\n",
       "      <td>160</td>\n",
       "      <td>12.00</td>\n",
       "      <td>5.73</td>\n",
       "      <td>23.11</td>\n",
       "      <td>Present</td>\n",
       "      <td>49</td>\n",
       "      <td>25.30</td>\n",
       "      <td>97.20</td>\n",
       "      <td>52</td>\n",
       "      <td>1</td>\n",
       "    </tr>\n",
       "    <tr>\n",
       "      <th>1</th>\n",
       "      <td>2</td>\n",
       "      <td>144</td>\n",
       "      <td>0.01</td>\n",
       "      <td>4.41</td>\n",
       "      <td>28.61</td>\n",
       "      <td>Absent</td>\n",
       "      <td>55</td>\n",
       "      <td>28.87</td>\n",
       "      <td>2.06</td>\n",
       "      <td>63</td>\n",
       "      <td>1</td>\n",
       "    </tr>\n",
       "    <tr>\n",
       "      <th>2</th>\n",
       "      <td>3</td>\n",
       "      <td>118</td>\n",
       "      <td>0.08</td>\n",
       "      <td>3.48</td>\n",
       "      <td>32.28</td>\n",
       "      <td>Present</td>\n",
       "      <td>52</td>\n",
       "      <td>29.14</td>\n",
       "      <td>3.81</td>\n",
       "      <td>46</td>\n",
       "      <td>0</td>\n",
       "    </tr>\n",
       "    <tr>\n",
       "      <th>3</th>\n",
       "      <td>4</td>\n",
       "      <td>170</td>\n",
       "      <td>7.50</td>\n",
       "      <td>6.41</td>\n",
       "      <td>38.03</td>\n",
       "      <td>Present</td>\n",
       "      <td>51</td>\n",
       "      <td>31.99</td>\n",
       "      <td>24.26</td>\n",
       "      <td>58</td>\n",
       "      <td>1</td>\n",
       "    </tr>\n",
       "    <tr>\n",
       "      <th>4</th>\n",
       "      <td>5</td>\n",
       "      <td>134</td>\n",
       "      <td>13.60</td>\n",
       "      <td>3.50</td>\n",
       "      <td>27.78</td>\n",
       "      <td>Present</td>\n",
       "      <td>60</td>\n",
       "      <td>25.99</td>\n",
       "      <td>57.34</td>\n",
       "      <td>49</td>\n",
       "      <td>1</td>\n",
       "    </tr>\n",
       "    <tr>\n",
       "      <th>...</th>\n",
       "      <td>...</td>\n",
       "      <td>...</td>\n",
       "      <td>...</td>\n",
       "      <td>...</td>\n",
       "      <td>...</td>\n",
       "      <td>...</td>\n",
       "      <td>...</td>\n",
       "      <td>...</td>\n",
       "      <td>...</td>\n",
       "      <td>...</td>\n",
       "      <td>...</td>\n",
       "    </tr>\n",
       "    <tr>\n",
       "      <th>457</th>\n",
       "      <td>459</td>\n",
       "      <td>214</td>\n",
       "      <td>0.40</td>\n",
       "      <td>5.98</td>\n",
       "      <td>31.72</td>\n",
       "      <td>Absent</td>\n",
       "      <td>64</td>\n",
       "      <td>28.45</td>\n",
       "      <td>0.00</td>\n",
       "      <td>58</td>\n",
       "      <td>0</td>\n",
       "    </tr>\n",
       "    <tr>\n",
       "      <th>458</th>\n",
       "      <td>460</td>\n",
       "      <td>182</td>\n",
       "      <td>4.20</td>\n",
       "      <td>4.41</td>\n",
       "      <td>32.10</td>\n",
       "      <td>Absent</td>\n",
       "      <td>52</td>\n",
       "      <td>28.61</td>\n",
       "      <td>18.72</td>\n",
       "      <td>52</td>\n",
       "      <td>1</td>\n",
       "    </tr>\n",
       "    <tr>\n",
       "      <th>459</th>\n",
       "      <td>461</td>\n",
       "      <td>108</td>\n",
       "      <td>3.00</td>\n",
       "      <td>1.59</td>\n",
       "      <td>15.23</td>\n",
       "      <td>Absent</td>\n",
       "      <td>40</td>\n",
       "      <td>20.09</td>\n",
       "      <td>26.64</td>\n",
       "      <td>55</td>\n",
       "      <td>0</td>\n",
       "    </tr>\n",
       "    <tr>\n",
       "      <th>460</th>\n",
       "      <td>462</td>\n",
       "      <td>118</td>\n",
       "      <td>5.40</td>\n",
       "      <td>11.61</td>\n",
       "      <td>30.79</td>\n",
       "      <td>Absent</td>\n",
       "      <td>64</td>\n",
       "      <td>27.35</td>\n",
       "      <td>23.97</td>\n",
       "      <td>40</td>\n",
       "      <td>0</td>\n",
       "    </tr>\n",
       "    <tr>\n",
       "      <th>461</th>\n",
       "      <td>463</td>\n",
       "      <td>132</td>\n",
       "      <td>0.00</td>\n",
       "      <td>4.82</td>\n",
       "      <td>33.41</td>\n",
       "      <td>Present</td>\n",
       "      <td>62</td>\n",
       "      <td>14.70</td>\n",
       "      <td>0.00</td>\n",
       "      <td>46</td>\n",
       "      <td>1</td>\n",
       "    </tr>\n",
       "  </tbody>\n",
       "</table>\n",
       "<p>462 rows × 11 columns</p>\n",
       "</div>"
      ],
      "text/plain": [
       "     row.names  sbp  tobacco    ldl  adiposity  famhist  typea  obesity  \\\n",
       "0            1  160    12.00   5.73      23.11  Present     49    25.30   \n",
       "1            2  144     0.01   4.41      28.61   Absent     55    28.87   \n",
       "2            3  118     0.08   3.48      32.28  Present     52    29.14   \n",
       "3            4  170     7.50   6.41      38.03  Present     51    31.99   \n",
       "4            5  134    13.60   3.50      27.78  Present     60    25.99   \n",
       "..         ...  ...      ...    ...        ...      ...    ...      ...   \n",
       "457        459  214     0.40   5.98      31.72   Absent     64    28.45   \n",
       "458        460  182     4.20   4.41      32.10   Absent     52    28.61   \n",
       "459        461  108     3.00   1.59      15.23   Absent     40    20.09   \n",
       "460        462  118     5.40  11.61      30.79   Absent     64    27.35   \n",
       "461        463  132     0.00   4.82      33.41  Present     62    14.70   \n",
       "\n",
       "     alcohol  age  chd  \n",
       "0      97.20   52    1  \n",
       "1       2.06   63    1  \n",
       "2       3.81   46    0  \n",
       "3      24.26   58    1  \n",
       "4      57.34   49    1  \n",
       "..       ...  ...  ...  \n",
       "457     0.00   58    0  \n",
       "458    18.72   52    1  \n",
       "459    26.64   55    0  \n",
       "460    23.97   40    0  \n",
       "461     0.00   46    1  \n",
       "\n",
       "[462 rows x 11 columns]"
      ]
     },
     "execution_count": 2,
     "metadata": {},
     "output_type": "execute_result"
    }
   ],
   "source": [
    "data = pd.read_csv('https://web.stanford.edu/~hastie/ElemStatLearn/datasets/SAheart.data')\n",
    "\n",
    "data"
   ]
  },
  {
   "cell_type": "markdown",
   "id": "41a86246",
   "metadata": {},
   "source": [
    "**Setting up our classifiers**:\n",
    "\n",
    "Let's stick to just a single feature (age at onset) and see how different methods use this feature to predict the outcome label (CHD). "
   ]
  },
  {
   "cell_type": "code",
   "execution_count": 3,
   "id": "0418809b",
   "metadata": {},
   "outputs": [],
   "source": [
    "x_vals = np.array(data['age']).reshape(len(data), 1)\n",
    "y_vals = np.array(data['chd'])\n",
    "\n",
    "xtrain, xtest, ytrain, ytest = train_test_split(x_vals, y_vals, random_state = 1)"
   ]
  },
  {
   "cell_type": "code",
   "execution_count": 4,
   "id": "37a15d17",
   "metadata": {},
   "outputs": [
    {
     "data": {
      "text/plain": [
       "Text(0, 0.5, 'CHD')"
      ]
     },
     "execution_count": 4,
     "metadata": {},
     "output_type": "execute_result"
    },
    {
     "data": {
      "image/png": "[encoded data removed]",
      "text/plain": [
       "<Figure size 432x288 with 1 Axes>"
      ]
     },
     "metadata": {
      "filenames": {
       "image/png": "/Users/erikbrockbank/web/teaching/ucsd-css-002-sp2022.github.io/_build/jupyter_execute/lectures/sp22/Lecture_20-post_9_1.png"
      },
      "needs_background": "light"
     },
     "output_type": "display_data"
    }
   ],
   "source": [
    "# sns.scatterplot(x = xtrain[:, 0], y = ytrain, alpha = .5)\n",
    "sns.scatterplot(x = xtest[:, 0], y = ytest, alpha = .5)\n",
    "plt.xlabel(\"Age\")\n",
    "plt.ylabel(\"CHD\")"
   ]
  },
  {
   "cell_type": "markdown",
   "id": "325b79ea",
   "metadata": {},
   "source": [
    "***Now, let's get started!***"
   ]
  },
  {
   "cell_type": "markdown",
   "id": "dc513191",
   "metadata": {},
   "source": [
    "## Logistic Regression\n",
    "\n",
    "**How it works**:\n",
    "\n",
    "In linear regression, the relationship between our predictor $x$ and our response variable $y$ was:\n",
    "\n",
    "$y = \\beta_0 + \\beta_1 x$\n",
    "\n",
    "If our $y$ values are all 0 or 1 (and assumed to be *Bernoulli distributed* with probability $p$), this approach doesn't work very well:\n",
    "1. It predicts values <0 and >1 for some inputs $x$\n",
    "2. It doesn't accomodate the fact that getting closer and closer to 1 gets harder and harder: one-unit changes in $x$ may not have equal changes in $p(y = 1)$. \n",
    "\n",
    "*So what do we do about this?*\n",
    "\n",
    "Instead, we postulate the following relationship between $x$ and $y$:\n",
    "\n",
    "$log \\dfrac{p(y=1)}{p(y=0)} = \\beta_0 + \\beta_1 x$.\n",
    "\n",
    "Every unit increase in $x$ leads to a $\\beta_1$ increase in the *log odds of $y$* (or, every unit increase in $x$ leads to a $\\beta_1$ *multiplication* of the *odds* of $y$).\n",
    "\n",
    "This *logit transform* of our response variable $y$ solves both of the problems with linear regression above. \n",
    "\n",
    "However, the goal today isn't to get into the nitty-gritty of logistic regression. Instead, let's talk about how we use it as a classifier!\n",
    "\n",
    "**Classification**\n",
    "\n",
    "When we've fit a logistic regression to our data, we can output a probability $p(y)$ for any given $x$:\n",
    "\n",
    "$p(y) = \\dfrac{e^{h(x)}}{1+ e^{h(x)}}$\n",
    "\n",
    "for $h(x) = \\beta_0 + \\beta_1x$.\n",
    "\n",
    "$\\dfrac{e^{h(x)}}{1+ e^{h(x)}}$ is the *logistic function* that maps from our $x$ variable to $p(y)$.\n",
    "\n",
    "We can use this function as the basis for classification, where $p(y)$ greater than a threshold $T$ is given a particular label estimate $\\hat{y}$.  \n",
    "\n",
    "\n",
    "**Fitting parameters**\n",
    "\n",
    "Even though logistic regression produces regression coefficients (intercept + slopes) similar to linear regression, these parameters are not estimated using the Ordinary Least Squares process we saw with linear regression. Instead, they are most often estimated using a more complicated process called Maximum Likelihood Estimation. \n"
   ]
  },
  {
   "cell_type": "markdown",
   "id": "499c91de",
   "metadata": {},
   "source": [
    "### Logistic regression in python\n",
    "\n",
    "You can read the scikit-learn documentation [here](https://scikit-learn.org/stable/modules/generated/sklearn.linear_model.LogisticRegression.html).\n"
   ]
  },
  {
   "cell_type": "code",
   "execution_count": 5,
   "id": "07fe6b20",
   "metadata": {},
   "outputs": [
    {
     "data": {
      "text/plain": [
       "LogisticRegression(random_state=1)"
      ]
     },
     "execution_count": 5,
     "metadata": {},
     "output_type": "execute_result"
    }
   ],
   "source": [
    "# Import the LogisticRegression class\n",
    "from sklearn.linear_model import LogisticRegression\n",
    "\n",
    "# Initialize the logistic regression\n",
    "log_reg = LogisticRegression(random_state = 1)\n",
    "\n",
    "# Fit the model\n",
    "log_reg.fit(X = xtrain, y = ytrain)"
   ]
  },
  {
   "cell_type": "markdown",
   "id": "1eed6011",
   "metadata": {},
   "source": [
    "**What attributes do we get from this model fit?**"
   ]
  },
  {
   "cell_type": "code",
   "execution_count": 6,
   "id": "7c9aa107",
   "metadata": {},
   "outputs": [
    {
     "data": {
      "text/plain": [
       "1.06682882157164"
      ]
     },
     "execution_count": 6,
     "metadata": {},
     "output_type": "execute_result"
    }
   ],
   "source": [
    "log_reg.classes_\n",
    "\n",
    "log_reg.intercept_ # What does this mean?\n",
    "np.exp(log_reg.intercept_[0]) / (1 + np.exp(log_reg.intercept_[0]))\n",
    "\n",
    "log_reg.coef_ # What does this mean?\n",
    "np.exp(log_reg.coef_[0][0])"
   ]
  },
  {
   "cell_type": "markdown",
   "id": "5b443b9c",
   "metadata": {},
   "source": [
    "**What functions does the model class give us?**"
   ]
  },
  {
   "cell_type": "code",
   "execution_count": 7,
   "id": "bb683feb",
   "metadata": {},
   "outputs": [
    {
     "data": {
      "text/plain": [
       "0.6637931034482759"
      ]
     },
     "execution_count": 7,
     "metadata": {},
     "output_type": "execute_result"
    }
   ],
   "source": [
    "binary_preds = log_reg.predict(xtest)\n",
    "binary_preds\n",
    "\n",
    "soft_preds = log_reg.predict_proba(xtest)\n",
    "soft_preds\n",
    "# soft_preds[:, 0] # probability of 0\n",
    "\n",
    "\n",
    "# Accuracy of hard classification predictions\n",
    "log_reg.score(X = xtest, y = ytest) \n"
   ]
  },
  {
   "cell_type": "markdown",
   "id": "29f3a2e9",
   "metadata": {},
   "source": [
    "**How did we do?**"
   ]
  },
  {
   "cell_type": "code",
   "execution_count": 8,
   "id": "1a6a832b",
   "metadata": {},
   "outputs": [
    {
     "data": {
      "image/png": "[encoded data removed]",
      "text/plain": [
       "<Figure size 432x288 with 1 Axes>"
      ]
     },
     "metadata": {
      "filenames": {
       "image/png": "/Users/erikbrockbank/web/teaching/ucsd-css-002-sp2022.github.io/_build/jupyter_execute/lectures/sp22/Lecture_20-post_19_0.png"
      },
      "needs_background": "light"
     },
     "output_type": "display_data"
    }
   ],
   "source": [
    "# Let's show the actual test data\n",
    "g = sns.scatterplot(x = xtest[:, 0], y = ytest, hue = ytest == binary_preds, alpha = .5)\n",
    "\n",
    "# Now, let's plot our logistic regression curve\n",
    "sns.lineplot(x = xtest[:, 0], y = soft_preds[:, 1])\n",
    "\n",
    "# What is the \"hard classification\" boundary?\n",
    "sns.lineplot(x = xtest[:, 0], y = binary_preds)\n",
    "plt.axhline(0.5, linestyle = \"--\", color = \"k\") # this is what produces our classification boundary\n",
    "\n",
    "\n",
    "g.set_xlabel(\"Age\")\n",
    "g.set_ylabel(\"CHD probability\")\n",
    "plt.legend(title = \"Correct\")\n",
    "\n",
    "plt.show()"
   ]
  },
  {
   "cell_type": "markdown",
   "id": "84710b9a",
   "metadata": {},
   "source": [
    "*What are the true positive/negative and false positive/negatives above?*\n",
    "\n",
    "\n",
    "..."
   ]
  },
  {
   "cell_type": "markdown",
   "id": "e2df95c7",
   "metadata": {},
   "source": [
    "**Understanding the regression**\n",
    "\n",
    "Let's look at where the blue line above comes from.\n",
    "\n",
    "Our logistic regression is formalized as follows:\n",
    "\n",
    "For $h(x) = \\beta_0 + \\beta_1x$,\n",
    "\n",
    "$p(y) = \\dfrac{e^{h(x)}}{1+ e^{h(x)}}$"
   ]
  },
  {
   "cell_type": "code",
   "execution_count": 9,
   "id": "a633e58a",
   "metadata": {},
   "outputs": [
    {
     "data": {
      "image/png": "[encoded data removed]",
      "text/plain": [
       "<Figure size 432x288 with 1 Axes>"
      ]
     },
     "metadata": {
      "filenames": {
       "image/png": "/Users/erikbrockbank/web/teaching/ucsd-css-002-sp2022.github.io/_build/jupyter_execute/lectures/sp22/Lecture_20-post_22_0.png"
      },
      "needs_background": "light"
     },
     "output_type": "display_data"
    },
    {
     "data": {
      "image/png": "[encoded data removed]",
      "text/plain": [
       "<Figure size 432x288 with 1 Axes>"
      ]
     },
     "metadata": {
      "filenames": {
       "image/png": "/Users/erikbrockbank/web/teaching/ucsd-css-002-sp2022.github.io/_build/jupyter_execute/lectures/sp22/Lecture_20-post_22_1.png"
      },
      "needs_background": "light"
     },
     "output_type": "display_data"
    }
   ],
   "source": [
    "# Let's implement the above transformation here\n",
    "ypreds = np.exp(log_reg.intercept_ + log_reg.coef_*xtest) / (1 + np.exp(log_reg.intercept_ + log_reg.coef_*xtest))\n",
    "\n",
    "# Now we can confirm that this worked\n",
    "g = sns.lineplot(x = xtest[:, 0], y = ypreds[:, 0])\n",
    "g.set_ylim(0, 1)\n",
    "g.set_xlabel(\"Age\")\n",
    "g.set_ylabel(\"p(CHD)\")\n",
    "plt.show()\n",
    "\n",
    "# Finally, let's look at the \"linear\" relationship underlying logistic regression\n",
    "h = sns.lineplot(x = xtest[:, 0], y = np.log(ypreds[:, 0]/(1-ypreds[:, 0])))\n",
    "h.set_xlabel(\"Age\")\n",
    "h.set_ylabel(\"Log odds of CHD\")\n",
    "plt.show()"
   ]
  },
  {
   "cell_type": "markdown",
   "id": "ef393163",
   "metadata": {},
   "source": [
    "**Understanding the classification**\n",
    "\n",
    "Note, the classification boundary of 50% that we used based on our logistic function's $p(y)$ is somewhat arbitrary. \n",
    "\n",
    "As with $k$-nearest neighbors, we can modify that classification threshold and generate an ROC curve over different thresholds."
   ]
  },
  {
   "cell_type": "code",
   "execution_count": 10,
   "id": "9647ac8e",
   "metadata": {},
   "outputs": [
    {
     "data": {
      "image/png": "[encoded data removed]",
      "text/plain": [
       "<Figure size 432x288 with 1 Axes>"
      ]
     },
     "metadata": {
      "filenames": {
       "image/png": "/Users/erikbrockbank/web/teaching/ucsd-css-002-sp2022.github.io/_build/jupyter_execute/lectures/sp22/Lecture_20-post_24_0.png"
      },
      "needs_background": "light"
     },
     "output_type": "display_data"
    }
   ],
   "source": [
    "from sklearn.metrics import roc_curve\n",
    "\n",
    "# ROC curve\n",
    "fpr, tpr, thresholds = roc_curve(\n",
    "    y_true = ytest,\n",
    "    y_score = log_reg.predict_proba(X = xtest)[:, 1],\n",
    "    pos_label = 1\n",
    ")\n",
    "\n",
    "\n",
    "sns.lineplot(x = fpr, y = tpr)\n",
    "plt.axline(xy1 = (0, 0), slope = 1, c = \"r\")\n",
    "\n",
    "plt.xlabel(\"FPR\")\n",
    "plt.ylabel(\"TPR\")\n",
    "plt.show()"
   ]
  },
  {
   "cell_type": "markdown",
   "id": "007e97bd",
   "metadata": {},
   "source": [
    "## Decision Trees"
   ]
  },
  {
   "cell_type": "markdown",
   "id": "6db6c902",
   "metadata": {},
   "source": [
    "Decision trees are a form of classification that fits a model by generating successive *rules* based on the input feature values. These rules are optimized to try and classify the data as accurately as possible.\n",
    "\n",
    "![decision_tree](img/Decision_Tree.jpeg)\n",
    "\n",
    "Above, the percentages are the percent of data points in each node and the proportions are the probability of survival ([Source](https://en.wikipedia.org/wiki/Decision_tree_learning)).\n",
    "\n",
    "*Take a second to interpret this*.\n",
    "\n",
    "Decision trees have the advantage of being super intuitive (like $k$-nearest neighbors, they're similar to how people often think about classification). \n",
    "\n",
    "There's a great article about how they work [here](https://towardsdatascience.com/decision-tree-classifier-explained-in-real-life-picking-a-vacation-destination-6226b2b60575) and a nice explanation of how the decision boundaries are identified [here](https://victorzhou.com/blog/gini-impurity/)."
   ]
  },
  {
   "cell_type": "markdown",
   "id": "29f4bf91",
   "metadata": {},
   "source": [
    "### Decision tree classifiers in python\n",
    "\n",
    "You can read the decision tree classifier documentation [here](https://scikit-learn.org/stable/modules/generated/sklearn.tree.DecisionTreeClassifier.html)."
   ]
  },
  {
   "cell_type": "code",
   "execution_count": 11,
   "id": "1d97dce6",
   "metadata": {},
   "outputs": [
    {
     "data": {
      "text/plain": [
       "DecisionTreeClassifier(random_state=1)"
      ]
     },
     "execution_count": 11,
     "metadata": {},
     "output_type": "execute_result"
    }
   ],
   "source": [
    "# Import the DecisionTreeClassifier class\n",
    "from sklearn.tree import DecisionTreeClassifier\n",
    "\n",
    "# Initialize the decision tree classifier\n",
    "dtree = DecisionTreeClassifier(random_state = 1)\n",
    "\n",
    "# Fit the model\n",
    "dtree.fit(X = xtrain, y = ytrain)"
   ]
  },
  {
   "cell_type": "code",
   "execution_count": 12,
   "id": "52f93b52",
   "metadata": {},
   "outputs": [
    {
     "data": {
      "text/plain": [
       "[Text(172.40380434782608, 209.07692307692307, 'X[0] <= 50.5\\ngini = 0.453\\nsamples = 346\\nvalue = [226, 120]'),\n",
       " Text(52.767391304347825, 192.35076923076923, 'X[0] <= 24.5\\ngini = 0.339\\nsamples = 217\\nvalue = [170, 47]'),\n",
       " Text(14.556521739130435, 175.62461538461537, 'X[0] <= 19.5\\ngini = 0.038\\nsamples = 51\\nvalue = [50, 1]'),\n",
       " Text(7.278260869565218, 158.89846153846153, 'gini = 0.0\\nsamples = 38\\nvalue = [38, 0]'),\n",
       " Text(21.834782608695654, 158.89846153846153, 'X[0] <= 20.5\\ngini = 0.142\\nsamples = 13\\nvalue = [12, 1]'),\n",
       " Text(14.556521739130435, 142.1723076923077, 'gini = 0.278\\nsamples = 6\\nvalue = [5, 1]'),\n",
       " Text(29.11304347826087, 142.1723076923077, 'gini = 0.0\\nsamples = 7\\nvalue = [7, 0]'),\n",
       " Text(90.97826086956522, 175.62461538461537, 'X[0] <= 31.5\\ngini = 0.401\\nsamples = 166\\nvalue = [120, 46]'),\n",
       " Text(58.22608695652174, 158.89846153846153, 'X[0] <= 28.5\\ngini = 0.305\\nsamples = 32\\nvalue = [26, 6]'),\n",
       " Text(43.66956521739131, 142.1723076923077, 'X[0] <= 25.5\\ngini = 0.415\\nsamples = 17\\nvalue = [12, 5]'),\n",
       " Text(36.391304347826086, 125.44615384615385, 'gini = 0.5\\nsamples = 2\\nvalue = [1, 1]'),\n",
       " Text(50.947826086956525, 125.44615384615385, 'X[0] <= 27.5\\ngini = 0.391\\nsamples = 15\\nvalue = [11, 4]'),\n",
       " Text(43.66956521739131, 108.72, 'X[0] <= 26.5\\ngini = 0.375\\nsamples = 8\\nvalue = [6, 2]'),\n",
       " Text(36.391304347826086, 91.99384615384615, 'gini = 0.375\\nsamples = 4\\nvalue = [3, 1]'),\n",
       " Text(50.947826086956525, 91.99384615384615, 'gini = 0.375\\nsamples = 4\\nvalue = [3, 1]'),\n",
       " Text(58.22608695652174, 108.72, 'gini = 0.408\\nsamples = 7\\nvalue = [5, 2]'),\n",
       " Text(72.78260869565217, 142.1723076923077, 'X[0] <= 30.5\\ngini = 0.124\\nsamples = 15\\nvalue = [14, 1]'),\n",
       " Text(65.50434782608696, 125.44615384615385, 'gini = 0.0\\nsamples = 8\\nvalue = [8, 0]'),\n",
       " Text(80.06086956521739, 125.44615384615385, 'gini = 0.245\\nsamples = 7\\nvalue = [6, 1]'),\n",
       " Text(123.7304347826087, 158.89846153846153, 'X[0] <= 32.5\\ngini = 0.419\\nsamples = 134\\nvalue = [94, 40]'),\n",
       " Text(116.45217391304348, 142.1723076923077, 'gini = 0.494\\nsamples = 9\\nvalue = [5, 4]'),\n",
       " Text(131.0086956521739, 142.1723076923077, 'X[0] <= 38.5\\ngini = 0.41\\nsamples = 125\\nvalue = [89, 36]'),\n",
       " Text(94.61739130434783, 125.44615384615385, 'X[0] <= 35.5\\ngini = 0.342\\nsamples = 32\\nvalue = [25, 7]'),\n",
       " Text(80.06086956521739, 108.72, 'X[0] <= 34.5\\ngini = 0.298\\nsamples = 11\\nvalue = [9, 2]'),\n",
       " Text(72.78260869565217, 91.99384615384615, 'X[0] <= 33.5\\ngini = 0.32\\nsamples = 10\\nvalue = [8, 2]'),\n",
       " Text(65.50434782608696, 75.2676923076923, 'gini = 0.278\\nsamples = 6\\nvalue = [5, 1]'),\n",
       " Text(80.06086956521739, 75.2676923076923, 'gini = 0.375\\nsamples = 4\\nvalue = [3, 1]'),\n",
       " Text(87.33913043478262, 91.99384615384615, 'gini = 0.0\\nsamples = 1\\nvalue = [1, 0]'),\n",
       " Text(109.17391304347827, 108.72, 'X[0] <= 36.5\\ngini = 0.363\\nsamples = 21\\nvalue = [16, 5]'),\n",
       " Text(101.89565217391305, 91.99384615384615, 'gini = 0.444\\nsamples = 3\\nvalue = [2, 1]'),\n",
       " Text(116.45217391304348, 91.99384615384615, 'X[0] <= 37.5\\ngini = 0.346\\nsamples = 18\\nvalue = [14, 4]'),\n",
       " Text(109.17391304347827, 75.2676923076923, 'gini = 0.278\\nsamples = 6\\nvalue = [5, 1]'),\n",
       " Text(123.7304347826087, 75.2676923076923, 'gini = 0.375\\nsamples = 12\\nvalue = [9, 3]'),\n",
       " Text(167.4, 125.44615384615385, 'X[0] <= 43.5\\ngini = 0.429\\nsamples = 93\\nvalue = [64, 29]'),\n",
       " Text(152.84347826086957, 108.72, 'X[0] <= 42.5\\ngini = 0.473\\nsamples = 39\\nvalue = [24, 15]'),\n",
       " Text(145.56521739130434, 91.99384615384615, 'X[0] <= 39.5\\ngini = 0.451\\nsamples = 32\\nvalue = [21, 11]'),\n",
       " Text(138.28695652173914, 75.2676923076923, 'gini = 0.49\\nsamples = 7\\nvalue = [4, 3]'),\n",
       " Text(152.84347826086957, 75.2676923076923, 'X[0] <= 40.5\\ngini = 0.435\\nsamples = 25\\nvalue = [17, 8]'),\n",
       " Text(145.56521739130434, 58.541538461538465, 'gini = 0.42\\nsamples = 10\\nvalue = [7, 3]'),\n",
       " Text(160.12173913043478, 58.541538461538465, 'X[0] <= 41.5\\ngini = 0.444\\nsamples = 15\\nvalue = [10, 5]'),\n",
       " Text(152.84347826086957, 41.81538461538463, 'gini = 0.444\\nsamples = 6\\nvalue = [4, 2]'),\n",
       " Text(167.4, 41.81538461538463, 'gini = 0.444\\nsamples = 9\\nvalue = [6, 3]'),\n",
       " Text(160.12173913043478, 91.99384615384615, 'gini = 0.49\\nsamples = 7\\nvalue = [3, 4]'),\n",
       " Text(181.95652173913044, 108.72, 'X[0] <= 44.5\\ngini = 0.384\\nsamples = 54\\nvalue = [40, 14]'),\n",
       " Text(174.67826086956524, 91.99384615384615, 'gini = 0.0\\nsamples = 7\\nvalue = [7, 0]'),\n",
       " Text(189.23478260869567, 91.99384615384615, 'X[0] <= 45.5\\ngini = 0.418\\nsamples = 47\\nvalue = [33, 14]'),\n",
       " Text(181.95652173913044, 75.2676923076923, 'gini = 0.5\\nsamples = 8\\nvalue = [4, 4]'),\n",
       " Text(196.51304347826087, 75.2676923076923, 'X[0] <= 49.5\\ngini = 0.381\\nsamples = 39\\nvalue = [29, 10]'),\n",
       " Text(189.23478260869567, 58.541538461538465, 'X[0] <= 46.5\\ngini = 0.35\\nsamples = 31\\nvalue = [24, 7]'),\n",
       " Text(181.95652173913044, 41.81538461538463, 'gini = 0.444\\nsamples = 6\\nvalue = [4, 2]'),\n",
       " Text(196.51304347826087, 41.81538461538463, 'X[0] <= 47.5\\ngini = 0.32\\nsamples = 25\\nvalue = [20, 5]'),\n",
       " Text(189.23478260869567, 25.089230769230767, 'gini = 0.0\\nsamples = 1\\nvalue = [1, 0]'),\n",
       " Text(203.7913043478261, 25.089230769230767, 'X[0] <= 48.5\\ngini = 0.33\\nsamples = 24\\nvalue = [19, 5]'),\n",
       " Text(196.51304347826087, 8.363076923076932, 'gini = 0.355\\nsamples = 13\\nvalue = [10, 3]'),\n",
       " Text(211.0695652173913, 8.363076923076932, 'gini = 0.298\\nsamples = 11\\nvalue = [9, 2]'),\n",
       " Text(203.7913043478261, 58.541538461538465, 'gini = 0.469\\nsamples = 8\\nvalue = [5, 3]'),\n",
       " Text(292.04021739130434, 192.35076923076923, 'X[0] <= 59.5\\ngini = 0.491\\nsamples = 129\\nvalue = [56, 73]'),\n",
       " Text(271.1152173913043, 175.62461538461537, 'X[0] <= 57.5\\ngini = 0.472\\nsamples = 81\\nvalue = [31, 50]'),\n",
       " Text(251.1, 158.89846153846153, 'X[0] <= 55.5\\ngini = 0.494\\nsamples = 56\\nvalue = [25, 31]'),\n",
       " Text(232.90434782608696, 142.1723076923077, 'X[0] <= 53.5\\ngini = 0.476\\nsamples = 46\\nvalue = [18, 28]'),\n",
       " Text(218.34782608695653, 125.44615384615385, 'X[0] <= 52.5\\ngini = 0.497\\nsamples = 26\\nvalue = [12, 14]'),\n",
       " Text(211.0695652173913, 108.72, 'X[0] <= 51.5\\ngini = 0.48\\nsamples = 15\\nvalue = [6, 9]'),\n",
       " Text(203.7913043478261, 91.99384615384615, 'gini = 0.49\\nsamples = 7\\nvalue = [3, 4]'),\n",
       " Text(218.34782608695653, 91.99384615384615, 'gini = 0.469\\nsamples = 8\\nvalue = [3, 5]'),\n",
       " Text(225.62608695652173, 108.72, 'gini = 0.496\\nsamples = 11\\nvalue = [6, 5]'),\n",
       " Text(247.4608695652174, 125.44615384615385, 'X[0] <= 54.5\\ngini = 0.42\\nsamples = 20\\nvalue = [6, 14]'),\n",
       " Text(240.1826086956522, 108.72, 'gini = 0.278\\nsamples = 6\\nvalue = [1, 5]'),\n",
       " Text(254.73913043478262, 108.72, 'gini = 0.459\\nsamples = 14\\nvalue = [5, 9]'),\n",
       " Text(269.295652173913, 142.1723076923077, 'X[0] <= 56.5\\ngini = 0.42\\nsamples = 10\\nvalue = [7, 3]'),\n",
       " Text(262.0173913043478, 125.44615384615385, 'gini = 0.48\\nsamples = 5\\nvalue = [3, 2]'),\n",
       " Text(276.5739130434783, 125.44615384615385, 'gini = 0.32\\nsamples = 5\\nvalue = [4, 1]'),\n",
       " Text(291.1304347826087, 158.89846153846153, 'X[0] <= 58.5\\ngini = 0.365\\nsamples = 25\\nvalue = [6, 19]'),\n",
       " Text(283.8521739130435, 142.1723076923077, 'gini = 0.375\\nsamples = 12\\nvalue = [3, 9]'),\n",
       " Text(298.40869565217395, 142.1723076923077, 'gini = 0.355\\nsamples = 13\\nvalue = [3, 10]'),\n",
       " Text(312.96521739130435, 175.62461538461537, 'X[0] <= 60.5\\ngini = 0.499\\nsamples = 48\\nvalue = [25, 23]'),\n",
       " Text(305.68695652173915, 158.89846153846153, 'gini = 0.375\\nsamples = 12\\nvalue = [9, 3]'),\n",
       " Text(320.24347826086955, 158.89846153846153, 'X[0] <= 63.5\\ngini = 0.494\\nsamples = 36\\nvalue = [16, 20]'),\n",
       " Text(312.96521739130435, 142.1723076923077, 'X[0] <= 62.5\\ngini = 0.473\\nsamples = 26\\nvalue = [10, 16]'),\n",
       " Text(305.68695652173915, 125.44615384615385, 'X[0] <= 61.5\\ngini = 0.49\\nsamples = 21\\nvalue = [9, 12]'),\n",
       " Text(298.40869565217395, 108.72, 'gini = 0.444\\nsamples = 12\\nvalue = [4, 8]'),\n",
       " Text(312.96521739130435, 108.72, 'gini = 0.494\\nsamples = 9\\nvalue = [5, 4]'),\n",
       " Text(320.24347826086955, 125.44615384615385, 'gini = 0.32\\nsamples = 5\\nvalue = [1, 4]'),\n",
       " Text(327.5217391304348, 142.1723076923077, 'gini = 0.48\\nsamples = 10\\nvalue = [6, 4]')]"
      ]
     },
     "execution_count": 12,
     "metadata": {},
     "output_type": "execute_result"
    },
    {
     "data": {
      "image/png": "[encoded data removed]",
      "text/plain": [
       "<Figure size 432x288 with 1 Axes>"
      ]
     },
     "metadata": {
      "filenames": {
       "image/png": "/Users/erikbrockbank/web/teaching/ucsd-css-002-sp2022.github.io/_build/jupyter_execute/lectures/sp22/Lecture_20-post_29_1.png"
      },
      "needs_background": "light"
     },
     "output_type": "display_data"
    }
   ],
   "source": [
    "from sklearn import tree\n",
    "\n",
    "tree.plot_tree(dtree)"
   ]
  },
  {
   "cell_type": "markdown",
   "id": "61467d61",
   "metadata": {},
   "source": [
    "Whoa. \n",
    "\n",
    "**Decision trees can overfit data *a lot* if they aren't constrained.**"
   ]
  },
  {
   "cell_type": "code",
   "execution_count": 13,
   "id": "a8ec4972",
   "metadata": {},
   "outputs": [
    {
     "data": {
      "text/plain": [
       "0.646551724137931"
      ]
     },
     "execution_count": 13,
     "metadata": {},
     "output_type": "execute_result"
    }
   ],
   "source": [
    "dtree.score(X = xtrain, y = ytrain)\n",
    "dtree.score(X = xtest, y = ytest)\n",
    "\n",
    "# Seems like we're overfitting"
   ]
  },
  {
   "cell_type": "markdown",
   "id": "2e3d76b2",
   "metadata": {},
   "source": [
    "*Let's try this again...*"
   ]
  },
  {
   "cell_type": "code",
   "execution_count": 14,
   "id": "f45577bd",
   "metadata": {},
   "outputs": [
    {
     "data": {
      "text/plain": [
       "DecisionTreeClassifier(max_depth=1, random_state=1)"
      ]
     },
     "execution_count": 14,
     "metadata": {},
     "output_type": "execute_result"
    }
   ],
   "source": [
    "dtree = DecisionTreeClassifier(\n",
    "    # how many layers our decision tree should have (toggle between 1 and 2 and see how this impacts results)\n",
    "    max_depth = 1,\n",
    "    random_state = 1\n",
    ")\n",
    "\n",
    "# Fit the model\n",
    "dtree.fit(X = xtrain, y = ytrain)"
   ]
  },
  {
   "cell_type": "code",
   "execution_count": 15,
   "id": "085045f3",
   "metadata": {},
   "outputs": [
    {
     "data": {
      "text/plain": [
       "[Text(167.4, 163.07999999999998, 'Age <= 50.5\\ngini = 0.453\\nsamples = 346\\nvalue = [226, 120]\\nclass = No CHD'),\n",
       " Text(83.7, 54.360000000000014, 'gini = 0.339\\nsamples = 217\\nvalue = [170, 47]\\nclass = No CHD'),\n",
       " Text(251.10000000000002, 54.360000000000014, 'gini = 0.491\\nsamples = 129\\nvalue = [56, 73]\\nclass = CHD')]"
      ]
     },
     "execution_count": 15,
     "metadata": {},
     "output_type": "execute_result"
    },
    {
     "data": {
      "image/png": "[encoded data removed]",
      "text/plain": [
       "<Figure size 432x288 with 1 Axes>"
      ]
     },
     "metadata": {
      "filenames": {
       "image/png": "/Users/erikbrockbank/web/teaching/ucsd-css-002-sp2022.github.io/_build/jupyter_execute/lectures/sp22/Lecture_20-post_34_1.png"
      },
      "needs_background": "light"
     },
     "output_type": "display_data"
    }
   ],
   "source": [
    "tree.plot_tree(dtree,\n",
    "               feature_names = ['Age'],\n",
    "               class_names = ['No CHD', 'CHD'],\n",
    "               filled = True\n",
    "              )\n"
   ]
  },
  {
   "cell_type": "markdown",
   "id": "a6195648",
   "metadata": {},
   "source": [
    "***What's going on here?***\n",
    "\n",
    "- `Age <= 50.5`: This is the \"rule\" being used to define leaves on either side of the tree (\"No\" -> left, \"Yes\" -> right)\n",
    "- `gini = 0.453`: This refers to the \"Gini impurity\" of the node. Gini impurity is the loss function used to fit this tree (optimal = 0) (more on this [here](https://victorzhou.com/blog/gini-impurity/))\n",
    "- `samples = 346`: This is the number of samples in the group that the node is dividing\n",
    "- `value = [226, 120]`: This is the number of training values on the left (`values[0]`) and the right (`values[1]`) of the node\n",
    "\n",
    "NOTE: With a depth of 1, at the very bottom, we have:\n",
    "- 170 people were correctly classified as \"No CHD\" with this rule (true negatives)\n",
    "- 47 people were classified as \"No CHD\" with this rule *incorrectly* (false negatives)\n",
    "- 56 people were classified as \"CHD\" with this rule *incorrectly* (false positives)\n",
    "- 73 people were classified as \"CHD\" with this rule *correctly* (true positives)"
   ]
  },
  {
   "cell_type": "markdown",
   "id": "97dcdffc",
   "metadata": {},
   "source": [
    "Like other classifiers, the decision tree classifier lets us predict values and has functions for assessing prediction accuracy."
   ]
  },
  {
   "cell_type": "code",
   "execution_count": 16,
   "id": "a8552518",
   "metadata": {},
   "outputs": [
    {
     "data": {
      "text/plain": [
       "0.6810344827586207"
      ]
     },
     "execution_count": 16,
     "metadata": {},
     "output_type": "execute_result"
    }
   ],
   "source": [
    "# Accuracy on the data\n",
    "dtree.score(X = xtrain, y = ytrain)\n",
    "dtree.score(X = xtest, y = ytest)"
   ]
  },
  {
   "cell_type": "code",
   "execution_count": 17,
   "id": "d5f3ff38",
   "metadata": {},
   "outputs": [
    {
     "data": {
      "text/plain": [
       "0.6810344827586207"
      ]
     },
     "execution_count": 17,
     "metadata": {},
     "output_type": "execute_result"
    }
   ],
   "source": [
    "ypreds = dtree.predict(X = xtest)\n",
    "ypreds\n",
    "\n",
    "# Test `score` above\n",
    "sum(ypreds == ytest) / len(ypreds)"
   ]
  },
  {
   "cell_type": "code",
   "execution_count": 18,
   "id": "d59c0aab",
   "metadata": {},
   "outputs": [
    {
     "data": {
      "text/plain": [
       "array([[0.78341014, 0.21658986],\n",
       "       [0.78341014, 0.21658986],\n",
       "       [0.78341014, 0.21658986],\n",
       "       [0.78341014, 0.21658986],\n",
       "       [0.43410853, 0.56589147],\n",
       "       [0.78341014, 0.21658986],\n",
       "       [0.78341014, 0.21658986],\n",
       "       [0.43410853, 0.56589147],\n",
       "       [0.78341014, 0.21658986],\n",
       "       [0.43410853, 0.56589147],\n",
       "       [0.43410853, 0.56589147],\n",
       "       [0.78341014, 0.21658986],\n",
       "       [0.78341014, 0.21658986],\n",
       "       [0.43410853, 0.56589147],\n",
       "       [0.78341014, 0.21658986],\n",
       "       [0.78341014, 0.21658986],\n",
       "       [0.78341014, 0.21658986],\n",
       "       [0.43410853, 0.56589147],\n",
       "       [0.78341014, 0.21658986],\n",
       "       [0.78341014, 0.21658986],\n",
       "       [0.78341014, 0.21658986],\n",
       "       [0.78341014, 0.21658986],\n",
       "       [0.78341014, 0.21658986],\n",
       "       [0.78341014, 0.21658986],\n",
       "       [0.78341014, 0.21658986],\n",
       "       [0.43410853, 0.56589147],\n",
       "       [0.78341014, 0.21658986],\n",
       "       [0.78341014, 0.21658986],\n",
       "       [0.43410853, 0.56589147],\n",
       "       [0.43410853, 0.56589147],\n",
       "       [0.43410853, 0.56589147],\n",
       "       [0.78341014, 0.21658986],\n",
       "       [0.78341014, 0.21658986],\n",
       "       [0.78341014, 0.21658986],\n",
       "       [0.78341014, 0.21658986],\n",
       "       [0.43410853, 0.56589147],\n",
       "       [0.78341014, 0.21658986],\n",
       "       [0.43410853, 0.56589147],\n",
       "       [0.78341014, 0.21658986],\n",
       "       [0.43410853, 0.56589147],\n",
       "       [0.78341014, 0.21658986],\n",
       "       [0.78341014, 0.21658986],\n",
       "       [0.78341014, 0.21658986],\n",
       "       [0.43410853, 0.56589147],\n",
       "       [0.78341014, 0.21658986],\n",
       "       [0.78341014, 0.21658986],\n",
       "       [0.43410853, 0.56589147],\n",
       "       [0.78341014, 0.21658986],\n",
       "       [0.43410853, 0.56589147],\n",
       "       [0.78341014, 0.21658986],\n",
       "       [0.78341014, 0.21658986],\n",
       "       [0.43410853, 0.56589147],\n",
       "       [0.43410853, 0.56589147],\n",
       "       [0.43410853, 0.56589147],\n",
       "       [0.43410853, 0.56589147],\n",
       "       [0.78341014, 0.21658986],\n",
       "       [0.78341014, 0.21658986],\n",
       "       [0.78341014, 0.21658986],\n",
       "       [0.43410853, 0.56589147],\n",
       "       [0.43410853, 0.56589147],\n",
       "       [0.78341014, 0.21658986],\n",
       "       [0.78341014, 0.21658986],\n",
       "       [0.43410853, 0.56589147],\n",
       "       [0.78341014, 0.21658986],\n",
       "       [0.43410853, 0.56589147],\n",
       "       [0.43410853, 0.56589147],\n",
       "       [0.78341014, 0.21658986],\n",
       "       [0.78341014, 0.21658986],\n",
       "       [0.78341014, 0.21658986],\n",
       "       [0.78341014, 0.21658986],\n",
       "       [0.78341014, 0.21658986],\n",
       "       [0.78341014, 0.21658986],\n",
       "       [0.78341014, 0.21658986],\n",
       "       [0.78341014, 0.21658986],\n",
       "       [0.78341014, 0.21658986],\n",
       "       [0.78341014, 0.21658986],\n",
       "       [0.78341014, 0.21658986],\n",
       "       [0.43410853, 0.56589147],\n",
       "       [0.78341014, 0.21658986],\n",
       "       [0.78341014, 0.21658986],\n",
       "       [0.43410853, 0.56589147],\n",
       "       [0.43410853, 0.56589147],\n",
       "       [0.78341014, 0.21658986],\n",
       "       [0.43410853, 0.56589147],\n",
       "       [0.43410853, 0.56589147],\n",
       "       [0.78341014, 0.21658986],\n",
       "       [0.43410853, 0.56589147],\n",
       "       [0.43410853, 0.56589147],\n",
       "       [0.78341014, 0.21658986],\n",
       "       [0.43410853, 0.56589147],\n",
       "       [0.78341014, 0.21658986],\n",
       "       [0.78341014, 0.21658986],\n",
       "       [0.43410853, 0.56589147],\n",
       "       [0.78341014, 0.21658986],\n",
       "       [0.43410853, 0.56589147],\n",
       "       [0.78341014, 0.21658986],\n",
       "       [0.78341014, 0.21658986],\n",
       "       [0.78341014, 0.21658986],\n",
       "       [0.78341014, 0.21658986],\n",
       "       [0.78341014, 0.21658986],\n",
       "       [0.78341014, 0.21658986],\n",
       "       [0.43410853, 0.56589147],\n",
       "       [0.43410853, 0.56589147],\n",
       "       [0.78341014, 0.21658986],\n",
       "       [0.43410853, 0.56589147],\n",
       "       [0.43410853, 0.56589147],\n",
       "       [0.78341014, 0.21658986],\n",
       "       [0.78341014, 0.21658986],\n",
       "       [0.43410853, 0.56589147],\n",
       "       [0.43410853, 0.56589147],\n",
       "       [0.78341014, 0.21658986],\n",
       "       [0.43410853, 0.56589147],\n",
       "       [0.78341014, 0.21658986],\n",
       "       [0.78341014, 0.21658986],\n",
       "       [0.78341014, 0.21658986],\n",
       "       [0.43410853, 0.56589147]])"
      ]
     },
     "execution_count": 18,
     "metadata": {},
     "output_type": "execute_result"
    }
   ],
   "source": [
    "# The \"soft classification\" probabilities are just the fraction of training samples for the \"true\" label \n",
    "# in the leaf where this test item ended up\n",
    "\n",
    "ypreds_soft = dtree.predict_proba(X = xtest)\n",
    "ypreds_soft"
   ]
  },
  {
   "cell_type": "markdown",
   "id": "d5cd0f65",
   "metadata": {},
   "source": [
    "We can use the predictions as the basis for better understanding what the tree is doing:"
   ]
  },
  {
   "cell_type": "code",
   "execution_count": 19,
   "id": "b4326b56",
   "metadata": {},
   "outputs": [
    {
     "data": {
      "text/plain": [
       "<matplotlib.lines.Line2D at 0x7fac7c7bdb50>"
      ]
     },
     "execution_count": 19,
     "metadata": {},
     "output_type": "execute_result"
    },
    {
     "data": {
      "image/png": "[encoded data removed]",
      "text/plain": [
       "<Figure size 432x288 with 1 Axes>"
      ]
     },
     "metadata": {
      "filenames": {
       "image/png": "/Users/erikbrockbank/web/teaching/ucsd-css-002-sp2022.github.io/_build/jupyter_execute/lectures/sp22/Lecture_20-post_41_1.png"
      },
      "needs_background": "light"
     },
     "output_type": "display_data"
    }
   ],
   "source": [
    "# This reveals the cutoff(s) chosen by our decision tree! \n",
    "train_preds = dtree.predict(X = xtrain)\n",
    "\n",
    "g = sns.scatterplot(x = xtrain[:, 0], y = ytrain, hue = ytrain == train_preds, alpha = .25)\n",
    "# These are the decision boundaries in the tree. You can see how they segment our data into more accurate predictions\n",
    "g.axvline(50.5)\n",
    "g.axvline(59.5)\n",
    "g.axvline(24.5)\n",
    "\n"
   ]
  },
  {
   "cell_type": "code",
   "execution_count": 20,
   "id": "0e6534b9",
   "metadata": {},
   "outputs": [],
   "source": [
    "### YOUR CODE HERE\n",
    "\n",
    "# Make a similar graph to the above with the test data"
   ]
  },
  {
   "cell_type": "markdown",
   "id": "c3711d02",
   "metadata": {},
   "source": [
    "We can also draw on the same resources that we talked about for assessing our $k$-nearest neighbors classifier:\n",
    "- Accuracy / F1 score\n",
    "- ROC curves"
   ]
  },
  {
   "cell_type": "code",
   "execution_count": 21,
   "id": "0bc94139",
   "metadata": {},
   "outputs": [
    {
     "data": {
      "text/plain": [
       "0.5542168674698795"
      ]
     },
     "execution_count": 21,
     "metadata": {},
     "output_type": "execute_result"
    }
   ],
   "source": [
    "from sklearn.metrics import accuracy_score, f1_score\n",
    "\n",
    "\n",
    "# Test accuracy\n",
    "accuracy_score(y_true = ytest, y_pred = dtree.predict(X = xtest))\n",
    "\n",
    "# Test F1 score\n",
    "f1_score(y_true = ytest,\n",
    "         y_pred = dtree.predict(X = xtest),\n",
    "         labels = [0, 1],\n",
    "         pos_label = 1\n",
    "        )"
   ]
  },
  {
   "cell_type": "code",
   "execution_count": 22,
   "id": "9ddab997",
   "metadata": {},
   "outputs": [
    {
     "data": {
      "text/plain": [
       "Text(0, 0.5, 'TPR')"
      ]
     },
     "execution_count": 22,
     "metadata": {},
     "output_type": "execute_result"
    },
    {
     "data": {
      "image/png": "[encoded data removed]",
      "text/plain": [
       "<Figure size 432x288 with 1 Axes>"
      ]
     },
     "metadata": {
      "filenames": {
       "image/png": "/Users/erikbrockbank/web/teaching/ucsd-css-002-sp2022.github.io/_build/jupyter_execute/lectures/sp22/Lecture_20-post_45_1.png"
      },
      "needs_background": "light"
     },
     "output_type": "display_data"
    }
   ],
   "source": [
    "from sklearn.metrics import roc_curve\n",
    "\n",
    "# ROC curve\n",
    "fpr, tpr, thresholds = roc_curve(\n",
    "    y_true = ytest,\n",
    "    y_score = dtree.predict_proba(X = xtest)[:, 1],\n",
    "    pos_label = 1\n",
    ")\n",
    "\n",
    "\n",
    "sns.lineplot(x = fpr, y = tpr)\n",
    "plt.axline(xy1 = (0, 0), slope = 1, c = \"r\")\n",
    "\n",
    "plt.xlabel(\"FPR\")\n",
    "plt.ylabel(\"TPR\")"
   ]
  },
  {
   "cell_type": "markdown",
   "id": "168ad36a",
   "metadata": {},
   "source": [
    "## Support Vector Machines (SVMs)\n",
    "\n",
    "Support Vector Machines work by trying to find a line or plane (usually in a high-dimensional space) that *maximally separates* the training labels in that space. \n",
    "\n",
    "The intuition for this is relatively straightforward but the implementation can get complicated!\n",
    "\n",
    "In the plot below, the linear funtion $h_3(x_1, x_2)$ is the best way to separate our training data because it maximizes the margin on either side of the line.\n",
    "\n",
    "SVMs try to find the equivalent of $h_3$ given some training data. This separator can be defined by the closest points in the data to the line; these are called the \"support vectors\". Finding the best separator usually requires mapping the training data into a high-dimensional space where it can be effectively separated.\n",
    "\n",
    "![svm](img/svm2.png)\n",
    "\n",
    "([Source](https://en.wikipedia.org/wiki/Support-vector_machine))"
   ]
  },
  {
   "cell_type": "markdown",
   "id": "dcfdf8c9",
   "metadata": {},
   "source": [
    "### SVMs in python\n",
    "\n",
    "The documentation for SVMs in scikit-learn is [here](https://scikit-learn.org/stable/modules/generated/sklearn.svm.SVC.html)."
   ]
  },
  {
   "cell_type": "code",
   "execution_count": 23,
   "id": "54028157",
   "metadata": {},
   "outputs": [
    {
     "data": {
      "text/plain": [
       "SVC()"
      ]
     },
     "execution_count": 23,
     "metadata": {},
     "output_type": "execute_result"
    }
   ],
   "source": [
    "from sklearn.svm import SVC\n",
    "\n",
    "svm = SVC()\n",
    "\n",
    "svm.fit(xtrain, ytrain)"
   ]
  },
  {
   "cell_type": "markdown",
   "id": "cc1b7557",
   "metadata": {},
   "source": [
    "In the case of SVMs, there are class attributes that help you recover the separator that was fit.\n",
    "\n",
    "We won't get into these but if you're interested in learning more it's good to know about!\n"
   ]
  },
  {
   "cell_type": "code",
   "execution_count": 24,
   "id": "8c8d0e2a",
   "metadata": {},
   "outputs": [
    {
     "data": {
      "image/png": "[encoded data removed]",
      "text/plain": [
       "<Figure size 432x288 with 1 Axes>"
      ]
     },
     "metadata": {
      "filenames": {
       "image/png": "/Users/erikbrockbank/web/teaching/ucsd-css-002-sp2022.github.io/_build/jupyter_execute/lectures/sp22/Lecture_20-post_50_0.png"
      },
      "needs_background": "light"
     },
     "output_type": "display_data"
    },
    {
     "data": {
      "image/png": "[encoded data removed]",
      "text/plain": [
       "<Figure size 432x288 with 1 Axes>"
      ]
     },
     "metadata": {
      "filenames": {
       "image/png": "/Users/erikbrockbank/web/teaching/ucsd-css-002-sp2022.github.io/_build/jupyter_execute/lectures/sp22/Lecture_20-post_50_1.png"
      },
      "needs_background": "light"
     },
     "output_type": "display_data"
    }
   ],
   "source": [
    "# svm.intercept_\n",
    "# svm.coef_ # only for 'linear' kernel\n",
    "# svm.support_vectors_\n",
    "\n",
    "# For example, we can view the items in the training set that formed the support vector\n",
    "sns.scatterplot(x = xtrain[:, 0], y = ytrain, alpha = .25)\n",
    "plt.title(\"Training data\")\n",
    "plt.show()\n",
    "\n",
    "sns.scatterplot(x = xtrain[svm.support_][:, 0], y = ytrain[svm.support_], alpha = .25)\n",
    "plt.title(\"Support vectors\")\n",
    "plt.show()"
   ]
  },
  {
   "cell_type": "markdown",
   "id": "86fe1a39",
   "metadata": {},
   "source": [
    "The SVM class has a `score` function that returns the accuracy of a test set, plus prediction functions."
   ]
  },
  {
   "cell_type": "code",
   "execution_count": 25,
   "id": "0c351d24",
   "metadata": {},
   "outputs": [
    {
     "data": {
      "text/plain": [
       "0.646551724137931"
      ]
     },
     "execution_count": 25,
     "metadata": {},
     "output_type": "execute_result"
    }
   ],
   "source": [
    "# Percent of correct classifications\n",
    "svm.score(X = xtrain, y = ytrain)\n",
    "svm.score(X = xtest, y = ytest)"
   ]
  },
  {
   "cell_type": "code",
   "execution_count": 26,
   "id": "1f060c30",
   "metadata": {},
   "outputs": [
    {
     "data": {
      "text/plain": [
       "array([0, 0, 0, 0, 1, 0, 0, 1, 0, 1, 1, 0, 0, 1, 0, 0, 0, 1, 0, 0, 0, 0,\n",
       "       0, 0, 0, 1, 0, 0, 1, 1, 1, 0, 0, 0, 0, 0, 0, 1, 0, 0, 0, 0, 0, 1,\n",
       "       0, 0, 1, 0, 1, 0, 0, 1, 1, 1, 0, 0, 0, 0, 1, 1, 0, 0, 0, 0, 1, 1,\n",
       "       0, 0, 0, 0, 0, 0, 0, 0, 0, 0, 0, 1, 0, 0, 1, 1, 0, 1, 1, 0, 1, 1,\n",
       "       0, 1, 0, 0, 1, 0, 1, 0, 0, 0, 0, 0, 0, 0, 1, 0, 1, 1, 0, 0, 1, 0,\n",
       "       0, 1, 0, 0, 0, 1])"
      ]
     },
     "execution_count": 26,
     "metadata": {},
     "output_type": "execute_result"
    }
   ],
   "source": [
    "ypreds = svm.predict(X = xtest)\n",
    "ypreds"
   ]
  },
  {
   "cell_type": "markdown",
   "id": "8d509b07",
   "metadata": {},
   "source": [
    "However, soft prediction requires configuring the initial model to do soft classification (by default, SVMs are made to only do hard classification)."
   ]
  },
  {
   "cell_type": "code",
   "execution_count": 27,
   "id": "fe2ce902",
   "metadata": {},
   "outputs": [
    {
     "data": {
      "text/plain": [
       "array([[0.71971361, 0.28028639],\n",
       "       [0.72063653, 0.27936347],\n",
       "       [0.67868053, 0.32131947],\n",
       "       [0.72025123, 0.27974877],\n",
       "       [0.44383188, 0.55616812],\n",
       "       [0.71972589, 0.28027411],\n",
       "       [0.72407255, 0.27592745],\n",
       "       [0.51169367, 0.48830633],\n",
       "       [0.72063653, 0.27936347],\n",
       "       [0.44758618, 0.55241382],\n",
       "       [0.47107807, 0.52892193],\n",
       "       [0.72007526, 0.27992474],\n",
       "       [0.71972589, 0.28027411],\n",
       "       [0.44914516, 0.55085484],\n",
       "       [0.71846213, 0.28153787],\n",
       "       [0.67868053, 0.32131947],\n",
       "       [0.720486  , 0.279514  ],\n",
       "       [0.53650348, 0.46349652],\n",
       "       [0.71846213, 0.28153787],\n",
       "       [0.72398331, 0.27601669],\n",
       "       [0.71973359, 0.28026641],\n",
       "       [0.71973359, 0.28026641],\n",
       "       [0.70502942, 0.29497058],\n",
       "       [0.72063653, 0.27936347],\n",
       "       [0.71971361, 0.28028639],\n",
       "       [0.45871708, 0.54128292],\n",
       "       [0.72063653, 0.27936347],\n",
       "       [0.71346947, 0.28653053],\n",
       "       [0.45871708, 0.54128292],\n",
       "       [0.44383188, 0.55616812],\n",
       "       [0.48956242, 0.51043758],\n",
       "       [0.71915565, 0.28084435],\n",
       "       [0.72063653, 0.27936347],\n",
       "       [0.71793861, 0.28206139],\n",
       "       [0.71915565, 0.28084435],\n",
       "       [0.58916126, 0.41083874],\n",
       "       [0.71975156, 0.28024844],\n",
       "       [0.45693791, 0.54306209],\n",
       "       [0.71910267, 0.28089733],\n",
       "       [0.58916126, 0.41083874],\n",
       "       [0.71975156, 0.28024844],\n",
       "       [0.71846213, 0.28153787],\n",
       "       [0.72250516, 0.27749484],\n",
       "       [0.56277503, 0.43722497],\n",
       "       [0.71914798, 0.28085202],\n",
       "       [0.72025123, 0.27974877],\n",
       "       [0.47107807, 0.52892193],\n",
       "       [0.71975156, 0.28024844],\n",
       "       [0.45693791, 0.54306209],\n",
       "       [0.71971361, 0.28028639],\n",
       "       [0.71346947, 0.28653053],\n",
       "       [0.45871708, 0.54128292],\n",
       "       [0.51169367, 0.48830633],\n",
       "       [0.44914516, 0.55085484],\n",
       "       [0.63745526, 0.36254474],\n",
       "       [0.72192606, 0.27807394],\n",
       "       [0.720486  , 0.279514  ],\n",
       "       [0.67868053, 0.32131947],\n",
       "       [0.45693791, 0.54306209],\n",
       "       [0.48956242, 0.51043758],\n",
       "       [0.72407255, 0.27592745],\n",
       "       [0.720486  , 0.279514  ],\n",
       "       [0.61438945, 0.38561055],\n",
       "       [0.72007526, 0.27992474],\n",
       "       [0.56277503, 0.43722497],\n",
       "       [0.44758618, 0.55241382],\n",
       "       [0.71346947, 0.28653053],\n",
       "       [0.71346947, 0.28653053],\n",
       "       [0.72192606, 0.27807394],\n",
       "       [0.71915565, 0.28084435],\n",
       "       [0.71975156, 0.28024844],\n",
       "       [0.71975156, 0.28024844],\n",
       "       [0.72407255, 0.27592745],\n",
       "       [0.72058686, 0.27941314],\n",
       "       [0.71955264, 0.28044736],\n",
       "       [0.71935695, 0.28064305],\n",
       "       [0.71920322, 0.28079678],\n",
       "       [0.44758618, 0.55241382],\n",
       "       [0.71972589, 0.28027411],\n",
       "       [0.72025123, 0.27974877],\n",
       "       [0.51169367, 0.48830633],\n",
       "       [0.56277503, 0.43722497],\n",
       "       [0.71910267, 0.28089733],\n",
       "       [0.47107807, 0.52892193],\n",
       "       [0.53650348, 0.46349652],\n",
       "       [0.71955264, 0.28044736],\n",
       "       [0.44322758, 0.55677242],\n",
       "       [0.51169367, 0.48830633],\n",
       "       [0.70502942, 0.29497058],\n",
       "       [0.48956242, 0.51043758],\n",
       "       [0.71793861, 0.28206139],\n",
       "       [0.72040304, 0.27959696],\n",
       "       [0.44322758, 0.55677242],\n",
       "       [0.72407255, 0.27592745],\n",
       "       [0.44383188, 0.55616812],\n",
       "       [0.72324331, 0.27675669],\n",
       "       [0.72063653, 0.27936347],\n",
       "       [0.72324331, 0.27675669],\n",
       "       [0.72063653, 0.27936347],\n",
       "       [0.71971361, 0.28028639],\n",
       "       [0.72324331, 0.27675669],\n",
       "       [0.61438945, 0.38561055],\n",
       "       [0.47107807, 0.52892193],\n",
       "       [0.71915565, 0.28084435],\n",
       "       [0.47107807, 0.52892193],\n",
       "       [0.44914516, 0.55085484],\n",
       "       [0.71915565, 0.28084435],\n",
       "       [0.71915565, 0.28084435],\n",
       "       [0.56277503, 0.43722497],\n",
       "       [0.58916126, 0.41083874],\n",
       "       [0.72025123, 0.27974877],\n",
       "       [0.44322758, 0.55677242],\n",
       "       [0.72025123, 0.27974877],\n",
       "       [0.72324331, 0.27675669],\n",
       "       [0.71346947, 0.28653053],\n",
       "       [0.44322758, 0.55677242]])"
      ]
     },
     "execution_count": 27,
     "metadata": {},
     "output_type": "execute_result"
    }
   ],
   "source": [
    "svm_soft = SVC(probability = True) # indicate that you want the SVM to do soft classification\n",
    "svm_soft.fit(X = xtrain, y = ytrain)\n",
    "\n",
    "ypreds_soft = svm_soft.predict_proba(X = xtest)\n",
    "ypreds_soft"
   ]
  },
  {
   "cell_type": "code",
   "execution_count": null,
   "id": "4caf8dfe",
   "metadata": {},
   "outputs": [],
   "source": []
  },
  {
   "cell_type": "markdown",
   "id": "e4567a38",
   "metadata": {},
   "source": [
    "# Classifier Wrap-Up\n",
    "\n",
    "This is just a sample of what's out there!\n",
    "\n",
    "There are a number of other common classifiers you should take a look at if you're interested:\n",
    "- Naive Bayes ([here](https://scikit-learn.org/stable/modules/naive_bayes.html))\n",
    "- Discriminant analysis ([linear](https://scikit-learn.org/stable/modules/generated/sklearn.discriminant_analysis.LinearDiscriminantAnalysis.html) and [quadratic](https://scikit-learn.org/stable/modules/generated/sklearn.discriminant_analysis.QuadraticDiscriminantAnalysis.html))\n",
    "- Neural networks ([here](https://scikit-learn.org/stable/modules/generated/sklearn.neural_network.MLPClassifier.html))\n",
    "- Random forests ([here](https://scikit-learn.org/stable/modules/generated/sklearn.ensemble.RandomForestClassifier.html)) (related to decision trees)\n",
    "- Gradient boosted trees ([here](https://scikit-learn.org/stable/modules/generated/sklearn.ensemble.GradientBoostingClassifier.html))\n",
    "- ...\n",
    "\n",
    "The main goal of this lecture is to show you some of the creative ways that people solve classification problems and how the scikit-learn library supports these solutions. \n",
    "\n",
    "This should empower you to go off and try some of these other ones on your own!"
   ]
  },
  {
   "cell_type": "code",
   "execution_count": null,
   "id": "bac22d03",
   "metadata": {},
   "outputs": [],
   "source": []
  }
 ],
 "metadata": {
  "interpreter": {
   "hash": "e774977668b7c0ae8309835a5187aa7fbf7669e7d0bb59755bc63e573643edcd"
  },
  "kernelspec": {
   "display_name": "Python 3.7.4 64-bit",
   "language": "python",
   "name": "python3"
  },
  "language_info": {
   "codemirror_mode": {
    "name": "ipython",
    "version": 3
   },
   "file_extension": ".py",
   "mimetype": "text/x-python",
   "name": "python",
   "nbconvert_exporter": "python",
   "pygments_lexer": "ipython3",
   "version": "3.8.3"
  }
 },
 "nbformat": 4,
 "nbformat_minor": 5
}