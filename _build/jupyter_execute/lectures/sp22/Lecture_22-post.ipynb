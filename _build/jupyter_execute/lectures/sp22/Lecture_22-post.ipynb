{
 "cells": [
  {
   "cell_type": "markdown",
   "id": "62c7e6f5",
   "metadata": {},
   "source": [
    "# Lecture 22 (5/16/2022)"
   ]
  },
  {
   "cell_type": "markdown",
   "id": "a1ea5e3d",
   "metadata": {},
   "source": [
    "**Announcements**\n",
    "- Problem set 6 will be released today, due Sunday night by 11:59pm\n",
    "- This week's lab + problem set covering classification in depth, meant to complement each other\n"
   ]
  },
  {
   "cell_type": "markdown",
   "id": "cac90fc6",
   "metadata": {},
   "source": [
    "*Last time we covered:*\n",
    "- Classification + CSS ethics\n",
    "\n",
    "**Today's agenda:**\n",
    "- Clustering: introduction\n"
   ]
  },
  {
   "cell_type": "code",
   "execution_count": 1,
   "id": "aa6ebecc",
   "metadata": {},
   "outputs": [],
   "source": [
    "import numpy as np\n",
    "import pandas as pd\n",
    "import matplotlib.pyplot as plt\n",
    "import seaborn as sns"
   ]
  },
  {
   "cell_type": "markdown",
   "id": "b7f3a915",
   "metadata": {},
   "source": [
    "# Clustering\n",
    "\n",
    "Before we jump into clustering, it's worth doing some theoretical situating. \n",
    "\n",
    "What makes clustering different from the things we've talked about so far?"
   ]
  },
  {
   "cell_type": "markdown",
   "id": "c8e3d210",
   "metadata": {},
   "source": [
    "## *Supervised* v. *Unsupervised* learning\n",
    "\n",
    "\n",
    "This week and next week, we transition to modeling techniques that have a fundamentally different approach to understanding our data.\n",
    "\n",
    "- ***Supervised* learning**: use existing ($X$, $y$) pairs to learn relationships between $X$ and $y$ that we can apply to new data.\n",
    "    - Examples: regression (continuous response variables) + classification (categorical response variables)\n",
    "    - Assumptions: features $X$ have systematic relationship to a corresponding \"true\" (measurable) response variable $y$\n",
    "    - Procedure: minimize a loss function over predictions of training data\n",
    "    - In practice: requires lots of labeled data, careful procedures for evaluating generalization\n",
    "- ***Unsupervised* learning**: describe structure in our data $X$ without the use of labels or output values $y$. \n",
    "    - Clustering (this week) + dimensionality reduction (next week) \n",
    "        - Note these have a kind of parallel structure to regression + classification: clustering looks for categorical structure, dimensionality reduction looks for more continuous structure\n",
    "    - Assumptions: features $X$ have structure but may not map onto a particular response variable $y$\n",
    "    - Procedure: identify candidate *categories* or *low-dimensional representations* in the data without any adherence to predictive accuracy (because there are no labels to predict!)\n",
    "        - Note: this means we need other creative ways of assessing model \"fit\"; we'll look at one today\n",
    "    - In practice: data no longer needs to be labeled! But can be harder to evaluate our models\n",
    "\n",
    "There are lots of resources diving deeper into this distinction online: one nice example [here](https://towardsdatascience.com/supervised-vs-unsupervised-learning-14f68e32ea8d)."
   ]
  },
  {
   "cell_type": "markdown",
   "id": "51b6240f",
   "metadata": {},
   "source": [
    "## What kind of problems can we solve with unsupervised learning?\n",
    "\n",
    "Here, I think it's helpful to use a concrete example: movie (or music) genres.\n",
    "\n",
    "### Supervised movie genres\n",
    "\n",
    "Traditionally, music or movie stores are roughly organized by *genre*. One of the ways people find new books or movies they expect to enjoy is by perusing the shelves for genres they like.\n",
    "\n",
    "Identifying music or movie genres is a kind of **supervised classification problem**. Given a large set of features like who is in a movie, who made it, even the plot summary, and a set of labeled examples, we can learn to map these features onto genre predictions. Then, when a new movie arrives on our shelves, we can predict its genre based on its features. Or, when a customer asks for a movie recommendation, we can show them movies in their favorite genres. \n",
    "\n",
    "![blockbuster](img/blockbuster.jpeg)\n",
    "\n",
    "### Unsupervised movie genres\n",
    "\n",
    "But, when you go to a streaming site like Netflix, or when Spotify tells you your \"top genres\", this isn't usually how they recommend new titles or music. \n",
    "\n",
    "Instead, they assume that there is deep structure in the ways people watch movies or the music they listen to which may not always correspond to particular *genres* but *is* helpful for organizing their movie library and identifying what people want to see or hear. \n",
    "\n",
    "Their recommendation systems use **unsupervised clustering and dimensionality reduction** to determine what kind of movies or music people will enjoy (note: I haven't seen how Netflix or Spotify solve these problems but this is a fairly safe assumption). \n",
    "\n",
    "For example, Netflix may look for ways of *clustering* their movies based on the movies people tended to watch together, then try to come up with descriptive genres after the fact (\"Heart-warming family movies\" or \"Animated comedies\"). Spotify does similar things when it describes the genres you listen to. \n",
    "\n",
    "![netflix](img/netflix_genres.png)\n",
    "\n",
    "Unsupervised learning is something you encounter all the time in today's tech ecosystem. Other recommendation systems (e.g., Amazon suggesting future purchases) rely on it, as do many other algorithms that have a) rich data and b) complex behaviors or outputs that may be hard to categorize."
   ]
  },
  {
   "cell_type": "markdown",
   "id": "a3bdc0df",
   "metadata": {},
   "source": [
    "### Another example: margaritas?\n",
    "\n",
    "![margaritas](img/k-margs.png)\n",
    "\n",
    "(Source: [538](https://fivethirtyeight.com/videos/we-got-drunk-on-margaritas-for-science/))\n",
    "\n",
    "*Why is this example here?*\n",
    "\n",
    "Apart from being kind of funny (and recent), it actually illustrates the appeal of unsupervised clustering really well. \n",
    "- We don't have pre-existing labels for the different *types* of margaritas out there\n",
    "- But we do have a lot of recipes, and we *assume* that these recipes might have some natural structure to them in terms of how they balance ingredients\n",
    "\n",
    "Because of the above, performing traditional classification on margarita recipes seems hard (and kind of arbitrary). But, if we had some *data-driven* way of determining how the recipes cluster, we could use our human intuitions to better understand the basis for these clusters. \n",
    "\n",
    "So, let's see how that works (not with margaritas)!"
   ]
  },
  {
   "cell_type": "markdown",
   "id": "88aa03c1",
   "metadata": {},
   "source": [
    "## Clustering example: $k$-means clustering\n",
    "\n",
    "So what does **unsupervised clustering** actually look like in practice? \n",
    "\n",
    "Let's go through a somewhat intuitive example that will parallel our introduction to classification: the $k$-means algorithm. \n",
    "\n",
    "First, let's return to familiar (and easily clusterable!) data: the `iris` dataset!"
   ]
  },
  {
   "cell_type": "code",
   "execution_count": 2,
   "id": "1dafd813",
   "metadata": {},
   "outputs": [
    {
     "data": {
      "text/html": [
       "<div>\n",
       "<style scoped>\n",
       "    .dataframe tbody tr th:only-of-type {\n",
       "        vertical-align: middle;\n",
       "    }\n",
       "\n",
       "    .dataframe tbody tr th {\n",
       "        vertical-align: top;\n",
       "    }\n",
       "\n",
       "    .dataframe thead th {\n",
       "        text-align: right;\n",
       "    }\n",
       "</style>\n",
       "<table border=\"1\" class=\"dataframe\">\n",
       "  <thead>\n",
       "    <tr style=\"text-align: right;\">\n",
       "      <th></th>\n",
       "      <th>sepal_length</th>\n",
       "      <th>sepal_width</th>\n",
       "      <th>petal_length</th>\n",
       "      <th>petal_width</th>\n",
       "      <th>species</th>\n",
       "    </tr>\n",
       "  </thead>\n",
       "  <tbody>\n",
       "    <tr>\n",
       "      <th>0</th>\n",
       "      <td>5.1</td>\n",
       "      <td>3.5</td>\n",
       "      <td>1.4</td>\n",
       "      <td>0.2</td>\n",
       "      <td>setosa</td>\n",
       "    </tr>\n",
       "    <tr>\n",
       "      <th>1</th>\n",
       "      <td>4.9</td>\n",
       "      <td>3.0</td>\n",
       "      <td>1.4</td>\n",
       "      <td>0.2</td>\n",
       "      <td>setosa</td>\n",
       "    </tr>\n",
       "    <tr>\n",
       "      <th>2</th>\n",
       "      <td>4.7</td>\n",
       "      <td>3.2</td>\n",
       "      <td>1.3</td>\n",
       "      <td>0.2</td>\n",
       "      <td>setosa</td>\n",
       "    </tr>\n",
       "    <tr>\n",
       "      <th>3</th>\n",
       "      <td>4.6</td>\n",
       "      <td>3.1</td>\n",
       "      <td>1.5</td>\n",
       "      <td>0.2</td>\n",
       "      <td>setosa</td>\n",
       "    </tr>\n",
       "    <tr>\n",
       "      <th>4</th>\n",
       "      <td>5.0</td>\n",
       "      <td>3.6</td>\n",
       "      <td>1.4</td>\n",
       "      <td>0.2</td>\n",
       "      <td>setosa</td>\n",
       "    </tr>\n",
       "    <tr>\n",
       "      <th>...</th>\n",
       "      <td>...</td>\n",
       "      <td>...</td>\n",
       "      <td>...</td>\n",
       "      <td>...</td>\n",
       "      <td>...</td>\n",
       "    </tr>\n",
       "    <tr>\n",
       "      <th>145</th>\n",
       "      <td>6.7</td>\n",
       "      <td>3.0</td>\n",
       "      <td>5.2</td>\n",
       "      <td>2.3</td>\n",
       "      <td>virginica</td>\n",
       "    </tr>\n",
       "    <tr>\n",
       "      <th>146</th>\n",
       "      <td>6.3</td>\n",
       "      <td>2.5</td>\n",
       "      <td>5.0</td>\n",
       "      <td>1.9</td>\n",
       "      <td>virginica</td>\n",
       "    </tr>\n",
       "    <tr>\n",
       "      <th>147</th>\n",
       "      <td>6.5</td>\n",
       "      <td>3.0</td>\n",
       "      <td>5.2</td>\n",
       "      <td>2.0</td>\n",
       "      <td>virginica</td>\n",
       "    </tr>\n",
       "    <tr>\n",
       "      <th>148</th>\n",
       "      <td>6.2</td>\n",
       "      <td>3.4</td>\n",
       "      <td>5.4</td>\n",
       "      <td>2.3</td>\n",
       "      <td>virginica</td>\n",
       "    </tr>\n",
       "    <tr>\n",
       "      <th>149</th>\n",
       "      <td>5.9</td>\n",
       "      <td>3.0</td>\n",
       "      <td>5.1</td>\n",
       "      <td>1.8</td>\n",
       "      <td>virginica</td>\n",
       "    </tr>\n",
       "  </tbody>\n",
       "</table>\n",
       "<p>150 rows × 5 columns</p>\n",
       "</div>"
      ],
      "text/plain": [
       "     sepal_length  sepal_width  petal_length  petal_width    species\n",
       "0             5.1          3.5           1.4          0.2     setosa\n",
       "1             4.9          3.0           1.4          0.2     setosa\n",
       "2             4.7          3.2           1.3          0.2     setosa\n",
       "3             4.6          3.1           1.5          0.2     setosa\n",
       "4             5.0          3.6           1.4          0.2     setosa\n",
       "..            ...          ...           ...          ...        ...\n",
       "145           6.7          3.0           5.2          2.3  virginica\n",
       "146           6.3          2.5           5.0          1.9  virginica\n",
       "147           6.5          3.0           5.2          2.0  virginica\n",
       "148           6.2          3.4           5.4          2.3  virginica\n",
       "149           5.9          3.0           5.1          1.8  virginica\n",
       "\n",
       "[150 rows x 5 columns]"
      ]
     },
     "execution_count": 2,
     "metadata": {},
     "output_type": "execute_result"
    }
   ],
   "source": [
    "iris = sns.load_dataset('iris')\n",
    "iris"
   ]
  },
  {
   "cell_type": "markdown",
   "id": "cc2a7296",
   "metadata": {},
   "source": [
    "When we use the petal length and petal width features, our data seems to cluster pretty nicely by species."
   ]
  },
  {
   "cell_type": "code",
   "execution_count": 3,
   "id": "1efc905c",
   "metadata": {},
   "outputs": [
    {
     "data": {
      "image/png": "[encoded data removed]",
      "text/plain": [
       "<Figure size 432x288 with 1 Axes>"
      ]
     },
     "metadata": {
      "filenames": {
       "image/png": "/Users/erikbrockbank/web/teaching/ucsd-css-002-sp2022.github.io/_build/jupyter_execute/lectures/sp22/Lecture_22-post_11_0.png"
      },
      "needs_background": "light"
     },
     "output_type": "display_data"
    }
   ],
   "source": [
    "sns.scatterplot(data = iris, x = \"petal_length\", y = \"petal_width\", hue = \"species\")\n",
    "plt.show()"
   ]
  },
  {
   "cell_type": "markdown",
   "id": "39ea2ec9",
   "metadata": {},
   "source": [
    "Previously, we used our classifier to learn the species labels based on these features.\n",
    "\n",
    "Let's say we didn't have the species information. \n",
    "\n",
    "We just collected this data in the field and we want to know if these variables produce detectable clusters:"
   ]
  },
  {
   "cell_type": "code",
   "execution_count": 4,
   "id": "7d27e072",
   "metadata": {},
   "outputs": [
    {
     "data": {
      "image/png": "[encoded data removed]",
      "text/plain": [
       "<Figure size 432x288 with 1 Axes>"
      ]
     },
     "metadata": {
      "filenames": {
       "image/png": "/Users/erikbrockbank/web/teaching/ucsd-css-002-sp2022.github.io/_build/jupyter_execute/lectures/sp22/Lecture_22-post_13_0.png"
      },
      "needs_background": "light"
     },
     "output_type": "display_data"
    }
   ],
   "source": [
    "sns.scatterplot(data = iris, x = \"petal_length\", y = \"petal_width\")\n",
    "plt.show()"
   ]
  },
  {
   "cell_type": "markdown",
   "id": "1b87abbb",
   "metadata": {},
   "source": [
    "**Using the data above, how might we go about suggesting clusters?**"
   ]
  },
  {
   "cell_type": "markdown",
   "id": "3229f308",
   "metadata": {},
   "source": [
    "## The $k$-means algorithm\n",
    "\n",
    "The $k$-means algorithm has a similar name to its classification colleague, $k$-nearest neighbors, but the two have some important differences! \n",
    "\n",
    "Here's how $k$-means works:\n",
    "\n",
    "![kmeans](img/kmeans.png)\n",
    "\n",
    "(Source: [wikipedia](https://en.wikipedia.org/wiki/K-means_clustering))\n",
    "\n",
    "**Convergence**\n",
    "\n",
    "The \"naive\" $k$-means algorithm above converges when the assignments no longer change from the previous step. \n",
    "\n"
   ]
  },
  {
   "cell_type": "markdown",
   "id": "e3f91903",
   "metadata": {},
   "source": [
    "## \"Brute force\" $k$-means\n",
    "\n",
    "Below, I'm going to walk through some (very clunky) code that implements $k$-means clustering in the `iris` data by *brute force*, assuming there are 3 clusters. \n",
    "\n",
    "*Why?* Doing this will illustrate how the steps above in \"plain English\" map onto actual code behaviors (sometimes this mapping is tricky and is in general one of the more challenging things about learning to code, so practice is good!).\n",
    "\n"
   ]
  },
  {
   "cell_type": "code",
   "execution_count": 5,
   "id": "1b786267",
   "metadata": {},
   "outputs": [
    {
     "name": "stderr",
     "output_type": "stream",
     "text": [
      "/opt/anaconda3/lib/python3.8/site-packages/pandas/core/indexing.py:670: SettingWithCopyWarning: \n",
      "A value is trying to be set on a copy of a slice from a DataFrame\n",
      "\n",
      "See the caveats in the documentation: https://pandas.pydata.org/pandas-docs/stable/user_guide/indexing.html#returning-a-view-versus-a-copy\n",
      "  iloc._setitem_with_indexer(indexer, value)\n",
      "<ipython-input-5-cf7e0a49717b>:43: SettingWithCopyWarning: \n",
      "A value is trying to be set on a copy of a slice from a DataFrame\n",
      "\n",
      "See the caveats in the documentation: https://pandas.pydata.org/pandas-docs/stable/user_guide/indexing.html#returning-a-view-versus-a-copy\n",
      "  c1.loc[\"petal_length\"] = c1_dat.petal_length.mean()\n",
      "<ipython-input-5-cf7e0a49717b>:44: SettingWithCopyWarning: \n",
      "A value is trying to be set on a copy of a slice from a DataFrame\n",
      "\n",
      "See the caveats in the documentation: https://pandas.pydata.org/pandas-docs/stable/user_guide/indexing.html#returning-a-view-versus-a-copy\n",
      "  c1.loc[\"petal_width\"] = c1_dat.petal_width.mean()\n",
      "<ipython-input-5-cf7e0a49717b>:46: SettingWithCopyWarning: \n",
      "A value is trying to be set on a copy of a slice from a DataFrame\n",
      "\n",
      "See the caveats in the documentation: https://pandas.pydata.org/pandas-docs/stable/user_guide/indexing.html#returning-a-view-versus-a-copy\n",
      "  c2.loc[\"petal_length\"] = c2_dat.petal_length.mean()\n",
      "<ipython-input-5-cf7e0a49717b>:47: SettingWithCopyWarning: \n",
      "A value is trying to be set on a copy of a slice from a DataFrame\n",
      "\n",
      "See the caveats in the documentation: https://pandas.pydata.org/pandas-docs/stable/user_guide/indexing.html#returning-a-view-versus-a-copy\n",
      "  c2.loc[\"petal_width\"] = c2_dat.petal_width.mean()\n",
      "<ipython-input-5-cf7e0a49717b>:49: SettingWithCopyWarning: \n",
      "A value is trying to be set on a copy of a slice from a DataFrame\n",
      "\n",
      "See the caveats in the documentation: https://pandas.pydata.org/pandas-docs/stable/user_guide/indexing.html#returning-a-view-versus-a-copy\n",
      "  c3.loc[\"petal_length\"] = c3_dat.petal_length.mean()\n",
      "<ipython-input-5-cf7e0a49717b>:50: SettingWithCopyWarning: \n",
      "A value is trying to be set on a copy of a slice from a DataFrame\n",
      "\n",
      "See the caveats in the documentation: https://pandas.pydata.org/pandas-docs/stable/user_guide/indexing.html#returning-a-view-versus-a-copy\n",
      "  c3.loc[\"petal_width\"] = c3_dat.petal_width.mean()\n"
     ]
    },
    {
     "data": {
      "text/html": [
       "<div>\n",
       "<style scoped>\n",
       "    .dataframe tbody tr th:only-of-type {\n",
       "        vertical-align: middle;\n",
       "    }\n",
       "\n",
       "    .dataframe tbody tr th {\n",
       "        vertical-align: top;\n",
       "    }\n",
       "\n",
       "    .dataframe thead th {\n",
       "        text-align: right;\n",
       "    }\n",
       "</style>\n",
       "<table border=\"1\" class=\"dataframe\">\n",
       "  <thead>\n",
       "    <tr style=\"text-align: right;\">\n",
       "      <th></th>\n",
       "      <th>sepal_length</th>\n",
       "      <th>sepal_width</th>\n",
       "      <th>petal_length</th>\n",
       "      <th>petal_width</th>\n",
       "      <th>species</th>\n",
       "      <th>clusters</th>\n",
       "    </tr>\n",
       "  </thead>\n",
       "  <tbody>\n",
       "    <tr>\n",
       "      <th>0</th>\n",
       "      <td>5.1</td>\n",
       "      <td>3.5</td>\n",
       "      <td>1.4</td>\n",
       "      <td>0.2</td>\n",
       "      <td>setosa</td>\n",
       "      <td>c3</td>\n",
       "    </tr>\n",
       "    <tr>\n",
       "      <th>1</th>\n",
       "      <td>4.9</td>\n",
       "      <td>3.0</td>\n",
       "      <td>1.4</td>\n",
       "      <td>0.2</td>\n",
       "      <td>setosa</td>\n",
       "      <td>c3</td>\n",
       "    </tr>\n",
       "    <tr>\n",
       "      <th>2</th>\n",
       "      <td>4.7</td>\n",
       "      <td>3.2</td>\n",
       "      <td>1.3</td>\n",
       "      <td>0.2</td>\n",
       "      <td>setosa</td>\n",
       "      <td>c3</td>\n",
       "    </tr>\n",
       "    <tr>\n",
       "      <th>3</th>\n",
       "      <td>4.6</td>\n",
       "      <td>3.1</td>\n",
       "      <td>1.5</td>\n",
       "      <td>0.2</td>\n",
       "      <td>setosa</td>\n",
       "      <td>c3</td>\n",
       "    </tr>\n",
       "    <tr>\n",
       "      <th>4</th>\n",
       "      <td>5.0</td>\n",
       "      <td>3.6</td>\n",
       "      <td>1.4</td>\n",
       "      <td>0.2</td>\n",
       "      <td>setosa</td>\n",
       "      <td>c3</td>\n",
       "    </tr>\n",
       "    <tr>\n",
       "      <th>...</th>\n",
       "      <td>...</td>\n",
       "      <td>...</td>\n",
       "      <td>...</td>\n",
       "      <td>...</td>\n",
       "      <td>...</td>\n",
       "      <td>...</td>\n",
       "    </tr>\n",
       "    <tr>\n",
       "      <th>145</th>\n",
       "      <td>6.7</td>\n",
       "      <td>3.0</td>\n",
       "      <td>5.2</td>\n",
       "      <td>2.3</td>\n",
       "      <td>virginica</td>\n",
       "      <td>c1</td>\n",
       "    </tr>\n",
       "    <tr>\n",
       "      <th>146</th>\n",
       "      <td>6.3</td>\n",
       "      <td>2.5</td>\n",
       "      <td>5.0</td>\n",
       "      <td>1.9</td>\n",
       "      <td>virginica</td>\n",
       "      <td>c1</td>\n",
       "    </tr>\n",
       "    <tr>\n",
       "      <th>147</th>\n",
       "      <td>6.5</td>\n",
       "      <td>3.0</td>\n",
       "      <td>5.2</td>\n",
       "      <td>2.0</td>\n",
       "      <td>virginica</td>\n",
       "      <td>c1</td>\n",
       "    </tr>\n",
       "    <tr>\n",
       "      <th>148</th>\n",
       "      <td>6.2</td>\n",
       "      <td>3.4</td>\n",
       "      <td>5.4</td>\n",
       "      <td>2.3</td>\n",
       "      <td>virginica</td>\n",
       "      <td>c1</td>\n",
       "    </tr>\n",
       "    <tr>\n",
       "      <th>149</th>\n",
       "      <td>5.9</td>\n",
       "      <td>3.0</td>\n",
       "      <td>5.1</td>\n",
       "      <td>1.8</td>\n",
       "      <td>virginica</td>\n",
       "      <td>c1</td>\n",
       "    </tr>\n",
       "  </tbody>\n",
       "</table>\n",
       "<p>150 rows × 6 columns</p>\n",
       "</div>"
      ],
      "text/plain": [
       "     sepal_length  sepal_width  petal_length  petal_width    species clusters\n",
       "0             5.1          3.5           1.4          0.2     setosa       c3\n",
       "1             4.9          3.0           1.4          0.2     setosa       c3\n",
       "2             4.7          3.2           1.3          0.2     setosa       c3\n",
       "3             4.6          3.1           1.5          0.2     setosa       c3\n",
       "4             5.0          3.6           1.4          0.2     setosa       c3\n",
       "..            ...          ...           ...          ...        ...      ...\n",
       "145           6.7          3.0           5.2          2.3  virginica       c1\n",
       "146           6.3          2.5           5.0          1.9  virginica       c1\n",
       "147           6.5          3.0           5.2          2.0  virginica       c1\n",
       "148           6.2          3.4           5.4          2.3  virginica       c1\n",
       "149           5.9          3.0           5.1          1.8  virginica       c1\n",
       "\n",
       "[150 rows x 6 columns]"
      ]
     },
     "execution_count": 5,
     "metadata": {},
     "output_type": "execute_result"
    }
   ],
   "source": [
    "# Pick 3 random starting \"centers\"\n",
    "centers = iris.sample(n = 3).reset_index(drop = True)\n",
    "centers\n",
    "c1 = centers.loc[0, :]\n",
    "c2 = centers.loc[1, :]\n",
    "c3 = centers.loc[2, :]\n",
    "\n",
    "\n",
    "# Let's generate our initial cluster assignment\n",
    "iris['clusters'] = np.repeat(\"c2\", len(iris)) # this is just a stand-in. Bit hacky...\n",
    "\n",
    "# Keep track of clusters from previous iteration to assess convergence\n",
    "prev_clusters = np.repeat(\"c1\", len(iris)) # this is just a stand-in. Also hacky...\n",
    "\n",
    "# Function to figure out the closest centroid to each data point\n",
    "def get_closest(df):\n",
    "    # This is just the Euclidean distance from the datapoint in `df` to each centroid c1, c2, and c3\n",
    "    dist1 = np.sqrt(((df.petal_length - c1.petal_length)**2) + ((df.petal_width - c1.petal_width)**2))\n",
    "    dist2 = np.sqrt(((df.petal_length - c2.petal_length)**2) + ((df.petal_width - c2.petal_width)**2))\n",
    "    dist3 = np.sqrt(((df.petal_length - c3.petal_length)**2) + ((df.petal_width - c3.petal_width)**2))\n",
    "    # Now, what's the minimum of the distances above? Return the centroid that is closest\n",
    "    check = min(dist1, dist2, dist3)\n",
    "    if check == dist1:\n",
    "        return \"c1\"\n",
    "    elif check == dist2:\n",
    "        return \"c2\"\n",
    "    elif check == dist3:\n",
    "        return \"c3\"\n",
    "\n",
    "# Run actual k-means\n",
    "iter_num = 0 # this is just to keep track of how many times our `while` loop below is running\n",
    "while list(iris.clusters) != list(prev_clusters) and iter_num < 100:\n",
    "    iter_num += 1\n",
    "    prev_clusters = iris['clusters']\n",
    "    # Find closest cluster center for each datapoint\n",
    "    iris['clusters'] = iris.apply(get_closest, axis = 1)\n",
    "    \n",
    "    # Get the data belonging to each centroid and calculate the new centers\n",
    "    c1_dat = iris.loc[iris.clusters == \"c1\", :]\n",
    "    c2_dat = iris.loc[iris.clusters == \"c2\", :]\n",
    "    c3_dat = iris.loc[iris.clusters == \"c3\", :]\n",
    "    # c1 center update\n",
    "    c1.loc[\"petal_length\"] = c1_dat.petal_length.mean()\n",
    "    c1.loc[\"petal_width\"] = c1_dat.petal_width.mean()\n",
    "    # c2 center update\n",
    "    c2.loc[\"petal_length\"] = c2_dat.petal_length.mean()\n",
    "    c2.loc[\"petal_width\"] = c2_dat.petal_width.mean()\n",
    "    # c3 center update\n",
    "    c3.loc[\"petal_length\"] = c3_dat.petal_length.mean()\n",
    "    c3.loc[\"petal_width\"] = c3_dat.petal_width.mean()\n",
    "iris"
   ]
  },
  {
   "cell_type": "code",
   "execution_count": 6,
   "id": "15cfe52f",
   "metadata": {},
   "outputs": [
    {
     "data": {
      "image/png": "[encoded data removed]",
      "text/plain": [
       "<Figure size 432x288 with 1 Axes>"
      ]
     },
     "metadata": {
      "filenames": {
       "image/png": "/Users/erikbrockbank/web/teaching/ucsd-css-002-sp2022.github.io/_build/jupyter_execute/lectures/sp22/Lecture_22-post_18_0.png"
      },
      "needs_background": "light"
     },
     "output_type": "display_data"
    }
   ],
   "source": [
    "sns.scatterplot(data = iris, x = \"petal_length\", y = \"petal_width\", hue = \"clusters\")\n",
    "\n",
    "plt.text(c1.petal_length, c1.petal_width, s = \"C1\", fontsize = 14, fontweight = \"bold\")\n",
    "plt.text(c2.petal_length, c2.petal_width, s = \"C2\", fontsize = 14, fontweight = \"bold\")\n",
    "plt.text(c3.petal_length, c3.petal_width, s = \"C3\", fontsize = 14, fontweight = \"bold\")\n",
    "\n",
    "plt.show()"
   ]
  },
  {
   "cell_type": "markdown",
   "id": "e5f66abf",
   "metadata": {},
   "source": [
    "When we run the above code a bunch of different times, does it always do the same thing?"
   ]
  },
  {
   "cell_type": "code",
   "execution_count": 7,
   "id": "b142be47",
   "metadata": {},
   "outputs": [
    {
     "data": {
      "text/plain": [
       "2"
      ]
     },
     "execution_count": 7,
     "metadata": {},
     "output_type": "execute_result"
    }
   ],
   "source": [
    "# Go up and run the k-means clustering code above, then come back and print iter_num again\n",
    "iter_num"
   ]
  },
  {
   "cell_type": "markdown",
   "id": "22171902",
   "metadata": {},
   "source": [
    "One vulnerability of $k$-means clustering is that it can depend on the *seed* or the elements you initially assign to each cluster, which are randomly chosen. \n",
    "\n",
    "The sklearn solution (below) includes an `n_init` argument with a default value of 10. This runs the clustering algorithm 10 consecutive times and chooses the best one according to a metric called *inertia*. \n",
    "\n",
    "Let's see what else it can do!"
   ]
  },
  {
   "cell_type": "markdown",
   "id": "6bf5d2e1",
   "metadata": {},
   "source": [
    "## $k$-means in python\n",
    "\n",
    "Let's take a look at the scikit-learn `KMeans` class [here](https://scikit-learn.org/stable/modules/generated/sklearn.cluster.KMeans.html)"
   ]
  },
  {
   "cell_type": "code",
   "execution_count": 8,
   "id": "013b99e4",
   "metadata": {},
   "outputs": [
    {
     "data": {
      "text/plain": [
       "KMeans(n_clusters=3, random_state=1)"
      ]
     },
     "execution_count": 8,
     "metadata": {},
     "output_type": "execute_result"
    }
   ],
   "source": [
    "# Import the KMeans class from sklearn\n",
    "from sklearn.cluster import KMeans\n",
    "\n",
    "# Get our features (now we don't have corresponding labels!)\n",
    "x_vals = np.array(iris[['petal_length', 'petal_width']]).reshape(len(iris), 2)\n",
    "\n",
    "# Initialize the model\n",
    "kmeans = KMeans(n_clusters = 3, # default value is 8\n",
    "                random_state = 1)\n",
    "\n",
    "# Fit the model to our data\n",
    "kmeans.fit(X = x_vals)\n",
    "\n",
    "kmeans"
   ]
  },
  {
   "cell_type": "markdown",
   "id": "83fee90b",
   "metadata": {},
   "source": [
    "### `KMeans` attributes\n",
    "\n",
    "What attributes does the `KMeans` class export?\n",
    "\n",
    "- cluster centers\n",
    "- labels\n",
    "- iterations\n",
    "- *inertia*"
   ]
  },
  {
   "cell_type": "markdown",
   "id": "87223ad6",
   "metadata": {},
   "source": [
    "**Cluster centers**"
   ]
  },
  {
   "cell_type": "code",
   "execution_count": 9,
   "id": "c47a8413",
   "metadata": {},
   "outputs": [
    {
     "data": {
      "text/plain": [
       "array([[5.59583333, 2.0375    ],\n",
       "       [1.462     , 0.246     ],\n",
       "       [4.26923077, 1.34230769]])"
      ]
     },
     "execution_count": 9,
     "metadata": {},
     "output_type": "execute_result"
    }
   ],
   "source": [
    "# The cluster centers estimated by our k-means clustering\n",
    "kmeans.cluster_centers_"
   ]
  },
  {
   "cell_type": "code",
   "execution_count": 10,
   "id": "839db62a",
   "metadata": {},
   "outputs": [
    {
     "data": {
      "text/plain": [
       "<AxesSubplot:xlabel='petal_length', ylabel='petal_width'>"
      ]
     },
     "execution_count": 10,
     "metadata": {},
     "output_type": "execute_result"
    },
    {
     "data": {
      "image/png": "[encoded data removed]",
      "text/plain": [
       "<Figure size 432x288 with 1 Axes>"
      ]
     },
     "metadata": {
      "filenames": {
       "image/png": "/Users/erikbrockbank/web/teaching/ucsd-css-002-sp2022.github.io/_build/jupyter_execute/lectures/sp22/Lecture_22-post_27_1.png"
      },
      "needs_background": "light"
     },
     "output_type": "display_data"
    }
   ],
   "source": [
    "# Let's pull out these cluster centers\n",
    "x_center = []\n",
    "y_center = []\n",
    "for elem in kmeans.cluster_centers_:\n",
    "    x_center.append(elem[0])\n",
    "    y_center.append(elem[1])\n",
    "\n",
    "sns.scatterplot(data = iris, x = \"petal_length\", y = \"petal_width\")\n",
    "sns.scatterplot(x = x_center, y = y_center)"
   ]
  },
  {
   "cell_type": "markdown",
   "id": "76bb9d20",
   "metadata": {},
   "source": [
    "**Labels**"
   ]
  },
  {
   "cell_type": "code",
   "execution_count": 11,
   "id": "9d499f89",
   "metadata": {},
   "outputs": [
    {
     "data": {
      "text/plain": [
       "array([1, 1, 1, 1, 1, 1, 1, 1, 1, 1, 1, 1, 1, 1, 1, 1, 1, 1, 1, 1, 1, 1,\n",
       "       1, 1, 1, 1, 1, 1, 1, 1, 1, 1, 1, 1, 1, 1, 1, 1, 1, 1, 1, 1, 1, 1,\n",
       "       1, 1, 1, 1, 1, 1, 2, 2, 2, 2, 2, 2, 2, 2, 2, 2, 2, 2, 2, 2, 2, 2,\n",
       "       2, 2, 2, 2, 2, 2, 2, 2, 2, 2, 2, 0, 2, 2, 2, 2, 2, 0, 2, 2, 2, 2,\n",
       "       2, 2, 2, 2, 2, 2, 2, 2, 2, 2, 2, 2, 0, 0, 0, 0, 0, 0, 2, 0, 0, 0,\n",
       "       0, 0, 0, 0, 0, 0, 0, 0, 0, 2, 0, 0, 0, 0, 0, 0, 2, 0, 0, 0, 0, 0,\n",
       "       0, 0, 0, 0, 0, 0, 2, 0, 0, 0, 0, 0, 0, 0, 0, 0, 0, 0], dtype=int32)"
      ]
     },
     "execution_count": 11,
     "metadata": {},
     "output_type": "execute_result"
    }
   ],
   "source": [
    "# The labels applied to our X data\n",
    "kmeans.labels_\n",
    "\n",
    "# len(kmeans.labels_)\n",
    "# len(x_vals)"
   ]
  },
  {
   "cell_type": "code",
   "execution_count": 12,
   "id": "bb4b52fa",
   "metadata": {},
   "outputs": [
    {
     "data": {
      "image/png": "[encoded data removed]",
      "text/plain": [
       "<Figure size 432x288 with 1 Axes>"
      ]
     },
     "metadata": {
      "filenames": {
       "image/png": "/Users/erikbrockbank/web/teaching/ucsd-css-002-sp2022.github.io/_build/jupyter_execute/lectures/sp22/Lecture_22-post_30_0.png"
      },
      "needs_background": "light"
     },
     "output_type": "display_data"
    }
   ],
   "source": [
    "sns.scatterplot(data = iris, x = \"petal_length\", y = \"petal_width\", hue = kmeans.labels_)\n",
    "plt.show()"
   ]
  },
  {
   "cell_type": "markdown",
   "id": "7d1c0006",
   "metadata": {},
   "source": [
    "How does this compare to our empirical species labels?"
   ]
  },
  {
   "cell_type": "code",
   "execution_count": 13,
   "id": "02d93448",
   "metadata": {},
   "outputs": [
    {
     "data": {
      "image/png": "[encoded data removed]",
      "text/plain": [
       "<Figure size 432x288 with 1 Axes>"
      ]
     },
     "metadata": {
      "filenames": {
       "image/png": "/Users/erikbrockbank/web/teaching/ucsd-css-002-sp2022.github.io/_build/jupyter_execute/lectures/sp22/Lecture_22-post_32_0.png"
      },
      "needs_background": "light"
     },
     "output_type": "display_data"
    },
    {
     "data": {
      "image/png": "[encoded data removed]",
      "text/plain": [
       "<Figure size 432x288 with 1 Axes>"
      ]
     },
     "metadata": {
      "filenames": {
       "image/png": "/Users/erikbrockbank/web/teaching/ucsd-css-002-sp2022.github.io/_build/jupyter_execute/lectures/sp22/Lecture_22-post_32_1.png"
      },
      "needs_background": "light"
     },
     "output_type": "display_data"
    }
   ],
   "source": [
    "sns.scatterplot(data = iris, x = \"petal_length\", y = \"petal_width\", hue = kmeans.labels_)\n",
    "plt.show()\n",
    "\n",
    "sns.scatterplot(data = iris, x = \"petal_length\", y = \"petal_width\", hue = \"species\")\n",
    "plt.show()"
   ]
  },
  {
   "cell_type": "markdown",
   "id": "41ccbfe4",
   "metadata": {},
   "source": [
    "That's COOL! \n",
    "\n",
    "Now it's your turn! \n",
    "\n",
    "Try the above with only two clusters. Does it do the thing we expect? What about 8 clusters?"
   ]
  },
  {
   "cell_type": "code",
   "execution_count": 14,
   "id": "b6e6a4ac",
   "metadata": {},
   "outputs": [],
   "source": [
    "### YOUR CODE HERE\n",
    "\n",
    "\n"
   ]
  },
  {
   "cell_type": "markdown",
   "id": "ae64f31c",
   "metadata": {},
   "source": [
    "**Iterations and Intertia**\n",
    "\n",
    "As we discussed when setting up the algorithm, it runs a certain number of times until *convergence*, and this can vary depending on which elements are chosen as the starting *seeds*. \n",
    "\n",
    "The `KMeans` class has attributes that let you check how it did: in the best run, how many iterations did it do, and how successful were they?\n",
    "\n",
    "- `n_iter_` tells you how many iterations the algorithm underwent until convergence\n",
    "- `inertia_` tells you the sum of squared distances of samples to their closest cluster center. So lower is better here.\n",
    "\n",
    "Critically, these values are the *best* ones chosen from across `n_init` runs of the algorithm."
   ]
  },
  {
   "cell_type": "code",
   "execution_count": 15,
   "id": "93b7bb22",
   "metadata": {},
   "outputs": [
    {
     "data": {
      "text/plain": [
       "31.371358974358966"
      ]
     },
     "execution_count": 15,
     "metadata": {},
     "output_type": "execute_result"
    }
   ],
   "source": [
    "kmeans.n_iter_\n",
    "kmeans.inertia_"
   ]
  },
  {
   "cell_type": "markdown",
   "id": "4f3976a7",
   "metadata": {},
   "source": [
    "We can change this value, though with data that clusters this well, it doesn't seem to impact us too much..."
   ]
  },
  {
   "cell_type": "code",
   "execution_count": 16,
   "id": "de273ff8",
   "metadata": {},
   "outputs": [
    {
     "data": {
      "text/plain": [
       "<AxesSubplot:xlabel='petal_length', ylabel='petal_width'>"
      ]
     },
     "execution_count": 16,
     "metadata": {},
     "output_type": "execute_result"
    },
    {
     "data": {
      "image/png": "[encoded data removed]",
      "text/plain": [
       "<Figure size 432x288 with 1 Axes>"
      ]
     },
     "metadata": {
      "filenames": {
       "image/png": "/Users/erikbrockbank/web/teaching/ucsd-css-002-sp2022.github.io/_build/jupyter_execute/lectures/sp22/Lecture_22-post_38_1.png"
      },
      "needs_background": "light"
     },
     "output_type": "display_data"
    }
   ],
   "source": [
    "kmeans_quick = KMeans(n_clusters = 3,\n",
    "                      n_init = 1, # NOTE: changing this param\n",
    "                      random_state = 1).fit(X = x_vals)\n",
    "\n",
    "sns.scatterplot(data = iris, x = \"petal_length\", y = \"petal_width\", hue = kmeans_quick.labels_)"
   ]
  },
  {
   "cell_type": "code",
   "execution_count": 17,
   "id": "7f6699d8",
   "metadata": {},
   "outputs": [
    {
     "data": {
      "text/plain": [
       "31.371358974358966"
      ]
     },
     "execution_count": 17,
     "metadata": {},
     "output_type": "execute_result"
    }
   ],
   "source": [
    "kmeans_quick.inertia_"
   ]
  },
  {
   "cell_type": "markdown",
   "id": "53add025",
   "metadata": {},
   "source": [
    "## Evaluating $k$-means clustering: how many clusters?\n",
    "\n",
    "The *within cluster sum of squared distance to the center* is one way of evaluating our $k$-means clustering. \n",
    "\n",
    "The `inertia_` attribute for the `KMeans` class gives us this, as does the `score` function (this gives us negative inertia technically). \n",
    "\n",
    "Below, we plot the inertia for $k$-means going from 1-10 in the `iris` data from above. \n",
    "\n",
    "One way to choose the number of clusters is to find the point where our *inertia* isn't getting any lower even as we add more clusters."
   ]
  },
  {
   "cell_type": "code",
   "execution_count": 18,
   "id": "b9409f51",
   "metadata": {},
   "outputs": [
    {
     "data": {
      "text/plain": [
       "<AxesSubplot:>"
      ]
     },
     "execution_count": 18,
     "metadata": {},
     "output_type": "execute_result"
    },
    {
     "data": {
      "image/png": "[encoded data removed]",
      "text/plain": [
       "<Figure size 432x288 with 1 Axes>"
      ]
     },
     "metadata": {
      "filenames": {
       "image/png": "/Users/erikbrockbank/web/teaching/ucsd-css-002-sp2022.github.io/_build/jupyter_execute/lectures/sp22/Lecture_22-post_41_1.png"
      },
      "needs_background": "light"
     },
     "output_type": "display_data"
    }
   ],
   "source": [
    "kmeans = np.arange(1, 11)\n",
    "inertias = []\n",
    "\n",
    "for x in kmeans:\n",
    "    inertias.append(\n",
    "        KMeans(n_clusters = x, random_state = 1).fit(X = x_vals).inertia_\n",
    "    )\n",
    "\n",
    "\n",
    "sns.scatterplot(x = kmeans, y = inertias)\n",
    "sns.lineplot(x = kmeans, y = inertias)"
   ]
  },
  {
   "cell_type": "markdown",
   "id": "268ff03f",
   "metadata": {},
   "source": [
    "In the figure above, we can see that 2-3 clusters is probably ideal for this data. "
   ]
  },
  {
   "cell_type": "markdown",
   "id": "aefbb790",
   "metadata": {},
   "source": [
    "# Summary\n",
    "\n",
    "This is meant to introduce the idea of unsupervised clustering and give you a feel for how it works with $k$-means clustering. \n",
    "\n",
    "In the remainder of this week, we'll follow a similar structure to our regression and classification units: what other clustering solutions are out there and how do we evaluate them?"
   ]
  }
 ],
 "metadata": {
  "interpreter": {
   "hash": "e774977668b7c0ae8309835a5187aa7fbf7669e7d0bb59755bc63e573643edcd"
  },
  "kernelspec": {
   "display_name": "Python 3.7.4 64-bit",
   "language": "python",
   "name": "python3"
  },
  "language_info": {
   "codemirror_mode": {
    "name": "ipython",
    "version": 3
   },
   "file_extension": ".py",
   "mimetype": "text/x-python",
   "name": "python",
   "nbconvert_exporter": "python",
   "pygments_lexer": "ipython3",
   "version": "3.8.3"
  }
 },
 "nbformat": 4,
 "nbformat_minor": 5
}