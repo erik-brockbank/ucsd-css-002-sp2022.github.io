{
 "cells": [
  {
   "cell_type": "markdown",
   "id": "62c7e6f5",
   "metadata": {},
   "source": [
    "# Lecture 17 (5/4/2022)"
   ]
  },
  {
   "cell_type": "markdown",
   "id": "a1ea5e3d",
   "metadata": {},
   "source": [
    "**Announcements**\n",
    "- Purva OH in ERCA 117 after W lab for rest of quarter! \n"
   ]
  },
  {
   "cell_type": "markdown",
   "id": "cac90fc6",
   "metadata": {},
   "source": [
    "*Last time we covered:*\n",
    "- Prediction: regression + overfitting\n",
    "\n",
    "**Today's agenda:**\n",
    "- Classification part I\n"
   ]
  },
  {
   "cell_type": "code",
   "execution_count": 1,
   "id": "aa6ebecc",
   "metadata": {},
   "outputs": [],
   "source": [
    "import numpy as np\n",
    "import pandas as pd\n",
    "import matplotlib.pyplot as plt\n",
    "import seaborn as sns"
   ]
  },
  {
   "cell_type": "markdown",
   "id": "fc67da52",
   "metadata": {},
   "source": [
    "# Classification\n",
    "\n",
    "## Overview\n",
    "\n",
    "Classification is a hugely influential and broad area of machine learning research and data science applications. It's also at the heart of some of the biggest controversies in AI ethics. \n",
    "\n",
    "We're going to spend the rest of this week and most of next week discussing different aspects of classification. By the end of next week, you should get a good sense of: \n",
    "- What classification algorithms are out there and how they work (high-level) \n",
    "- How to evaluate them\n",
    "- How to implement (and evaluate) them in python\n",
    "- What kind of issues arise when using them\n",
    "\n",
    "At a high level, **classification algorithms are concerned with identifying discrete/categorical labels** based on patterns in our data. This contrasts with regression which has a goal of predicting a continuous numerical value rather than a categorical one (though as we'll see, this line gets blurred). \n",
    "\n",
    "The goal for a classification algorithm is to be able to **take in data** like a text document, a photo, or more structured data about items in the world and **return a label** for that data (what's in the photo, who wrote the document, etc.). A *successful* classification algorithm should be:\n",
    "- *Data-driven* (i.e., the goal is to make these predictions with as little human intervention as possible)\n",
    "- *Accurate* with data the algorithm has never seen before \n",
    "- *Fair* in the labels that it suggests (this last one is of particular importance as these algorithms become more widespread)\n",
    "\n",
    "There are many different classification algorithms out there; we're going to cover some of the most common and well-known ones which will give you a good intuition for how they work and how to think about other solutions you encounter in the future. "
   ]
  },
  {
   "cell_type": "markdown",
   "id": "f6baff4a",
   "metadata": {},
   "source": [
    "## Structure\n",
    "\n",
    "Classification (like regression) is a **supervised** learning problem: the goal is to detect patterns in an existing set of data that will help us make predictions or generalize to new data.\n",
    "\n",
    "In the case of classification, our data is a set of *labeled examples* $(X, y)$. \n",
    "- The *label* $y$ is the category that the example belongs to: this is what we want to predict \n",
    "    - ex. whether a passenger survived the Titanic (Y/N)\n",
    "- Each labeled example has a set of *features* $X$ which are numerical variables we use to try and predict that example's label. \n",
    "    - ex. how much the passenger paid for their ticket ($x_1$), how old they were ($x_2$), etc.\n",
    "\n",
    "Each row in our data is a single labeled example, with columns corresponding to the features and the label. \n",
    "\n",
    "| $x_1$ (feature) | $x_2$ (feature) | $x_3$ (feature) | $y$ (label) |\n",
    "| ---- | ------ | -------------- | ------------ |\n",
    "| $a_1$ | $a_2$ | $a_3$ | $a_y$ |\n",
    "| $b_1$ | $b_2$ | $b_3$ | $b_y$ |\n",
    "| ... | ... | ... | ... |\n",
    "\n",
    "**The goal of classification algorithms is to identify patterns in the relationship between features and labels in our training data that will allow us to predict the label of a *new* example, given its features.**\n",
    "\n"
   ]
  },
  {
   "cell_type": "markdown",
   "id": "cc92fb44",
   "metadata": {},
   "source": [
    "## Examples\n",
    "\n",
    "Broadly, classification algorithms fall into two broad categories (plus a couple other less common ones).\n",
    "\n",
    "We'll walk through a definition and examples of each of the classification types below:\n",
    "\n",
    "- *Binary* classification\n",
    "- *Multiclass* classification\n",
    "- Other: *one-class*, *multi-label*"
   ]
  },
  {
   "cell_type": "markdown",
   "id": "3429b3b8",
   "metadata": {},
   "source": [
    "### Binary classification\n",
    "\n",
    "**Goal**: Use the features of the training data to accurately classify a *binary* outcome or variable in the data.\n",
    "\n",
    "**Examples**\n",
    "- Canonical computer science problem: use the text of an email to predict whether it's spam\n",
    "- Modern CAPTCHA problems: use the pixels of an image to detect the presence or absence of certain objects\n",
    "- Common data science teaching problem: use titanic passenger info to predict who survived\n",
    "- Social science example: use prior voting history and survey information to predict whether somebody is a likely voter\n",
    "\n",
    "**Why this matters**\n",
    "\n",
    "In addition to the examples above, binary classification models can also be used for highly consequential decisions. Consider a model that uses information about loan applicants (credit score, employment) to decide whether they are likely to repay a loan. Or, the real-world example below:\n",
    "\n",
    "\n",
    "![recidivism_classifier](img/recidivism.png)\n",
    "([source](https://www.technologyreview.com/2019/01/21/137783/algorithms-criminal-justice-ai/), see also [here](https://www.nytimes.com/2020/02/06/technology/predictive-algorithms-crime.html))"
   ]
  },
  {
   "cell_type": "markdown",
   "id": "7f7d38ae",
   "metadata": {},
   "source": [
    "### Multiclass classification\n",
    "\n"
   ]
  },
  {
   "cell_type": "markdown",
   "id": "9979bc58",
   "metadata": {},
   "source": [
    "**Goal**: Use the features of the training data to accurately classify a variable or outcome into *more than two* possible values.\n",
    "\n",
    "**Examples**\n",
    "- Common data science problem: use the pixels of an image to determine the *number* shown in the image (MNIST dataset)\n",
    "- Social science: use the text of a document to determine its author or other important information about it\n",
    "\n",
    "![mnist](img/mnist.png)\n",
    "The *MNIST* dataset is a popular dataset for image-based classification ([source](https://en.wikipedia.org/wiki/MNIST_database))\n",
    "\n",
    "**Why this matters**\n",
    "\n",
    "One domain that you might not think of as a \"classification problem\" is face recognition. Here, the training data is prior photos of a person and the label is that person's identity. Deep learning classification approaches can be very effective at face recognition, raising serious ethical issues for its use in AI and governance (see below). \n",
    "\n",
    "![fb](img/fb.png)\n",
    "\n",
    "([source](https://www.nytimes.com/2021/11/02/technology/facebook-facial-recognition.html))"
   ]
  },
  {
   "cell_type": "markdown",
   "id": "d3d1ebc7",
   "metadata": {},
   "source": [
    "### Other types of classification (less common)\n",
    "\n",
    "We won't discuss these in detail but it's helpful to know they exist! \n",
    "\n",
    "**Multi-label classification**: Decide which among a set of multiple labels should be applied to a particular instance \n",
    "- *Does this image contain a cat? A person? A car? All the above?*\n",
    "\n",
    "**One-class classification**: Try to optimally identify an instance of a single class \n",
    "- *Is this datapoint an outlier? Does this medical scan contain a tumor?*\n"
   ]
  },
  {
   "cell_type": "markdown",
   "id": "0214a914",
   "metadata": {},
   "source": [
    "## Intuitive solution: $k$-nearest neighbors (k-NN)\n",
    "\n",
    "$k$-nearest neighbors (k-NN) is usually the place where people start with classification algorithms because the underlying logic is super intuitive (other ones we'll talk about are much less so). \n",
    "\n",
    "- How it works\n",
    "- Implementing k-NN \"by hand\"\n",
    "- `sklearn` implementation\n",
    "- Try it out!"
   ]
  },
  {
   "cell_type": "markdown",
   "id": "19fb7c17",
   "metadata": {},
   "source": [
    "### How it works\n",
    "\n",
    "The central idea with k-NN is that when you see a new data point that has features $\\theta$ and an *unknown* label $\\lambda$ that you're trying to identify, your best guess is to find the training items whose features ($x$) are *most similar* to $\\theta$ and assume its label is the same as the majority of those \"neighbors\". \n",
    "\n",
    "It's kind of like the cafeteria in Mean Girls...\n",
    "\n",
    "![mean_girls_cafeteria](img/mean_girls.jpeg)\n",
    "\n",
    "*Birds of a feather flock together*: the k-NN classifier guesses an item's label based on whatever training data the item is *closest to*.\n",
    "\n",
    "\n",
    "**Pseudo-code**\n",
    "\n",
    "Steps for classifying a *new* example with features $\\theta$ and *unknown* label $\\lambda$ (more [here](https://towardsdatascience.com/machine-learning-basics-with-the-k-nearest-neighbors-algorithm-6a6e71d01761)):\n",
    "1. Cycle through all data points with features $x_i$ and *known label* $y_i$.\n",
    "2. For each known data point, calculate and store the *distance* from its features $x_i$ to our unknown data point's features $\\theta$ (Note: this algorithm relies on a distance function $D(x_1, \\theta)$)\n",
    "3. After cycling through all known data points, select the $k$ data points whose features are the *shortest* distance to our unknown data point. These are the \"nearest neighbors.\" We choose $k$ ahead of time!\n",
    "4. Select an estimated label $\\hat{\\lambda}$ for our unknown data point that corresponds to the *most common label* $Y$ among the nearest data points from step 3.\n",
    "\n",
    "\n",
    "![knn_wikipedia](img/knn.png)\n",
    "\n",
    "In the image above, we're trying to guess a classification (*red triangle* or *blue square* for the green circle. The black outlines show our *nearest neighbors* for $k = 3$ and $k = 5$ ([source](https://en.wikipedia.org/wiki/K-nearest_neighbors_algorithm))\n",
    "\n",
    "Let's see what this looks like in practice!"
   ]
  },
  {
   "cell_type": "markdown",
   "id": "0e9fe968",
   "metadata": {},
   "source": [
    "### Implementing k-NN classification\n",
    "\n",
    "To show how this works, we'll rely on the `iris` dataset, a popular dataset for illustrating classification."
   ]
  },
  {
   "cell_type": "code",
   "execution_count": 2,
   "id": "a3e7a2b2",
   "metadata": {},
   "outputs": [
    {
     "data": {
      "text/html": [
       "<div>\n",
       "<style scoped>\n",
       "    .dataframe tbody tr th:only-of-type {\n",
       "        vertical-align: middle;\n",
       "    }\n",
       "\n",
       "    .dataframe tbody tr th {\n",
       "        vertical-align: top;\n",
       "    }\n",
       "\n",
       "    .dataframe thead th {\n",
       "        text-align: right;\n",
       "    }\n",
       "</style>\n",
       "<table border=\"1\" class=\"dataframe\">\n",
       "  <thead>\n",
       "    <tr style=\"text-align: right;\">\n",
       "      <th></th>\n",
       "      <th>sepal_length</th>\n",
       "      <th>sepal_width</th>\n",
       "      <th>petal_length</th>\n",
       "      <th>petal_width</th>\n",
       "      <th>species</th>\n",
       "    </tr>\n",
       "  </thead>\n",
       "  <tbody>\n",
       "    <tr>\n",
       "      <th>0</th>\n",
       "      <td>5.1</td>\n",
       "      <td>3.5</td>\n",
       "      <td>1.4</td>\n",
       "      <td>0.2</td>\n",
       "      <td>setosa</td>\n",
       "    </tr>\n",
       "    <tr>\n",
       "      <th>1</th>\n",
       "      <td>4.9</td>\n",
       "      <td>3.0</td>\n",
       "      <td>1.4</td>\n",
       "      <td>0.2</td>\n",
       "      <td>setosa</td>\n",
       "    </tr>\n",
       "    <tr>\n",
       "      <th>2</th>\n",
       "      <td>4.7</td>\n",
       "      <td>3.2</td>\n",
       "      <td>1.3</td>\n",
       "      <td>0.2</td>\n",
       "      <td>setosa</td>\n",
       "    </tr>\n",
       "    <tr>\n",
       "      <th>3</th>\n",
       "      <td>4.6</td>\n",
       "      <td>3.1</td>\n",
       "      <td>1.5</td>\n",
       "      <td>0.2</td>\n",
       "      <td>setosa</td>\n",
       "    </tr>\n",
       "    <tr>\n",
       "      <th>4</th>\n",
       "      <td>5.0</td>\n",
       "      <td>3.6</td>\n",
       "      <td>1.4</td>\n",
       "      <td>0.2</td>\n",
       "      <td>setosa</td>\n",
       "    </tr>\n",
       "    <tr>\n",
       "      <th>...</th>\n",
       "      <td>...</td>\n",
       "      <td>...</td>\n",
       "      <td>...</td>\n",
       "      <td>...</td>\n",
       "      <td>...</td>\n",
       "    </tr>\n",
       "    <tr>\n",
       "      <th>145</th>\n",
       "      <td>6.7</td>\n",
       "      <td>3.0</td>\n",
       "      <td>5.2</td>\n",
       "      <td>2.3</td>\n",
       "      <td>virginica</td>\n",
       "    </tr>\n",
       "    <tr>\n",
       "      <th>146</th>\n",
       "      <td>6.3</td>\n",
       "      <td>2.5</td>\n",
       "      <td>5.0</td>\n",
       "      <td>1.9</td>\n",
       "      <td>virginica</td>\n",
       "    </tr>\n",
       "    <tr>\n",
       "      <th>147</th>\n",
       "      <td>6.5</td>\n",
       "      <td>3.0</td>\n",
       "      <td>5.2</td>\n",
       "      <td>2.0</td>\n",
       "      <td>virginica</td>\n",
       "    </tr>\n",
       "    <tr>\n",
       "      <th>148</th>\n",
       "      <td>6.2</td>\n",
       "      <td>3.4</td>\n",
       "      <td>5.4</td>\n",
       "      <td>2.3</td>\n",
       "      <td>virginica</td>\n",
       "    </tr>\n",
       "    <tr>\n",
       "      <th>149</th>\n",
       "      <td>5.9</td>\n",
       "      <td>3.0</td>\n",
       "      <td>5.1</td>\n",
       "      <td>1.8</td>\n",
       "      <td>virginica</td>\n",
       "    </tr>\n",
       "  </tbody>\n",
       "</table>\n",
       "<p>150 rows × 5 columns</p>\n",
       "</div>"
      ],
      "text/plain": [
       "     sepal_length  sepal_width  petal_length  petal_width    species\n",
       "0             5.1          3.5           1.4          0.2     setosa\n",
       "1             4.9          3.0           1.4          0.2     setosa\n",
       "2             4.7          3.2           1.3          0.2     setosa\n",
       "3             4.6          3.1           1.5          0.2     setosa\n",
       "4             5.0          3.6           1.4          0.2     setosa\n",
       "..            ...          ...           ...          ...        ...\n",
       "145           6.7          3.0           5.2          2.3  virginica\n",
       "146           6.3          2.5           5.0          1.9  virginica\n",
       "147           6.5          3.0           5.2          2.0  virginica\n",
       "148           6.2          3.4           5.4          2.3  virginica\n",
       "149           5.9          3.0           5.1          1.8  virginica\n",
       "\n",
       "[150 rows x 5 columns]"
      ]
     },
     "execution_count": 2,
     "metadata": {},
     "output_type": "execute_result"
    }
   ],
   "source": [
    "iris = sns.load_dataset('iris')\n",
    "iris"
   ]
  },
  {
   "cell_type": "markdown",
   "id": "3c9d9c2a",
   "metadata": {},
   "source": [
    "Let's look at whether petal length and petal width allow for straightforward k-NN classification:"
   ]
  },
  {
   "cell_type": "code",
   "execution_count": 3,
   "id": "13c7ef31",
   "metadata": {},
   "outputs": [
    {
     "data": {
      "image/png": "[encoded data removed]",
      "text/plain": [
       "<Figure size 432x288 with 1 Axes>"
      ]
     },
     "metadata": {
      "filenames": {
       "image/png": "/Users/erikbrockbank/web/teaching/ucsd-css-002-sp2022.github.io/_build/jupyter_execute/lectures/sp22/Lecture_17-pre_16_0.png"
      },
      "needs_background": "light"
     },
     "output_type": "display_data"
    }
   ],
   "source": [
    "sns.scatterplot(data = iris, x = \"petal_length\", y = \"petal_width\", hue = \"species\", alpha = 0.5)\n",
    "plt.show()"
   ]
  },
  {
   "cell_type": "markdown",
   "id": "71fd1e8f",
   "metadata": {},
   "source": [
    "Now, our first step is to set aside some *test* data that we'll try to classify based on an available set of *training* data:"
   ]
  },
  {
   "cell_type": "code",
   "execution_count": 4,
   "id": "096897c8",
   "metadata": {},
   "outputs": [
    {
     "data": {
      "text/html": [
       "<div>\n",
       "<style scoped>\n",
       "    .dataframe tbody tr th:only-of-type {\n",
       "        vertical-align: middle;\n",
       "    }\n",
       "\n",
       "    .dataframe tbody tr th {\n",
       "        vertical-align: top;\n",
       "    }\n",
       "\n",
       "    .dataframe thead th {\n",
       "        text-align: right;\n",
       "    }\n",
       "</style>\n",
       "<table border=\"1\" class=\"dataframe\">\n",
       "  <thead>\n",
       "    <tr style=\"text-align: right;\">\n",
       "      <th></th>\n",
       "      <th>petal_length</th>\n",
       "      <th>petal_width</th>\n",
       "    </tr>\n",
       "  </thead>\n",
       "  <tbody>\n",
       "    <tr>\n",
       "      <th>0</th>\n",
       "      <td>1.4</td>\n",
       "      <td>0.1</td>\n",
       "    </tr>\n",
       "    <tr>\n",
       "      <th>1</th>\n",
       "      <td>4.5</td>\n",
       "      <td>1.5</td>\n",
       "    </tr>\n",
       "    <tr>\n",
       "      <th>2</th>\n",
       "      <td>4.4</td>\n",
       "      <td>1.2</td>\n",
       "    </tr>\n",
       "    <tr>\n",
       "      <th>3</th>\n",
       "      <td>1.4</td>\n",
       "      <td>0.3</td>\n",
       "    </tr>\n",
       "    <tr>\n",
       "      <th>4</th>\n",
       "      <td>1.3</td>\n",
       "      <td>0.4</td>\n",
       "    </tr>\n",
       "    <tr>\n",
       "      <th>...</th>\n",
       "      <td>...</td>\n",
       "      <td>...</td>\n",
       "    </tr>\n",
       "    <tr>\n",
       "      <th>130</th>\n",
       "      <td>1.5</td>\n",
       "      <td>0.1</td>\n",
       "    </tr>\n",
       "    <tr>\n",
       "      <th>131</th>\n",
       "      <td>5.6</td>\n",
       "      <td>1.8</td>\n",
       "    </tr>\n",
       "    <tr>\n",
       "      <th>132</th>\n",
       "      <td>4.1</td>\n",
       "      <td>1.0</td>\n",
       "    </tr>\n",
       "    <tr>\n",
       "      <th>133</th>\n",
       "      <td>6.7</td>\n",
       "      <td>2.2</td>\n",
       "    </tr>\n",
       "    <tr>\n",
       "      <th>134</th>\n",
       "      <td>1.4</td>\n",
       "      <td>0.2</td>\n",
       "    </tr>\n",
       "  </tbody>\n",
       "</table>\n",
       "<p>135 rows × 2 columns</p>\n",
       "</div>"
      ],
      "text/plain": [
       "     petal_length  petal_width\n",
       "0             1.4          0.1\n",
       "1             4.5          1.5\n",
       "2             4.4          1.2\n",
       "3             1.4          0.3\n",
       "4             1.3          0.4\n",
       "..            ...          ...\n",
       "130           1.5          0.1\n",
       "131           5.6          1.8\n",
       "132           4.1          1.0\n",
       "133           6.7          2.2\n",
       "134           1.4          0.2\n",
       "\n",
       "[135 rows x 2 columns]"
      ]
     },
     "execution_count": 4,
     "metadata": {},
     "output_type": "execute_result"
    }
   ],
   "source": [
    "from sklearn.model_selection import train_test_split\n",
    "\n",
    "x_vals = iris.loc[:, ('petal_length', 'petal_width')]\n",
    "y_vals = iris.loc[:, 'species']\n",
    "\n",
    "xtrain, xtest, ytrain, ytest = train_test_split(x_vals, y_vals, \n",
    "                                                test_size = 0.1, # we'll use a small test set here\n",
    "                                                random_state = 0 # make this process reproducible\n",
    "                                               )\n",
    "xtrain = xtrain.reset_index(drop = True)\n",
    "xtest = xtest.reset_index(drop = True)\n",
    "ytrain = ytrain.reset_index(drop = True)\n",
    "ytest = ytest.reset_index(drop = True)\n",
    "\n",
    "# Take a look at the train/test set\n",
    "xtrain"
   ]
  },
  {
   "cell_type": "markdown",
   "id": "025619ac",
   "metadata": {},
   "source": [
    "For illustration, we'll just pick *one element from the test set above* to try and classify:"
   ]
  },
  {
   "cell_type": "code",
   "execution_count": 5,
   "id": "814ea2f9",
   "metadata": {},
   "outputs": [
    {
     "data": {
      "text/plain": [
       "petal_length    4.8\n",
       "petal_width     1.4\n",
       "Name: 8, dtype: float64"
      ]
     },
     "execution_count": 5,
     "metadata": {},
     "output_type": "execute_result"
    }
   ],
   "source": [
    "test_x = xtest.iloc[8, :]\n",
    "test_x"
   ]
  },
  {
   "cell_type": "markdown",
   "id": "ad0d1bd9",
   "metadata": {},
   "source": [
    "Where do this element's features sit in the training data? \n",
    "\n",
    "In other words, how is it likely to be classified?"
   ]
  },
  {
   "cell_type": "code",
   "execution_count": 6,
   "id": "c3a08213",
   "metadata": {},
   "outputs": [
    {
     "data": {
      "image/png": "[encoded data removed]",
      "text/plain": [
       "<Figure size 432x288 with 1 Axes>"
      ]
     },
     "metadata": {
      "filenames": {
       "image/png": "/Users/erikbrockbank/web/teaching/ucsd-css-002-sp2022.github.io/_build/jupyter_execute/lectures/sp22/Lecture_17-pre_22_0.png"
      },
      "needs_background": "light"
     },
     "output_type": "display_data"
    }
   ],
   "source": [
    "sns.scatterplot(data = xtrain, x = \"petal_length\", y = \"petal_width\", hue = ytrain, alpha = 0.5)\n",
    "plt.text(s = \"X\", x = test_x[0], y = test_x[1], horizontalalignment = 'left')\n",
    "plt.show()"
   ]
  },
  {
   "cell_type": "markdown",
   "id": "7dc38216",
   "metadata": {},
   "source": [
    "**Now, can we classify the element labeled with the X above?**\n",
    "\n",
    "First, we need a way to measure its distance to all the training datapoints.\n",
    "\n",
    "For this, we'll use the *Euclidean distance between feature values*, but other approaches work as well.\n",
    "\n",
    "Here's an illustration of the distance between our test point $X$ and a sample training point $\\alpha$:\n",
    "\n",
    "![knn_distance](img/knn_dist.png)\n",
    "\n",
    "We need to calculate the distance between $X$ and *all the other data points in our training set*:"
   ]
  },
  {
   "cell_type": "code",
   "execution_count": 7,
   "id": "dd7d965b",
   "metadata": {},
   "outputs": [
    {
     "data": {
      "text/html": [
       "<div>\n",
       "<style scoped>\n",
       "    .dataframe tbody tr th:only-of-type {\n",
       "        vertical-align: middle;\n",
       "    }\n",
       "\n",
       "    .dataframe tbody tr th {\n",
       "        vertical-align: top;\n",
       "    }\n",
       "\n",
       "    .dataframe thead th {\n",
       "        text-align: right;\n",
       "    }\n",
       "</style>\n",
       "<table border=\"1\" class=\"dataframe\">\n",
       "  <thead>\n",
       "    <tr style=\"text-align: right;\">\n",
       "      <th></th>\n",
       "      <th>petal_length</th>\n",
       "      <th>petal_width</th>\n",
       "      <th>distance</th>\n",
       "    </tr>\n",
       "  </thead>\n",
       "  <tbody>\n",
       "    <tr>\n",
       "      <th>0</th>\n",
       "      <td>1.4</td>\n",
       "      <td>0.1</td>\n",
       "      <td>3.640055</td>\n",
       "    </tr>\n",
       "    <tr>\n",
       "      <th>1</th>\n",
       "      <td>4.5</td>\n",
       "      <td>1.5</td>\n",
       "      <td>0.316228</td>\n",
       "    </tr>\n",
       "    <tr>\n",
       "      <th>2</th>\n",
       "      <td>4.4</td>\n",
       "      <td>1.2</td>\n",
       "      <td>0.447214</td>\n",
       "    </tr>\n",
       "    <tr>\n",
       "      <th>3</th>\n",
       "      <td>1.4</td>\n",
       "      <td>0.3</td>\n",
       "      <td>3.573514</td>\n",
       "    </tr>\n",
       "    <tr>\n",
       "      <th>4</th>\n",
       "      <td>1.3</td>\n",
       "      <td>0.4</td>\n",
       "      <td>3.640055</td>\n",
       "    </tr>\n",
       "    <tr>\n",
       "      <th>...</th>\n",
       "      <td>...</td>\n",
       "      <td>...</td>\n",
       "      <td>...</td>\n",
       "    </tr>\n",
       "    <tr>\n",
       "      <th>130</th>\n",
       "      <td>1.5</td>\n",
       "      <td>0.1</td>\n",
       "      <td>3.546830</td>\n",
       "    </tr>\n",
       "    <tr>\n",
       "      <th>131</th>\n",
       "      <td>5.6</td>\n",
       "      <td>1.8</td>\n",
       "      <td>0.894427</td>\n",
       "    </tr>\n",
       "    <tr>\n",
       "      <th>132</th>\n",
       "      <td>4.1</td>\n",
       "      <td>1.0</td>\n",
       "      <td>0.806226</td>\n",
       "    </tr>\n",
       "    <tr>\n",
       "      <th>133</th>\n",
       "      <td>6.7</td>\n",
       "      <td>2.2</td>\n",
       "      <td>2.061553</td>\n",
       "    </tr>\n",
       "    <tr>\n",
       "      <th>134</th>\n",
       "      <td>1.4</td>\n",
       "      <td>0.2</td>\n",
       "      <td>3.605551</td>\n",
       "    </tr>\n",
       "  </tbody>\n",
       "</table>\n",
       "<p>135 rows × 3 columns</p>\n",
       "</div>"
      ],
      "text/plain": [
       "     petal_length  petal_width  distance\n",
       "0             1.4          0.1  3.640055\n",
       "1             4.5          1.5  0.316228\n",
       "2             4.4          1.2  0.447214\n",
       "3             1.4          0.3  3.573514\n",
       "4             1.3          0.4  3.640055\n",
       "..            ...          ...       ...\n",
       "130           1.5          0.1  3.546830\n",
       "131           5.6          1.8  0.894427\n",
       "132           4.1          1.0  0.806226\n",
       "133           6.7          2.2  2.061553\n",
       "134           1.4          0.2  3.605551\n",
       "\n",
       "[135 rows x 3 columns]"
      ]
     },
     "execution_count": 7,
     "metadata": {},
     "output_type": "execute_result"
    }
   ],
   "source": [
    "xtrain['distance'] = np.sqrt((xtrain['petal_length'] - test_x[0])**2 + (xtrain['petal_width'] - test_x[1])**2)\n",
    "xtrain"
   ]
  },
  {
   "cell_type": "markdown",
   "id": "76de1e0e",
   "metadata": {},
   "source": [
    "Now, our job is to find the \"nearest neighbors\": the $k$ elements from our training data that are the shortest distance from our unknown test item $X$.\n",
    "\n",
    "First, we set a value for $k$ (we can choose any value here), then find the $k$-nearest neighbors. "
   ]
  },
  {
   "cell_type": "code",
   "execution_count": 8,
   "id": "7044d687",
   "metadata": {},
   "outputs": [
    {
     "data": {
      "text/html": [
       "<div>\n",
       "<style scoped>\n",
       "    .dataframe tbody tr th:only-of-type {\n",
       "        vertical-align: middle;\n",
       "    }\n",
       "\n",
       "    .dataframe tbody tr th {\n",
       "        vertical-align: top;\n",
       "    }\n",
       "\n",
       "    .dataframe thead th {\n",
       "        text-align: right;\n",
       "    }\n",
       "</style>\n",
       "<table border=\"1\" class=\"dataframe\">\n",
       "  <thead>\n",
       "    <tr style=\"text-align: right;\">\n",
       "      <th></th>\n",
       "      <th>petal_length</th>\n",
       "      <th>petal_width</th>\n",
       "      <th>distance</th>\n",
       "    </tr>\n",
       "  </thead>\n",
       "  <tbody>\n",
       "    <tr>\n",
       "      <th>43</th>\n",
       "      <td>4.7</td>\n",
       "      <td>1.4</td>\n",
       "      <td>0.100000</td>\n",
       "    </tr>\n",
       "    <tr>\n",
       "      <th>59</th>\n",
       "      <td>4.9</td>\n",
       "      <td>1.5</td>\n",
       "      <td>0.141421</td>\n",
       "    </tr>\n",
       "    <tr>\n",
       "      <th>117</th>\n",
       "      <td>4.9</td>\n",
       "      <td>1.5</td>\n",
       "      <td>0.141421</td>\n",
       "    </tr>\n",
       "  </tbody>\n",
       "</table>\n",
       "</div>"
      ],
      "text/plain": [
       "     petal_length  petal_width  distance\n",
       "43            4.7          1.4  0.100000\n",
       "59            4.9          1.5  0.141421\n",
       "117           4.9          1.5  0.141421"
      ]
     },
     "execution_count": 8,
     "metadata": {},
     "output_type": "execute_result"
    }
   ],
   "source": [
    "# Set our k value\n",
    "k = 3\n",
    "\n",
    "# What are the k values with the smallest distances to X?\n",
    "xtrain.nsmallest(n = k, columns = 'distance', keep = \"all\")"
   ]
  },
  {
   "cell_type": "markdown",
   "id": "9f482b8c",
   "metadata": {},
   "source": [
    "Now, we look at the labels for the $k$-nearest neighbors. \n",
    "\n",
    "In essence, the neighbors will \"vote\" on the likely label for our new datapoint $X$. \n",
    "\n",
    "Our estimated label $\\hat{y}$ for $X$ will be the *mode* of the labels $Y$ of our $k$-nearest neighbors above."
   ]
  },
  {
   "cell_type": "code",
   "execution_count": 9,
   "id": "818b48e3",
   "metadata": {},
   "outputs": [
    {
     "data": {
      "text/plain": [
       "43     versicolor\n",
       "59     versicolor\n",
       "117    versicolor\n",
       "Name: species, dtype: object"
      ]
     },
     "execution_count": 9,
     "metadata": {},
     "output_type": "execute_result"
    }
   ],
   "source": [
    "# What are the labels of these nearest neighbor items?\n",
    "ytrain.iloc[list(xtrain.nsmallest(n = k, columns = 'distance').index)]"
   ]
  },
  {
   "cell_type": "code",
   "execution_count": 10,
   "id": "58bfd99c",
   "metadata": {},
   "outputs": [
    {
     "data": {
      "text/plain": [
       "'versicolor'"
      ]
     },
     "execution_count": 10,
     "metadata": {},
     "output_type": "execute_result"
    }
   ],
   "source": [
    "# What is the mode of these labels?\n",
    "from scipy.stats import mode\n",
    "\n",
    "mode(ytrain.iloc[list(xtrain.nsmallest(n = k, columns = 'distance').index)]).mode[0]"
   ]
  },
  {
   "cell_type": "markdown",
   "id": "e8ee9093",
   "metadata": {},
   "source": [
    "Our $k$-nearest neighbors above classified our test item as `versicolor`.\n",
    "\n",
    "*Was this classification accurate?*"
   ]
  },
  {
   "cell_type": "code",
   "execution_count": 11,
   "id": "61b31cb7",
   "metadata": {},
   "outputs": [
    {
     "data": {
      "text/plain": [
       "'versicolor'"
      ]
     },
     "execution_count": 11,
     "metadata": {},
     "output_type": "execute_result"
    }
   ],
   "source": [
    "test_y = ytest.iloc[8]\n",
    "test_y"
   ]
  },
  {
   "cell_type": "markdown",
   "id": "ba1eb259",
   "metadata": {},
   "source": [
    "*What if we change $k$ to 5? 10? 25?*\n",
    "\n",
    "The process above should give you an intuition for what the k-NN classifier needs to do to classify novel test data. \n",
    "\n",
    "Fortunately, the `sklearn` `KNeighborsClassifier` will do most of this work for us!"
   ]
  },
  {
   "cell_type": "markdown",
   "id": "f5e222a7",
   "metadata": {},
   "source": [
    "### k-NN classification with `sklearn`\n",
    "\n",
    "We start by initializing the `sklearn` `KNeighborsClassifier` model and \"fitting\" it to our training data:"
   ]
  },
  {
   "cell_type": "code",
   "execution_count": 12,
   "id": "15278648",
   "metadata": {},
   "outputs": [
    {
     "data": {
      "text/plain": [
       "KNeighborsClassifier(n_neighbors=3)"
      ]
     },
     "execution_count": 12,
     "metadata": {},
     "output_type": "execute_result"
    }
   ],
   "source": [
    "# Import the KNeighborsClassifier\n",
    "from sklearn.neighbors import KNeighborsClassifier\n",
    "\n",
    "# Initialize the classifier (use the same `k` as above)\n",
    "knn = KNeighborsClassifier(n_neighbors = k)\n",
    "\n",
    "# Re-generate the train/test data we used above\n",
    "xtrain, xtest, ytrain, ytest = train_test_split(x_vals, y_vals, \n",
    "                                                test_size = 0.1, # we'll use a small test set here\n",
    "                                                random_state = 0 # make this process repeatable\n",
    "                                               ) \n",
    "\n",
    "# Use the model's `fit` function to train the classifier\n",
    "# Question: what is this \"fit\" function doing for kNN?\n",
    "knn.fit(X = xtrain, y = ytrain)"
   ]
  },
  {
   "cell_type": "markdown",
   "id": "5ae46654",
   "metadata": {},
   "source": [
    "Now, let's predict our test elements!\n",
    "\n",
    "With the `sklearn` k-NN classifier, we can do them all at once rather than one at a time like we did above..."
   ]
  },
  {
   "cell_type": "code",
   "execution_count": 13,
   "id": "bd494eea",
   "metadata": {},
   "outputs": [
    {
     "data": {
      "text/plain": [
       "array(['virginica', 'versicolor', 'setosa', 'virginica', 'setosa',\n",
       "       'virginica', 'setosa', 'versicolor', 'versicolor', 'versicolor',\n",
       "       'virginica', 'versicolor', 'versicolor', 'versicolor',\n",
       "       'versicolor'], dtype=object)"
      ]
     },
     "execution_count": 13,
     "metadata": {},
     "output_type": "execute_result"
    }
   ],
   "source": [
    "# reminder: this is what our test data looks like\n",
    "xtest\n",
    "ytest\n",
    "\n",
    "# use the model's `predict` function to make predictions about the labels in xtest\n",
    "preds = knn.predict(X = xtest)\n",
    "preds"
   ]
  },
  {
   "cell_type": "markdown",
   "id": "31bdff66",
   "metadata": {},
   "source": [
    "*How did we do?*\n",
    "\n",
    "Below, we compare the true label for our test data `species` with the k-NN prediction:"
   ]
  },
  {
   "cell_type": "code",
   "execution_count": 14,
   "id": "cf191be0",
   "metadata": {},
   "outputs": [
    {
     "data": {
      "text/html": [
       "<div>\n",
       "<style scoped>\n",
       "    .dataframe tbody tr th:only-of-type {\n",
       "        vertical-align: middle;\n",
       "    }\n",
       "\n",
       "    .dataframe tbody tr th {\n",
       "        vertical-align: top;\n",
       "    }\n",
       "\n",
       "    .dataframe thead th {\n",
       "        text-align: right;\n",
       "    }\n",
       "</style>\n",
       "<table border=\"1\" class=\"dataframe\">\n",
       "  <thead>\n",
       "    <tr style=\"text-align: right;\">\n",
       "      <th></th>\n",
       "      <th>petal_length</th>\n",
       "      <th>petal_width</th>\n",
       "      <th>species</th>\n",
       "      <th>knn prediction</th>\n",
       "    </tr>\n",
       "  </thead>\n",
       "  <tbody>\n",
       "    <tr>\n",
       "      <th>114</th>\n",
       "      <td>5.1</td>\n",
       "      <td>2.4</td>\n",
       "      <td>virginica</td>\n",
       "      <td>virginica</td>\n",
       "    </tr>\n",
       "    <tr>\n",
       "      <th>62</th>\n",
       "      <td>4.0</td>\n",
       "      <td>1.0</td>\n",
       "      <td>versicolor</td>\n",
       "      <td>versicolor</td>\n",
       "    </tr>\n",
       "    <tr>\n",
       "      <th>33</th>\n",
       "      <td>1.4</td>\n",
       "      <td>0.2</td>\n",
       "      <td>setosa</td>\n",
       "      <td>setosa</td>\n",
       "    </tr>\n",
       "    <tr>\n",
       "      <th>107</th>\n",
       "      <td>6.3</td>\n",
       "      <td>1.8</td>\n",
       "      <td>virginica</td>\n",
       "      <td>virginica</td>\n",
       "    </tr>\n",
       "    <tr>\n",
       "      <th>7</th>\n",
       "      <td>1.5</td>\n",
       "      <td>0.2</td>\n",
       "      <td>setosa</td>\n",
       "      <td>setosa</td>\n",
       "    </tr>\n",
       "    <tr>\n",
       "      <th>100</th>\n",
       "      <td>6.0</td>\n",
       "      <td>2.5</td>\n",
       "      <td>virginica</td>\n",
       "      <td>virginica</td>\n",
       "    </tr>\n",
       "    <tr>\n",
       "      <th>40</th>\n",
       "      <td>1.3</td>\n",
       "      <td>0.3</td>\n",
       "      <td>setosa</td>\n",
       "      <td>setosa</td>\n",
       "    </tr>\n",
       "    <tr>\n",
       "      <th>86</th>\n",
       "      <td>4.7</td>\n",
       "      <td>1.5</td>\n",
       "      <td>versicolor</td>\n",
       "      <td>versicolor</td>\n",
       "    </tr>\n",
       "    <tr>\n",
       "      <th>76</th>\n",
       "      <td>4.8</td>\n",
       "      <td>1.4</td>\n",
       "      <td>versicolor</td>\n",
       "      <td>versicolor</td>\n",
       "    </tr>\n",
       "    <tr>\n",
       "      <th>71</th>\n",
       "      <td>4.0</td>\n",
       "      <td>1.3</td>\n",
       "      <td>versicolor</td>\n",
       "      <td>versicolor</td>\n",
       "    </tr>\n",
       "    <tr>\n",
       "      <th>134</th>\n",
       "      <td>5.6</td>\n",
       "      <td>1.4</td>\n",
       "      <td>virginica</td>\n",
       "      <td>virginica</td>\n",
       "    </tr>\n",
       "    <tr>\n",
       "      <th>51</th>\n",
       "      <td>4.5</td>\n",
       "      <td>1.5</td>\n",
       "      <td>versicolor</td>\n",
       "      <td>versicolor</td>\n",
       "    </tr>\n",
       "    <tr>\n",
       "      <th>73</th>\n",
       "      <td>4.7</td>\n",
       "      <td>1.2</td>\n",
       "      <td>versicolor</td>\n",
       "      <td>versicolor</td>\n",
       "    </tr>\n",
       "    <tr>\n",
       "      <th>54</th>\n",
       "      <td>4.6</td>\n",
       "      <td>1.5</td>\n",
       "      <td>versicolor</td>\n",
       "      <td>versicolor</td>\n",
       "    </tr>\n",
       "    <tr>\n",
       "      <th>63</th>\n",
       "      <td>4.7</td>\n",
       "      <td>1.4</td>\n",
       "      <td>versicolor</td>\n",
       "      <td>versicolor</td>\n",
       "    </tr>\n",
       "  </tbody>\n",
       "</table>\n",
       "</div>"
      ],
      "text/plain": [
       "     petal_length  petal_width     species knn prediction\n",
       "114           5.1          2.4   virginica      virginica\n",
       "62            4.0          1.0  versicolor     versicolor\n",
       "33            1.4          0.2      setosa         setosa\n",
       "107           6.3          1.8   virginica      virginica\n",
       "7             1.5          0.2      setosa         setosa\n",
       "100           6.0          2.5   virginica      virginica\n",
       "40            1.3          0.3      setosa         setosa\n",
       "86            4.7          1.5  versicolor     versicolor\n",
       "76            4.8          1.4  versicolor     versicolor\n",
       "71            4.0          1.3  versicolor     versicolor\n",
       "134           5.6          1.4   virginica      virginica\n",
       "51            4.5          1.5  versicolor     versicolor\n",
       "73            4.7          1.2  versicolor     versicolor\n",
       "54            4.6          1.5  versicolor     versicolor\n",
       "63            4.7          1.4  versicolor     versicolor"
      ]
     },
     "execution_count": 14,
     "metadata": {},
     "output_type": "execute_result"
    }
   ],
   "source": [
    "knn_eval = pd.DataFrame({\n",
    "    \"petal_length\": xtest['petal_length'],\n",
    "    \"petal_width\": xtest['petal_width'],\n",
    "    \"species\": ytest,\n",
    "    \"knn prediction\": preds\n",
    "})\n",
    "\n",
    "knn_eval"
   ]
  },
  {
   "cell_type": "markdown",
   "id": "6aa04066",
   "metadata": {},
   "source": [
    "NOTE: Just for fun, we can also compare this to the nearest neighbors that we found manually for our sample data point above.\n",
    "\n",
    "The `KNeighborsClassifier` `kneighbors` function tells you the closest neighbors in the training set to an individual item."
   ]
  },
  {
   "cell_type": "code",
   "execution_count": 15,
   "id": "dc34aed5",
   "metadata": {},
   "outputs": [
    {
     "data": {
      "text/plain": [
       "array([[ 43, 117,  59]])"
      ]
     },
     "execution_count": 15,
     "metadata": {},
     "output_type": "execute_result"
    }
   ],
   "source": [
    "x_sample = np.array(xtest.iloc[8, :]).reshape(1, 2)\n",
    "\n",
    "dist, items = knn.kneighbors(X = x_sample, n_neighbors = k)\n",
    "\n",
    "dist\n",
    "items"
   ]
  },
  {
   "cell_type": "markdown",
   "id": "a0f1a4df",
   "metadata": {},
   "source": [
    "The first array in the return tuple is the distances of the closest items and the second is their indices in the original training data."
   ]
  },
  {
   "cell_type": "markdown",
   "id": "8d879b4f",
   "metadata": {},
   "source": [
    "### Your turn! \n",
    "\n",
    "Use the `sklearn` `KNeighborsClassifier` to classify a set of held out test data.\n",
    "\n",
    "But this time, use `sepal_length` and `sepal_width` as the **features** instead of *petal length* and *petal width* as we did above. This makes things a little more interesting..."
   ]
  },
  {
   "cell_type": "code",
   "execution_count": 16,
   "id": "5191977b",
   "metadata": {},
   "outputs": [
    {
     "data": {
      "image/png": "[encoded data removed]",
      "text/plain": [
       "<Figure size 432x288 with 1 Axes>"
      ]
     },
     "metadata": {
      "filenames": {
       "image/png": "/Users/erikbrockbank/web/teaching/ucsd-css-002-sp2022.github.io/_build/jupyter_execute/lectures/sp22/Lecture_17-pre_43_0.png"
      },
      "needs_background": "light"
     },
     "output_type": "display_data"
    }
   ],
   "source": [
    "sns.scatterplot(data = iris, x = \"sepal_length\", y = \"sepal_width\", hue = \"species\", alpha = 0.5)\n",
    "plt.show()"
   ]
  },
  {
   "cell_type": "code",
   "execution_count": 17,
   "id": "7910b099",
   "metadata": {},
   "outputs": [],
   "source": [
    "### YOUR CODE HERE\n",
    "\n",
    "\n",
    "\n"
   ]
  },
  {
   "cell_type": "markdown",
   "id": "3dc8b3bd",
   "metadata": {},
   "source": [
    "## Closing thoughts\n",
    "\n",
    "In the above, we showed how the $k$-nearest neighbors classifier generates predictions for classifying novel data.\n",
    "\n",
    "Next week, we'll look at other solutions to this problem and how to compare them.\n",
    "\n",
    "But first, we need to cover an important question for *any* classifier: how do we evaluate the output to determine whether it did a good job (or, e.g., choose the best $k$ value)?\n",
    "\n",
    "This is what we'll discuss on Friday!"
   ]
  }
 ],
 "metadata": {
  "interpreter": {
   "hash": "e774977668b7c0ae8309835a5187aa7fbf7669e7d0bb59755bc63e573643edcd"
  },
  "kernelspec": {
   "display_name": "Python 3 (clean)",
   "language": "python",
   "name": "python3"
  },
  "language_info": {
   "codemirror_mode": {
    "name": "ipython",
    "version": 3
   },
   "file_extension": ".py",
   "mimetype": "text/x-python",
   "name": "python",
   "nbconvert_exporter": "python",
   "pygments_lexer": "ipython3",
   "version": "3.8.3"
  }
 },
 "nbformat": 4,
 "nbformat_minor": 5
}