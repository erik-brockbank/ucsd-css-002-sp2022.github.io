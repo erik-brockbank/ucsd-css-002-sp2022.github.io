{
 "cells": [
  {
   "cell_type": "markdown",
   "id": "62c7e6f5",
   "metadata": {},
   "source": [
    "# Lecture 27 (5/27/2022)"
   ]
  },
  {
   "cell_type": "markdown",
   "id": "a1ea5e3d",
   "metadata": {},
   "source": [
    "**Announcements**\n",
    "- Lab 9 due today! Please make sure to fill it out so Purva and I can give feedback on your final project plans! \n"
   ]
  },
  {
   "cell_type": "markdown",
   "id": "cac90fc6",
   "metadata": {},
   "source": [
    "*Last time we covered:*\n",
    "- Principal Components Analysis: interpretation + evaluation\n",
    "\n",
    "**Today's agenda:**\n",
    "- Alternative dimensionality reduction solutions\n"
   ]
  },
  {
   "cell_type": "code",
   "execution_count": 1,
   "id": "aa6ebecc",
   "metadata": {},
   "outputs": [],
   "source": [
    "import numpy as np\n",
    "import pandas as pd\n",
    "import matplotlib.pyplot as plt\n",
    "import seaborn as sns"
   ]
  },
  {
   "cell_type": "markdown",
   "id": "c8e3d210",
   "metadata": {},
   "source": [
    "# Dimensionality Reduction: Other Solutions\n",
    "\n",
    "In class on Monday and Wednesday, we talked about the general problem of dimensionality reduction, and then focused on the most popular solution to this problem: Principal Components Analysis.\n",
    "\n",
    "PCA will work for many different kinds of dimensionality reduction. However, there are a number of other popular solutions out there, so it's worth knowing how to think about alternatives. \n",
    "\n",
    "In this lecture, we'll review the broader space of dimensionality reduction algorithms.\n"
   ]
  },
  {
   "cell_type": "markdown",
   "id": "68926ee6",
   "metadata": {},
   "source": [
    "## Solution space\n",
    "\n",
    "On Monday, we discussed the *intuitiion* behind dimensionality reduction, which is just to display and model our data in fewer dimensions without losing the gist of the pattern or structure in it. \n",
    "\n",
    "You can think of solutions to this problem as either *getting rid of less useful dimensions* or *creating new (more efficient) dimensions* that combine existing ones. \n",
    "\n",
    "![overview](img/dim_reduction_overview.png)\n",
    "\n",
    "This graphic comes from a super helpful blog post [here](https://medium.com/p/dcb9500d388b) which I highly recommend! \n",
    "\n",
    "\n",
    "### Key take-aways\n",
    "\n",
    "1. **Backward elimination** and **forward selection** essentially do the same thing just in opposite directions: you provide a classification or regression model with a full set of dimensions and then it either eliminates predictors (backward elimination) or starts with a single predictor and adds them one by one (forward selection) to find the best performing low-dimensional representation.\n",
    "2. **Random forests** are a solution for both classification and regression. However, the sklearn `RandomForestClassifer` ([here](https://scikit-learn.org/stable/modules/generated/sklearn.ensemble.RandomForestClassifier.html)) also has a `feature_importances_` attribute that can be used to identify the *most important* features.\n",
    "3. **PCA** and **FA** (*Factor Analysis*) are among the two most popular of the *linear* methods above, but there are others not shown here as well!\n",
    "4. **MDS** (Multi-dimensional scaling) and **t-SNE** are among the two most popular *non-linear* methods above, but once again there are others not shown here.\n",
    " \n",
    "The *linear* methods above are available in the sklearn `decomposition` module [here](https://scikit-learn.org/stable/modules/classes.html#module-sklearn.decomposition) (LDA is separately available [here](https://scikit-learn.org/stable/modules/classes.html#module-sklearn.discriminant_analysis)). The *non-linear* methods are available in the `manifold` module [here](https://scikit-learn.org/stable/modules/classes.html#module-sklearn.manifold) (except kernal PCA, which is available with the other linear methods)."
   ]
  },
  {
   "cell_type": "markdown",
   "id": "7ae33303",
   "metadata": {},
   "source": [
    "## Factor Analysis: solving a key problem with PCA\n",
    "\n",
    "Many of the machine learning techniques we've discussed this quarter start with a pretty simple *intuition* about the problem they're trying to solve (for example, $k$-means clustering produces an algorithmic and formal structure for the intuition that similar items should be *closer together*). \n",
    "\n",
    "Factor Analysis starts with a simple intuition about dimensionality reduction: **when we measure something in high-dimensional space, we're often just measuring a handful of *latent variables* in a few different ways.** We can give our data a lower-dimensional representation by identifying those latent variables and transforming our data to latent variable measurements. \n",
    "- Example: voter surveys or psychological inventories, where many questions try to get at a few latent dispositions or tendencies\n",
    "\n",
    "Below is a schematic representation of PCA versus factor analysis to help illustrate this ([source](https://www.theanalysisfactor.com/the-fundamental-difference-between-principal-component-analysis-and-factor-analysis/)):\n",
    "\n",
    "\n",
    "### PCA\n",
    "\n",
    "In the schematic below, each $Y_i$ is one of our observed variables (e.g. pokemon \"Speed\"). The $w_i$ values are weights mapping onto a principal component $C$.\n",
    "\n",
    "![pca_schematic](img/pca_schematic.png)\n",
    "\n",
    "### Factor Analysis\n",
    "\n",
    "In the schematic below, each $Y_i$ is one of our observed variables (e.g. pokemon \"Speed\"). The $b_i$ values are weights used to map *from* a latent variable or factor $F$ to our observed variables. The $u_i$ values are the residuals or errors in our mapping from latent variable to observed variable.\n",
    "\n",
    "![fa_schematic](img/fa_schematic.png)\n",
    "\n",
    "Formally, with PCA, we determine our principal components (C above) such that:\n",
    "\n",
    "$C = \\sum_{i=1}^{N} w_i x_i$ (I've replaced $Y_i$ with $x_i$ here)\n",
    "\n",
    "For FA, we estimate each *latent factor* F such that:\n",
    "\n",
    "$x_i = b_i F + \\epsilon_i$ (I've replaced $Y_i$ with $x_i$ and $u_i$ with $\\epsilon_i$ here)\n",
    "\n",
    "Another way to think about this difference: in PCA, each principal component is a linear combination of observed variables; in FA, observed variables are linear combinations of *latent variables* or factors. In this way, FA is sometimes described as a *modeling* approach because it's trying to learn something useful about our data.\n",
    "\n",
    "\n",
    "\n",
    "**Interpretability**\n",
    "\n",
    "One key difference between factor analysis and PCA is that with PCA, there was no guarantee that our principal components would be *interpretable*. They just satisfy a goal of maximizing the amount of variance captured in our original data. \n",
    "\n",
    "In contrast, **one of the explicit goals of factor analysis is to determine *interpretable* factors.** The *latent variables* being estimated by the model are assumed to be interpretable constructs like \"verbal intelligence\" or [Big Five](https://en.wikipedia.org/wiki/Big_Five_personality_traits) personality traits."
   ]
  },
  {
   "cell_type": "markdown",
   "id": "4fd53903",
   "metadata": {},
   "source": [
    "## Factor Analysis in python\n",
    "\n",
    "Let's compute a factor analysis using the same pokemon data that we looked at on Wednesday. \n",
    "\n",
    "Here, we assume that our *latent factors* might be something like \"offensive skill\" that combines `Attack` and `Speed` variables, and *defensive skill* combining `Defense` and `Sp. Defense` for example.\n",
    "\n",
    "Let's take a look to find out:"
   ]
  },
  {
   "cell_type": "code",
   "execution_count": 2,
   "id": "1dafd813",
   "metadata": {},
   "outputs": [
    {
     "data": {
      "text/html": [
       "<div>\n",
       "<style scoped>\n",
       "    .dataframe tbody tr th:only-of-type {\n",
       "        vertical-align: middle;\n",
       "    }\n",
       "\n",
       "    .dataframe tbody tr th {\n",
       "        vertical-align: top;\n",
       "    }\n",
       "\n",
       "    .dataframe thead th {\n",
       "        text-align: right;\n",
       "    }\n",
       "</style>\n",
       "<table border=\"1\" class=\"dataframe\">\n",
       "  <thead>\n",
       "    <tr style=\"text-align: right;\">\n",
       "      <th></th>\n",
       "      <th>HP</th>\n",
       "      <th>Attack</th>\n",
       "      <th>Defense</th>\n",
       "      <th>Sp. Atk</th>\n",
       "      <th>Sp. Def</th>\n",
       "      <th>Speed</th>\n",
       "    </tr>\n",
       "  </thead>\n",
       "  <tbody>\n",
       "    <tr>\n",
       "      <th>0</th>\n",
       "      <td>-0.950626</td>\n",
       "      <td>-0.924906</td>\n",
       "      <td>-0.797154</td>\n",
       "      <td>-0.239130</td>\n",
       "      <td>-0.248189</td>\n",
       "      <td>-0.801503</td>\n",
       "    </tr>\n",
       "    <tr>\n",
       "      <th>1</th>\n",
       "      <td>-0.362822</td>\n",
       "      <td>-0.524130</td>\n",
       "      <td>-0.347917</td>\n",
       "      <td>0.219560</td>\n",
       "      <td>0.291156</td>\n",
       "      <td>-0.285015</td>\n",
       "    </tr>\n",
       "    <tr>\n",
       "      <th>2</th>\n",
       "      <td>0.420917</td>\n",
       "      <td>0.092448</td>\n",
       "      <td>0.293849</td>\n",
       "      <td>0.831146</td>\n",
       "      <td>1.010283</td>\n",
       "      <td>0.403635</td>\n",
       "    </tr>\n",
       "    <tr>\n",
       "      <th>3</th>\n",
       "      <td>0.420917</td>\n",
       "      <td>0.647369</td>\n",
       "      <td>1.577381</td>\n",
       "      <td>1.503891</td>\n",
       "      <td>1.729409</td>\n",
       "      <td>0.403635</td>\n",
       "    </tr>\n",
       "    <tr>\n",
       "      <th>4</th>\n",
       "      <td>-1.185748</td>\n",
       "      <td>-0.832419</td>\n",
       "      <td>-0.989683</td>\n",
       "      <td>-0.392027</td>\n",
       "      <td>-0.787533</td>\n",
       "      <td>-0.112853</td>\n",
       "    </tr>\n",
       "    <tr>\n",
       "      <th>...</th>\n",
       "      <td>...</td>\n",
       "      <td>...</td>\n",
       "      <td>...</td>\n",
       "      <td>...</td>\n",
       "      <td>...</td>\n",
       "      <td>...</td>\n",
       "    </tr>\n",
       "    <tr>\n",
       "      <th>795</th>\n",
       "      <td>-0.754692</td>\n",
       "      <td>0.647369</td>\n",
       "      <td>2.443765</td>\n",
       "      <td>0.831146</td>\n",
       "      <td>2.808099</td>\n",
       "      <td>-0.629341</td>\n",
       "    </tr>\n",
       "    <tr>\n",
       "      <th>796</th>\n",
       "      <td>-0.754692</td>\n",
       "      <td>2.497104</td>\n",
       "      <td>1.160233</td>\n",
       "      <td>2.665905</td>\n",
       "      <td>1.369846</td>\n",
       "      <td>1.436611</td>\n",
       "    </tr>\n",
       "    <tr>\n",
       "      <th>797</th>\n",
       "      <td>0.420917</td>\n",
       "      <td>0.955658</td>\n",
       "      <td>-0.444182</td>\n",
       "      <td>2.360112</td>\n",
       "      <td>2.088973</td>\n",
       "      <td>0.059310</td>\n",
       "    </tr>\n",
       "    <tr>\n",
       "      <th>798</th>\n",
       "      <td>0.420917</td>\n",
       "      <td>2.497104</td>\n",
       "      <td>-0.444182</td>\n",
       "      <td>2.971699</td>\n",
       "      <td>2.088973</td>\n",
       "      <td>0.403635</td>\n",
       "    </tr>\n",
       "    <tr>\n",
       "      <th>799</th>\n",
       "      <td>0.420917</td>\n",
       "      <td>0.955658</td>\n",
       "      <td>1.481116</td>\n",
       "      <td>1.748526</td>\n",
       "      <td>0.650720</td>\n",
       "      <td>0.059310</td>\n",
       "    </tr>\n",
       "  </tbody>\n",
       "</table>\n",
       "<p>800 rows × 6 columns</p>\n",
       "</div>"
      ],
      "text/plain": [
       "           HP    Attack   Defense   Sp. Atk   Sp. Def     Speed\n",
       "0   -0.950626 -0.924906 -0.797154 -0.239130 -0.248189 -0.801503\n",
       "1   -0.362822 -0.524130 -0.347917  0.219560  0.291156 -0.285015\n",
       "2    0.420917  0.092448  0.293849  0.831146  1.010283  0.403635\n",
       "3    0.420917  0.647369  1.577381  1.503891  1.729409  0.403635\n",
       "4   -1.185748 -0.832419 -0.989683 -0.392027 -0.787533 -0.112853\n",
       "..        ...       ...       ...       ...       ...       ...\n",
       "795 -0.754692  0.647369  2.443765  0.831146  2.808099 -0.629341\n",
       "796 -0.754692  2.497104  1.160233  2.665905  1.369846  1.436611\n",
       "797  0.420917  0.955658 -0.444182  2.360112  2.088973  0.059310\n",
       "798  0.420917  2.497104 -0.444182  2.971699  2.088973  0.403635\n",
       "799  0.420917  0.955658  1.481116  1.748526  0.650720  0.059310\n",
       "\n",
       "[800 rows x 6 columns]"
      ]
     },
     "execution_count": 2,
     "metadata": {},
     "output_type": "execute_result"
    }
   ],
   "source": [
    "pokemon = pd.read_csv(\"https://raw.githubusercontent.com/erik-brockbank/css2_sp22-public/main/Datasets/Pokemon.csv\")\n",
    "pokemon\n",
    "\n",
    "from sklearn.preprocessing import StandardScaler\n",
    "\n",
    "cols = ['HP', 'Attack', 'Defense', 'Sp. Atk', 'Sp. Def', 'Speed']\n",
    "\n",
    "subset = pokemon.loc[:, cols]\n",
    "subset_scaled = StandardScaler().fit_transform(subset)\n",
    "subset_scaled = pd.DataFrame(subset_scaled, columns = subset.columns)\n",
    "subset_scaled\n"
   ]
  },
  {
   "cell_type": "markdown",
   "id": "252d9ff3",
   "metadata": {},
   "source": [
    "A good first test is to see how our variables correlate. \n",
    "\n",
    "That gives us an initial indication of what we might expect our latent factors to be. \n",
    "\n",
    "*Why is this the case?*\n",
    "\n",
    "..."
   ]
  },
  {
   "cell_type": "code",
   "execution_count": 3,
   "id": "6c08cc63",
   "metadata": {},
   "outputs": [
    {
     "data": {
      "text/html": [
       "<div>\n",
       "<style scoped>\n",
       "    .dataframe tbody tr th:only-of-type {\n",
       "        vertical-align: middle;\n",
       "    }\n",
       "\n",
       "    .dataframe tbody tr th {\n",
       "        vertical-align: top;\n",
       "    }\n",
       "\n",
       "    .dataframe thead th {\n",
       "        text-align: right;\n",
       "    }\n",
       "</style>\n",
       "<table border=\"1\" class=\"dataframe\">\n",
       "  <thead>\n",
       "    <tr style=\"text-align: right;\">\n",
       "      <th></th>\n",
       "      <th>HP</th>\n",
       "      <th>Attack</th>\n",
       "      <th>Defense</th>\n",
       "      <th>Sp. Atk</th>\n",
       "      <th>Sp. Def</th>\n",
       "      <th>Speed</th>\n",
       "    </tr>\n",
       "  </thead>\n",
       "  <tbody>\n",
       "    <tr>\n",
       "      <th>HP</th>\n",
       "      <td>1.000000</td>\n",
       "      <td>0.422386</td>\n",
       "      <td>0.239622</td>\n",
       "      <td>0.362380</td>\n",
       "      <td>0.378718</td>\n",
       "      <td>0.175952</td>\n",
       "    </tr>\n",
       "    <tr>\n",
       "      <th>Attack</th>\n",
       "      <td>0.422386</td>\n",
       "      <td>1.000000</td>\n",
       "      <td>0.438687</td>\n",
       "      <td>0.396362</td>\n",
       "      <td>0.263990</td>\n",
       "      <td>0.381240</td>\n",
       "    </tr>\n",
       "    <tr>\n",
       "      <th>Defense</th>\n",
       "      <td>0.239622</td>\n",
       "      <td>0.438687</td>\n",
       "      <td>1.000000</td>\n",
       "      <td>0.223549</td>\n",
       "      <td>0.510747</td>\n",
       "      <td>0.015227</td>\n",
       "    </tr>\n",
       "    <tr>\n",
       "      <th>Sp. Atk</th>\n",
       "      <td>0.362380</td>\n",
       "      <td>0.396362</td>\n",
       "      <td>0.223549</td>\n",
       "      <td>1.000000</td>\n",
       "      <td>0.506121</td>\n",
       "      <td>0.473018</td>\n",
       "    </tr>\n",
       "    <tr>\n",
       "      <th>Sp. Def</th>\n",
       "      <td>0.378718</td>\n",
       "      <td>0.263990</td>\n",
       "      <td>0.510747</td>\n",
       "      <td>0.506121</td>\n",
       "      <td>1.000000</td>\n",
       "      <td>0.259133</td>\n",
       "    </tr>\n",
       "    <tr>\n",
       "      <th>Speed</th>\n",
       "      <td>0.175952</td>\n",
       "      <td>0.381240</td>\n",
       "      <td>0.015227</td>\n",
       "      <td>0.473018</td>\n",
       "      <td>0.259133</td>\n",
       "      <td>1.000000</td>\n",
       "    </tr>\n",
       "  </tbody>\n",
       "</table>\n",
       "</div>"
      ],
      "text/plain": [
       "               HP    Attack   Defense   Sp. Atk   Sp. Def     Speed\n",
       "HP       1.000000  0.422386  0.239622  0.362380  0.378718  0.175952\n",
       "Attack   0.422386  1.000000  0.438687  0.396362  0.263990  0.381240\n",
       "Defense  0.239622  0.438687  1.000000  0.223549  0.510747  0.015227\n",
       "Sp. Atk  0.362380  0.396362  0.223549  1.000000  0.506121  0.473018\n",
       "Sp. Def  0.378718  0.263990  0.510747  0.506121  1.000000  0.259133\n",
       "Speed    0.175952  0.381240  0.015227  0.473018  0.259133  1.000000"
      ]
     },
     "execution_count": 3,
     "metadata": {},
     "output_type": "execute_result"
    },
    {
     "data": {
      "image/png": "[encoded data removed]",
      "text/plain": [
       "<Figure size 432x288 with 2 Axes>"
      ]
     },
     "metadata": {
      "filenames": {
       "image/png": "/Users/erikbrockbank/web/teaching/ucsd-css-002-sp2022.github.io/_build/jupyter_execute/lectures/sp22/Lecture_27-pre_10_1.png"
      },
      "needs_background": "light"
     },
     "output_type": "display_data"
    }
   ],
   "source": [
    "# Look at correlations of our high-dimensional variables\n",
    "c = subset_scaled.corr()\n",
    "sns.heatmap(c)\n",
    "\n",
    "c\n"
   ]
  },
  {
   "cell_type": "markdown",
   "id": "efc24951",
   "metadata": {},
   "source": [
    "*Is this what we expected?*\n",
    "\n",
    "Not exactly. Let's see what our FA model estimates as latent factors. \n",
    "\n",
    "There are two solutions for doing this. \n",
    "\n",
    "The sklearn library has a `FactorAnalysis` class [here](https://scikit-learn.org/stable/modules/generated/sklearn.decomposition.FactorAnalysis.html).\n",
    "- The advantage to this is that it functions a lot like other sklearn models we've used.\n",
    "- The disadvantage is that it seems to lack a lot of useful functions for interpreting factor analyses.\n",
    "\n",
    "Meanwhile, the `FactorAnalyzer` class [here](https://factor-analyzer.readthedocs.io/en/latest/) seems to be more commonly used in analyses and tutorials people have posted online and has more functionality."
   ]
  },
  {
   "cell_type": "code",
   "execution_count": 4,
   "id": "9935fe05",
   "metadata": {},
   "outputs": [],
   "source": [
    "# !pip install factor_analyzer\n",
    "from factor_analyzer import FactorAnalyzer\n",
    "from sklearn.decomposition import FactorAnalysis\n"
   ]
  },
  {
   "cell_type": "markdown",
   "id": "268dae52",
   "metadata": {},
   "source": [
    "### Selecting the number of factors\n",
    "\n",
    "Just like with PCA, our first step with factor analysis is to choose the number of factors. \n",
    "\n",
    "Here, people often use the *eigenvalues of each latent factor* to choose how many factors to include. The eigenvalue of the factor essentially indicates how much variance each factor is explaining relative to the underlying variables ([source](https://towardsdatascience.com/factor-analysis-a-complete-tutorial-1b7621890e42)).\n",
    "\n",
    "Any value greater than 1 means it is explaining more than a single individual variable, which means it's probably helpful. "
   ]
  },
  {
   "cell_type": "code",
   "execution_count": 5,
   "id": "b5f8e7f7",
   "metadata": {},
   "outputs": [
    {
     "data": {
      "image/png": "[encoded data removed]",
      "text/plain": [
       "<Figure size 432x288 with 1 Axes>"
      ]
     },
     "metadata": {
      "filenames": {
       "image/png": "/Users/erikbrockbank/web/teaching/ucsd-css-002-sp2022.github.io/_build/jupyter_execute/lectures/sp22/Lecture_27-pre_14_0.png"
      },
      "needs_background": "light"
     },
     "output_type": "display_data"
    }
   ],
   "source": [
    "fa = FactorAnalyzer()\n",
    "fa.fit(subset_scaled, len(cols))\n",
    "\n",
    "ev, v = fa.get_eigenvalues()\n",
    "\n",
    "sns.lineplot(x = np.arange(1, len(cols)+1), y = ev)\n",
    "plt.axhline(1, c = \"k\", ls = \":\")\n",
    "plt.ylabel(\"Factor eigenvalue\")\n",
    "plt.xlabel(\"Factor\")\n",
    "plt.show()"
   ]
  },
  {
   "cell_type": "markdown",
   "id": "be11202d",
   "metadata": {},
   "source": [
    "Based on this, it looks like two latent factors is an appropriate number!\n",
    "\n",
    "Let's fit a factor analysis model with two latent factors:"
   ]
  },
  {
   "cell_type": "code",
   "execution_count": 6,
   "id": "4094d642",
   "metadata": {},
   "outputs": [
    {
     "data": {
      "text/plain": [
       "FactorAnalyzer(n_factors=2, rotation_kwargs={})"
      ]
     },
     "execution_count": 6,
     "metadata": {},
     "output_type": "execute_result"
    }
   ],
   "source": [
    "fa = FactorAnalyzer(2)\n",
    "fa.fit(subset_scaled)"
   ]
  },
  {
   "cell_type": "markdown",
   "id": "aa47967c",
   "metadata": {},
   "source": [
    "The FactorAnalyzer class exports a lot of functionality!"
   ]
  },
  {
   "cell_type": "code",
   "execution_count": 7,
   "id": "de38653a",
   "metadata": {},
   "outputs": [
    {
     "data": {
      "text/plain": [
       "['__class__',\n",
       " '__delattr__',\n",
       " '__dict__',\n",
       " '__dir__',\n",
       " '__doc__',\n",
       " '__eq__',\n",
       " '__format__',\n",
       " '__ge__',\n",
       " '__getattribute__',\n",
       " '__getstate__',\n",
       " '__gt__',\n",
       " '__hash__',\n",
       " '__init__',\n",
       " '__init_subclass__',\n",
       " '__le__',\n",
       " '__lt__',\n",
       " '__module__',\n",
       " '__ne__',\n",
       " '__new__',\n",
       " '__reduce__',\n",
       " '__reduce_ex__',\n",
       " '__repr__',\n",
       " '__setattr__',\n",
       " '__setstate__',\n",
       " '__sizeof__',\n",
       " '__str__',\n",
       " '__subclasshook__',\n",
       " '__weakref__',\n",
       " '_arg_checker',\n",
       " '_check_n_features',\n",
       " '_fit_factor_analysis',\n",
       " '_fit_ml_objective',\n",
       " '_fit_principal',\n",
       " '_fit_uls_objective',\n",
       " '_get_factor_variance',\n",
       " '_get_param_names',\n",
       " '_get_tags',\n",
       " '_more_tags',\n",
       " '_normalize_ml',\n",
       " '_normalize_uls',\n",
       " '_repr_html_',\n",
       " '_repr_html_inner',\n",
       " '_repr_mimebundle_',\n",
       " '_validate_data',\n",
       " 'bounds',\n",
       " 'corr_',\n",
       " 'fit',\n",
       " 'fit_transform',\n",
       " 'get_communalities',\n",
       " 'get_eigenvalues',\n",
       " 'get_factor_variance',\n",
       " 'get_params',\n",
       " 'get_uniquenesses',\n",
       " 'impute',\n",
       " 'is_corr_matrix',\n",
       " 'loadings_',\n",
       " 'mean_',\n",
       " 'method',\n",
       " 'n_factors',\n",
       " 'phi_',\n",
       " 'rotation',\n",
       " 'rotation_kwargs',\n",
       " 'rotation_matrix_',\n",
       " 'set_params',\n",
       " 'std_',\n",
       " 'structure_',\n",
       " 'svd_method',\n",
       " 'transform',\n",
       " 'use_smc',\n",
       " 'weights_']"
      ]
     },
     "execution_count": 7,
     "metadata": {},
     "output_type": "execute_result"
    }
   ],
   "source": [
    "dir(fa)"
   ]
  },
  {
   "cell_type": "markdown",
   "id": "4251303b",
   "metadata": {},
   "source": [
    "Now, let's look at the *loadings* for each factor. \n",
    "\n",
    "This tells us how strong the relationship is between each observed variable and our latent variables:"
   ]
  },
  {
   "cell_type": "code",
   "execution_count": 8,
   "id": "4f0dc35d",
   "metadata": {},
   "outputs": [
    {
     "data": {
      "image/png": "[encoded data removed]",
      "text/plain": [
       "<Figure size 432x288 with 1 Axes>"
      ]
     },
     "metadata": {
      "filenames": {
       "image/png": "/Users/erikbrockbank/web/teaching/ucsd-css-002-sp2022.github.io/_build/jupyter_execute/lectures/sp22/Lecture_27-pre_20_0.png"
      },
      "needs_background": "light"
     },
     "output_type": "display_data"
    },
    {
     "data": {
      "image/png": "[encoded data removed]",
      "text/plain": [
       "<Figure size 432x288 with 1 Axes>"
      ]
     },
     "metadata": {
      "filenames": {
       "image/png": "/Users/erikbrockbank/web/teaching/ucsd-css-002-sp2022.github.io/_build/jupyter_execute/lectures/sp22/Lecture_27-pre_20_1.png"
      },
      "needs_background": "light"
     },
     "output_type": "display_data"
    },
    {
     "data": {
      "text/plain": [
       "array([[ 0.40860905,  0.16261274],\n",
       "       [ 0.44318863,  0.24865551],\n",
       "       [-0.27736748,  1.12755493],\n",
       "       [ 0.81237948, -0.05022259],\n",
       "       [ 0.36989369,  0.37097783],\n",
       "       [ 0.71462316, -0.23628463]])"
      ]
     },
     "execution_count": 8,
     "metadata": {},
     "output_type": "execute_result"
    }
   ],
   "source": [
    "sns.barplot(x = fa.loadings_[:, 0], y = cols)\n",
    "plt.title(\"Factor 1\")\n",
    "plt.show()\n",
    "\n",
    "sns.barplot(x = fa.loadings_[:, 1], y = cols)\n",
    "plt.title(\"Factor 2\")\n",
    "plt.show()\n",
    "\n",
    "fa.loadings_"
   ]
  },
  {
   "cell_type": "markdown",
   "id": "7ee7126a",
   "metadata": {},
   "source": [
    "Just for good measure, here's how we do the same thing with the sklearn package.\n",
    "\n",
    "Note, for some reason, the factor loadings are essentially swapped with the sklearn version, not totally sure why.\n",
    "\n",
    "However, the results *across* the two factors are very similar."
   ]
  },
  {
   "cell_type": "code",
   "execution_count": 9,
   "id": "a2ff4ebc",
   "metadata": {},
   "outputs": [
    {
     "data": {
      "text/plain": [
       "FactorAnalysis(n_components=2)"
      ]
     },
     "execution_count": 9,
     "metadata": {},
     "output_type": "execute_result"
    }
   ],
   "source": [
    "fa_sk = FactorAnalysis(n_components = 2, \n",
    "                       random_state = 0\n",
    "                      )\n",
    "fa_sk.fit(X = subset_scaled)"
   ]
  },
  {
   "cell_type": "code",
   "execution_count": 10,
   "id": "1952d1dd",
   "metadata": {},
   "outputs": [
    {
     "data": {
      "text/plain": [
       "array([[ 0.28805287,  0.47741779,  0.97067396,  0.29453491,  0.55673398,\n",
       "         0.06883294],\n",
       "       [ 0.40088512,  0.37844834, -0.08221658,  0.74945399,  0.40043021,\n",
       "         0.60960599]])"
      ]
     },
     "execution_count": 10,
     "metadata": {},
     "output_type": "execute_result"
    }
   ],
   "source": [
    "fa_sk.components_\n",
    "# fa.components_[0]"
   ]
  },
  {
   "cell_type": "code",
   "execution_count": 11,
   "id": "361dc339",
   "metadata": {},
   "outputs": [
    {
     "data": {
      "image/png": "[encoded data removed]",
      "text/plain": [
       "<Figure size 432x288 with 1 Axes>"
      ]
     },
     "metadata": {
      "filenames": {
       "image/png": "/Users/erikbrockbank/web/teaching/ucsd-css-002-sp2022.github.io/_build/jupyter_execute/lectures/sp22/Lecture_27-pre_24_0.png"
      },
      "needs_background": "light"
     },
     "output_type": "display_data"
    },
    {
     "data": {
      "image/png": "[encoded data removed]",
      "text/plain": [
       "<Figure size 432x288 with 1 Axes>"
      ]
     },
     "metadata": {
      "filenames": {
       "image/png": "/Users/erikbrockbank/web/teaching/ucsd-css-002-sp2022.github.io/_build/jupyter_execute/lectures/sp22/Lecture_27-pre_24_1.png"
      },
      "needs_background": "light"
     },
     "output_type": "display_data"
    }
   ],
   "source": [
    "sns.barplot(x = fa_sk.components_[0], y = cols)\n",
    "plt.title(\"FA Component 1\")\n",
    "plt.show()\n",
    "\n",
    "sns.barplot(x = fa_sk.components_[1], y = cols)\n",
    "plt.title(\"FA Component 2\")\n",
    "plt.show()"
   ]
  },
  {
   "cell_type": "markdown",
   "id": "5fd768ac",
   "metadata": {},
   "source": [
    "### Rotations\n",
    "\n",
    "One of the neat tools available with factor analysis is computing \"rotations\" of the factors.\n",
    "\n",
    "We're not going to get into the statistics of this, but instead focus on the *goal* of rotations, which is to make the factors more interpretable. \n",
    "\n",
    "A rotation tries to make it so that each factor has loadings that are either close to 0 or very high and across factors, different original variables have 0 or high values.\n",
    "\n",
    "Here's what it looks like with our pokemon data:"
   ]
  },
  {
   "cell_type": "code",
   "execution_count": 12,
   "id": "cc930d12",
   "metadata": {},
   "outputs": [
    {
     "data": {
      "image/png": "[encoded data removed]",
      "text/plain": [
       "<Figure size 432x288 with 1 Axes>"
      ]
     },
     "metadata": {
      "filenames": {
       "image/png": "/Users/erikbrockbank/web/teaching/ucsd-css-002-sp2022.github.io/_build/jupyter_execute/lectures/sp22/Lecture_27-pre_26_0.png"
      },
      "needs_background": "light"
     },
     "output_type": "display_data"
    },
    {
     "data": {
      "image/png": "[encoded data removed]",
      "text/plain": [
       "<Figure size 432x288 with 1 Axes>"
      ]
     },
     "metadata": {
      "filenames": {
       "image/png": "/Users/erikbrockbank/web/teaching/ucsd-css-002-sp2022.github.io/_build/jupyter_execute/lectures/sp22/Lecture_27-pre_26_1.png"
      },
      "needs_background": "light"
     },
     "output_type": "display_data"
    },
    {
     "data": {
      "text/plain": [
       "array([[ 0.43711331,  0.27487173],\n",
       "       [ 0.4946431 ,  0.36743549],\n",
       "       [ 0.05503063,  1.00032837],\n",
       "       [ 0.76291798,  0.18836155],\n",
       "       [ 0.4592798 ,  0.46337713],\n",
       "       [ 0.61652876, -0.01849209]])"
      ]
     },
     "execution_count": 12,
     "metadata": {},
     "output_type": "execute_result"
    }
   ],
   "source": [
    "fa = FactorAnalyzer(n_factors = 2, rotation = 'varimax')\n",
    "fa.fit(subset_scaled)\n",
    "\n",
    "sns.barplot(x = fa.loadings_[:, 0], y = cols)\n",
    "plt.title(\"Factor 1\")\n",
    "plt.show()\n",
    "\n",
    "sns.barplot(x = fa.loadings_[:, 1], y = cols)\n",
    "plt.title(\"Factor 2\")\n",
    "plt.show()\n",
    "\n",
    "fa.loadings_"
   ]
  },
  {
   "cell_type": "markdown",
   "id": "dacdfe03",
   "metadata": {},
   "source": [
    "Did it help? Not a ton.\n",
    "\n",
    "Essentially, it seems to be exaggerating the \"Defense\" versus \"everything else\" distinction.\n",
    "\n",
    "But this is kind of helpful! It tells us that the two *latent factors* in our pokemon data are a pokemon's defensive skill and a combination of its other variables that (presumably) reflect more offensive abilities.\n",
    "\n",
    "Here's how we do the same thing with the sklearn `FactorAnalysis` class:"
   ]
  },
  {
   "cell_type": "code",
   "execution_count": 13,
   "id": "cacdee10",
   "metadata": {},
   "outputs": [
    {
     "ename": "TypeError",
     "evalue": "__init__() got an unexpected keyword argument 'rotation'",
     "output_type": "error",
     "traceback": [
      "\u001b[0;31m---------------------------------------------------------------------------\u001b[0m",
      "\u001b[0;31mTypeError\u001b[0m                                 Traceback (most recent call last)",
      "\u001b[0;32m<ipython-input-13-5a096e5addcb>\u001b[0m in \u001b[0;36m<module>\u001b[0;34m\u001b[0m\n\u001b[0;32m----> 1\u001b[0;31m fa_rot = FactorAnalysis(n_components = 2, \n\u001b[0m\u001b[1;32m      2\u001b[0m                         \u001b[0mrotation\u001b[0m \u001b[0;34m=\u001b[0m \u001b[0;34m'varimax'\u001b[0m\u001b[0;34m,\u001b[0m\u001b[0;34m\u001b[0m\u001b[0;34m\u001b[0m\u001b[0m\n\u001b[1;32m      3\u001b[0m                         \u001b[0mrandom_state\u001b[0m \u001b[0;34m=\u001b[0m \u001b[0;36m0\u001b[0m\u001b[0;34m\u001b[0m\u001b[0;34m\u001b[0m\u001b[0m\n\u001b[1;32m      4\u001b[0m                        )\n\u001b[1;32m      5\u001b[0m \u001b[0mfa_rot\u001b[0m\u001b[0;34m.\u001b[0m\u001b[0mfit\u001b[0m\u001b[0;34m(\u001b[0m\u001b[0mX\u001b[0m \u001b[0;34m=\u001b[0m \u001b[0msubset_scaled\u001b[0m\u001b[0;34m)\u001b[0m\u001b[0;34m\u001b[0m\u001b[0;34m\u001b[0m\u001b[0m\n",
      "\u001b[0;32m/opt/anaconda3/lib/python3.8/site-packages/sklearn/utils/validation.py\u001b[0m in \u001b[0;36minner_f\u001b[0;34m(*args, **kwargs)\u001b[0m\n\u001b[1;32m     70\u001b[0m                           FutureWarning)\n\u001b[1;32m     71\u001b[0m         \u001b[0mkwargs\u001b[0m\u001b[0;34m.\u001b[0m\u001b[0mupdate\u001b[0m\u001b[0;34m(\u001b[0m\u001b[0;34m{\u001b[0m\u001b[0mk\u001b[0m\u001b[0;34m:\u001b[0m \u001b[0marg\u001b[0m \u001b[0;32mfor\u001b[0m \u001b[0mk\u001b[0m\u001b[0;34m,\u001b[0m \u001b[0marg\u001b[0m \u001b[0;32min\u001b[0m \u001b[0mzip\u001b[0m\u001b[0;34m(\u001b[0m\u001b[0msig\u001b[0m\u001b[0;34m.\u001b[0m\u001b[0mparameters\u001b[0m\u001b[0;34m,\u001b[0m \u001b[0margs\u001b[0m\u001b[0;34m)\u001b[0m\u001b[0;34m}\u001b[0m\u001b[0;34m)\u001b[0m\u001b[0;34m\u001b[0m\u001b[0;34m\u001b[0m\u001b[0m\n\u001b[0;32m---> 72\u001b[0;31m         \u001b[0;32mreturn\u001b[0m \u001b[0mf\u001b[0m\u001b[0;34m(\u001b[0m\u001b[0;34m**\u001b[0m\u001b[0mkwargs\u001b[0m\u001b[0;34m)\u001b[0m\u001b[0;34m\u001b[0m\u001b[0;34m\u001b[0m\u001b[0m\n\u001b[0m\u001b[1;32m     73\u001b[0m     \u001b[0;32mreturn\u001b[0m \u001b[0minner_f\u001b[0m\u001b[0;34m\u001b[0m\u001b[0;34m\u001b[0m\u001b[0m\n\u001b[1;32m     74\u001b[0m \u001b[0;34m\u001b[0m\u001b[0m\n",
      "\u001b[0;31mTypeError\u001b[0m: __init__() got an unexpected keyword argument 'rotation'"
     ]
    }
   ],
   "source": [
    "fa_rot = FactorAnalysis(n_components = 2, \n",
    "                        rotation = 'varimax',\n",
    "                        random_state = 0\n",
    "                       )\n",
    "fa_rot.fit(X = subset_scaled)"
   ]
  },
  {
   "cell_type": "code",
   "execution_count": 14,
   "id": "4519e80a",
   "metadata": {},
   "outputs": [
    {
     "ename": "NameError",
     "evalue": "name 'fa_rot' is not defined",
     "output_type": "error",
     "traceback": [
      "\u001b[0;31m---------------------------------------------------------------------------\u001b[0m",
      "\u001b[0;31mNameError\u001b[0m                                 Traceback (most recent call last)",
      "\u001b[0;32m<ipython-input-14-660b3ae3dbc3>\u001b[0m in \u001b[0;36m<module>\u001b[0;34m\u001b[0m\n\u001b[0;32m----> 1\u001b[0;31m \u001b[0mfa_rot\u001b[0m\u001b[0;34m.\u001b[0m\u001b[0mcomponents_\u001b[0m\u001b[0;34m\u001b[0m\u001b[0;34m\u001b[0m\u001b[0m\n\u001b[0m",
      "\u001b[0;31mNameError\u001b[0m: name 'fa_rot' is not defined"
     ]
    }
   ],
   "source": [
    "fa_rot.components_"
   ]
  },
  {
   "cell_type": "code",
   "execution_count": 15,
   "id": "f5aafdf7",
   "metadata": {},
   "outputs": [
    {
     "ename": "NameError",
     "evalue": "name 'fa_rot' is not defined",
     "output_type": "error",
     "traceback": [
      "\u001b[0;31m---------------------------------------------------------------------------\u001b[0m",
      "\u001b[0;31mNameError\u001b[0m                                 Traceback (most recent call last)",
      "\u001b[0;32m<ipython-input-15-b674e44fc77a>\u001b[0m in \u001b[0;36m<module>\u001b[0;34m\u001b[0m\n\u001b[0;32m----> 1\u001b[0;31m \u001b[0msns\u001b[0m\u001b[0;34m.\u001b[0m\u001b[0mbarplot\u001b[0m\u001b[0;34m(\u001b[0m\u001b[0mx\u001b[0m \u001b[0;34m=\u001b[0m \u001b[0mfa_rot\u001b[0m\u001b[0;34m.\u001b[0m\u001b[0mcomponents_\u001b[0m\u001b[0;34m[\u001b[0m\u001b[0;36m0\u001b[0m\u001b[0;34m]\u001b[0m\u001b[0;34m,\u001b[0m \u001b[0my\u001b[0m \u001b[0;34m=\u001b[0m \u001b[0mcols\u001b[0m\u001b[0;34m)\u001b[0m\u001b[0;34m\u001b[0m\u001b[0;34m\u001b[0m\u001b[0m\n\u001b[0m\u001b[1;32m      2\u001b[0m \u001b[0mplt\u001b[0m\u001b[0;34m.\u001b[0m\u001b[0mtitle\u001b[0m\u001b[0;34m(\u001b[0m\u001b[0;34m\"FA (rotated) Component 1\"\u001b[0m\u001b[0;34m)\u001b[0m\u001b[0;34m\u001b[0m\u001b[0;34m\u001b[0m\u001b[0m\n\u001b[1;32m      3\u001b[0m \u001b[0mplt\u001b[0m\u001b[0;34m.\u001b[0m\u001b[0mshow\u001b[0m\u001b[0;34m(\u001b[0m\u001b[0;34m)\u001b[0m\u001b[0;34m\u001b[0m\u001b[0;34m\u001b[0m\u001b[0m\n\u001b[1;32m      4\u001b[0m \u001b[0;34m\u001b[0m\u001b[0m\n\u001b[1;32m      5\u001b[0m \u001b[0msns\u001b[0m\u001b[0;34m.\u001b[0m\u001b[0mbarplot\u001b[0m\u001b[0;34m(\u001b[0m\u001b[0mx\u001b[0m \u001b[0;34m=\u001b[0m \u001b[0mfa_rot\u001b[0m\u001b[0;34m.\u001b[0m\u001b[0mcomponents_\u001b[0m\u001b[0;34m[\u001b[0m\u001b[0;36m1\u001b[0m\u001b[0;34m]\u001b[0m\u001b[0;34m,\u001b[0m \u001b[0my\u001b[0m \u001b[0;34m=\u001b[0m \u001b[0mcols\u001b[0m\u001b[0;34m)\u001b[0m\u001b[0;34m\u001b[0m\u001b[0;34m\u001b[0m\u001b[0m\n",
      "\u001b[0;31mNameError\u001b[0m: name 'fa_rot' is not defined"
     ]
    }
   ],
   "source": [
    "sns.barplot(x = fa_rot.components_[0], y = cols)\n",
    "plt.title(\"FA (rotated) Component 1\")\n",
    "plt.show()\n",
    "\n",
    "sns.barplot(x = fa_rot.components_[1], y = cols)\n",
    "plt.title(\"FA (rotated) Component 2\")\n",
    "plt.show()\n"
   ]
  },
  {
   "cell_type": "markdown",
   "id": "2fe8c3c1",
   "metadata": {},
   "source": [
    "When introducing this earlier, we contrasted it with PCA in part based on its interpretability. \n",
    "\n",
    "Let's look at the first two principal components of our pokemon data to see how they compare: "
   ]
  },
  {
   "cell_type": "code",
   "execution_count": 16,
   "id": "2a6b484b",
   "metadata": {},
   "outputs": [
    {
     "data": {
      "image/png": "[encoded data removed]",
      "text/plain": [
       "<Figure size 432x288 with 1 Axes>"
      ]
     },
     "metadata": {
      "filenames": {
       "image/png": "/Users/erikbrockbank/web/teaching/ucsd-css-002-sp2022.github.io/_build/jupyter_execute/lectures/sp22/Lecture_27-pre_32_0.png"
      },
      "needs_background": "light"
     },
     "output_type": "display_data"
    },
    {
     "data": {
      "image/png": "[encoded data removed]",
      "text/plain": [
       "<Figure size 432x288 with 1 Axes>"
      ]
     },
     "metadata": {
      "filenames": {
       "image/png": "/Users/erikbrockbank/web/teaching/ucsd-css-002-sp2022.github.io/_build/jupyter_execute/lectures/sp22/Lecture_27-pre_32_1.png"
      },
      "needs_background": "light"
     },
     "output_type": "display_data"
    }
   ],
   "source": [
    "from sklearn.decomposition import PCA\n",
    "\n",
    "pca = PCA(random_state = 0).fit(subset_scaled)\n",
    "\n",
    "sns.barplot(x = pca.components_[0], y = cols)\n",
    "plt.title(\"PCA Component 1\")\n",
    "plt.show()\n",
    "\n",
    "sns.barplot(x = pca.components_[1], y = cols)\n",
    "plt.title(\"PCA Component 2\")\n",
    "plt.show()\n"
   ]
  },
  {
   "cell_type": "markdown",
   "id": "e66dcaee",
   "metadata": {},
   "source": [
    "As you can see, these are indeed much less interpretable! \n",
    "\n",
    "The first component seems to be kind of a generic amalgam of our existing dimensions, while the second one draws a sharp contrast between defense and speed. However, neither of these gives us a particularly intuitive answer about the underlying (low-dimensional) variables that our data is expressing. \n",
    "\n",
    "This is what makes factor analysis useful!\n"
   ]
  },
  {
   "cell_type": "markdown",
   "id": "04b51179",
   "metadata": {},
   "source": [
    "### Analyzing factors\n",
    "\n",
    "Now, a last thing we can do is *transform* our data onto their values for each of the factors discovered by the factor analysis, and see if there are any notable clusters or patterns in the data. "
   ]
  },
  {
   "cell_type": "code",
   "execution_count": 17,
   "id": "d47c9579",
   "metadata": {},
   "outputs": [
    {
     "data": {
      "image/png": "[encoded data removed]",
      "text/plain": [
       "<Figure size 432x288 with 1 Axes>"
      ]
     },
     "metadata": {
      "filenames": {
       "image/png": "/Users/erikbrockbank/web/teaching/ucsd-css-002-sp2022.github.io/_build/jupyter_execute/lectures/sp22/Lecture_27-pre_35_0.png"
      },
      "needs_background": "light"
     },
     "output_type": "display_data"
    }
   ],
   "source": [
    "pokemon_transformed = fa.fit_transform(subset_scaled)\n",
    "\n",
    "pokemon_transformed = pd.DataFrame(pokemon_transformed, columns = [\"Factor 1\", \"Factor 2\"])\n",
    "\n",
    "sns.scatterplot(data = pokemon_transformed, x = \"Factor 1\", y = \"Factor 2\")\n",
    "plt.show()"
   ]
  },
  {
   "cell_type": "markdown",
   "id": "d76aeb6c",
   "metadata": {},
   "source": [
    "# Worked example: comparing FA and PCA with the `iris` dataset\n",
    "\n",
    "In the code below, I've done some factor analysis and principal components analysis of the `iris` dataset, to compare how the two approaches identify lower dimensional representations for our data. \n",
    "\n",
    "Recall that the iris dataset represents each iris in 4 dimensions (sepal length and width, petal length and width). Since it also has labels (`species`), it's easier to evaluate how successfully the dimensionality reduction techniques manage to preserve or even exaggerate the differences in the target variable.\n",
    "\n",
    "**If we have time remaining, go through the code blocks below and start by trying to solve the problem on your own. You can do all of this with code from earlier in this lecture. If you need a hint, the solution is provided at the bottom of each block.** "
   ]
  },
  {
   "cell_type": "code",
   "execution_count": 18,
   "id": "9e105e8f",
   "metadata": {},
   "outputs": [],
   "source": [
    "### INSTRUCTIONS ### \n",
    "# First, read in the `iris` dataset from seaborn and save it to a variable called 'iris'\n",
    "###\n",
    "\n",
    "\n",
    "\n",
    "### YOUR CODE HERE ### \n",
    "\n",
    "\n",
    "\n",
    "\n",
    "\n",
    "\n",
    "\n",
    "\n",
    "\n",
    "### SOLUTION ###\n",
    "# iris = sns.load_dataset('iris')\n",
    "# iris"
   ]
  },
  {
   "cell_type": "code",
   "execution_count": 19,
   "id": "7886d5de",
   "metadata": {},
   "outputs": [],
   "source": [
    "### INSTRUCTIONS ### \n",
    "# Next, fit a factor analysis to the iris predictor columns (sepal length + width, petal length + width)\n",
    "# Use the FactorAnalyzer class (not the sklearn version)\n",
    "# Use 4 factors in the factor analysis, then use the FactorAnalyzer `get_eigenvalues` function to extract\n",
    "# eigenvalues for each factor. Plot these eigenvalues to see how many factors we should use in our analysis.\n",
    "###\n",
    "\n",
    "\n",
    "\n",
    "### YOUR CODE HERE ###\n",
    "\n",
    "\n",
    "\n",
    "\n",
    "\n",
    "\n",
    "\n",
    "\n",
    "\n",
    "### SOLUTION ###\n",
    "# fa = FactorAnalyzer()\n",
    "# fa.fit(iris.loc[:, ('sepal_length', 'sepal_width', 'petal_length', 'petal_width')], 4)\n",
    "# ev, v = fa.get_eigenvalues()\n",
    "\n",
    "# sns.lineplot(x = np.arange(1, 5), y = ev)\n",
    "# plt.axhline(1, c = \"k\", ls = \":\")\n",
    "# plt.show()"
   ]
  },
  {
   "cell_type": "code",
   "execution_count": 20,
   "id": "9cc632dc",
   "metadata": {},
   "outputs": [],
   "source": [
    "### INSTRUCTIONS ###\n",
    "# Now, fit a factor analysis model to the petal length + width and sepal length + width data from iris,\n",
    "# using the number of factors you identified above. Use the 'varimax' rotation to ensure interpretable factors.\n",
    "# Then, plot the \"loadings\" for each of the original columns onto your factors. What do they show?\n",
    "###\n",
    "\n",
    "\n",
    "\n",
    "### YOUR CODE HERE ###\n",
    "\n",
    "\n",
    "\n",
    "\n",
    "\n",
    "\n",
    "\n",
    "\n",
    "\n",
    "### SOLUTION ### \n",
    "# cols = ['sepal_length', 'sepal_width', 'petal_length', 'petal_width']\n",
    "# fa = FactorAnalyzer(n_factors = 2, rotation = 'varimax')\n",
    "# fa.fit(iris.loc[:, cols])\n",
    "\n",
    "# sns.barplot(x = fa.loadings_[:, 0], y = cols)\n",
    "# plt.title(\"Factor 1\")\n",
    "# plt.show()\n",
    "# sns.barplot(x = fa.loadings_[:, 1], y = cols)\n",
    "# plt.title(\"Factor 2\")\n",
    "# plt.show()\n",
    "\n",
    "# fa.loadings_"
   ]
  },
  {
   "cell_type": "code",
   "execution_count": 21,
   "id": "9df13454",
   "metadata": {},
   "outputs": [],
   "source": [
    "### INSTRUCTIONS ###\n",
    "# Now, let's compare the factors you identified above with the principal components of the same data.\n",
    "# Use the sklearn `PCA` class to extract the principal components of the iris data.\n",
    "# Use the same 4-dimensional iris data as above (petal length + width, sepal length + width) and \n",
    "# identify the same number of principal components as factors you selected previously.\n",
    "# Once you've fit the PCA, plot the weights for each principal component.\n",
    "# How do they compare to the factor loadings above?\n",
    "###\n",
    "\n",
    "\n",
    "\n",
    "### YOUR CODE HERE ### \n",
    "\n",
    "\n",
    "\n",
    "\n",
    "\n",
    "\n",
    "\n",
    "\n",
    "\n",
    "### SOLUTION ###\n",
    "# pca = PCA(n_components = 2, random_state = 0).fit(iris.loc[:, cols])\n",
    "\n",
    "# sns.barplot(x = pca.components_[0], y = cols)\n",
    "# plt.title(\"PCA Component 1\")\n",
    "# plt.show()\n",
    "\n",
    "# sns.barplot(x = pca.components_[1], y = cols)\n",
    "# plt.title(\"PCA Component 2\")\n",
    "# plt.show()"
   ]
  },
  {
   "cell_type": "code",
   "execution_count": 22,
   "id": "b99f6784",
   "metadata": {},
   "outputs": [],
   "source": [
    "### INSTRUCTIONS ###\n",
    "# Now, let's see how the iris data looks when transformed onto the two factors you identified with your factor analysis.\n",
    "# Use the `FactorAnalyzer` `fit_transform` function to transform the 4 iris dimensions (petal and sepal variables)\n",
    "# onto the two factors. Save these transformed values to a dataframe with \"Factor 1\" and \"Factor 2\" as the columns.\n",
    "# Next, add the iris \"species\" column to this new dataframe. \n",
    "# Finally, make a scatterplot with \"Factor 1\" on X, \"Factor 2\" on Y, and the \"species\" value as the hue.\n",
    "# What do the different species look like when projected onto these two factors?\n",
    "###\n",
    "\n",
    "\n",
    "\n",
    "### YOUR CODE HERE ###\n",
    "\n",
    "\n",
    "\n",
    "\n",
    "\n",
    "\n",
    "\n",
    "\n",
    "\n",
    "### SOLUTION ### \n",
    "# x_trans = fa.fit_transform(iris.loc[:, cols])\n",
    "# df_trans = pd.DataFrame(x_trans, columns = [\"Factor 1\", \"Factor 2\"])\n",
    "# df_trans['species'] = iris['species']\n",
    "\n",
    "# sns.scatterplot(data = df_trans, x = \"Factor 1\", y = \"Factor 2\", hue = \"species\")\n",
    "# plt.show()"
   ]
  },
  {
   "cell_type": "code",
   "execution_count": 23,
   "id": "484ecd0d",
   "metadata": {},
   "outputs": [],
   "source": [
    "### INSTRUCTIONS ###\n",
    "# Finally, let's compare the low-dimensional representation of the iris data from our factor analysis above\n",
    "# to what we get from PCA. Below, use the `PCA` `fit_transform` function to project the 4-dimensional iris \n",
    "# feature variables onto the two principal components you found above. \n",
    "# Create a new dataframe with these transformed values. Name the columns \"PC 1\" and \"PC 2\".\n",
    "# Now, add the `species` column from the original iris dataframe to your new dataframe.\n",
    "# Finally, make a scatterplot of the low dimensional data just as you did above, this time with\n",
    "# \"PC 1\" on X, \"PC 2\" on Y, and \"species\" as the hue. \n",
    "# How does this figure compare to the factor analysis results above?\n",
    "###\n",
    "\n",
    "\n",
    "\n",
    "### YOUR CODE HERE ###\n",
    "\n",
    "\n",
    "\n",
    "\n",
    "\n",
    "\n",
    "\n",
    "\n",
    "\n",
    "### SOLUTION ###\n",
    "# x_pca = pca.fit_transform(iris.loc[:, cols])\n",
    "# df_pca = pd.DataFrame(x_pca, columns = [\"PC 1\", \"PC 2\"])\n",
    "# df_pca['species'] = iris['species']\n",
    "\n",
    "# sns.scatterplot(data = df_pca, x = \"PC 1\", y = \"PC 2\", hue = \"species\")\n",
    "# plt.show()"
   ]
  }
 ],
 "metadata": {
  "interpreter": {
   "hash": "e774977668b7c0ae8309835a5187aa7fbf7669e7d0bb59755bc63e573643edcd"
  },
  "kernelspec": {
   "display_name": "Python 3.7.4 64-bit",
   "language": "python",
   "name": "python3"
  },
  "language_info": {
   "codemirror_mode": {
    "name": "ipython",
    "version": 3
   },
   "file_extension": ".py",
   "mimetype": "text/x-python",
   "name": "python",
   "nbconvert_exporter": "python",
   "pygments_lexer": "ipython3",
   "version": "3.8.3"
  }
 },
 "nbformat": 4,
 "nbformat_minor": 5
}