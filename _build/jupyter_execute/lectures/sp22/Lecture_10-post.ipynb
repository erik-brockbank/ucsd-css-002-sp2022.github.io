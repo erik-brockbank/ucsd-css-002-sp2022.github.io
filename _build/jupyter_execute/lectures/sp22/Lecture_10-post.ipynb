{
 "cells": [
  {
   "cell_type": "markdown",
   "id": "e15a714d",
   "metadata": {},
   "source": [
    "# Lecture 10 (4/18/22)"
   ]
  },
  {
   "cell_type": "markdown",
   "id": "de5cc50a",
   "metadata": {},
   "source": [
    "**Announcements**\n",
    "- Problem set 2 *due tonight at 11:59pm*\n",
    "- Change of grading basis deadline 4/22 (shooting to have pset 1 & 2, labs 1 & 2 graded by then)"
   ]
  },
  {
   "cell_type": "markdown",
   "id": "a468696c",
   "metadata": {},
   "source": [
    "*Last time we covered:*\n",
    "- graphing with matplotlib\n",
    "- graphing best practices\n",
    "- graphing with seaborn\n",
    "\n",
    "**Today's agenda:**\n",
    "- Cleaning and structuring data with pandas"
   ]
  },
  {
   "cell_type": "markdown",
   "id": "95e2d50c",
   "metadata": {},
   "source": [
    "# Cleaning data: principles and tools"
   ]
  },
  {
   "cell_type": "code",
   "execution_count": 1,
   "id": "bcc0ace8",
   "metadata": {},
   "outputs": [],
   "source": [
    "import pandas as pd\n",
    "import numpy as np"
   ]
  },
  {
   "cell_type": "markdown",
   "id": "488521ea",
   "metadata": {},
   "source": [
    "## What are the sorts of things we (typically) don't want in our data?"
   ]
  },
  {
   "cell_type": "markdown",
   "id": "3db74a25",
   "metadata": {},
   "source": [
    "- Null values (missing values)\n",
    "- Duplicates \n",
    "- Outliers ** \n",
    "\n"
   ]
  },
  {
   "cell_type": "markdown",
   "id": "f5198123",
   "metadata": {},
   "source": [
    "## What do the things we don't want in our data look like in python?"
   ]
  },
  {
   "cell_type": "markdown",
   "id": "124cae38",
   "metadata": {},
   "source": [
    "### Duplicates"
   ]
  },
  {
   "cell_type": "code",
   "execution_count": 2,
   "id": "68f438b2",
   "metadata": {},
   "outputs": [
    {
     "data": {
      "text/html": [
       "<div>\n",
       "<style scoped>\n",
       "    .dataframe tbody tr th:only-of-type {\n",
       "        vertical-align: middle;\n",
       "    }\n",
       "\n",
       "    .dataframe tbody tr th {\n",
       "        vertical-align: top;\n",
       "    }\n",
       "\n",
       "    .dataframe thead th {\n",
       "        text-align: right;\n",
       "    }\n",
       "</style>\n",
       "<table border=\"1\" class=\"dataframe\">\n",
       "  <thead>\n",
       "    <tr style=\"text-align: right;\">\n",
       "      <th></th>\n",
       "      <th>sample_int</th>\n",
       "    </tr>\n",
       "  </thead>\n",
       "  <tbody>\n",
       "    <tr>\n",
       "      <th>0</th>\n",
       "      <td>1</td>\n",
       "    </tr>\n",
       "    <tr>\n",
       "      <th>1</th>\n",
       "      <td>6</td>\n",
       "    </tr>\n",
       "    <tr>\n",
       "      <th>2</th>\n",
       "      <td>3</td>\n",
       "    </tr>\n",
       "    <tr>\n",
       "      <th>3</th>\n",
       "      <td>8</td>\n",
       "    </tr>\n",
       "    <tr>\n",
       "      <th>4</th>\n",
       "      <td>2</td>\n",
       "    </tr>\n",
       "    <tr>\n",
       "      <th>5</th>\n",
       "      <td>3</td>\n",
       "    </tr>\n",
       "    <tr>\n",
       "      <th>6</th>\n",
       "      <td>4</td>\n",
       "    </tr>\n",
       "    <tr>\n",
       "      <th>7</th>\n",
       "      <td>6</td>\n",
       "    </tr>\n",
       "    <tr>\n",
       "      <th>8</th>\n",
       "      <td>2</td>\n",
       "    </tr>\n",
       "    <tr>\n",
       "      <th>9</th>\n",
       "      <td>6</td>\n",
       "    </tr>\n",
       "  </tbody>\n",
       "</table>\n",
       "</div>"
      ],
      "text/plain": [
       "   sample_int\n",
       "0           1\n",
       "1           6\n",
       "2           3\n",
       "3           8\n",
       "4           2\n",
       "5           3\n",
       "6           4\n",
       "7           6\n",
       "8           2\n",
       "9           6"
      ]
     },
     "execution_count": 2,
     "metadata": {},
     "output_type": "execute_result"
    }
   ],
   "source": [
    "# Duplicates: what do they look like?\n",
    "\n",
    "df = pd.DataFrame({\n",
    "    \"sample_int\": np.random.randint(low = 1, high = 10, size = 10)\n",
    "})\n",
    "\n",
    "df\n",
    "\n",
    "# df.sample_int"
   ]
  },
  {
   "cell_type": "code",
   "execution_count": 3,
   "id": "d0f53318",
   "metadata": {},
   "outputs": [
    {
     "data": {
      "text/html": [
       "<div>\n",
       "<style scoped>\n",
       "    .dataframe tbody tr th:only-of-type {\n",
       "        vertical-align: middle;\n",
       "    }\n",
       "\n",
       "    .dataframe tbody tr th {\n",
       "        vertical-align: top;\n",
       "    }\n",
       "\n",
       "    .dataframe thead th {\n",
       "        text-align: right;\n",
       "    }\n",
       "</style>\n",
       "<table border=\"1\" class=\"dataframe\">\n",
       "  <thead>\n",
       "    <tr style=\"text-align: right;\">\n",
       "      <th></th>\n",
       "      <th>sample_int</th>\n",
       "    </tr>\n",
       "  </thead>\n",
       "  <tbody>\n",
       "  </tbody>\n",
       "</table>\n",
       "</div>"
      ],
      "text/plain": [
       "Empty DataFrame\n",
       "Columns: [sample_int]\n",
       "Index: []"
      ]
     },
     "execution_count": 3,
     "metadata": {},
     "output_type": "execute_result"
    }
   ],
   "source": [
    "df[df.sample_int == 7]"
   ]
  },
  {
   "cell_type": "markdown",
   "id": "8f593154",
   "metadata": {},
   "source": [
    "Duplicates are hard to detect without a more careful search because they may look like totally normal data otherwise."
   ]
  },
  {
   "cell_type": "markdown",
   "id": "ea348596",
   "metadata": {},
   "source": [
    "### Missing data"
   ]
  },
  {
   "cell_type": "code",
   "execution_count": 4,
   "id": "1728368c",
   "metadata": {},
   "outputs": [
    {
     "data": {
      "text/html": [
       "<div>\n",
       "<style scoped>\n",
       "    .dataframe tbody tr th:only-of-type {\n",
       "        vertical-align: middle;\n",
       "    }\n",
       "\n",
       "    .dataframe tbody tr th {\n",
       "        vertical-align: top;\n",
       "    }\n",
       "\n",
       "    .dataframe thead th {\n",
       "        text-align: right;\n",
       "    }\n",
       "</style>\n",
       "<table border=\"1\" class=\"dataframe\">\n",
       "  <thead>\n",
       "    <tr style=\"text-align: right;\">\n",
       "      <th></th>\n",
       "      <th>sample_int</th>\n",
       "    </tr>\n",
       "  </thead>\n",
       "  <tbody>\n",
       "    <tr>\n",
       "      <th>0</th>\n",
       "      <td>NaN</td>\n",
       "    </tr>\n",
       "    <tr>\n",
       "      <th>1</th>\n",
       "      <td>NaN</td>\n",
       "    </tr>\n",
       "    <tr>\n",
       "      <th>2</th>\n",
       "      <td>3.0</td>\n",
       "    </tr>\n",
       "    <tr>\n",
       "      <th>3</th>\n",
       "      <td>8.0</td>\n",
       "    </tr>\n",
       "    <tr>\n",
       "      <th>4</th>\n",
       "      <td>2.0</td>\n",
       "    </tr>\n",
       "    <tr>\n",
       "      <th>5</th>\n",
       "      <td>3.0</td>\n",
       "    </tr>\n",
       "    <tr>\n",
       "      <th>6</th>\n",
       "      <td>4.0</td>\n",
       "    </tr>\n",
       "    <tr>\n",
       "      <th>7</th>\n",
       "      <td>6.0</td>\n",
       "    </tr>\n",
       "    <tr>\n",
       "      <th>8</th>\n",
       "      <td>2.0</td>\n",
       "    </tr>\n",
       "    <tr>\n",
       "      <th>9</th>\n",
       "      <td>6.0</td>\n",
       "    </tr>\n",
       "  </tbody>\n",
       "</table>\n",
       "</div>"
      ],
      "text/plain": [
       "   sample_int\n",
       "0         NaN\n",
       "1         NaN\n",
       "2         3.0\n",
       "3         8.0\n",
       "4         2.0\n",
       "5         3.0\n",
       "6         4.0\n",
       "7         6.0\n",
       "8         2.0\n",
       "9         6.0"
      ]
     },
     "execution_count": 4,
     "metadata": {},
     "output_type": "execute_result"
    }
   ],
   "source": [
    "# Missing data: what does it look like?\n",
    "\n",
    "df.iloc[0] = np.nan\n",
    "df.iloc[1] = None\n",
    "\n",
    "df # is this what we expected?\n",
    "# df.sample_int\n",
    "\n",
    "# TODO why does the nan conver to floating point?"
   ]
  },
  {
   "cell_type": "code",
   "execution_count": 5,
   "id": "a97e5ade",
   "metadata": {
    "scrolled": true
   },
   "outputs": [
    {
     "data": {
      "text/html": [
       "<div>\n",
       "<style scoped>\n",
       "    .dataframe tbody tr th:only-of-type {\n",
       "        vertical-align: middle;\n",
       "    }\n",
       "\n",
       "    .dataframe tbody tr th {\n",
       "        vertical-align: top;\n",
       "    }\n",
       "\n",
       "    .dataframe thead th {\n",
       "        text-align: right;\n",
       "    }\n",
       "</style>\n",
       "<table border=\"1\" class=\"dataframe\">\n",
       "  <thead>\n",
       "    <tr style=\"text-align: right;\">\n",
       "      <th></th>\n",
       "      <th>sample_int</th>\n",
       "      <th>nans</th>\n",
       "      <th>nones</th>\n",
       "    </tr>\n",
       "  </thead>\n",
       "  <tbody>\n",
       "    <tr>\n",
       "      <th>0</th>\n",
       "      <td>NaN</td>\n",
       "      <td>NaN</td>\n",
       "      <td>None</td>\n",
       "    </tr>\n",
       "    <tr>\n",
       "      <th>1</th>\n",
       "      <td>NaN</td>\n",
       "      <td>NaN</td>\n",
       "      <td>None</td>\n",
       "    </tr>\n",
       "    <tr>\n",
       "      <th>2</th>\n",
       "      <td>3.0</td>\n",
       "      <td>NaN</td>\n",
       "      <td>None</td>\n",
       "    </tr>\n",
       "    <tr>\n",
       "      <th>3</th>\n",
       "      <td>8.0</td>\n",
       "      <td>NaN</td>\n",
       "      <td>None</td>\n",
       "    </tr>\n",
       "    <tr>\n",
       "      <th>4</th>\n",
       "      <td>2.0</td>\n",
       "      <td>NaN</td>\n",
       "      <td>None</td>\n",
       "    </tr>\n",
       "    <tr>\n",
       "      <th>5</th>\n",
       "      <td>3.0</td>\n",
       "      <td>NaN</td>\n",
       "      <td>None</td>\n",
       "    </tr>\n",
       "    <tr>\n",
       "      <th>6</th>\n",
       "      <td>4.0</td>\n",
       "      <td>NaN</td>\n",
       "      <td>None</td>\n",
       "    </tr>\n",
       "    <tr>\n",
       "      <th>7</th>\n",
       "      <td>6.0</td>\n",
       "      <td>NaN</td>\n",
       "      <td>None</td>\n",
       "    </tr>\n",
       "    <tr>\n",
       "      <th>8</th>\n",
       "      <td>2.0</td>\n",
       "      <td>NaN</td>\n",
       "      <td>None</td>\n",
       "    </tr>\n",
       "    <tr>\n",
       "      <th>9</th>\n",
       "      <td>6.0</td>\n",
       "      <td>NaN</td>\n",
       "      <td>None</td>\n",
       "    </tr>\n",
       "  </tbody>\n",
       "</table>\n",
       "</div>"
      ],
      "text/plain": [
       "   sample_int  nans nones\n",
       "0         NaN   NaN  None\n",
       "1         NaN   NaN  None\n",
       "2         3.0   NaN  None\n",
       "3         8.0   NaN  None\n",
       "4         2.0   NaN  None\n",
       "5         3.0   NaN  None\n",
       "6         4.0   NaN  None\n",
       "7         6.0   NaN  None\n",
       "8         2.0   NaN  None\n",
       "9         6.0   NaN  None"
      ]
     },
     "execution_count": 5,
     "metadata": {},
     "output_type": "execute_result"
    }
   ],
   "source": [
    "df['nans'] = np.nan\n",
    "df['nones'] = None\n",
    "\n",
    "df\n"
   ]
  },
  {
   "cell_type": "markdown",
   "id": "9b0d744a",
   "metadata": {},
   "source": [
    "Note: sometimes missing data can take other forms, for example empty strings.\n",
    "\n",
    "This is especially true when your data has had some intermediate processing like being stored as a csv."
   ]
  },
  {
   "cell_type": "markdown",
   "id": "e1a61c66",
   "metadata": {},
   "source": [
    "### Outliers"
   ]
  },
  {
   "cell_type": "code",
   "execution_count": 6,
   "id": "60a5cc64",
   "metadata": {},
   "outputs": [
    {
     "data": {
      "text/html": [
       "<div>\n",
       "<style scoped>\n",
       "    .dataframe tbody tr th:only-of-type {\n",
       "        vertical-align: middle;\n",
       "    }\n",
       "\n",
       "    .dataframe tbody tr th {\n",
       "        vertical-align: top;\n",
       "    }\n",
       "\n",
       "    .dataframe thead th {\n",
       "        text-align: right;\n",
       "    }\n",
       "</style>\n",
       "<table border=\"1\" class=\"dataframe\">\n",
       "  <thead>\n",
       "    <tr style=\"text-align: right;\">\n",
       "      <th></th>\n",
       "      <th>sample_int</th>\n",
       "      <th>nans</th>\n",
       "      <th>nones</th>\n",
       "    </tr>\n",
       "  </thead>\n",
       "  <tbody>\n",
       "    <tr>\n",
       "      <th>0</th>\n",
       "      <td>NaN</td>\n",
       "      <td>NaN</td>\n",
       "      <td>None</td>\n",
       "    </tr>\n",
       "    <tr>\n",
       "      <th>1</th>\n",
       "      <td>NaN</td>\n",
       "      <td>NaN</td>\n",
       "      <td>None</td>\n",
       "    </tr>\n",
       "    <tr>\n",
       "      <th>2</th>\n",
       "      <td>3.0</td>\n",
       "      <td>NaN</td>\n",
       "      <td>None</td>\n",
       "    </tr>\n",
       "    <tr>\n",
       "      <th>3</th>\n",
       "      <td>8.0</td>\n",
       "      <td>NaN</td>\n",
       "      <td>None</td>\n",
       "    </tr>\n",
       "    <tr>\n",
       "      <th>4</th>\n",
       "      <td>2.0</td>\n",
       "      <td>NaN</td>\n",
       "      <td>None</td>\n",
       "    </tr>\n",
       "    <tr>\n",
       "      <th>5</th>\n",
       "      <td>3.0</td>\n",
       "      <td>NaN</td>\n",
       "      <td>None</td>\n",
       "    </tr>\n",
       "    <tr>\n",
       "      <th>6</th>\n",
       "      <td>4.0</td>\n",
       "      <td>NaN</td>\n",
       "      <td>None</td>\n",
       "    </tr>\n",
       "    <tr>\n",
       "      <th>7</th>\n",
       "      <td>6.0</td>\n",
       "      <td>NaN</td>\n",
       "      <td>None</td>\n",
       "    </tr>\n",
       "    <tr>\n",
       "      <th>8</th>\n",
       "      <td>2.0</td>\n",
       "      <td>NaN</td>\n",
       "      <td>None</td>\n",
       "    </tr>\n",
       "    <tr>\n",
       "      <th>9</th>\n",
       "      <td>400.0</td>\n",
       "      <td>NaN</td>\n",
       "      <td>None</td>\n",
       "    </tr>\n",
       "  </tbody>\n",
       "</table>\n",
       "</div>"
      ],
      "text/plain": [
       "   sample_int  nans nones\n",
       "0         NaN   NaN  None\n",
       "1         NaN   NaN  None\n",
       "2         3.0   NaN  None\n",
       "3         8.0   NaN  None\n",
       "4         2.0   NaN  None\n",
       "5         3.0   NaN  None\n",
       "6         4.0   NaN  None\n",
       "7         6.0   NaN  None\n",
       "8         2.0   NaN  None\n",
       "9       400.0   NaN  None"
      ]
     },
     "execution_count": 6,
     "metadata": {},
     "output_type": "execute_result"
    }
   ],
   "source": [
    "# Outliers: what do they look like?\n",
    "\n",
    "df.iloc[9, 0] = 400\n",
    "\n",
    "df"
   ]
  },
  {
   "cell_type": "markdown",
   "id": "9dae30e8",
   "metadata": {},
   "source": [
    "Be careful here!\n",
    "\n",
    "Not every unexpected data point is an outlier..."
   ]
  },
  {
   "cell_type": "markdown",
   "id": "bbc0a69b",
   "metadata": {},
   "source": [
    "## Aside: why do we want to detect these things in our data?"
   ]
  },
  {
   "cell_type": "code",
   "execution_count": 7,
   "id": "fce72a25",
   "metadata": {},
   "outputs": [
    {
     "data": {
      "text/plain": [
       "nan"
      ]
     },
     "execution_count": 7,
     "metadata": {},
     "output_type": "execute_result"
    }
   ],
   "source": [
    "# A simple illustration\n",
    "\n",
    "df\n",
    "\n",
    "np.median(df.sample_int) # uh oh...\n",
    "# np.nanmedian(df.sample_int)"
   ]
  },
  {
   "cell_type": "code",
   "execution_count": 8,
   "id": "d617d7f4",
   "metadata": {},
   "outputs": [
    {
     "data": {
      "text/plain": [
       "53.5"
      ]
     },
     "execution_count": 8,
     "metadata": {},
     "output_type": "execute_result"
    }
   ],
   "source": [
    "np.mean(df.sample_int)\n",
    "\n",
    "np.sum(df.sample_int) / len(df.sample_int)\n",
    "\n",
    "# len(df.sample_int)\n",
    "np.sum(df.sample_int) / 8\n",
    "\n"
   ]
  },
  {
   "cell_type": "markdown",
   "id": "25311f8d",
   "metadata": {},
   "source": [
    "Take-away: these things can impact our analyses in lots of ways, which is why we want to find them!"
   ]
  },
  {
   "cell_type": "markdown",
   "id": "df6fe244",
   "metadata": {},
   "source": [
    "## How do we check for stuff we don't want in our data?"
   ]
  },
  {
   "cell_type": "markdown",
   "id": "2f0be235",
   "metadata": {},
   "source": [
    "### Duplicates"
   ]
  },
  {
   "cell_type": "code",
   "execution_count": 9,
   "id": "87eeb150",
   "metadata": {},
   "outputs": [
    {
     "data": {
      "text/html": [
       "<div>\n",
       "<style scoped>\n",
       "    .dataframe tbody tr th:only-of-type {\n",
       "        vertical-align: middle;\n",
       "    }\n",
       "\n",
       "    .dataframe tbody tr th {\n",
       "        vertical-align: top;\n",
       "    }\n",
       "\n",
       "    .dataframe thead th {\n",
       "        text-align: right;\n",
       "    }\n",
       "</style>\n",
       "<table border=\"1\" class=\"dataframe\">\n",
       "  <thead>\n",
       "    <tr style=\"text-align: right;\">\n",
       "      <th></th>\n",
       "      <th>sample_int</th>\n",
       "      <th>nans</th>\n",
       "      <th>nones</th>\n",
       "    </tr>\n",
       "  </thead>\n",
       "  <tbody>\n",
       "    <tr>\n",
       "      <th>1</th>\n",
       "      <td>NaN</td>\n",
       "      <td>NaN</td>\n",
       "      <td>None</td>\n",
       "    </tr>\n",
       "    <tr>\n",
       "      <th>5</th>\n",
       "      <td>3.0</td>\n",
       "      <td>NaN</td>\n",
       "      <td>None</td>\n",
       "    </tr>\n",
       "    <tr>\n",
       "      <th>8</th>\n",
       "      <td>2.0</td>\n",
       "      <td>NaN</td>\n",
       "      <td>None</td>\n",
       "    </tr>\n",
       "  </tbody>\n",
       "</table>\n",
       "</div>"
      ],
      "text/plain": [
       "   sample_int  nans nones\n",
       "1         NaN   NaN  None\n",
       "5         3.0   NaN  None\n",
       "8         2.0   NaN  None"
      ]
     },
     "execution_count": 9,
     "metadata": {},
     "output_type": "execute_result"
    }
   ],
   "source": [
    "# Duplicates\n",
    "df\n",
    "df[df.duplicated()] # just show the info that's duplicated after the first occurrence\n",
    "\n",
    "df[df.duplicated(keep = False)] # show all duplicated rows\n",
    "# df\n",
    "\n",
    "df[df['sample_int'].duplicated()] # can also apply to columns individually"
   ]
  },
  {
   "cell_type": "markdown",
   "id": "33ae0d71",
   "metadata": {},
   "source": [
    "### Missing values"
   ]
  },
  {
   "cell_type": "code",
   "execution_count": 10,
   "id": "98c6e21f",
   "metadata": {},
   "outputs": [
    {
     "data": {
      "text/html": [
       "<div>\n",
       "<style scoped>\n",
       "    .dataframe tbody tr th:only-of-type {\n",
       "        vertical-align: middle;\n",
       "    }\n",
       "\n",
       "    .dataframe tbody tr th {\n",
       "        vertical-align: top;\n",
       "    }\n",
       "\n",
       "    .dataframe thead th {\n",
       "        text-align: right;\n",
       "    }\n",
       "</style>\n",
       "<table border=\"1\" class=\"dataframe\">\n",
       "  <thead>\n",
       "    <tr style=\"text-align: right;\">\n",
       "      <th></th>\n",
       "      <th>sample_int</th>\n",
       "      <th>nans</th>\n",
       "      <th>nones</th>\n",
       "    </tr>\n",
       "  </thead>\n",
       "  <tbody>\n",
       "    <tr>\n",
       "      <th>0</th>\n",
       "      <td>NaN</td>\n",
       "      <td>NaN</td>\n",
       "      <td>None</td>\n",
       "    </tr>\n",
       "    <tr>\n",
       "      <th>1</th>\n",
       "      <td>NaN</td>\n",
       "      <td>NaN</td>\n",
       "      <td>None</td>\n",
       "    </tr>\n",
       "  </tbody>\n",
       "</table>\n",
       "</div>"
      ],
      "text/plain": [
       "   sample_int  nans nones\n",
       "0         NaN   NaN  None\n",
       "1         NaN   NaN  None"
      ]
     },
     "execution_count": 10,
     "metadata": {},
     "output_type": "execute_result"
    }
   ],
   "source": [
    "# Missing values\n",
    "\n",
    "# Pandas tools: `pd.isna` and `pd.isnull`\n",
    "# pd.isna(df['sample_int'])\n",
    "df[pd.notna(df['sample_int'])]\n",
    "\n",
    "df[pd.isnull(df['sample_int'])] # Note: this is the same as `pd.isna` above\n",
    "\n",
    "\n",
    "# pd.isna(None)"
   ]
  },
  {
   "cell_type": "code",
   "execution_count": 11,
   "id": "be681958",
   "metadata": {},
   "outputs": [
    {
     "data": {
      "text/plain": [
       "True"
      ]
     },
     "execution_count": 11,
     "metadata": {},
     "output_type": "execute_result"
    }
   ],
   "source": [
    "# Numpy tools: `np.isnan` to detect NaNs\n",
    "df[np.isnan(df['sample_int'])]\n",
    "\n",
    "# But watch out! \n",
    "np.isnan(np.nan)\n",
    "# np.isnan(None) # that's weird..."
   ]
  },
  {
   "cell_type": "markdown",
   "id": "6a622f55",
   "metadata": {},
   "source": [
    "### Outliers"
   ]
  },
  {
   "cell_type": "markdown",
   "id": "e72b4635",
   "metadata": {},
   "source": [
    "This is one area where graphing our data can be really helpful!"
   ]
  },
  {
   "cell_type": "markdown",
   "id": "adf8b96b",
   "metadata": {},
   "source": [
    "![anscombe](img/anscombe.png)"
   ]
  },
  {
   "cell_type": "markdown",
   "id": "cae984e1",
   "metadata": {},
   "source": [
    "## How do we get rid of stuff we don't want in our data?\n",
    "\n",
    "Our options are:\n",
    "1. Remove obervations (or otherwise ignore them)\n",
    "2. Fill in the observations (missing values only)"
   ]
  },
  {
   "cell_type": "markdown",
   "id": "17ab0eaf",
   "metadata": {},
   "source": [
    "### Duplicates"
   ]
  },
  {
   "cell_type": "markdown",
   "id": "d721905f",
   "metadata": {},
   "source": [
    "With duplicate data, the best thing is most often to remove it (unless the duplication is expected)"
   ]
  },
  {
   "cell_type": "code",
   "execution_count": 12,
   "id": "9143f435",
   "metadata": {},
   "outputs": [
    {
     "data": {
      "text/html": [
       "<div>\n",
       "<style scoped>\n",
       "    .dataframe tbody tr th:only-of-type {\n",
       "        vertical-align: middle;\n",
       "    }\n",
       "\n",
       "    .dataframe tbody tr th {\n",
       "        vertical-align: top;\n",
       "    }\n",
       "\n",
       "    .dataframe thead th {\n",
       "        text-align: right;\n",
       "    }\n",
       "</style>\n",
       "<table border=\"1\" class=\"dataframe\">\n",
       "  <thead>\n",
       "    <tr style=\"text-align: right;\">\n",
       "      <th></th>\n",
       "      <th>sample_int</th>\n",
       "      <th>nans</th>\n",
       "      <th>nones</th>\n",
       "    </tr>\n",
       "  </thead>\n",
       "  <tbody>\n",
       "    <tr>\n",
       "      <th>0</th>\n",
       "      <td>NaN</td>\n",
       "      <td>NaN</td>\n",
       "      <td>None</td>\n",
       "    </tr>\n",
       "    <tr>\n",
       "      <th>1</th>\n",
       "      <td>3.0</td>\n",
       "      <td>NaN</td>\n",
       "      <td>None</td>\n",
       "    </tr>\n",
       "    <tr>\n",
       "      <th>2</th>\n",
       "      <td>8.0</td>\n",
       "      <td>NaN</td>\n",
       "      <td>None</td>\n",
       "    </tr>\n",
       "    <tr>\n",
       "      <th>3</th>\n",
       "      <td>2.0</td>\n",
       "      <td>NaN</td>\n",
       "      <td>None</td>\n",
       "    </tr>\n",
       "    <tr>\n",
       "      <th>4</th>\n",
       "      <td>4.0</td>\n",
       "      <td>NaN</td>\n",
       "      <td>None</td>\n",
       "    </tr>\n",
       "    <tr>\n",
       "      <th>5</th>\n",
       "      <td>6.0</td>\n",
       "      <td>NaN</td>\n",
       "      <td>None</td>\n",
       "    </tr>\n",
       "    <tr>\n",
       "      <th>6</th>\n",
       "      <td>400.0</td>\n",
       "      <td>NaN</td>\n",
       "      <td>None</td>\n",
       "    </tr>\n",
       "  </tbody>\n",
       "</table>\n",
       "</div>"
      ],
      "text/plain": [
       "   sample_int  nans nones\n",
       "0         NaN   NaN  None\n",
       "1         3.0   NaN  None\n",
       "2         8.0   NaN  None\n",
       "3         2.0   NaN  None\n",
       "4         4.0   NaN  None\n",
       "5         6.0   NaN  None\n",
       "6       400.0   NaN  None"
      ]
     },
     "execution_count": 12,
     "metadata": {},
     "output_type": "execute_result"
    }
   ],
   "source": [
    "df_no_dupes = df.drop_duplicates(ignore_index = True) # Note: we need this `ignore_index = True`\n",
    "\n",
    "# df_no_dupes = df.drop_duplicates().reset_index() # Note: we need this `ignore_index = True`\n",
    "\n",
    "df_no_dupes\n",
    "\n",
    "# df"
   ]
  },
  {
   "cell_type": "markdown",
   "id": "60bb417f",
   "metadata": {},
   "source": [
    "### Missing values\n",
    "\n",
    "With missing values, it may be best to drop missing values, or fill them in with a reasonable value.\n",
    "\n",
    "\n",
    "More info on missing value handling [here](https://pandas.pydata.org/docs/user_guide/missing_data.html)."
   ]
  },
  {
   "cell_type": "markdown",
   "id": "8fd6279e",
   "metadata": {},
   "source": [
    "**Dropping missing values**: why might we do that?\n",
    "\n",
    "- If we only care about averages\n",
    "- If the top priority is having integrity in our dataset, or if the missing data is for some reason that makes us okay ignoring it (e.g. broken logging process)\n",
    "\n"
   ]
  },
  {
   "cell_type": "code",
   "execution_count": 13,
   "id": "6d619fe7",
   "metadata": {},
   "outputs": [
    {
     "data": {
      "text/html": [
       "<div>\n",
       "<style scoped>\n",
       "    .dataframe tbody tr th:only-of-type {\n",
       "        vertical-align: middle;\n",
       "    }\n",
       "\n",
       "    .dataframe tbody tr th {\n",
       "        vertical-align: top;\n",
       "    }\n",
       "\n",
       "    .dataframe thead th {\n",
       "        text-align: right;\n",
       "    }\n",
       "</style>\n",
       "<table border=\"1\" class=\"dataframe\">\n",
       "  <thead>\n",
       "    <tr style=\"text-align: right;\">\n",
       "      <th></th>\n",
       "      <th>sample_int</th>\n",
       "      <th>nans</th>\n",
       "      <th>nones</th>\n",
       "    </tr>\n",
       "  </thead>\n",
       "  <tbody>\n",
       "  </tbody>\n",
       "</table>\n",
       "</div>"
      ],
      "text/plain": [
       "Empty DataFrame\n",
       "Columns: [sample_int, nans, nones]\n",
       "Index: []"
      ]
     },
     "execution_count": 13,
     "metadata": {},
     "output_type": "execute_result"
    }
   ],
   "source": [
    "# Dropping NAs\n",
    "\n",
    "df_no_na = df.dropna() # can specify an `axis`: 0 for columns, 1 for rows containing missing values\n",
    "\n",
    "df_no_na # What happened here??\n",
    "\n",
    "# df"
   ]
  },
  {
   "cell_type": "code",
   "execution_count": 14,
   "id": "a177a7a3",
   "metadata": {},
   "outputs": [
    {
     "data": {
      "text/html": [
       "<div>\n",
       "<style scoped>\n",
       "    .dataframe tbody tr th:only-of-type {\n",
       "        vertical-align: middle;\n",
       "    }\n",
       "\n",
       "    .dataframe tbody tr th {\n",
       "        vertical-align: top;\n",
       "    }\n",
       "\n",
       "    .dataframe thead th {\n",
       "        text-align: right;\n",
       "    }\n",
       "</style>\n",
       "<table border=\"1\" class=\"dataframe\">\n",
       "  <thead>\n",
       "    <tr style=\"text-align: right;\">\n",
       "      <th></th>\n",
       "      <th>sample_int</th>\n",
       "      <th>nans</th>\n",
       "      <th>nones</th>\n",
       "    </tr>\n",
       "  </thead>\n",
       "  <tbody>\n",
       "    <tr>\n",
       "      <th>2</th>\n",
       "      <td>3.0</td>\n",
       "      <td>NaN</td>\n",
       "      <td>None</td>\n",
       "    </tr>\n",
       "    <tr>\n",
       "      <th>3</th>\n",
       "      <td>8.0</td>\n",
       "      <td>NaN</td>\n",
       "      <td>None</td>\n",
       "    </tr>\n",
       "    <tr>\n",
       "      <th>4</th>\n",
       "      <td>2.0</td>\n",
       "      <td>NaN</td>\n",
       "      <td>None</td>\n",
       "    </tr>\n",
       "    <tr>\n",
       "      <th>5</th>\n",
       "      <td>3.0</td>\n",
       "      <td>NaN</td>\n",
       "      <td>None</td>\n",
       "    </tr>\n",
       "    <tr>\n",
       "      <th>6</th>\n",
       "      <td>4.0</td>\n",
       "      <td>NaN</td>\n",
       "      <td>None</td>\n",
       "    </tr>\n",
       "    <tr>\n",
       "      <th>7</th>\n",
       "      <td>6.0</td>\n",
       "      <td>NaN</td>\n",
       "      <td>None</td>\n",
       "    </tr>\n",
       "    <tr>\n",
       "      <th>8</th>\n",
       "      <td>2.0</td>\n",
       "      <td>NaN</td>\n",
       "      <td>None</td>\n",
       "    </tr>\n",
       "    <tr>\n",
       "      <th>9</th>\n",
       "      <td>400.0</td>\n",
       "      <td>NaN</td>\n",
       "      <td>None</td>\n",
       "    </tr>\n",
       "  </tbody>\n",
       "</table>\n",
       "</div>"
      ],
      "text/plain": [
       "   sample_int  nans nones\n",
       "2         3.0   NaN  None\n",
       "3         8.0   NaN  None\n",
       "4         2.0   NaN  None\n",
       "5         3.0   NaN  None\n",
       "6         4.0   NaN  None\n",
       "7         6.0   NaN  None\n",
       "8         2.0   NaN  None\n",
       "9       400.0   NaN  None"
      ]
     },
     "execution_count": 14,
     "metadata": {},
     "output_type": "execute_result"
    }
   ],
   "source": [
    "df_no_na = df.dropna(how = \"all\") \n",
    "# df_no_na = df.dropna(axis = 0) \n",
    "\n",
    "# how = \"all\" will drop rows where *all* values are NaN\n",
    "# how = \"any\" (default) will drop rows where *any* column value is NaN\n",
    "\n",
    "df_no_na # that's better\n",
    "\n",
    "# df['sample_int'].dropna()"
   ]
  },
  {
   "cell_type": "markdown",
   "id": "27f986a6",
   "metadata": {},
   "source": [
    "**Filling in missing values**: Why might we do that instead? (and what to put there?)\n",
    "\n",
    "- If you're averaging: put the average (median)\n",
    "- If you want to transform your data or if the value is not useful as given\n",
    "- If you can assume missing data is at worst no different from previous value\n",
    "\n",
    "..."
   ]
  },
  {
   "cell_type": "code",
   "execution_count": null,
   "id": "7f2cc287",
   "metadata": {},
   "outputs": [],
   "source": []
  },
  {
   "cell_type": "markdown",
   "id": "9951a848",
   "metadata": {},
   "source": [
    "The pandas `fillna` function provides a few convenient ways to fill in missing data"
   ]
  },
  {
   "cell_type": "code",
   "execution_count": 15,
   "id": "a22e5479",
   "metadata": {},
   "outputs": [
    {
     "data": {
      "text/html": [
       "<div>\n",
       "<style scoped>\n",
       "    .dataframe tbody tr th:only-of-type {\n",
       "        vertical-align: middle;\n",
       "    }\n",
       "\n",
       "    .dataframe tbody tr th {\n",
       "        vertical-align: top;\n",
       "    }\n",
       "\n",
       "    .dataframe thead th {\n",
       "        text-align: right;\n",
       "    }\n",
       "</style>\n",
       "<table border=\"1\" class=\"dataframe\">\n",
       "  <thead>\n",
       "    <tr style=\"text-align: right;\">\n",
       "      <th></th>\n",
       "      <th>sample_int</th>\n",
       "      <th>nans</th>\n",
       "      <th>nones</th>\n",
       "    </tr>\n",
       "  </thead>\n",
       "  <tbody>\n",
       "    <tr>\n",
       "      <th>0</th>\n",
       "      <td>3.5</td>\n",
       "      <td>3.5</td>\n",
       "      <td>3.5</td>\n",
       "    </tr>\n",
       "    <tr>\n",
       "      <th>1</th>\n",
       "      <td>3.5</td>\n",
       "      <td>3.5</td>\n",
       "      <td>3.5</td>\n",
       "    </tr>\n",
       "    <tr>\n",
       "      <th>2</th>\n",
       "      <td>3.0</td>\n",
       "      <td>3.5</td>\n",
       "      <td>3.5</td>\n",
       "    </tr>\n",
       "    <tr>\n",
       "      <th>3</th>\n",
       "      <td>8.0</td>\n",
       "      <td>3.5</td>\n",
       "      <td>3.5</td>\n",
       "    </tr>\n",
       "    <tr>\n",
       "      <th>4</th>\n",
       "      <td>2.0</td>\n",
       "      <td>3.5</td>\n",
       "      <td>3.5</td>\n",
       "    </tr>\n",
       "    <tr>\n",
       "      <th>5</th>\n",
       "      <td>3.0</td>\n",
       "      <td>3.5</td>\n",
       "      <td>3.5</td>\n",
       "    </tr>\n",
       "    <tr>\n",
       "      <th>6</th>\n",
       "      <td>4.0</td>\n",
       "      <td>3.5</td>\n",
       "      <td>3.5</td>\n",
       "    </tr>\n",
       "    <tr>\n",
       "      <th>7</th>\n",
       "      <td>6.0</td>\n",
       "      <td>3.5</td>\n",
       "      <td>3.5</td>\n",
       "    </tr>\n",
       "    <tr>\n",
       "      <th>8</th>\n",
       "      <td>2.0</td>\n",
       "      <td>3.5</td>\n",
       "      <td>3.5</td>\n",
       "    </tr>\n",
       "    <tr>\n",
       "      <th>9</th>\n",
       "      <td>400.0</td>\n",
       "      <td>3.5</td>\n",
       "      <td>3.5</td>\n",
       "    </tr>\n",
       "  </tbody>\n",
       "</table>\n",
       "</div>"
      ],
      "text/plain": [
       "   sample_int  nans  nones\n",
       "0         3.5   3.5    3.5\n",
       "1         3.5   3.5    3.5\n",
       "2         3.0   3.5    3.5\n",
       "3         8.0   3.5    3.5\n",
       "4         2.0   3.5    3.5\n",
       "5         3.0   3.5    3.5\n",
       "6         4.0   3.5    3.5\n",
       "7         6.0   3.5    3.5\n",
       "8         2.0   3.5    3.5\n",
       "9       400.0   3.5    3.5"
      ]
     },
     "execution_count": 15,
     "metadata": {},
     "output_type": "execute_result"
    }
   ],
   "source": [
    "# Can provide a specific number\n",
    "\n",
    "df_no_na = df.fillna(0) \n",
    "\n",
    "df_no_na = df.fillna(df.mean()) # note this can be handy\n",
    "df_no_na = df.fillna(np.nanmedian(df['sample_int'])) \n",
    "\n",
    "df_no_na\n"
   ]
  },
  {
   "cell_type": "code",
   "execution_count": 16,
   "id": "2e104d38",
   "metadata": {},
   "outputs": [
    {
     "data": {
      "text/html": [
       "<div>\n",
       "<style scoped>\n",
       "    .dataframe tbody tr th:only-of-type {\n",
       "        vertical-align: middle;\n",
       "    }\n",
       "\n",
       "    .dataframe tbody tr th {\n",
       "        vertical-align: top;\n",
       "    }\n",
       "\n",
       "    .dataframe thead th {\n",
       "        text-align: right;\n",
       "    }\n",
       "</style>\n",
       "<table border=\"1\" class=\"dataframe\">\n",
       "  <thead>\n",
       "    <tr style=\"text-align: right;\">\n",
       "      <th></th>\n",
       "      <th>sample_int</th>\n",
       "      <th>nans</th>\n",
       "      <th>nones</th>\n",
       "    </tr>\n",
       "  </thead>\n",
       "  <tbody>\n",
       "    <tr>\n",
       "      <th>0</th>\n",
       "      <td>NaN</td>\n",
       "      <td>NaN</td>\n",
       "      <td>None</td>\n",
       "    </tr>\n",
       "    <tr>\n",
       "      <th>1</th>\n",
       "      <td>NaN</td>\n",
       "      <td>NaN</td>\n",
       "      <td>None</td>\n",
       "    </tr>\n",
       "    <tr>\n",
       "      <th>2</th>\n",
       "      <td>3.0</td>\n",
       "      <td>NaN</td>\n",
       "      <td>None</td>\n",
       "    </tr>\n",
       "    <tr>\n",
       "      <th>3</th>\n",
       "      <td>8.0</td>\n",
       "      <td>NaN</td>\n",
       "      <td>None</td>\n",
       "    </tr>\n",
       "    <tr>\n",
       "      <th>4</th>\n",
       "      <td>8.0</td>\n",
       "      <td>NaN</td>\n",
       "      <td>None</td>\n",
       "    </tr>\n",
       "    <tr>\n",
       "      <th>5</th>\n",
       "      <td>3.0</td>\n",
       "      <td>NaN</td>\n",
       "      <td>None</td>\n",
       "    </tr>\n",
       "    <tr>\n",
       "      <th>6</th>\n",
       "      <td>4.0</td>\n",
       "      <td>NaN</td>\n",
       "      <td>None</td>\n",
       "    </tr>\n",
       "    <tr>\n",
       "      <th>7</th>\n",
       "      <td>6.0</td>\n",
       "      <td>NaN</td>\n",
       "      <td>None</td>\n",
       "    </tr>\n",
       "    <tr>\n",
       "      <th>8</th>\n",
       "      <td>2.0</td>\n",
       "      <td>NaN</td>\n",
       "      <td>None</td>\n",
       "    </tr>\n",
       "    <tr>\n",
       "      <th>9</th>\n",
       "      <td>400.0</td>\n",
       "      <td>NaN</td>\n",
       "      <td>None</td>\n",
       "    </tr>\n",
       "  </tbody>\n",
       "</table>\n",
       "</div>"
      ],
      "text/plain": [
       "   sample_int  nans nones\n",
       "0         NaN   NaN  None\n",
       "1         NaN   NaN  None\n",
       "2         3.0   NaN  None\n",
       "3         8.0   NaN  None\n",
       "4         8.0   NaN  None\n",
       "5         3.0   NaN  None\n",
       "6         4.0   NaN  None\n",
       "7         6.0   NaN  None\n",
       "8         2.0   NaN  None\n",
       "9       400.0   NaN  None"
      ]
     },
     "execution_count": 16,
     "metadata": {},
     "output_type": "execute_result"
    }
   ],
   "source": [
    "# Can also use the previous or next value in the sequence (handy for time series data)\n",
    "\n",
    "df.iloc[4, 0] = np.nan\n",
    "\n",
    "df\n",
    "\n",
    "df_no_na = df.fillna(method = 'pad', # alternative: 'bfill'\n",
    "                     limit = 1 # optional limit argument says how many consecutive times to do this\n",
    "                    )\n",
    "\n",
    "df_no_na"
   ]
  },
  {
   "cell_type": "markdown",
   "id": "498dbb40",
   "metadata": {},
   "source": [
    "Finally, pandas also provides tools for using *interpolation* to guess the missing value. \n",
    "\n",
    "We won't get into that here, but you can check out [this page](https://pandas.pydata.org/docs/user_guide/missing_data.html#interpolation) if you're curious."
   ]
  },
  {
   "cell_type": "markdown",
   "id": "df2c5a8a",
   "metadata": {},
   "source": [
    "### Outliers"
   ]
  },
  {
   "cell_type": "markdown",
   "id": "4d8a89ec",
   "metadata": {},
   "source": [
    "When you have data that includes large outliers, it may be okay to remove them from your data, but you should do this with caution! \n",
    "\n",
    "As a general rule, only remove outliers when you have a good justification for doing so.\n",
    "\n",
    "*What constitutes a good justification?*\n",
    "- If for whatever reason your analysis is only interested in values within a particular range\n",
    "- Or, more often, if you have strong reason to suspect that a datapoint was *generated differently* than the rest (for example, somebody falling asleep at the keyboard)\n",
    "\n",
    "In these cases, you typically set a criterion and remove rows that meet that criterion.\n"
   ]
  },
  {
   "cell_type": "code",
   "execution_count": 17,
   "id": "fb89c1ea",
   "metadata": {},
   "outputs": [
    {
     "data": {
      "text/html": [
       "<div>\n",
       "<style scoped>\n",
       "    .dataframe tbody tr th:only-of-type {\n",
       "        vertical-align: middle;\n",
       "    }\n",
       "\n",
       "    .dataframe tbody tr th {\n",
       "        vertical-align: top;\n",
       "    }\n",
       "\n",
       "    .dataframe thead th {\n",
       "        text-align: right;\n",
       "    }\n",
       "</style>\n",
       "<table border=\"1\" class=\"dataframe\">\n",
       "  <thead>\n",
       "    <tr style=\"text-align: right;\">\n",
       "      <th></th>\n",
       "      <th>sample_int</th>\n",
       "      <th>nans</th>\n",
       "      <th>nones</th>\n",
       "    </tr>\n",
       "  </thead>\n",
       "  <tbody>\n",
       "    <tr>\n",
       "      <th>2</th>\n",
       "      <td>3.0</td>\n",
       "      <td>NaN</td>\n",
       "      <td>None</td>\n",
       "    </tr>\n",
       "    <tr>\n",
       "      <th>3</th>\n",
       "      <td>8.0</td>\n",
       "      <td>NaN</td>\n",
       "      <td>None</td>\n",
       "    </tr>\n",
       "    <tr>\n",
       "      <th>5</th>\n",
       "      <td>3.0</td>\n",
       "      <td>NaN</td>\n",
       "      <td>None</td>\n",
       "    </tr>\n",
       "    <tr>\n",
       "      <th>6</th>\n",
       "      <td>4.0</td>\n",
       "      <td>NaN</td>\n",
       "      <td>None</td>\n",
       "    </tr>\n",
       "    <tr>\n",
       "      <th>7</th>\n",
       "      <td>6.0</td>\n",
       "      <td>NaN</td>\n",
       "      <td>None</td>\n",
       "    </tr>\n",
       "    <tr>\n",
       "      <th>8</th>\n",
       "      <td>2.0</td>\n",
       "      <td>NaN</td>\n",
       "      <td>None</td>\n",
       "    </tr>\n",
       "  </tbody>\n",
       "</table>\n",
       "</div>"
      ],
      "text/plain": [
       "   sample_int  nans nones\n",
       "2         3.0   NaN  None\n",
       "3         8.0   NaN  None\n",
       "5         3.0   NaN  None\n",
       "6         4.0   NaN  None\n",
       "7         6.0   NaN  None\n",
       "8         2.0   NaN  None"
      ]
     },
     "execution_count": 17,
     "metadata": {},
     "output_type": "execute_result"
    }
   ],
   "source": [
    "\n",
    "\n",
    "# np.std(df.sample_int) # can specify e.g., values > X standard deviations above the mean\n",
    "# thresh = np.mean(df.sample_int) + 3*np.std(df.sample_int)\n",
    "\n",
    "np.nanquantile(df.sample_int, [0.95]) # or, similarly, the top N% of data points\n",
    "thresh = np.nanquantile(df.sample_int, [0.95])[0]\n",
    "\n",
    "thresh\n",
    "\n",
    "df_no_outliers = df[df.sample_int <= thresh]\n",
    "\n",
    "df_no_outliers"
   ]
  },
  {
   "cell_type": "code",
   "execution_count": null,
   "id": "3a2dc880",
   "metadata": {},
   "outputs": [],
   "source": []
  }
 ],
 "metadata": {
  "interpreter": {
   "hash": "e774977668b7c0ae8309835a5187aa7fbf7669e7d0bb59755bc63e573643edcd"
  },
  "kernelspec": {
   "display_name": "Python 3 (clean)",
   "language": "python",
   "name": "python3"
  },
  "language_info": {
   "codemirror_mode": {
    "name": "ipython",
    "version": 3
   },
   "file_extension": ".py",
   "mimetype": "text/x-python",
   "name": "python",
   "nbconvert_exporter": "python",
   "pygments_lexer": "ipython3",
   "version": "3.8.3"
  }
 },
 "nbformat": 4,
 "nbformat_minor": 5
}