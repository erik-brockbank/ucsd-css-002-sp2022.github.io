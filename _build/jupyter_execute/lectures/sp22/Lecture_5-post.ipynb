{
 "cells": [
  {
   "cell_type": "markdown",
   "id": "a823651b",
   "metadata": {},
   "source": [
    "# Lecture 5 (4/6/22)"
   ]
  },
  {
   "cell_type": "markdown",
   "id": "0140e118",
   "metadata": {},
   "source": [
    "*Last time we covered:*\n",
    "- Datahub\n",
    "- Functions\n",
    "- numpy basics"
   ]
  },
  {
   "cell_type": "markdown",
   "id": "c3521170",
   "metadata": {},
   "source": [
    "**Today's agenda:**\n",
    "- numpy wrap-up\n",
    "- pandas basics"
   ]
  },
  {
   "cell_type": "markdown",
   "id": "e76b45cd",
   "metadata": {},
   "source": [
    "# numpy wrap-up"
   ]
  },
  {
   "cell_type": "code",
   "execution_count": 1,
   "id": "67071af9",
   "metadata": {},
   "outputs": [],
   "source": [
    "import numpy as np"
   ]
  },
  {
   "cell_type": "markdown",
   "id": "871a5b57",
   "metadata": {},
   "source": [
    "*Recall from last time...*"
   ]
  },
  {
   "cell_type": "markdown",
   "id": "0a6cb11b",
   "metadata": {},
   "source": [
    "**What is it?**\n",
    "\n",
    "numpy is primarily:\n",
    "1. A class of array objects (the `ndarray`)\n",
    "2. A set of high-performance functions that can be executed over those arrays"
   ]
  },
  {
   "cell_type": "code",
   "execution_count": 2,
   "id": "8427040b",
   "metadata": {},
   "outputs": [
    {
     "data": {
      "text/plain": [
       "array([1, 2, 3, 4, 5, 6])"
      ]
     },
     "execution_count": 2,
     "metadata": {},
     "output_type": "execute_result"
    }
   ],
   "source": [
    "# 1. The ndarray\n",
    "boring_list = [1, 2, 3, 4, 5, 6] # traditional python list\n",
    "cool_array = np.array([1, 2, 3, 4, 5, 6]) # numpy ndarray\n",
    "\n",
    "cool_array"
   ]
  },
  {
   "cell_type": "code",
   "execution_count": 3,
   "id": "41e0650f",
   "metadata": {},
   "outputs": [
    {
     "data": {
      "text/plain": [
       "array([ 1,  4,  9, 16, 25, 36])"
      ]
     },
     "execution_count": 3,
     "metadata": {},
     "output_type": "execute_result"
    }
   ],
   "source": [
    "# 2. The functions\n",
    "y = np.square(cool_array)\n",
    "y\n",
    "# Note this is much simpler than what we would do to perform the equivalent operation on `boring_list` above"
   ]
  },
  {
   "cell_type": "markdown",
   "id": "dea12643",
   "metadata": {},
   "source": [
    "**Why use it?**\n",
    "\n",
    "This represents an improvement over traditional python `list` operations for several reasons:\n",
    "- It streamlines our code\n",
    "- It's way faster"
   ]
  },
  {
   "cell_type": "code",
   "execution_count": 4,
   "id": "36cb66a2",
   "metadata": {},
   "outputs": [
    {
     "data": {
      "text/plain": [
       "array([1.        , 0.5       , 0.33333333, 0.25      , 0.2       ,\n",
       "       0.16666667])"
      ]
     },
     "execution_count": 4,
     "metadata": {},
     "output_type": "execute_result"
    }
   ],
   "source": [
    "# The code streamlining:\n",
    "\n",
    "y = []\n",
    "for value in boring_list: # traditional python often requires using `for` loops to execute operations on lists\n",
    "    y.append(1/value)\n",
    "    \n",
    "y = 1/cool_array # numpy lets you apply intuitive operations to whole ndarrays at once\n",
    "y"
   ]
  },
  {
   "cell_type": "code",
   "execution_count": 5,
   "id": "489c9af9",
   "metadata": {},
   "outputs": [
    {
     "name": "stdout",
     "output_type": "stream",
     "text": [
      "974 µs ± 8.94 µs per loop (mean ± std. dev. of 7 runs, 1000 loops each)\n"
     ]
    },
    {
     "name": "stdout",
     "output_type": "stream",
     "text": [
      "6.68 µs ± 35.3 ns per loop (mean ± std. dev. of 7 runs, 100000 loops each)\n"
     ]
    }
   ],
   "source": [
    "# The speed:\n",
    "\n",
    "import random\n",
    "x = [random.random() for _ in range(10000)] \n",
    "array_x = np.asarray(x)\n",
    "\n",
    "%timeit y = [val**2 for val in x] # traditional python list-based approach\n",
    "%timeit array_y = np.square(array_x) # numpy\n"
   ]
  },
  {
   "cell_type": "markdown",
   "id": "525fef74",
   "metadata": {},
   "source": [
    "**Combining arrays**\n",
    "\n",
    "We can combine numpy arrays into multi-dimensional *matrices* and perform useful operations on those matrices."
   ]
  },
  {
   "cell_type": "code",
   "execution_count": 6,
   "id": "724b5085",
   "metadata": {},
   "outputs": [
    {
     "name": "stdout",
     "output_type": "stream",
     "text": [
      "[[0.17217509 0.15332329]\n",
      " [0.26333173 0.76431115]\n",
      " [0.33724    0.87353003]]\n"
     ]
    }
   ],
   "source": [
    "a = np.random.random((3, 2)) # can initialize matrices with 0s, 1s, random numbers, and other cool stuff\n",
    "print(a)"
   ]
  },
  {
   "cell_type": "code",
   "execution_count": 7,
   "id": "7e7b11eb",
   "metadata": {},
   "outputs": [
    {
     "data": {
      "text/plain": [
       "numpy.ndarray"
      ]
     },
     "execution_count": 7,
     "metadata": {},
     "output_type": "execute_result"
    }
   ],
   "source": [
    "# We can access individual rows or columns and individual elements using bracket [row, col] notation\n",
    "a[0,]\n",
    "a[:,1] \n",
    "# a[1,1]\n",
    "# note each of these rows/columns is itself a numpy array\n",
    "type(a[:,0])"
   ]
  },
  {
   "cell_type": "code",
   "execution_count": 8,
   "id": "7496467a",
   "metadata": {},
   "outputs": [],
   "source": [
    "# print(np.max(a)) # maximum operation over the whole matrix\n",
    "# print(np.max(a, axis = 1)) # maximum operation can specify an \"axis\": 0 (columns) or 1 (rows)"
   ]
  },
  {
   "cell_type": "markdown",
   "id": "2d8b648f",
   "metadata": {},
   "source": [
    "We'll come across numpy at various points throughout the quarter but this should be enough to get us on our feet. \n",
    "\n",
    "You can learn more about numpy and follow the beginner's guide on their website [here](https://numpy.org/doc/stable/user/absolute_beginners.html).\n",
    "\n",
    "For now, it's time to switch to a new tool in our computational social science toolkit.... *pandas*"
   ]
  },
  {
   "cell_type": "markdown",
   "id": "6568846f",
   "metadata": {},
   "source": [
    "# Pandas!"
   ]
  },
  {
   "cell_type": "markdown",
   "id": "978f521c",
   "metadata": {},
   "source": [
    "![panda](img/red_panda.jpeg)"
   ]
  },
  {
   "cell_type": "markdown",
   "id": "7c914103",
   "metadata": {},
   "source": [
    "## First, what is pandas?"
   ]
  },
  {
   "cell_type": "markdown",
   "id": "291ea45d",
   "metadata": {},
   "source": [
    "[pandas](https://pandas.pydata.org/docs/index.html) is a python library for reading, writing, and interacting with *tabular* data. \n",
    "\n",
    "This is convenient because a lot of data is *tabular* data. It's kind of like Excel for python (but way cooler...).\n",
    "\n",
    "There's a *really awesome* cheat sheet [here](https://pandas.pydata.org/Pandas_Cheat_Sheet.pdf) and a series of handy tutorials [here](https://pandas.pydata.org/docs/getting_started/intro_tutorials/index.html). "
   ]
  },
  {
   "cell_type": "code",
   "execution_count": 9,
   "id": "1ff26959",
   "metadata": {},
   "outputs": [],
   "source": [
    "import pandas as pd"
   ]
  },
  {
   "cell_type": "markdown",
   "id": "76ac439f",
   "metadata": {},
   "source": [
    "In this class, we will use pandas as the basis for reading, processing, and understanding our data.\n",
    "\n",
    "Let's get started!"
   ]
  },
  {
   "cell_type": "markdown",
   "id": "a40d6ac5",
   "metadata": {},
   "source": [
    "## Reading data with pandas"
   ]
  },
  {
   "cell_type": "code",
   "execution_count": 10,
   "id": "1f10ef04",
   "metadata": {},
   "outputs": [],
   "source": [
    "# mcd = pd.read_csv(\"../Datasets/mcd.csv\")\n",
    "mcd = pd.read_csv(\"https://raw.githubusercontent.com/UCSD-CSS-002/ucsd-css-002.github.io/master/datasets/mcd-menu.csv\")"
   ]
  },
  {
   "cell_type": "markdown",
   "id": "1996cb03",
   "metadata": {},
   "source": [
    "Note: there are lots of other ways to read in data, including directly from hosted links online."
   ]
  },
  {
   "cell_type": "code",
   "execution_count": 11,
   "id": "5ef434c2",
   "metadata": {},
   "outputs": [],
   "source": [
    "pd.read_csv?"
   ]
  },
  {
   "cell_type": "markdown",
   "id": "0e407ec8",
   "metadata": {},
   "source": [
    "### What is in this dataset?"
   ]
  },
  {
   "cell_type": "code",
   "execution_count": 12,
   "id": "d2709d57",
   "metadata": {},
   "outputs": [
    {
     "data": {
      "text/html": [
       "<div>\n",
       "<style scoped>\n",
       "    .dataframe tbody tr th:only-of-type {\n",
       "        vertical-align: middle;\n",
       "    }\n",
       "\n",
       "    .dataframe tbody tr th {\n",
       "        vertical-align: top;\n",
       "    }\n",
       "\n",
       "    .dataframe thead th {\n",
       "        text-align: right;\n",
       "    }\n",
       "</style>\n",
       "<table border=\"1\" class=\"dataframe\">\n",
       "  <thead>\n",
       "    <tr style=\"text-align: right;\">\n",
       "      <th></th>\n",
       "      <th>Category</th>\n",
       "      <th>Item</th>\n",
       "      <th>Serving Size</th>\n",
       "      <th>Calories</th>\n",
       "      <th>Calories from Fat</th>\n",
       "      <th>Total Fat</th>\n",
       "      <th>Total Fat (% Daily Value)</th>\n",
       "      <th>Saturated Fat</th>\n",
       "      <th>Saturated Fat (% Daily Value)</th>\n",
       "      <th>Trans Fat</th>\n",
       "      <th>...</th>\n",
       "      <th>Carbohydrates</th>\n",
       "      <th>Carbohydrates (% Daily Value)</th>\n",
       "      <th>Dietary Fiber</th>\n",
       "      <th>Dietary Fiber (% Daily Value)</th>\n",
       "      <th>Sugars</th>\n",
       "      <th>Protein</th>\n",
       "      <th>Vitamin A (% Daily Value)</th>\n",
       "      <th>Vitamin C (% Daily Value)</th>\n",
       "      <th>Calcium (% Daily Value)</th>\n",
       "      <th>Iron (% Daily Value)</th>\n",
       "    </tr>\n",
       "  </thead>\n",
       "  <tbody>\n",
       "    <tr>\n",
       "      <th>0</th>\n",
       "      <td>Breakfast</td>\n",
       "      <td>Egg McMuffin</td>\n",
       "      <td>4.8 oz (136 g)</td>\n",
       "      <td>300</td>\n",
       "      <td>120</td>\n",
       "      <td>13.0</td>\n",
       "      <td>20</td>\n",
       "      <td>5.0</td>\n",
       "      <td>25</td>\n",
       "      <td>0.0</td>\n",
       "      <td>...</td>\n",
       "      <td>31</td>\n",
       "      <td>10</td>\n",
       "      <td>4</td>\n",
       "      <td>17</td>\n",
       "      <td>3</td>\n",
       "      <td>17</td>\n",
       "      <td>10</td>\n",
       "      <td>0</td>\n",
       "      <td>25</td>\n",
       "      <td>15</td>\n",
       "    </tr>\n",
       "    <tr>\n",
       "      <th>1</th>\n",
       "      <td>Breakfast</td>\n",
       "      <td>Egg White Delight</td>\n",
       "      <td>4.8 oz (135 g)</td>\n",
       "      <td>250</td>\n",
       "      <td>70</td>\n",
       "      <td>8.0</td>\n",
       "      <td>12</td>\n",
       "      <td>3.0</td>\n",
       "      <td>15</td>\n",
       "      <td>0.0</td>\n",
       "      <td>...</td>\n",
       "      <td>30</td>\n",
       "      <td>10</td>\n",
       "      <td>4</td>\n",
       "      <td>17</td>\n",
       "      <td>3</td>\n",
       "      <td>18</td>\n",
       "      <td>6</td>\n",
       "      <td>0</td>\n",
       "      <td>25</td>\n",
       "      <td>8</td>\n",
       "    </tr>\n",
       "    <tr>\n",
       "      <th>2</th>\n",
       "      <td>Breakfast</td>\n",
       "      <td>Sausage McMuffin</td>\n",
       "      <td>3.9 oz (111 g)</td>\n",
       "      <td>370</td>\n",
       "      <td>200</td>\n",
       "      <td>23.0</td>\n",
       "      <td>35</td>\n",
       "      <td>8.0</td>\n",
       "      <td>42</td>\n",
       "      <td>0.0</td>\n",
       "      <td>...</td>\n",
       "      <td>29</td>\n",
       "      <td>10</td>\n",
       "      <td>4</td>\n",
       "      <td>17</td>\n",
       "      <td>2</td>\n",
       "      <td>14</td>\n",
       "      <td>8</td>\n",
       "      <td>0</td>\n",
       "      <td>25</td>\n",
       "      <td>10</td>\n",
       "    </tr>\n",
       "    <tr>\n",
       "      <th>3</th>\n",
       "      <td>Breakfast</td>\n",
       "      <td>Sausage McMuffin with Egg</td>\n",
       "      <td>5.7 oz (161 g)</td>\n",
       "      <td>450</td>\n",
       "      <td>250</td>\n",
       "      <td>28.0</td>\n",
       "      <td>43</td>\n",
       "      <td>10.0</td>\n",
       "      <td>52</td>\n",
       "      <td>0.0</td>\n",
       "      <td>...</td>\n",
       "      <td>30</td>\n",
       "      <td>10</td>\n",
       "      <td>4</td>\n",
       "      <td>17</td>\n",
       "      <td>2</td>\n",
       "      <td>21</td>\n",
       "      <td>15</td>\n",
       "      <td>0</td>\n",
       "      <td>30</td>\n",
       "      <td>15</td>\n",
       "    </tr>\n",
       "    <tr>\n",
       "      <th>4</th>\n",
       "      <td>Breakfast</td>\n",
       "      <td>Sausage McMuffin with Egg Whites</td>\n",
       "      <td>5.7 oz (161 g)</td>\n",
       "      <td>400</td>\n",
       "      <td>210</td>\n",
       "      <td>23.0</td>\n",
       "      <td>35</td>\n",
       "      <td>8.0</td>\n",
       "      <td>42</td>\n",
       "      <td>0.0</td>\n",
       "      <td>...</td>\n",
       "      <td>30</td>\n",
       "      <td>10</td>\n",
       "      <td>4</td>\n",
       "      <td>17</td>\n",
       "      <td>2</td>\n",
       "      <td>21</td>\n",
       "      <td>6</td>\n",
       "      <td>0</td>\n",
       "      <td>25</td>\n",
       "      <td>10</td>\n",
       "    </tr>\n",
       "    <tr>\n",
       "      <th>...</th>\n",
       "      <td>...</td>\n",
       "      <td>...</td>\n",
       "      <td>...</td>\n",
       "      <td>...</td>\n",
       "      <td>...</td>\n",
       "      <td>...</td>\n",
       "      <td>...</td>\n",
       "      <td>...</td>\n",
       "      <td>...</td>\n",
       "      <td>...</td>\n",
       "      <td>...</td>\n",
       "      <td>...</td>\n",
       "      <td>...</td>\n",
       "      <td>...</td>\n",
       "      <td>...</td>\n",
       "      <td>...</td>\n",
       "      <td>...</td>\n",
       "      <td>...</td>\n",
       "      <td>...</td>\n",
       "      <td>...</td>\n",
       "      <td>...</td>\n",
       "    </tr>\n",
       "    <tr>\n",
       "      <th>255</th>\n",
       "      <td>Smoothies &amp; Shakes</td>\n",
       "      <td>McFlurry with Oreo Cookies (Small)</td>\n",
       "      <td>10.1 oz (285 g)</td>\n",
       "      <td>510</td>\n",
       "      <td>150</td>\n",
       "      <td>17.0</td>\n",
       "      <td>26</td>\n",
       "      <td>9.0</td>\n",
       "      <td>44</td>\n",
       "      <td>0.5</td>\n",
       "      <td>...</td>\n",
       "      <td>80</td>\n",
       "      <td>27</td>\n",
       "      <td>1</td>\n",
       "      <td>4</td>\n",
       "      <td>64</td>\n",
       "      <td>12</td>\n",
       "      <td>15</td>\n",
       "      <td>0</td>\n",
       "      <td>40</td>\n",
       "      <td>8</td>\n",
       "    </tr>\n",
       "    <tr>\n",
       "      <th>256</th>\n",
       "      <td>Smoothies &amp; Shakes</td>\n",
       "      <td>McFlurry with Oreo Cookies (Medium)</td>\n",
       "      <td>13.4 oz (381 g)</td>\n",
       "      <td>690</td>\n",
       "      <td>200</td>\n",
       "      <td>23.0</td>\n",
       "      <td>35</td>\n",
       "      <td>12.0</td>\n",
       "      <td>58</td>\n",
       "      <td>1.0</td>\n",
       "      <td>...</td>\n",
       "      <td>106</td>\n",
       "      <td>35</td>\n",
       "      <td>1</td>\n",
       "      <td>5</td>\n",
       "      <td>85</td>\n",
       "      <td>15</td>\n",
       "      <td>20</td>\n",
       "      <td>0</td>\n",
       "      <td>50</td>\n",
       "      <td>10</td>\n",
       "    </tr>\n",
       "    <tr>\n",
       "      <th>257</th>\n",
       "      <td>Smoothies &amp; Shakes</td>\n",
       "      <td>McFlurry with Oreo Cookies (Snack)</td>\n",
       "      <td>6.7 oz (190 g)</td>\n",
       "      <td>340</td>\n",
       "      <td>100</td>\n",
       "      <td>11.0</td>\n",
       "      <td>17</td>\n",
       "      <td>6.0</td>\n",
       "      <td>29</td>\n",
       "      <td>0.0</td>\n",
       "      <td>...</td>\n",
       "      <td>53</td>\n",
       "      <td>18</td>\n",
       "      <td>1</td>\n",
       "      <td>2</td>\n",
       "      <td>43</td>\n",
       "      <td>8</td>\n",
       "      <td>10</td>\n",
       "      <td>0</td>\n",
       "      <td>25</td>\n",
       "      <td>6</td>\n",
       "    </tr>\n",
       "    <tr>\n",
       "      <th>258</th>\n",
       "      <td>Smoothies &amp; Shakes</td>\n",
       "      <td>McFlurry with Reese's Peanut Butter Cups (Medium)</td>\n",
       "      <td>14.2 oz (403 g)</td>\n",
       "      <td>810</td>\n",
       "      <td>290</td>\n",
       "      <td>32.0</td>\n",
       "      <td>50</td>\n",
       "      <td>15.0</td>\n",
       "      <td>76</td>\n",
       "      <td>1.0</td>\n",
       "      <td>...</td>\n",
       "      <td>114</td>\n",
       "      <td>38</td>\n",
       "      <td>2</td>\n",
       "      <td>9</td>\n",
       "      <td>103</td>\n",
       "      <td>21</td>\n",
       "      <td>20</td>\n",
       "      <td>0</td>\n",
       "      <td>60</td>\n",
       "      <td>6</td>\n",
       "    </tr>\n",
       "    <tr>\n",
       "      <th>259</th>\n",
       "      <td>Smoothies &amp; Shakes</td>\n",
       "      <td>McFlurry with Reese's Peanut Butter Cups (Snack)</td>\n",
       "      <td>7.1 oz (202 g)</td>\n",
       "      <td>410</td>\n",
       "      <td>150</td>\n",
       "      <td>16.0</td>\n",
       "      <td>25</td>\n",
       "      <td>8.0</td>\n",
       "      <td>38</td>\n",
       "      <td>0.0</td>\n",
       "      <td>...</td>\n",
       "      <td>57</td>\n",
       "      <td>19</td>\n",
       "      <td>1</td>\n",
       "      <td>5</td>\n",
       "      <td>51</td>\n",
       "      <td>10</td>\n",
       "      <td>10</td>\n",
       "      <td>0</td>\n",
       "      <td>30</td>\n",
       "      <td>4</td>\n",
       "    </tr>\n",
       "  </tbody>\n",
       "</table>\n",
       "<p>260 rows × 24 columns</p>\n",
       "</div>"
      ],
      "text/plain": [
       "               Category                                               Item  \\\n",
       "0             Breakfast                                       Egg McMuffin   \n",
       "1             Breakfast                                  Egg White Delight   \n",
       "2             Breakfast                                   Sausage McMuffin   \n",
       "3             Breakfast                          Sausage McMuffin with Egg   \n",
       "4             Breakfast                   Sausage McMuffin with Egg Whites   \n",
       "..                  ...                                                ...   \n",
       "255  Smoothies & Shakes                 McFlurry with Oreo Cookies (Small)   \n",
       "256  Smoothies & Shakes                McFlurry with Oreo Cookies (Medium)   \n",
       "257  Smoothies & Shakes                 McFlurry with Oreo Cookies (Snack)   \n",
       "258  Smoothies & Shakes  McFlurry with Reese's Peanut Butter Cups (Medium)   \n",
       "259  Smoothies & Shakes   McFlurry with Reese's Peanut Butter Cups (Snack)   \n",
       "\n",
       "        Serving Size  Calories  Calories from Fat  Total Fat  \\\n",
       "0     4.8 oz (136 g)       300                120       13.0   \n",
       "1     4.8 oz (135 g)       250                 70        8.0   \n",
       "2     3.9 oz (111 g)       370                200       23.0   \n",
       "3     5.7 oz (161 g)       450                250       28.0   \n",
       "4     5.7 oz (161 g)       400                210       23.0   \n",
       "..               ...       ...                ...        ...   \n",
       "255  10.1 oz (285 g)       510                150       17.0   \n",
       "256  13.4 oz (381 g)       690                200       23.0   \n",
       "257   6.7 oz (190 g)       340                100       11.0   \n",
       "258  14.2 oz (403 g)       810                290       32.0   \n",
       "259   7.1 oz (202 g)       410                150       16.0   \n",
       "\n",
       "     Total Fat (% Daily Value)  Saturated Fat  Saturated Fat (% Daily Value)  \\\n",
       "0                           20            5.0                             25   \n",
       "1                           12            3.0                             15   \n",
       "2                           35            8.0                             42   \n",
       "3                           43           10.0                             52   \n",
       "4                           35            8.0                             42   \n",
       "..                         ...            ...                            ...   \n",
       "255                         26            9.0                             44   \n",
       "256                         35           12.0                             58   \n",
       "257                         17            6.0                             29   \n",
       "258                         50           15.0                             76   \n",
       "259                         25            8.0                             38   \n",
       "\n",
       "     Trans Fat  ...  Carbohydrates  Carbohydrates (% Daily Value)  \\\n",
       "0          0.0  ...             31                             10   \n",
       "1          0.0  ...             30                             10   \n",
       "2          0.0  ...             29                             10   \n",
       "3          0.0  ...             30                             10   \n",
       "4          0.0  ...             30                             10   \n",
       "..         ...  ...            ...                            ...   \n",
       "255        0.5  ...             80                             27   \n",
       "256        1.0  ...            106                             35   \n",
       "257        0.0  ...             53                             18   \n",
       "258        1.0  ...            114                             38   \n",
       "259        0.0  ...             57                             19   \n",
       "\n",
       "     Dietary Fiber  Dietary Fiber (% Daily Value)  Sugars  Protein  \\\n",
       "0                4                             17       3       17   \n",
       "1                4                             17       3       18   \n",
       "2                4                             17       2       14   \n",
       "3                4                             17       2       21   \n",
       "4                4                             17       2       21   \n",
       "..             ...                            ...     ...      ...   \n",
       "255              1                              4      64       12   \n",
       "256              1                              5      85       15   \n",
       "257              1                              2      43        8   \n",
       "258              2                              9     103       21   \n",
       "259              1                              5      51       10   \n",
       "\n",
       "     Vitamin A (% Daily Value)  Vitamin C (% Daily Value)  \\\n",
       "0                           10                          0   \n",
       "1                            6                          0   \n",
       "2                            8                          0   \n",
       "3                           15                          0   \n",
       "4                            6                          0   \n",
       "..                         ...                        ...   \n",
       "255                         15                          0   \n",
       "256                         20                          0   \n",
       "257                         10                          0   \n",
       "258                         20                          0   \n",
       "259                         10                          0   \n",
       "\n",
       "     Calcium (% Daily Value)  Iron (% Daily Value)  \n",
       "0                         25                    15  \n",
       "1                         25                     8  \n",
       "2                         25                    10  \n",
       "3                         30                    15  \n",
       "4                         25                    10  \n",
       "..                       ...                   ...  \n",
       "255                       40                     8  \n",
       "256                       50                    10  \n",
       "257                       25                     6  \n",
       "258                       60                     6  \n",
       "259                       30                     4  \n",
       "\n",
       "[260 rows x 24 columns]"
      ]
     },
     "execution_count": 12,
     "metadata": {},
     "output_type": "execute_result"
    }
   ],
   "source": [
    "mcd"
   ]
  },
  {
   "cell_type": "markdown",
   "id": "3ee7b8b2",
   "metadata": {},
   "source": [
    "Note: printing out the whole dataset is often not the best way to look at it, and sometimes totally infeasible.\n",
    "\n",
    "`pandas` offers several very handy tools for peeking at data."
   ]
  },
  {
   "cell_type": "code",
   "execution_count": 13,
   "id": "bd0e4f79",
   "metadata": {},
   "outputs": [
    {
     "data": {
      "text/plain": [
       "Coffee & Tea          95\n",
       "Breakfast             42\n",
       "Smoothies & Shakes    28\n",
       "Chicken & Fish        27\n",
       "Beverages             27\n",
       "Beef & Pork           15\n",
       "Snacks & Sides        13\n",
       "Desserts               7\n",
       "Salads                 6\n",
       "Name: Category, dtype: int64"
      ]
     },
     "execution_count": 13,
     "metadata": {},
     "output_type": "execute_result"
    }
   ],
   "source": [
    "mcd\n",
    "mcd.shape # number of rows and number of columns\n",
    "\n",
    "mcd.head() # this is usually enough to get a sense of what's going on in our data\n",
    "mcd.head(10) # sometimes useful to look at more rows than the default\n",
    "mcd.tail() # if you're curious what kind of values or responses are at the \"end\" of your dataset\n",
    "\n",
    "mcd.columns # helpful when the data has too many columns to preview (as in this data!)\n",
    "mcd.index # we'll come back to this...\n",
    "\n",
    "mcd.describe() # note: this isn't all our columns! only numeric ones\n",
    "mcd.Category.value_counts() # this is the equivalent of `describe` for our categorical variables"
   ]
  },
  {
   "cell_type": "markdown",
   "id": "d7cfe0f6",
   "metadata": {},
   "source": [
    "Note all except the last of these are operations applied directly to the pandas *data frame* `mcd` (more on this later)."
   ]
  },
  {
   "cell_type": "markdown",
   "id": "67be7fa6",
   "metadata": {},
   "source": [
    "### What can we do with this data?"
   ]
  },
  {
   "cell_type": "markdown",
   "id": "b4238941",
   "metadata": {},
   "source": [
    "*Basic*\n",
    "- Which menu items have the most protein? Calories? Largest serving size?\n",
    "- How many items does McDonald's offer for each meal (breakfast, lunch, dinner)?\n",
    "\n",
    "*Intermediate*\n",
    "- What are the healthiest and least healthy items on the menu?\n",
    "- What *meal* (breakfast, lunch, dinner, snack) is the most healthy or unhealthy overall? \n",
    "\n",
    "*Advanced*\n",
    "- Can we identify how McDonald's segments the healthy choice preferences of their customers by clustering the profiles of each menu item?"
   ]
  },
  {
   "cell_type": "markdown",
   "id": "48b80f88",
   "metadata": {},
   "source": [
    "### Why pandas?"
   ]
  },
  {
   "cell_type": "markdown",
   "id": "f837fcb1",
   "metadata": {},
   "source": [
    "Before we go any further, pause and think about how you would store this data with traditional python data structures: *a list of lists?* *Many separate dictionaries?* *A menu item class with each attribute and all items in a list?*\n",
    "\n",
    "Think about how we would answer the questions above using traditional python operations over those data structures.\n",
    "\n",
    "**The ways we routinely interact with data require many different kinds of (sometimes complicated) operations and data structures that can support those operations (we've already seen some of this above just to look at the data in different ways).**\n",
    "\n",
    "We want the *flexibility of code* but the *structure of tools like Excel* to solve these problems.\n",
    "\n",
    "This is where `pandas` comes in!"
   ]
  },
  {
   "cell_type": "markdown",
   "id": "4397ebc1",
   "metadata": {},
   "source": [
    "## How does it work?"
   ]
  },
  {
   "cell_type": "code",
   "execution_count": 14,
   "id": "f2c7ff37",
   "metadata": {},
   "outputs": [
    {
     "data": {
      "text/plain": [
       "pandas.core.frame.DataFrame"
      ]
     },
     "execution_count": 14,
     "metadata": {},
     "output_type": "execute_result"
    }
   ],
   "source": [
    "type(mcd)"
   ]
  },
  {
   "cell_type": "markdown",
   "id": "1b1f18dd",
   "metadata": {},
   "source": [
    "Tabular data is stored in pandas as a `DataFrame`.\n",
    "\n",
    "A pandas data frame is essentially like a table in Excel and has similar corollaries in R, STATA, etc.\n",
    "\n",
    "It stores data organized by columns, and has some very nifty properties."
   ]
  },
  {
   "cell_type": "code",
   "execution_count": 15,
   "id": "4e5c1af5",
   "metadata": {},
   "outputs": [
    {
     "data": {
      "text/plain": [
       "pandas.core.series.Series"
      ]
     },
     "execution_count": 15,
     "metadata": {},
     "output_type": "execute_result"
    }
   ],
   "source": [
    "# Let's look at the 'Item' column\n",
    "menu_items = mcd['Item']\n",
    "menu_items\n",
    "type(menu_items)"
   ]
  },
  {
   "cell_type": "markdown",
   "id": "496f9f42",
   "metadata": {},
   "source": [
    "Each column in a pandas dataframe is a pandas `Series`. \n",
    "\n",
    "A pandas series is a lot like a numpy array, but with one additional property: the *index*."
   ]
  },
  {
   "cell_type": "code",
   "execution_count": 16,
   "id": "736e7b11",
   "metadata": {},
   "outputs": [
    {
     "data": {
      "text/plain": [
       "RangeIndex(start=0, stop=260, step=1)"
      ]
     },
     "execution_count": 16,
     "metadata": {},
     "output_type": "execute_result"
    }
   ],
   "source": [
    "menu_items.index"
   ]
  },
  {
   "cell_type": "markdown",
   "id": "ef54cd99",
   "metadata": {},
   "source": [
    "The index is a unique value used to identify each row in the series. \n",
    "\n",
    "You can use the index to fetch individual items in the series. \n",
    "\n",
    "By default, pandas just uses the row number as the index for the values in each column. "
   ]
  },
  {
   "cell_type": "code",
   "execution_count": 17,
   "id": "484f577c",
   "metadata": {},
   "outputs": [
    {
     "data": {
      "text/plain": [
       "'Sausage McMuffin'"
      ]
     },
     "execution_count": 17,
     "metadata": {},
     "output_type": "execute_result"
    }
   ],
   "source": [
    "menu_items[2]"
   ]
  },
  {
   "cell_type": "markdown",
   "id": "8706a1c2",
   "metadata": {},
   "source": [
    "In this way, it's a lot like a normal list or numpy array.\n",
    "\n",
    "But, in pandas an index can use unique values of any *hashable type*."
   ]
  },
  {
   "cell_type": "code",
   "execution_count": 18,
   "id": "b4f0ea4f",
   "metadata": {},
   "outputs": [
    {
     "data": {
      "text/plain": [
       "Item\n",
       "Egg McMuffin                                         300\n",
       "Egg White Delight                                    250\n",
       "Sausage McMuffin                                     370\n",
       "Sausage McMuffin with Egg                            450\n",
       "Sausage McMuffin with Egg Whites                     400\n",
       "                                                    ... \n",
       "McFlurry with Oreo Cookies (Small)                   510\n",
       "McFlurry with Oreo Cookies (Medium)                  690\n",
       "McFlurry with Oreo Cookies (Snack)                   340\n",
       "McFlurry with Reese's Peanut Butter Cups (Medium)    810\n",
       "McFlurry with Reese's Peanut Butter Cups (Snack)     410\n",
       "Length: 260, dtype: int64"
      ]
     },
     "execution_count": 18,
     "metadata": {},
     "output_type": "execute_result"
    }
   ],
   "source": [
    "menu_cals = mcd['Calories'] # Let's fetch the `Calories` column\n",
    "menu_cals\n",
    "menu_cals.index # Here's the default index\n",
    "\n",
    "# Instead, let's use each menu item as an index\n",
    "menu_cals_item = pd.Series(list(mcd['Calories']), index = menu_items)\n",
    "menu_cals_item"
   ]
  },
  {
   "cell_type": "markdown",
   "id": "adf736f3",
   "metadata": {},
   "source": [
    "Now, we can access items in the list using this new index!"
   ]
  },
  {
   "cell_type": "code",
   "execution_count": 19,
   "id": "cc9cb63a",
   "metadata": {},
   "outputs": [
    {
     "data": {
      "text/plain": [
       "300"
      ]
     },
     "execution_count": 19,
     "metadata": {},
     "output_type": "execute_result"
    }
   ],
   "source": [
    "menu_cals_item['Egg McMuffin']"
   ]
  },
  {
   "cell_type": "markdown",
   "id": "68e9182e",
   "metadata": {},
   "source": [
    "What does it look like when we can look up array items with strings as keys?"
   ]
  },
  {
   "cell_type": "code",
   "execution_count": 20,
   "id": "6a25cebc",
   "metadata": {},
   "outputs": [
    {
     "data": {
      "text/plain": [
       "dict_values([300, 250, 370, 450, 400, 430, 460, 520, 410, 470, 430, 480, 510, 570, 460, 520, 410, 470, 540, 460, 400, 420, 550, 500, 620, 570, 670, 740, 800, 640, 690, 1090, 1150, 990, 1050, 350, 520, 300, 150, 460, 290, 260, 530, 520, 600, 610, 540, 750, 240, 290, 430, 720, 380, 440, 430, 430, 500, 510, 350, 670, 510, 610, 450, 750, 590, 430, 360, 480, 430, 360, 630, 480, 610, 450, 670, 520, 540, 380, 190, 280, 470, 940, 1880, 390, 140, 380, 220, 140, 450, 290, 340, 260, 330, 250, 360, 280, 230, 340, 510, 110, 20, 15, 150, 250, 160, 150, 45, 330, 340, 280, 140, 200, 280, 100, 0, 0, 0, 0, 140, 190, 270, 100, 0, 0, 0, 0, 140, 200, 280, 100, 100, 130, 80, 150, 190, 280, 0, 0, 0, 0, 0, 150, 180, 220, 110, 0, 0, 0, 170, 210, 280, 270, 340, 430, 270, 330, 430, 260, 330, 420, 210, 260, 330, 100, 130, 170, 200, 250, 310, 200, 250, 310, 190, 240, 300, 140, 170, 220, 340, 410, 500, 270, 330, 390, 320, 390, 480, 250, 310, 370, 360, 440, 540, 280, 340, 400, 140, 190, 270, 130, 180, 260, 130, 180, 250, 120, 170, 240, 80, 120, 160, 290, 350, 480, 240, 290, 390, 280, 340, 460, 230, 270, 370, 450, 550, 670, 450, 550, 670, 530, 630, 760, 220, 260, 340, 210, 250, 330, 210, 260, 340, 530, 660, 820, 550, 690, 850, 560, 700, 850, 660, 820, 650, 930, 430, 510, 690, 340, 810, 410])"
      ]
     },
     "execution_count": 20,
     "metadata": {},
     "output_type": "execute_result"
    }
   ],
   "source": [
    "# We can access `index` and `values` just like dictionary keys and values\n",
    "menu_cals_item.index\n",
    "menu_cals_item.values\n",
    "\n",
    "\n",
    "# This functions just like a dictionary in traditional python\n",
    "menu_cals_lookup = dict()\n",
    "for i in range(len(menu_items)):\n",
    "    menu_cals_lookup[menu_items[i]] = menu_cals[i]\n",
    "\n",
    "menu_cals_lookup\n",
    "menu_cals_lookup.keys()\n",
    "menu_cals_lookup.values()"
   ]
  },
  {
   "cell_type": "markdown",
   "id": "74208eb0",
   "metadata": {},
   "source": [
    "## Take-aways"
   ]
  },
  {
   "cell_type": "markdown",
   "id": "322e75c2",
   "metadata": {},
   "source": [
    "- A pandas `DataFrame` stores tabular data in rows and columns\n",
    "- Each column is a pandas `Series` object\n",
    "- A pandas `Series` is similar to a numpy array (fixed `dtype`) but has an *index* that allows for rapid and flexible data access"
   ]
  },
  {
   "cell_type": "markdown",
   "id": "ca3d4398",
   "metadata": {},
   "source": [
    "## Accessing data in a data frame"
   ]
  },
  {
   "cell_type": "markdown",
   "id": "3cafa1de",
   "metadata": {},
   "source": [
    "In the code above, we used bracket notation `dataframe['col']` to access column data.\n",
    "\n",
    "There are a number of different ways to access columns in a data frame.\n",
    "\n",
    "Any of these are fine, best to pick one and stick with it (and know the others exist)."
   ]
  },
  {
   "cell_type": "code",
   "execution_count": 21,
   "id": "0d120931",
   "metadata": {},
   "outputs": [
    {
     "data": {
      "text/plain": [
       "0                                           Egg McMuffin\n",
       "1                                      Egg White Delight\n",
       "2                                       Sausage McMuffin\n",
       "3                              Sausage McMuffin with Egg\n",
       "4                       Sausage McMuffin with Egg Whites\n",
       "                             ...                        \n",
       "255                   McFlurry with Oreo Cookies (Small)\n",
       "256                  McFlurry with Oreo Cookies (Medium)\n",
       "257                   McFlurry with Oreo Cookies (Snack)\n",
       "258    McFlurry with Reese's Peanut Butter Cups (Medium)\n",
       "259     McFlurry with Reese's Peanut Butter Cups (Snack)\n",
       "Name: Item, Length: 260, dtype: object"
      ]
     },
     "execution_count": 21,
     "metadata": {},
     "output_type": "execute_result"
    }
   ],
   "source": [
    "# Accessing individual columns\n",
    "menu_items = mcd['Item']\n",
    "menu_items = mcd.Item\n",
    "menu_items = mcd.loc[:, 'Item']\n",
    "menu_items = mcd.iloc[:,1]\n",
    "menu_items\n"
   ]
  },
  {
   "cell_type": "markdown",
   "id": "f7b50bb6",
   "metadata": {},
   "source": [
    "Many of these let us access multiple columns at once:"
   ]
  },
  {
   "cell_type": "code",
   "execution_count": 22,
   "id": "8762a71d",
   "metadata": {},
   "outputs": [
    {
     "data": {
      "text/html": [
       "<div>\n",
       "<style scoped>\n",
       "    .dataframe tbody tr th:only-of-type {\n",
       "        vertical-align: middle;\n",
       "    }\n",
       "\n",
       "    .dataframe tbody tr th {\n",
       "        vertical-align: top;\n",
       "    }\n",
       "\n",
       "    .dataframe thead th {\n",
       "        text-align: right;\n",
       "    }\n",
       "</style>\n",
       "<table border=\"1\" class=\"dataframe\">\n",
       "  <thead>\n",
       "    <tr style=\"text-align: right;\">\n",
       "      <th></th>\n",
       "      <th>Item</th>\n",
       "      <th>Serving Size</th>\n",
       "      <th>Total Fat</th>\n",
       "    </tr>\n",
       "  </thead>\n",
       "  <tbody>\n",
       "    <tr>\n",
       "      <th>0</th>\n",
       "      <td>Egg McMuffin</td>\n",
       "      <td>4.8 oz (136 g)</td>\n",
       "      <td>13.0</td>\n",
       "    </tr>\n",
       "    <tr>\n",
       "      <th>1</th>\n",
       "      <td>Egg White Delight</td>\n",
       "      <td>4.8 oz (135 g)</td>\n",
       "      <td>8.0</td>\n",
       "    </tr>\n",
       "    <tr>\n",
       "      <th>2</th>\n",
       "      <td>Sausage McMuffin</td>\n",
       "      <td>3.9 oz (111 g)</td>\n",
       "      <td>23.0</td>\n",
       "    </tr>\n",
       "    <tr>\n",
       "      <th>3</th>\n",
       "      <td>Sausage McMuffin with Egg</td>\n",
       "      <td>5.7 oz (161 g)</td>\n",
       "      <td>28.0</td>\n",
       "    </tr>\n",
       "    <tr>\n",
       "      <th>4</th>\n",
       "      <td>Sausage McMuffin with Egg Whites</td>\n",
       "      <td>5.7 oz (161 g)</td>\n",
       "      <td>23.0</td>\n",
       "    </tr>\n",
       "    <tr>\n",
       "      <th>...</th>\n",
       "      <td>...</td>\n",
       "      <td>...</td>\n",
       "      <td>...</td>\n",
       "    </tr>\n",
       "    <tr>\n",
       "      <th>255</th>\n",
       "      <td>McFlurry with Oreo Cookies (Small)</td>\n",
       "      <td>10.1 oz (285 g)</td>\n",
       "      <td>17.0</td>\n",
       "    </tr>\n",
       "    <tr>\n",
       "      <th>256</th>\n",
       "      <td>McFlurry with Oreo Cookies (Medium)</td>\n",
       "      <td>13.4 oz (381 g)</td>\n",
       "      <td>23.0</td>\n",
       "    </tr>\n",
       "    <tr>\n",
       "      <th>257</th>\n",
       "      <td>McFlurry with Oreo Cookies (Snack)</td>\n",
       "      <td>6.7 oz (190 g)</td>\n",
       "      <td>11.0</td>\n",
       "    </tr>\n",
       "    <tr>\n",
       "      <th>258</th>\n",
       "      <td>McFlurry with Reese's Peanut Butter Cups (Medium)</td>\n",
       "      <td>14.2 oz (403 g)</td>\n",
       "      <td>32.0</td>\n",
       "    </tr>\n",
       "    <tr>\n",
       "      <th>259</th>\n",
       "      <td>McFlurry with Reese's Peanut Butter Cups (Snack)</td>\n",
       "      <td>7.1 oz (202 g)</td>\n",
       "      <td>16.0</td>\n",
       "    </tr>\n",
       "  </tbody>\n",
       "</table>\n",
       "<p>260 rows × 3 columns</p>\n",
       "</div>"
      ],
      "text/plain": [
       "                                                  Item     Serving Size  \\\n",
       "0                                         Egg McMuffin   4.8 oz (136 g)   \n",
       "1                                    Egg White Delight   4.8 oz (135 g)   \n",
       "2                                     Sausage McMuffin   3.9 oz (111 g)   \n",
       "3                            Sausage McMuffin with Egg   5.7 oz (161 g)   \n",
       "4                     Sausage McMuffin with Egg Whites   5.7 oz (161 g)   \n",
       "..                                                 ...              ...   \n",
       "255                 McFlurry with Oreo Cookies (Small)  10.1 oz (285 g)   \n",
       "256                McFlurry with Oreo Cookies (Medium)  13.4 oz (381 g)   \n",
       "257                 McFlurry with Oreo Cookies (Snack)   6.7 oz (190 g)   \n",
       "258  McFlurry with Reese's Peanut Butter Cups (Medium)  14.2 oz (403 g)   \n",
       "259   McFlurry with Reese's Peanut Butter Cups (Snack)   7.1 oz (202 g)   \n",
       "\n",
       "     Total Fat  \n",
       "0         13.0  \n",
       "1          8.0  \n",
       "2         23.0  \n",
       "3         28.0  \n",
       "4         23.0  \n",
       "..         ...  \n",
       "255       17.0  \n",
       "256       23.0  \n",
       "257       11.0  \n",
       "258       32.0  \n",
       "259       16.0  \n",
       "\n",
       "[260 rows x 3 columns]"
      ]
     },
     "execution_count": 22,
     "metadata": {},
     "output_type": "execute_result"
    }
   ],
   "source": [
    "menu_subset = mcd[['Item', 'Category', 'Calories']] # Access specific columns by name\n",
    "menu_subset = mcd.loc[:, 'Category':'Calories'] # Access a range of columns by name\n",
    "menu_subset = mcd.iloc[:,1:4] # Access a range of columns by index\n",
    "menu_subset = mcd.iloc[:,[1, 2, 5]] # Access specific columns by index\n",
    "menu_subset"
   ]
  }
 ],
 "metadata": {
  "interpreter": {
   "hash": "e774977668b7c0ae8309835a5187aa7fbf7669e7d0bb59755bc63e573643edcd"
  },
  "kernelspec": {
   "display_name": "Python 3 (clean)",
   "language": "python",
   "name": "python3"
  },
  "language_info": {
   "codemirror_mode": {
    "name": "ipython",
    "version": 3
   },
   "file_extension": ".py",
   "mimetype": "text/x-python",
   "name": "python",
   "nbconvert_exporter": "python",
   "pygments_lexer": "ipython3",
   "version": "3.8.3"
  }
 },
 "nbformat": 4,
 "nbformat_minor": 5
}