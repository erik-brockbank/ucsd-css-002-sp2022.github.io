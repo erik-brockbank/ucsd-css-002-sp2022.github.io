{
 "cells": [
  {
   "cell_type": "markdown",
   "id": "62c7e6f5",
   "metadata": {},
   "source": [
    "# Lecture 15 (4/29/2022)"
   ]
  },
  {
   "cell_type": "markdown",
   "id": "a1ea5e3d",
   "metadata": {},
   "source": [
    "**Announcements**\n",
    "- Pset 4 will be released today, due next Friday 5/6"
   ]
  },
  {
   "cell_type": "markdown",
   "id": "cac90fc6",
   "metadata": {},
   "source": [
    "*Last time we covered:*\n",
    "- Evaluating regression: $R^2$, out-of-sample prediction, parameter interpretation\n",
    "\n",
    "**Today's agenda:**\n",
    "- Polynomial regression, multiple regression\n"
   ]
  },
  {
   "cell_type": "code",
   "execution_count": 1,
   "id": "aa6ebecc",
   "metadata": {},
   "outputs": [],
   "source": [
    "import numpy as np\n",
    "import pandas as pd\n",
    "import matplotlib.pyplot as plt\n",
    "import seaborn as sns"
   ]
  },
  {
   "cell_type": "code",
   "execution_count": 2,
   "id": "dfdb87b0",
   "metadata": {},
   "outputs": [
    {
     "data": {
      "text/html": [
       "<div>\n",
       "<style scoped>\n",
       "    .dataframe tbody tr th:only-of-type {\n",
       "        vertical-align: middle;\n",
       "    }\n",
       "\n",
       "    .dataframe tbody tr th {\n",
       "        vertical-align: top;\n",
       "    }\n",
       "\n",
       "    .dataframe thead th {\n",
       "        text-align: right;\n",
       "    }\n",
       "</style>\n",
       "<table border=\"1\" class=\"dataframe\">\n",
       "  <thead>\n",
       "    <tr style=\"text-align: right;\">\n",
       "      <th></th>\n",
       "      <th>mpg</th>\n",
       "      <th>cylinders</th>\n",
       "      <th>displacement</th>\n",
       "      <th>horsepower</th>\n",
       "      <th>weight</th>\n",
       "      <th>acceleration</th>\n",
       "      <th>model_year</th>\n",
       "      <th>origin</th>\n",
       "      <th>name</th>\n",
       "    </tr>\n",
       "  </thead>\n",
       "  <tbody>\n",
       "    <tr>\n",
       "      <th>0</th>\n",
       "      <td>18.0</td>\n",
       "      <td>8</td>\n",
       "      <td>307.0</td>\n",
       "      <td>130.0</td>\n",
       "      <td>3504</td>\n",
       "      <td>12.0</td>\n",
       "      <td>70</td>\n",
       "      <td>usa</td>\n",
       "      <td>chevrolet chevelle malibu</td>\n",
       "    </tr>\n",
       "    <tr>\n",
       "      <th>1</th>\n",
       "      <td>15.0</td>\n",
       "      <td>8</td>\n",
       "      <td>350.0</td>\n",
       "      <td>165.0</td>\n",
       "      <td>3693</td>\n",
       "      <td>11.5</td>\n",
       "      <td>70</td>\n",
       "      <td>usa</td>\n",
       "      <td>buick skylark 320</td>\n",
       "    </tr>\n",
       "    <tr>\n",
       "      <th>2</th>\n",
       "      <td>18.0</td>\n",
       "      <td>8</td>\n",
       "      <td>318.0</td>\n",
       "      <td>150.0</td>\n",
       "      <td>3436</td>\n",
       "      <td>11.0</td>\n",
       "      <td>70</td>\n",
       "      <td>usa</td>\n",
       "      <td>plymouth satellite</td>\n",
       "    </tr>\n",
       "    <tr>\n",
       "      <th>3</th>\n",
       "      <td>16.0</td>\n",
       "      <td>8</td>\n",
       "      <td>304.0</td>\n",
       "      <td>150.0</td>\n",
       "      <td>3433</td>\n",
       "      <td>12.0</td>\n",
       "      <td>70</td>\n",
       "      <td>usa</td>\n",
       "      <td>amc rebel sst</td>\n",
       "    </tr>\n",
       "    <tr>\n",
       "      <th>4</th>\n",
       "      <td>17.0</td>\n",
       "      <td>8</td>\n",
       "      <td>302.0</td>\n",
       "      <td>140.0</td>\n",
       "      <td>3449</td>\n",
       "      <td>10.5</td>\n",
       "      <td>70</td>\n",
       "      <td>usa</td>\n",
       "      <td>ford torino</td>\n",
       "    </tr>\n",
       "    <tr>\n",
       "      <th>...</th>\n",
       "      <td>...</td>\n",
       "      <td>...</td>\n",
       "      <td>...</td>\n",
       "      <td>...</td>\n",
       "      <td>...</td>\n",
       "      <td>...</td>\n",
       "      <td>...</td>\n",
       "      <td>...</td>\n",
       "      <td>...</td>\n",
       "    </tr>\n",
       "    <tr>\n",
       "      <th>387</th>\n",
       "      <td>27.0</td>\n",
       "      <td>4</td>\n",
       "      <td>140.0</td>\n",
       "      <td>86.0</td>\n",
       "      <td>2790</td>\n",
       "      <td>15.6</td>\n",
       "      <td>82</td>\n",
       "      <td>usa</td>\n",
       "      <td>ford mustang gl</td>\n",
       "    </tr>\n",
       "    <tr>\n",
       "      <th>388</th>\n",
       "      <td>44.0</td>\n",
       "      <td>4</td>\n",
       "      <td>97.0</td>\n",
       "      <td>52.0</td>\n",
       "      <td>2130</td>\n",
       "      <td>24.6</td>\n",
       "      <td>82</td>\n",
       "      <td>europe</td>\n",
       "      <td>vw pickup</td>\n",
       "    </tr>\n",
       "    <tr>\n",
       "      <th>389</th>\n",
       "      <td>32.0</td>\n",
       "      <td>4</td>\n",
       "      <td>135.0</td>\n",
       "      <td>84.0</td>\n",
       "      <td>2295</td>\n",
       "      <td>11.6</td>\n",
       "      <td>82</td>\n",
       "      <td>usa</td>\n",
       "      <td>dodge rampage</td>\n",
       "    </tr>\n",
       "    <tr>\n",
       "      <th>390</th>\n",
       "      <td>28.0</td>\n",
       "      <td>4</td>\n",
       "      <td>120.0</td>\n",
       "      <td>79.0</td>\n",
       "      <td>2625</td>\n",
       "      <td>18.6</td>\n",
       "      <td>82</td>\n",
       "      <td>usa</td>\n",
       "      <td>ford ranger</td>\n",
       "    </tr>\n",
       "    <tr>\n",
       "      <th>391</th>\n",
       "      <td>31.0</td>\n",
       "      <td>4</td>\n",
       "      <td>119.0</td>\n",
       "      <td>82.0</td>\n",
       "      <td>2720</td>\n",
       "      <td>19.4</td>\n",
       "      <td>82</td>\n",
       "      <td>usa</td>\n",
       "      <td>chevy s-10</td>\n",
       "    </tr>\n",
       "  </tbody>\n",
       "</table>\n",
       "<p>392 rows × 9 columns</p>\n",
       "</div>"
      ],
      "text/plain": [
       "      mpg  cylinders  displacement  horsepower  weight  acceleration  \\\n",
       "0    18.0          8         307.0       130.0    3504          12.0   \n",
       "1    15.0          8         350.0       165.0    3693          11.5   \n",
       "2    18.0          8         318.0       150.0    3436          11.0   \n",
       "3    16.0          8         304.0       150.0    3433          12.0   \n",
       "4    17.0          8         302.0       140.0    3449          10.5   \n",
       "..    ...        ...           ...         ...     ...           ...   \n",
       "387  27.0          4         140.0        86.0    2790          15.6   \n",
       "388  44.0          4          97.0        52.0    2130          24.6   \n",
       "389  32.0          4         135.0        84.0    2295          11.6   \n",
       "390  28.0          4         120.0        79.0    2625          18.6   \n",
       "391  31.0          4         119.0        82.0    2720          19.4   \n",
       "\n",
       "     model_year  origin                       name  \n",
       "0            70     usa  chevrolet chevelle malibu  \n",
       "1            70     usa          buick skylark 320  \n",
       "2            70     usa         plymouth satellite  \n",
       "3            70     usa              amc rebel sst  \n",
       "4            70     usa                ford torino  \n",
       "..          ...     ...                        ...  \n",
       "387          82     usa            ford mustang gl  \n",
       "388          82  europe                  vw pickup  \n",
       "389          82     usa              dodge rampage  \n",
       "390          82     usa                ford ranger  \n",
       "391          82     usa                 chevy s-10  \n",
       "\n",
       "[392 rows x 9 columns]"
      ]
     },
     "execution_count": 2,
     "metadata": {},
     "output_type": "execute_result"
    }
   ],
   "source": [
    "# Read in and prepare the data we were using last time\n",
    "mpg = sns.load_dataset('mpg')\n",
    "mpg_clean = mpg.dropna().reset_index(drop = True)\n",
    "\n",
    "mpg_clean"
   ]
  },
  {
   "cell_type": "markdown",
   "id": "c8e3d210",
   "metadata": {},
   "source": [
    "# Review: Evaluating linear regression\n",
    "\n",
    "In last lecture, we talked about three ways of checking that your regression fit the data well. \n",
    "1. $R^2$ *coefficient of determination*\n",
    "2. Out of sample prediction accuracy\n",
    "3. High confidence (and useful) parameter estimates\n",
    "\n",
    "\n",
    "Let's start by running through each of these in a little more detail since we didn't get much time to discuss them."
   ]
  },
  {
   "cell_type": "markdown",
   "id": "9266f4f5",
   "metadata": {},
   "source": [
    "## $R^2$, the *coefficient of determination*\n",
    "\n",
    "![determination](img/Determination.png)\n",
    "\n",
    "\n",
    "$ R^2 = 1 - \\dfrac{RSS}{TSS} $\n",
    "\n",
    "$ RSS = \\sum_{i=1}^{n}{(y_i - \\hat{y_i})}^2 $\n",
    "\n",
    "$ TSS = \\sum_{i=1}^{n}{(y_i - \\bar{y})}^2 $\n",
    "\n",
    "$R^2$ ranges between 0 and 1 and can be thought of as the *percentage of variance in $y$ that our model explains*.\n",
    "\n",
    "To understand how it works, remember that RSS is 0 when the regression *perfectly predicts our data* and RSS is equal to TSS when we just guess $\\bar{y}$ for every data point $y_i$ (worst case for our regression)."
   ]
  },
  {
   "cell_type": "code",
   "execution_count": 3,
   "id": "62327e67",
   "metadata": {},
   "outputs": [
    {
     "data": {
      "text/plain": [
       "0.74742549968982"
      ]
     },
     "execution_count": 3,
     "metadata": {},
     "output_type": "execute_result"
    }
   ],
   "source": [
    "# The scikit-learn LinearRegression class surfaces a function called `score` that computes R^2\n",
    "\n",
    "from sklearn.linear_model import LinearRegression\n",
    "\n",
    "# Format values\n",
    "x_vals = np.array(mpg_clean['weight']).reshape(len(mpg_clean['weight']), 1)\n",
    "y_vals = np.array(mpg_clean['horsepower'])\n",
    "\n",
    "# Fit regression\n",
    "mod = LinearRegression().fit(X = x_vals, y = y_vals)\n",
    "\n",
    "rsq_mod = mod.score(X = x_vals, y = y_vals) # R^2 value\n",
    "rsq_mod"
   ]
  },
  {
   "cell_type": "markdown",
   "id": "a7ffd3d1",
   "metadata": {},
   "source": [
    "Last time, we showed how to calculate the $R^2$ value by hand using the LinearRegression `predict` function. \n",
    "\n",
    "If you're feeling hazy on $R^2$, I recommend going back to the code from that lecture and going through the part where we calculate $R^2$.\n"
   ]
  },
  {
   "cell_type": "markdown",
   "id": "fb699105",
   "metadata": {},
   "source": [
    "***"
   ]
  },
  {
   "cell_type": "markdown",
   "id": "13b24466",
   "metadata": {},
   "source": [
    "## Out of sample prediction\n",
    "\n",
    "![train](img/train.jpeg)\n",
    "\n",
    "\n",
    "**Motivation** \n",
    "\n",
    "If our model is the right fit to our data, it should predict other data from the same underlying distribution or generative process pretty well.\n",
    "\n",
    "**How to check this**\n",
    "\n",
    "There are a lot of ways to test out of sample data which we'll get into in more detail on Monday, but the high-level approach is almost always:\n",
    "1. *Randomly* select a subset of your original data (20-25%) and set it aside as *test data*. The remaining data is your *training data*.\n",
    "2. Fit your model to the *training data only*. \n",
    "3. See how well your fitted model predicts the *test data*. Compare it to the predictions on the training data with something like *Mean Squared Error* (MSE). \n",
    "4. Often, repeat steps 1-3 in various ways (more on that later).\n",
    "\n",
    "**Comparing train and test performance**\n",
    "\n",
    "Step 3 above is critical. One common approach is to use *Mean Squared Error* (MSE):\n",
    "\n",
    "$ MSE = \\dfrac{1}{n - 2} \\sum_{i=1}^{n}{(y_i - \\hat{y_i})}^2 = \\dfrac{1}{n - 2} \\sum_{i=1}^{n}{\\epsilon_i}^2 $\n",
    "\n",
    "This tells you, on average, how close your model was to the true value across all the data points (the $n-2$ is specific to linear regression where we have two parameters, $\\beta_0$ and $\\beta_1$, so $n-2$ is our degrees of freedom)."
   ]
  },
  {
   "cell_type": "code",
   "execution_count": 4,
   "id": "0fb98c20",
   "metadata": {},
   "outputs": [
    {
     "name": "stdout",
     "output_type": "stream",
     "text": [
      "Training MSE: 362.70613120726557 \n",
      "Test MSE: 405.079291570969\n"
     ]
    }
   ],
   "source": [
    "from sklearn.model_selection import train_test_split # Use the sklearn `train_test_split` to make this easy\n",
    "from sklearn.metrics import mean_squared_error # Use the sklearn `mean_squared_error` for quick MSE calculation\n",
    "\n",
    "# Randomly sample 25% of our data points to be test data\n",
    "xtrain, xtest, ytrain, ytest = train_test_split(x_vals, \n",
    "                                                y_vals, \n",
    "                                                test_size = 0.25\n",
    "                                               )\n",
    "# Fit the model on the training data\n",
    "mod_tr = LinearRegression().fit(X = xtrain, y = ytrain)\n",
    "\n",
    "# Generate model predictions for the test data\n",
    "mod_preds_test = mod_tr.predict(X = xtest)\n",
    "\n",
    "# Compare MSE for the model predictions on train and test data\n",
    "mod_preds_train = mod_tr.predict(X = xtrain)\n",
    "\n",
    "mse_train = mean_squared_error(y_true = ytrain, y_pred = mod_preds_train)\n",
    "mse_train # Note this divides by n rather than n-2 but that's not super important for our purposes\n",
    "\n",
    "mse_test = mean_squared_error(y_true = ytest, y_pred = mod_preds_test)\n",
    "mse_test\n",
    "\n",
    "print(\"Training MSE: {} \\nTest MSE: {}\".format(mse_train, mse_test))"
   ]
  },
  {
   "cell_type": "markdown",
   "id": "1d8f174d",
   "metadata": {},
   "source": [
    "Just for fun, try running the code above several times and look at how different the values are. \n",
    "\n",
    "*More on this next week...*"
   ]
  },
  {
   "cell_type": "markdown",
   "id": "479ce863",
   "metadata": {},
   "source": [
    "***"
   ]
  },
  {
   "cell_type": "markdown",
   "id": "357855a4",
   "metadata": {},
   "source": [
    "## Parameter estimates\n",
    "\n",
    "![right](img/right.png)\n",
    "\n",
    "The criteria above are mostly concerned with whether we're doing *a good job predicting our $y$ values* with this model.\n",
    "\n",
    "In many cases, part of what we're concerned with isn't just how well we predict our data, but what kind of relationship our model estimates between $x$ and $y$. \n",
    "- How large or small is the slope?\n",
    "- How confident are we in the estimate?\n",
    "\n",
    "To assess this, we typically compute confidence bounds on the parameter estimates (95% confidence interval or standard error) and compare them to a null value of 0 using $t$ tests.\n",
    "\n",
    "**Linear regression parameter estimates are most useful when they are high confidence and significantly different from 0.**\n",
    "\n",
    "The sklearn `LinearRegression` class doesn't include functions for this sort of analysis, but other tools like the `statsmodels` regression class do."
   ]
  },
  {
   "cell_type": "code",
   "execution_count": 5,
   "id": "12af37be",
   "metadata": {},
   "outputs": [
    {
     "data": {
      "text/html": [
       "<table class=\"simpletable\">\n",
       "<caption>OLS Regression Results</caption>\n",
       "<tr>\n",
       "  <th>Dep. Variable:</th>       <td>horsepower</td>    <th>  R-squared:         </th> <td>   0.747</td> \n",
       "</tr>\n",
       "<tr>\n",
       "  <th>Model:</th>                   <td>OLS</td>       <th>  Adj. R-squared:    </th> <td>   0.747</td> \n",
       "</tr>\n",
       "<tr>\n",
       "  <th>Method:</th>             <td>Least Squares</td>  <th>  F-statistic:       </th> <td>   1154.</td> \n",
       "</tr>\n",
       "<tr>\n",
       "  <th>Date:</th>             <td>Tue, 14 Jun 2022</td> <th>  Prob (F-statistic):</th> <td>1.36e-118</td>\n",
       "</tr>\n",
       "<tr>\n",
       "  <th>Time:</th>                 <td>18:22:37</td>     <th>  Log-Likelihood:    </th> <td> -1717.0</td> \n",
       "</tr>\n",
       "<tr>\n",
       "  <th>No. Observations:</th>      <td>   392</td>      <th>  AIC:               </th> <td>   3438.</td> \n",
       "</tr>\n",
       "<tr>\n",
       "  <th>Df Residuals:</th>          <td>   390</td>      <th>  BIC:               </th> <td>   3446.</td> \n",
       "</tr>\n",
       "<tr>\n",
       "  <th>Df Model:</th>              <td>     1</td>      <th>                     </th>     <td> </td>    \n",
       "</tr>\n",
       "<tr>\n",
       "  <th>Covariance Type:</th>      <td>nonrobust</td>    <th>                     </th>     <td> </td>    \n",
       "</tr>\n",
       "</table>\n",
       "<table class=\"simpletable\">\n",
       "<tr>\n",
       "      <td></td>         <th>coef</th>     <th>std err</th>      <th>t</th>      <th>P>|t|</th>  <th>[0.025</th>    <th>0.975]</th>  \n",
       "</tr>\n",
       "<tr>\n",
       "  <th>Intercept</th> <td>  -12.1835</td> <td>    3.570</td> <td>   -3.412</td> <td> 0.001</td> <td>  -19.203</td> <td>   -5.164</td>\n",
       "</tr>\n",
       "<tr>\n",
       "  <th>weight</th>    <td>    0.0392</td> <td>    0.001</td> <td>   33.972</td> <td> 0.000</td> <td>    0.037</td> <td>    0.041</td>\n",
       "</tr>\n",
       "</table>\n",
       "<table class=\"simpletable\">\n",
       "<tr>\n",
       "  <th>Omnibus:</th>       <td>83.255</td> <th>  Durbin-Watson:     </th> <td>   1.014</td>\n",
       "</tr>\n",
       "<tr>\n",
       "  <th>Prob(Omnibus):</th> <td> 0.000</td> <th>  Jarque-Bera (JB):  </th> <td> 312.937</td>\n",
       "</tr>\n",
       "<tr>\n",
       "  <th>Skew:</th>          <td> 0.892</td> <th>  Prob(JB):          </th> <td>1.11e-68</td>\n",
       "</tr>\n",
       "<tr>\n",
       "  <th>Kurtosis:</th>      <td> 6.997</td> <th>  Cond. No.          </th> <td>1.13e+04</td>\n",
       "</tr>\n",
       "</table><br/><br/>Notes:<br/>[1] Standard Errors assume that the covariance matrix of the errors is correctly specified.<br/>[2] The condition number is large, 1.13e+04. This might indicate that there are<br/>strong multicollinearity or other numerical problems."
      ],
      "text/plain": [
       "<class 'statsmodels.iolib.summary.Summary'>\n",
       "\"\"\"\n",
       "                            OLS Regression Results                            \n",
       "==============================================================================\n",
       "Dep. Variable:             horsepower   R-squared:                       0.747\n",
       "Model:                            OLS   Adj. R-squared:                  0.747\n",
       "Method:                 Least Squares   F-statistic:                     1154.\n",
       "Date:                Tue, 14 Jun 2022   Prob (F-statistic):          1.36e-118\n",
       "Time:                        18:22:37   Log-Likelihood:                -1717.0\n",
       "No. Observations:                 392   AIC:                             3438.\n",
       "Df Residuals:                     390   BIC:                             3446.\n",
       "Df Model:                           1                                         \n",
       "Covariance Type:            nonrobust                                         \n",
       "==============================================================================\n",
       "                 coef    std err          t      P>|t|      [0.025      0.975]\n",
       "------------------------------------------------------------------------------\n",
       "Intercept    -12.1835      3.570     -3.412      0.001     -19.203      -5.164\n",
       "weight         0.0392      0.001     33.972      0.000       0.037       0.041\n",
       "==============================================================================\n",
       "Omnibus:                       83.255   Durbin-Watson:                   1.014\n",
       "Prob(Omnibus):                  0.000   Jarque-Bera (JB):              312.937\n",
       "Skew:                           0.892   Prob(JB):                     1.11e-68\n",
       "Kurtosis:                       6.997   Cond. No.                     1.13e+04\n",
       "==============================================================================\n",
       "\n",
       "Notes:\n",
       "[1] Standard Errors assume that the covariance matrix of the errors is correctly specified.\n",
       "[2] The condition number is large, 1.13e+04. This might indicate that there are\n",
       "strong multicollinearity or other numerical problems.\n",
       "\"\"\""
      ]
     },
     "execution_count": 5,
     "metadata": {},
     "output_type": "execute_result"
    }
   ],
   "source": [
    "import statsmodels.formula.api as smf\n",
    "\n",
    "# Fit the model\n",
    "results = smf.ols('horsepower ~ weight', data = mpg_clean).fit()\n",
    "\n",
    "# View the results\n",
    "results.summary()"
   ]
  },
  {
   "cell_type": "markdown",
   "id": "5f32f6a0",
   "metadata": {},
   "source": [
    "***"
   ]
  },
  {
   "cell_type": "markdown",
   "id": "6dc8506d",
   "metadata": {},
   "source": [
    "# Problems with simple linear regression\n",
    "\n",
    "![corr_ex](img/corr_ex.png)\n",
    "Disclaimer: this figure (from wikipedia) shows *correlation* values associated with these datasets, but the limitations of correlation in capturing these patterns holds for linear regression as well."
   ]
  },
  {
   "cell_type": "markdown",
   "id": "882c5313",
   "metadata": {},
   "source": [
    "## Polynomial regression: non-linear relationship between $x$ and $y$\n",
    "\n",
    "Non-linear data can take all kinds of forms, though there are probably a few that are most common.\n",
    "\n",
    "Let's take a look at a simple example from our cars dataset:"
   ]
  },
  {
   "cell_type": "code",
   "execution_count": 6,
   "id": "be22b76a",
   "metadata": {},
   "outputs": [
    {
     "data": {
      "text/plain": [
       "<seaborn.axisgrid.FacetGrid at 0x7fca8c5ecd90>"
      ]
     },
     "execution_count": 6,
     "metadata": {},
     "output_type": "execute_result"
    },
    {
     "data": {
      "image/png": "[encoded data removed]",
      "text/plain": [
       "<Figure size 360x360 with 1 Axes>"
      ]
     },
     "metadata": {
      "filenames": {
       "image/png": "/Users/erikbrockbank/web/teaching/ucsd-css-002-sp2022.github.io/_build/jupyter_execute/lectures/sp22/Lecture_15-pre_19_1.png"
      },
      "needs_background": "light"
     },
     "output_type": "display_data"
    }
   ],
   "source": [
    "sns.lmplot(data = mpg_clean, x = \"horsepower\", y = \"mpg\")"
   ]
  },
  {
   "cell_type": "markdown",
   "id": "e6be5ba0",
   "metadata": {},
   "source": [
    "Does this data have a linear relationship between $x$ and $y$? Seems like it might be more complicated.\n",
    "\n",
    "Enter: polynomial regression!"
   ]
  },
  {
   "cell_type": "markdown",
   "id": "5a65e7c5",
   "metadata": {},
   "source": [
    "### Polynomial regression: overview\n",
    "\n",
    "Polynomial regression is just like linear regression except that instead of fitting a linear function to the data, we fit higher degree polynomials. \n",
    "\n",
    "Previously, our simple linear regression model assumed that our data $(x_i, y_i)$ could be described as:\n",
    "\n",
    "$y_i = \\beta_0 + \\beta_1 x_i + \\epsilon_i$\n",
    "\n",
    "The OLS process estimates values for $\\beta_0$ and $\\beta_1$ that correspond to a straight line that minimizes $\\epsilon_i$.\n",
    "\n",
    "With polynomial regression, we extend this basic model to include functions of the form:\n",
    "\n",
    "$y_i = \\beta_0 + \\beta_1 x_i + \\beta_2 x_i^2 + \\epsilon_i$ for *degree 2* polynomial regression,\n",
    "\n",
    "$y_i = \\beta_0 + \\beta_1 x_i + \\beta_2 x_i^2 + \\beta_3 x_i^3 + \\epsilon_i$ for *degree 3* polynomial regression, \n",
    "\n",
    "$y_i = \\beta_0 + \\beta_1 x_i + \\beta_2 x_i^2 + \\beta_3 x_i^3 + \\ ... \\ + \\beta_n x_i^n + \\epsilon_i$ for *degree n* polynomial regression.\n",
    "\n",
    "Even though this seems much more complex, polynomial regression uses the same *Ordinary Least Squares* (OLS) parameter estimation as simple regression. You can think of simple linear regression as a special case of polynomial regression. \n",
    "\n",
    "**This gives us immense flexibility to fit more complex functions to our data.** Some of the data illustrated at the top of this section can *only* be modeled using more complex polynomials (see example below as well).\n",
    "\n",
    "**CAUTION**: most of the time you *don't* need polynomials to capture your data. Bad things happen when you use them for data that doesn't have an underlying non-linear structure. More on this on Monday.\n",
    "\n",
    "![poly](img/Poly.png)"
   ]
  },
  {
   "cell_type": "markdown",
   "id": "6551f44c",
   "metadata": {},
   "source": [
    "### Polynomial regression in python\n",
    "\n",
    "We can use the numpy `polyfit` library to fit 2nd and 3rd order polynomials to this data\n",
    "(Note: this is probably the simplest method, but there's code to use the familiar scikit learn approach as well below)."
   ]
  },
  {
   "cell_type": "code",
   "execution_count": 7,
   "id": "38e44a33",
   "metadata": {},
   "outputs": [],
   "source": [
    "# We can fit higher order polynomial functions to our data rather than just a linear function\n",
    "deg1_fits = np.polyfit(mpg_clean.horsepower, mpg_clean.mpg, 1)\n",
    "deg2_fits = np.polyfit(mpg_clean.horsepower, mpg_clean.mpg, 2)\n",
    "deg3_fits = np.polyfit(mpg_clean.horsepower, mpg_clean.mpg, 3)\n",
    "\n",
    "p1 = np.poly1d(deg1_fits)\n",
    "p2 = np.poly1d(deg2_fits)\n",
    "p3 = np.poly1d(deg3_fits)"
   ]
  },
  {
   "cell_type": "code",
   "execution_count": 8,
   "id": "7181eb03",
   "metadata": {},
   "outputs": [
    {
     "data": {
      "text/html": [
       "<div>\n",
       "<style scoped>\n",
       "    .dataframe tbody tr th:only-of-type {\n",
       "        vertical-align: middle;\n",
       "    }\n",
       "\n",
       "    .dataframe tbody tr th {\n",
       "        vertical-align: top;\n",
       "    }\n",
       "\n",
       "    .dataframe thead th {\n",
       "        text-align: right;\n",
       "    }\n",
       "</style>\n",
       "<table border=\"1\" class=\"dataframe\">\n",
       "  <thead>\n",
       "    <tr style=\"text-align: right;\">\n",
       "      <th></th>\n",
       "      <th>horsepower</th>\n",
       "      <th>mpg</th>\n",
       "      <th>deg1_pred</th>\n",
       "      <th>deg2_pred</th>\n",
       "      <th>deg3_pred</th>\n",
       "    </tr>\n",
       "  </thead>\n",
       "  <tbody>\n",
       "    <tr>\n",
       "      <th>0</th>\n",
       "      <td>130.0</td>\n",
       "      <td>18.0</td>\n",
       "      <td>19.416046</td>\n",
       "      <td>17.091508</td>\n",
       "      <td>17.153421</td>\n",
       "    </tr>\n",
       "    <tr>\n",
       "      <th>1</th>\n",
       "      <td>165.0</td>\n",
       "      <td>15.0</td>\n",
       "      <td>13.891480</td>\n",
       "      <td>13.480156</td>\n",
       "      <td>13.782683</td>\n",
       "    </tr>\n",
       "    <tr>\n",
       "      <th>2</th>\n",
       "      <td>150.0</td>\n",
       "      <td>18.0</td>\n",
       "      <td>16.259151</td>\n",
       "      <td>14.658717</td>\n",
       "      <td>14.890157</td>\n",
       "    </tr>\n",
       "    <tr>\n",
       "      <th>3</th>\n",
       "      <td>150.0</td>\n",
       "      <td>16.0</td>\n",
       "      <td>16.259151</td>\n",
       "      <td>14.658717</td>\n",
       "      <td>14.890157</td>\n",
       "    </tr>\n",
       "    <tr>\n",
       "      <th>4</th>\n",
       "      <td>140.0</td>\n",
       "      <td>17.0</td>\n",
       "      <td>17.837598</td>\n",
       "      <td>15.752059</td>\n",
       "      <td>15.904046</td>\n",
       "    </tr>\n",
       "    <tr>\n",
       "      <th>...</th>\n",
       "      <td>...</td>\n",
       "      <td>...</td>\n",
       "      <td>...</td>\n",
       "      <td>...</td>\n",
       "      <td>...</td>\n",
       "    </tr>\n",
       "    <tr>\n",
       "      <th>387</th>\n",
       "      <td>86.0</td>\n",
       "      <td>27.0</td>\n",
       "      <td>26.361214</td>\n",
       "      <td>25.908837</td>\n",
       "      <td>25.774667</td>\n",
       "    </tr>\n",
       "    <tr>\n",
       "      <th>388</th>\n",
       "      <td>52.0</td>\n",
       "      <td>44.0</td>\n",
       "      <td>31.727935</td>\n",
       "      <td>35.985609</td>\n",
       "      <td>36.424392</td>\n",
       "    </tr>\n",
       "    <tr>\n",
       "      <th>389</th>\n",
       "      <td>84.0</td>\n",
       "      <td>32.0</td>\n",
       "      <td>26.676903</td>\n",
       "      <td>26.422834</td>\n",
       "      <td>26.298564</td>\n",
       "    </tr>\n",
       "    <tr>\n",
       "      <th>390</th>\n",
       "      <td>79.0</td>\n",
       "      <td>28.0</td>\n",
       "      <td>27.466127</td>\n",
       "      <td>27.750895</td>\n",
       "      <td>27.662364</td>\n",
       "    </tr>\n",
       "    <tr>\n",
       "      <th>391</th>\n",
       "      <td>82.0</td>\n",
       "      <td>31.0</td>\n",
       "      <td>26.992593</td>\n",
       "      <td>26.946675</td>\n",
       "      <td>26.834765</td>\n",
       "    </tr>\n",
       "  </tbody>\n",
       "</table>\n",
       "<p>392 rows × 5 columns</p>\n",
       "</div>"
      ],
      "text/plain": [
       "     horsepower   mpg  deg1_pred  deg2_pred  deg3_pred\n",
       "0         130.0  18.0  19.416046  17.091508  17.153421\n",
       "1         165.0  15.0  13.891480  13.480156  13.782683\n",
       "2         150.0  18.0  16.259151  14.658717  14.890157\n",
       "3         150.0  16.0  16.259151  14.658717  14.890157\n",
       "4         140.0  17.0  17.837598  15.752059  15.904046\n",
       "..          ...   ...        ...        ...        ...\n",
       "387        86.0  27.0  26.361214  25.908837  25.774667\n",
       "388        52.0  44.0  31.727935  35.985609  36.424392\n",
       "389        84.0  32.0  26.676903  26.422834  26.298564\n",
       "390        79.0  28.0  27.466127  27.750895  27.662364\n",
       "391        82.0  31.0  26.992593  26.946675  26.834765\n",
       "\n",
       "[392 rows x 5 columns]"
      ]
     },
     "execution_count": 8,
     "metadata": {},
     "output_type": "execute_result"
    }
   ],
   "source": [
    "# What do the functions fitted above predict for our data?\n",
    "\n",
    "preds = mpg_clean.loc[:, ('horsepower', 'mpg')]\n",
    "\n",
    "preds['deg1_pred'] = p1(preds['horsepower'])\n",
    "preds['deg2_pred'] = p2(preds['horsepower'])\n",
    "preds['deg3_pred'] = p3(preds['horsepower'])\n",
    "\n",
    "preds\n",
    "\n",
    "preds_long = preds.melt(\n",
    "    id_vars = ['horsepower', 'mpg']\n",
    ")\n",
    "preds"
   ]
  },
  {
   "cell_type": "code",
   "execution_count": 9,
   "id": "e427aeaf",
   "metadata": {},
   "outputs": [
    {
     "data": {
      "text/plain": [
       "<AxesSubplot:xlabel='horsepower', ylabel='mpg'>"
      ]
     },
     "execution_count": 9,
     "metadata": {},
     "output_type": "execute_result"
    },
    {
     "data": {
      "image/png": "[encoded data removed]",
      "text/plain": [
       "<Figure size 432x288 with 1 Axes>"
      ]
     },
     "metadata": {
      "filenames": {
       "image/png": "/Users/erikbrockbank/web/teaching/ucsd-css-002-sp2022.github.io/_build/jupyter_execute/lectures/sp22/Lecture_15-pre_25_1.png"
      },
      "needs_background": "light"
     },
     "output_type": "display_data"
    }
   ],
   "source": [
    "# First, our original data\n",
    "sns.scatterplot(data = preds_long,\n",
    "                x = 'horsepower',\n",
    "                y = 'mpg',\n",
    "                color = 'm',\n",
    "                alpha = 0.1\n",
    "               )\n",
    "\n",
    "# Now add in our lines\n",
    "sns.lineplot(data = preds_long,\n",
    "             x = 'horsepower',\n",
    "             y = 'value',\n",
    "             hue = 'variable'\n",
    "            )"
   ]
  },
  {
   "cell_type": "markdown",
   "id": "7b3d02d8",
   "metadata": {},
   "source": [
    "Here's the solution using scikit learn; it's a bit more complicated, though it does let you keep using the `LinearRegression` class "
   ]
  },
  {
   "cell_type": "code",
   "execution_count": 10,
   "id": "2ae7873d",
   "metadata": {},
   "outputs": [
    {
     "data": {
      "text/plain": [
       "array([-0.46618963,  0.00123054])"
      ]
     },
     "execution_count": 10,
     "metadata": {},
     "output_type": "execute_result"
    }
   ],
   "source": [
    "from sklearn.preprocessing import PolynomialFeatures\n",
    "\n",
    "x_vals = np.array(mpg_clean['horsepower']).reshape(len(mpg_clean['horsepower']), 1)\n",
    "y_vals = np.array(mpg_clean['mpg'])\n",
    "preds = mpg_clean.loc[:, ('horsepower', 'mpg')]\n",
    "\n",
    "# Simple linear model\n",
    "mod1 = LinearRegression().fit(x_vals, y_vals)\n",
    "\n",
    "# 2nd order polynomial\n",
    "poly2 = PolynomialFeatures(degree = 2, include_bias = False)\n",
    "x2_features = poly2.fit_transform(x_vals)\n",
    "mod2 = LinearRegression().fit(x2_features, y_vals)\n",
    "\n",
    "\n",
    "# 3rd order polynomial\n",
    "poly3 = PolynomialFeatures(degree = 3, include_bias = False)\n",
    "x3_features = poly3.fit_transform(x_vals)\n",
    "mod3 = LinearRegression().fit(x3_features, y_vals)\n",
    "\n",
    "\n",
    "mod2.coef_\n",
    "# mod3.coef_"
   ]
  },
  {
   "cell_type": "code",
   "execution_count": 11,
   "id": "9f6225b1",
   "metadata": {},
   "outputs": [
    {
     "data": {
      "text/html": [
       "<div>\n",
       "<style scoped>\n",
       "    .dataframe tbody tr th:only-of-type {\n",
       "        vertical-align: middle;\n",
       "    }\n",
       "\n",
       "    .dataframe tbody tr th {\n",
       "        vertical-align: top;\n",
       "    }\n",
       "\n",
       "    .dataframe thead th {\n",
       "        text-align: right;\n",
       "    }\n",
       "</style>\n",
       "<table border=\"1\" class=\"dataframe\">\n",
       "  <thead>\n",
       "    <tr style=\"text-align: right;\">\n",
       "      <th></th>\n",
       "      <th>horsepower</th>\n",
       "      <th>mpg</th>\n",
       "      <th>deg1_pred</th>\n",
       "      <th>deg2_pred</th>\n",
       "      <th>deg3_pred</th>\n",
       "    </tr>\n",
       "  </thead>\n",
       "  <tbody>\n",
       "    <tr>\n",
       "      <th>0</th>\n",
       "      <td>130.0</td>\n",
       "      <td>18.0</td>\n",
       "      <td>19.416046</td>\n",
       "      <td>17.091508</td>\n",
       "      <td>17.153421</td>\n",
       "    </tr>\n",
       "    <tr>\n",
       "      <th>1</th>\n",
       "      <td>165.0</td>\n",
       "      <td>15.0</td>\n",
       "      <td>13.891480</td>\n",
       "      <td>13.480156</td>\n",
       "      <td>13.782683</td>\n",
       "    </tr>\n",
       "    <tr>\n",
       "      <th>2</th>\n",
       "      <td>150.0</td>\n",
       "      <td>18.0</td>\n",
       "      <td>16.259151</td>\n",
       "      <td>14.658717</td>\n",
       "      <td>14.890157</td>\n",
       "    </tr>\n",
       "    <tr>\n",
       "      <th>3</th>\n",
       "      <td>150.0</td>\n",
       "      <td>16.0</td>\n",
       "      <td>16.259151</td>\n",
       "      <td>14.658717</td>\n",
       "      <td>14.890157</td>\n",
       "    </tr>\n",
       "    <tr>\n",
       "      <th>4</th>\n",
       "      <td>140.0</td>\n",
       "      <td>17.0</td>\n",
       "      <td>17.837598</td>\n",
       "      <td>15.752059</td>\n",
       "      <td>15.904046</td>\n",
       "    </tr>\n",
       "    <tr>\n",
       "      <th>...</th>\n",
       "      <td>...</td>\n",
       "      <td>...</td>\n",
       "      <td>...</td>\n",
       "      <td>...</td>\n",
       "      <td>...</td>\n",
       "    </tr>\n",
       "    <tr>\n",
       "      <th>387</th>\n",
       "      <td>86.0</td>\n",
       "      <td>27.0</td>\n",
       "      <td>26.361214</td>\n",
       "      <td>25.908837</td>\n",
       "      <td>25.774667</td>\n",
       "    </tr>\n",
       "    <tr>\n",
       "      <th>388</th>\n",
       "      <td>52.0</td>\n",
       "      <td>44.0</td>\n",
       "      <td>31.727935</td>\n",
       "      <td>35.985609</td>\n",
       "      <td>36.424392</td>\n",
       "    </tr>\n",
       "    <tr>\n",
       "      <th>389</th>\n",
       "      <td>84.0</td>\n",
       "      <td>32.0</td>\n",
       "      <td>26.676903</td>\n",
       "      <td>26.422834</td>\n",
       "      <td>26.298564</td>\n",
       "    </tr>\n",
       "    <tr>\n",
       "      <th>390</th>\n",
       "      <td>79.0</td>\n",
       "      <td>28.0</td>\n",
       "      <td>27.466127</td>\n",
       "      <td>27.750895</td>\n",
       "      <td>27.662364</td>\n",
       "    </tr>\n",
       "    <tr>\n",
       "      <th>391</th>\n",
       "      <td>82.0</td>\n",
       "      <td>31.0</td>\n",
       "      <td>26.992593</td>\n",
       "      <td>26.946675</td>\n",
       "      <td>26.834765</td>\n",
       "    </tr>\n",
       "  </tbody>\n",
       "</table>\n",
       "<p>392 rows × 5 columns</p>\n",
       "</div>"
      ],
      "text/plain": [
       "     horsepower   mpg  deg1_pred  deg2_pred  deg3_pred\n",
       "0         130.0  18.0  19.416046  17.091508  17.153421\n",
       "1         165.0  15.0  13.891480  13.480156  13.782683\n",
       "2         150.0  18.0  16.259151  14.658717  14.890157\n",
       "3         150.0  16.0  16.259151  14.658717  14.890157\n",
       "4         140.0  17.0  17.837598  15.752059  15.904046\n",
       "..          ...   ...        ...        ...        ...\n",
       "387        86.0  27.0  26.361214  25.908837  25.774667\n",
       "388        52.0  44.0  31.727935  35.985609  36.424392\n",
       "389        84.0  32.0  26.676903  26.422834  26.298564\n",
       "390        79.0  28.0  27.466127  27.750895  27.662364\n",
       "391        82.0  31.0  26.992593  26.946675  26.834765\n",
       "\n",
       "[392 rows x 5 columns]"
      ]
     },
     "execution_count": 11,
     "metadata": {},
     "output_type": "execute_result"
    }
   ],
   "source": [
    "# Add predictions for each model so we can view how it does\n",
    "preds['deg1_pred'] = mod1.predict(x_vals)\n",
    "preds['deg2_pred'] = mod2.predict(x2_features)\n",
    "preds['deg3_pred'] = mod3.predict(x3_features)\n",
    "\n",
    "preds\n"
   ]
  },
  {
   "cell_type": "code",
   "execution_count": 12,
   "id": "564c9438",
   "metadata": {},
   "outputs": [
    {
     "data": {
      "text/plain": [
       "<AxesSubplot:xlabel='horsepower', ylabel='mpg'>"
      ]
     },
     "execution_count": 12,
     "metadata": {},
     "output_type": "execute_result"
    },
    {
     "data": {
      "image/png": "[encoded data removed]",
      "text/plain": [
       "<Figure size 432x288 with 1 Axes>"
      ]
     },
     "metadata": {
      "filenames": {
       "image/png": "/Users/erikbrockbank/web/teaching/ucsd-css-002-sp2022.github.io/_build/jupyter_execute/lectures/sp22/Lecture_15-pre_29_1.png"
      },
      "needs_background": "light"
     },
     "output_type": "display_data"
    }
   ],
   "source": [
    "preds_long = preds.melt(\n",
    "    id_vars = ['horsepower', 'mpg']\n",
    ")\n",
    "preds\n",
    "\n",
    "# First, our original data\n",
    "sns.scatterplot(data = preds_long,\n",
    "                x = 'horsepower',\n",
    "                y = 'mpg',\n",
    "                color = 'm',\n",
    "                alpha = 0.1\n",
    "               )\n",
    "\n",
    "# Now add in our lines\n",
    "sns.lineplot(data = preds_long,\n",
    "             x = 'horsepower',\n",
    "             y = 'value',\n",
    "             hue = 'variable'\n",
    "            )"
   ]
  },
  {
   "cell_type": "code",
   "execution_count": 13,
   "id": "b179fd89",
   "metadata": {},
   "outputs": [],
   "source": [
    "# Let's check the R^2 values for these models to see what kind of improvement we get\n",
    "# (more on this next week)\n",
    "\n"
   ]
  },
  {
   "cell_type": "markdown",
   "id": "a5078575",
   "metadata": {},
   "source": [
    "***"
   ]
  },
  {
   "cell_type": "markdown",
   "id": "d2c8a7cb",
   "metadata": {},
   "source": [
    "## Multiple regression: multiple predictors for $y$\n",
    "\n",
    "Another basic scenario that arises when predicting a continuous variable (probably more commonly than polynomial regression) is having *multiple predictors*.\n",
    "\n",
    "Let's take a look at an intuitive example:"
   ]
  },
  {
   "cell_type": "code",
   "execution_count": 14,
   "id": "402638bb",
   "metadata": {},
   "outputs": [
    {
     "data": {
      "text/html": [
       "<div>\n",
       "<style scoped>\n",
       "    .dataframe tbody tr th:only-of-type {\n",
       "        vertical-align: middle;\n",
       "    }\n",
       "\n",
       "    .dataframe tbody tr th {\n",
       "        vertical-align: top;\n",
       "    }\n",
       "\n",
       "    .dataframe thead th {\n",
       "        text-align: right;\n",
       "    }\n",
       "</style>\n",
       "<table border=\"1\" class=\"dataframe\">\n",
       "  <thead>\n",
       "    <tr style=\"text-align: right;\">\n",
       "      <th></th>\n",
       "      <th>country</th>\n",
       "      <th>year</th>\n",
       "      <th>lifeExp</th>\n",
       "      <th>pop</th>\n",
       "      <th>gdpPercap</th>\n",
       "      <th>logPop</th>\n",
       "      <th>logGdpPercap</th>\n",
       "    </tr>\n",
       "  </thead>\n",
       "  <tbody>\n",
       "    <tr>\n",
       "      <th>11</th>\n",
       "      <td>Afghanistan</td>\n",
       "      <td>2007</td>\n",
       "      <td>43.828</td>\n",
       "      <td>31889923</td>\n",
       "      <td>974.580338</td>\n",
       "      <td>7.503653</td>\n",
       "      <td>2.988818</td>\n",
       "    </tr>\n",
       "    <tr>\n",
       "      <th>23</th>\n",
       "      <td>Albania</td>\n",
       "      <td>2007</td>\n",
       "      <td>76.423</td>\n",
       "      <td>3600523</td>\n",
       "      <td>5937.029526</td>\n",
       "      <td>6.556366</td>\n",
       "      <td>3.773569</td>\n",
       "    </tr>\n",
       "    <tr>\n",
       "      <th>35</th>\n",
       "      <td>Algeria</td>\n",
       "      <td>2007</td>\n",
       "      <td>72.301</td>\n",
       "      <td>33333216</td>\n",
       "      <td>6223.367465</td>\n",
       "      <td>7.522877</td>\n",
       "      <td>3.794025</td>\n",
       "    </tr>\n",
       "    <tr>\n",
       "      <th>47</th>\n",
       "      <td>Angola</td>\n",
       "      <td>2007</td>\n",
       "      <td>42.731</td>\n",
       "      <td>12420476</td>\n",
       "      <td>4797.231267</td>\n",
       "      <td>7.094138</td>\n",
       "      <td>3.680991</td>\n",
       "    </tr>\n",
       "    <tr>\n",
       "      <th>59</th>\n",
       "      <td>Argentina</td>\n",
       "      <td>2007</td>\n",
       "      <td>75.320</td>\n",
       "      <td>40301927</td>\n",
       "      <td>12779.379640</td>\n",
       "      <td>7.605326</td>\n",
       "      <td>4.106510</td>\n",
       "    </tr>\n",
       "    <tr>\n",
       "      <th>...</th>\n",
       "      <td>...</td>\n",
       "      <td>...</td>\n",
       "      <td>...</td>\n",
       "      <td>...</td>\n",
       "      <td>...</td>\n",
       "      <td>...</td>\n",
       "      <td>...</td>\n",
       "    </tr>\n",
       "    <tr>\n",
       "      <th>1655</th>\n",
       "      <td>Vietnam</td>\n",
       "      <td>2007</td>\n",
       "      <td>74.249</td>\n",
       "      <td>85262356</td>\n",
       "      <td>2441.576404</td>\n",
       "      <td>7.930757</td>\n",
       "      <td>3.387670</td>\n",
       "    </tr>\n",
       "    <tr>\n",
       "      <th>1667</th>\n",
       "      <td>West Bank and Gaza</td>\n",
       "      <td>2007</td>\n",
       "      <td>73.422</td>\n",
       "      <td>4018332</td>\n",
       "      <td>3025.349798</td>\n",
       "      <td>6.604046</td>\n",
       "      <td>3.480776</td>\n",
       "    </tr>\n",
       "    <tr>\n",
       "      <th>1679</th>\n",
       "      <td>Yemen, Rep.</td>\n",
       "      <td>2007</td>\n",
       "      <td>62.698</td>\n",
       "      <td>22211743</td>\n",
       "      <td>2280.769906</td>\n",
       "      <td>7.346583</td>\n",
       "      <td>3.358081</td>\n",
       "    </tr>\n",
       "    <tr>\n",
       "      <th>1691</th>\n",
       "      <td>Zambia</td>\n",
       "      <td>2007</td>\n",
       "      <td>42.384</td>\n",
       "      <td>11746035</td>\n",
       "      <td>1271.211593</td>\n",
       "      <td>7.069891</td>\n",
       "      <td>3.104218</td>\n",
       "    </tr>\n",
       "    <tr>\n",
       "      <th>1703</th>\n",
       "      <td>Zimbabwe</td>\n",
       "      <td>2007</td>\n",
       "      <td>43.487</td>\n",
       "      <td>12311143</td>\n",
       "      <td>469.709298</td>\n",
       "      <td>7.090298</td>\n",
       "      <td>2.671829</td>\n",
       "    </tr>\n",
       "  </tbody>\n",
       "</table>\n",
       "<p>142 rows × 7 columns</p>\n",
       "</div>"
      ],
      "text/plain": [
       "                 country  year  lifeExp       pop     gdpPercap    logPop  \\\n",
       "11           Afghanistan  2007   43.828  31889923    974.580338  7.503653   \n",
       "23               Albania  2007   76.423   3600523   5937.029526  6.556366   \n",
       "35               Algeria  2007   72.301  33333216   6223.367465  7.522877   \n",
       "47                Angola  2007   42.731  12420476   4797.231267  7.094138   \n",
       "59             Argentina  2007   75.320  40301927  12779.379640  7.605326   \n",
       "...                  ...   ...      ...       ...           ...       ...   \n",
       "1655             Vietnam  2007   74.249  85262356   2441.576404  7.930757   \n",
       "1667  West Bank and Gaza  2007   73.422   4018332   3025.349798  6.604046   \n",
       "1679         Yemen, Rep.  2007   62.698  22211743   2280.769906  7.346583   \n",
       "1691              Zambia  2007   42.384  11746035   1271.211593  7.069891   \n",
       "1703            Zimbabwe  2007   43.487  12311143    469.709298  7.090298   \n",
       "\n",
       "      logGdpPercap  \n",
       "11        2.988818  \n",
       "23        3.773569  \n",
       "35        3.794025  \n",
       "47        3.680991  \n",
       "59        4.106510  \n",
       "...            ...  \n",
       "1655      3.387670  \n",
       "1667      3.480776  \n",
       "1679      3.358081  \n",
       "1691      3.104218  \n",
       "1703      2.671829  \n",
       "\n",
       "[142 rows x 7 columns]"
      ]
     },
     "execution_count": 14,
     "metadata": {},
     "output_type": "execute_result"
    }
   ],
   "source": [
    "gap = pd.read_csv(\"https://raw.githubusercontent.com/UCSD-CSS-002/ucsd-css-002.github.io/master/datasets/gapminder.csv\")\n",
    "\n",
    "# Let's keep just some of the variables (note for pset!)\n",
    "gap_subset = gap.loc[gap['year'] == 2007, ('country', 'year', 'lifeExp', 'pop', 'gdpPercap')]\n",
    "\n",
    "# Add log population\n",
    "gap_subset['logPop'] = np.log10(gap_subset['pop'])\n",
    "gap_subset['logGdpPercap'] = np.log10(gap_subset['gdpPercap'])\n",
    "gap_subset\n",
    "\n"
   ]
  },
  {
   "cell_type": "markdown",
   "id": "f82900af",
   "metadata": {},
   "source": [
    "In the last problem set, you generated a graph that predicted life expectancy as a function of income, with information about population and region available as well. \n",
    "\n",
    "![gap](img/gapminder.png)\n",
    "\n",
    "The graph suggests that life expectancy is strongly predicted by income, while population may not play such an important role. \n",
    "\n",
    "Let's test that here!\n",
    "\n",
    "What that amounts to asking is:\n",
    "\n",
    "**Can we predict life expectancy using both income *and* population better than we could only using one of those variables?**"
   ]
  },
  {
   "cell_type": "code",
   "execution_count": 15,
   "id": "30763dd4",
   "metadata": {},
   "outputs": [
    {
     "data": {
      "image/png": "[encoded data removed]",
      "text/plain": [
       "<Figure size 432x288 with 1 Axes>"
      ]
     },
     "metadata": {
      "filenames": {
       "image/png": "/Users/erikbrockbank/web/teaching/ucsd-css-002-sp2022.github.io/_build/jupyter_execute/lectures/sp22/Lecture_15-pre_35_0.png"
      },
      "needs_background": "light"
     },
     "output_type": "display_data"
    },
    {
     "data": {
      "image/png": "[encoded data removed]",
      "text/plain": [
       "<Figure size 432x288 with 1 Axes>"
      ]
     },
     "metadata": {
      "filenames": {
       "image/png": "/Users/erikbrockbank/web/teaching/ucsd-css-002-sp2022.github.io/_build/jupyter_execute/lectures/sp22/Lecture_15-pre_35_1.png"
      },
      "needs_background": "light"
     },
     "output_type": "display_data"
    }
   ],
   "source": [
    "sns.scatterplot(data = gap_subset, \n",
    "                x = \"logGdpPercap\", # x1 \n",
    "                y = \"lifeExp\",\n",
    "                color = \"r\"\n",
    "               )\n",
    "plt.show()\n",
    "\n",
    "sns.scatterplot(data = gap_subset, \n",
    "                x = \"logPop\", # x2 \n",
    "                y = \"lifeExp\",\n",
    "                color = \"b\"\n",
    "               )\n",
    "plt.show()"
   ]
  },
  {
   "cell_type": "markdown",
   "id": "15bc5a94",
   "metadata": {},
   "source": [
    "### Multiple regression: overview\n",
    "\n",
    "Multiple regression is like linear regression except that we assume our dependent variable $y_i$ is *jointly* predicted by multiple independent variables $x_1$, $x_2$, ..., $x_n$, as in the example above.\n",
    "\n",
    "As noted above, our simple linear regression model assumes that our data $(x_i, y_i)$ has the following form:\n",
    "\n",
    "$y_i = \\beta_0 + \\beta_1 x_i + \\epsilon_i$\n",
    "\n",
    "With multiple regression, we now extend this model to include multiple predictors:\n",
    "\n",
    "$y_i = \\beta_0 + \\beta_1 x_{i,1} + \\beta_2 x_{i,2} + \\ ... \\ + \\beta_n x_{i,n} + \\epsilon_i $\n",
    "\n",
    "In most cases, multiple regression once again uses the same *Ordinary Least Squares* (OLS) parameter estimation as simple regression. However, interpreting the parameter estimates is a little less straightforward.\n",
    "\n",
    "*How would we interpret $\\beta_0 = 1$, $\\beta_1 = 2$, $\\beta_2 = 3$*?"
   ]
  },
  {
   "cell_type": "markdown",
   "id": "f1042aca",
   "metadata": {},
   "source": [
    "### Multiple regression in python\n",
    "\n",
    "To run our multiple regression, we can use the scikit `LinearRegression` class with just a few modifications to our simple regression code.\n",
    "\n",
    "I've also included the statsmodels code below as well so we can look at the statistics more closely!"
   ]
  },
  {
   "cell_type": "code",
   "execution_count": 16,
   "id": "93f3cf9d",
   "metadata": {},
   "outputs": [
    {
     "data": {
      "text/plain": [
       "array([16.6811828 ,  1.86827925])"
      ]
     },
     "execution_count": 16,
     "metadata": {},
     "output_type": "execute_result"
    }
   ],
   "source": [
    "# scikit learn approach\n",
    "x_vals = np.array(gap_subset[['logGdpPercap', 'logPop']]) # Note: this syntax is important!\n",
    "x_vals = x_vals.reshape(len(gap_subset), 2)\n",
    "x_vals\n",
    "\n",
    "y_vals = np.array(gap_subset['lifeExp'])\n",
    "y_vals\n",
    "\n",
    "mod = LinearRegression().fit(X = x_vals, y = y_vals)\n",
    "\n",
    "mod.intercept_\n",
    "mod.coef_"
   ]
  },
  {
   "cell_type": "code",
   "execution_count": 17,
   "id": "32a37e9e",
   "metadata": {},
   "outputs": [
    {
     "data": {
      "text/plain": [
       "0.6649393884784984"
      ]
     },
     "execution_count": 17,
     "metadata": {},
     "output_type": "execute_result"
    }
   ],
   "source": [
    "# How well does our regression do?\n",
    "mod.score(X = x_vals, y = y_vals)"
   ]
  },
  {
   "cell_type": "markdown",
   "id": "a6bd8ab4",
   "metadata": {},
   "source": [
    "Using the statsmodels regression class, we can view statistical tests on our parameter fits"
   ]
  },
  {
   "cell_type": "code",
   "execution_count": 18,
   "id": "c8d6ba35",
   "metadata": {},
   "outputs": [
    {
     "data": {
      "text/html": [
       "<table class=\"simpletable\">\n",
       "<caption>OLS Regression Results</caption>\n",
       "<tr>\n",
       "  <th>Dep. Variable:</th>         <td>lifeExp</td>     <th>  R-squared:         </th> <td>   0.665</td>\n",
       "</tr>\n",
       "<tr>\n",
       "  <th>Model:</th>                   <td>OLS</td>       <th>  Adj. R-squared:    </th> <td>   0.660</td>\n",
       "</tr>\n",
       "<tr>\n",
       "  <th>Method:</th>             <td>Least Squares</td>  <th>  F-statistic:       </th> <td>   137.9</td>\n",
       "</tr>\n",
       "<tr>\n",
       "  <th>Date:</th>             <td>Tue, 14 Jun 2022</td> <th>  Prob (F-statistic):</th> <td>9.91e-34</td>\n",
       "</tr>\n",
       "<tr>\n",
       "  <th>Time:</th>                 <td>18:22:45</td>     <th>  Log-Likelihood:    </th> <td> -477.07</td>\n",
       "</tr>\n",
       "<tr>\n",
       "  <th>No. Observations:</th>      <td>   142</td>      <th>  AIC:               </th> <td>   960.1</td>\n",
       "</tr>\n",
       "<tr>\n",
       "  <th>Df Residuals:</th>          <td>   139</td>      <th>  BIC:               </th> <td>   969.0</td>\n",
       "</tr>\n",
       "<tr>\n",
       "  <th>Df Model:</th>              <td>     2</td>      <th>                     </th>     <td> </td>   \n",
       "</tr>\n",
       "<tr>\n",
       "  <th>Covariance Type:</th>      <td>nonrobust</td>    <th>                     </th>     <td> </td>   \n",
       "</tr>\n",
       "</table>\n",
       "<table class=\"simpletable\">\n",
       "<tr>\n",
       "        <td></td>          <th>coef</th>     <th>std err</th>      <th>t</th>      <th>P>|t|</th>  <th>[0.025</th>    <th>0.975]</th>  \n",
       "</tr>\n",
       "<tr>\n",
       "  <th>Intercept</th>    <td>   -8.6161</td> <td>    7.538</td> <td>   -1.143</td> <td> 0.255</td> <td>  -23.520</td> <td>    6.288</td>\n",
       "</tr>\n",
       "<tr>\n",
       "  <th>logGdpPercap</th> <td>   16.6812</td> <td>    1.008</td> <td>   16.555</td> <td> 0.000</td> <td>   14.689</td> <td>   18.673</td>\n",
       "</tr>\n",
       "<tr>\n",
       "  <th>logPop</th>       <td>    1.8683</td> <td>    0.896</td> <td>    2.086</td> <td> 0.039</td> <td>    0.098</td> <td>    3.639</td>\n",
       "</tr>\n",
       "</table>\n",
       "<table class=\"simpletable\">\n",
       "<tr>\n",
       "  <th>Omnibus:</th>       <td>34.155</td> <th>  Durbin-Watson:     </th> <td>   2.170</td>\n",
       "</tr>\n",
       "<tr>\n",
       "  <th>Prob(Omnibus):</th> <td> 0.000</td> <th>  Jarque-Bera (JB):  </th> <td>  54.987</td>\n",
       "</tr>\n",
       "<tr>\n",
       "  <th>Skew:</th>          <td>-1.183</td> <th>  Prob(JB):          </th> <td>1.15e-12</td>\n",
       "</tr>\n",
       "<tr>\n",
       "  <th>Kurtosis:</th>      <td> 4.923</td> <th>  Cond. No.          </th> <td>    104.</td>\n",
       "</tr>\n",
       "</table><br/><br/>Notes:<br/>[1] Standard Errors assume that the covariance matrix of the errors is correctly specified."
      ],
      "text/plain": [
       "<class 'statsmodels.iolib.summary.Summary'>\n",
       "\"\"\"\n",
       "                            OLS Regression Results                            \n",
       "==============================================================================\n",
       "Dep. Variable:                lifeExp   R-squared:                       0.665\n",
       "Model:                            OLS   Adj. R-squared:                  0.660\n",
       "Method:                 Least Squares   F-statistic:                     137.9\n",
       "Date:                Tue, 14 Jun 2022   Prob (F-statistic):           9.91e-34\n",
       "Time:                        18:22:45   Log-Likelihood:                -477.07\n",
       "No. Observations:                 142   AIC:                             960.1\n",
       "Df Residuals:                     139   BIC:                             969.0\n",
       "Df Model:                           2                                         \n",
       "Covariance Type:            nonrobust                                         \n",
       "================================================================================\n",
       "                   coef    std err          t      P>|t|      [0.025      0.975]\n",
       "--------------------------------------------------------------------------------\n",
       "Intercept       -8.6161      7.538     -1.143      0.255     -23.520       6.288\n",
       "logGdpPercap    16.6812      1.008     16.555      0.000      14.689      18.673\n",
       "logPop           1.8683      0.896      2.086      0.039       0.098       3.639\n",
       "==============================================================================\n",
       "Omnibus:                       34.155   Durbin-Watson:                   2.170\n",
       "Prob(Omnibus):                  0.000   Jarque-Bera (JB):               54.987\n",
       "Skew:                          -1.183   Prob(JB):                     1.15e-12\n",
       "Kurtosis:                       4.923   Cond. No.                         104.\n",
       "==============================================================================\n",
       "\n",
       "Notes:\n",
       "[1] Standard Errors assume that the covariance matrix of the errors is correctly specified.\n",
       "\"\"\""
      ]
     },
     "execution_count": 18,
     "metadata": {},
     "output_type": "execute_result"
    }
   ],
   "source": [
    "multiple_reg = smf.ols('lifeExp ~ logGdpPercap + logPop', data = gap_subset).fit()\n",
    "\n",
    "# View the results\n",
    "multiple_reg.summary()"
   ]
  }
 ],
 "metadata": {
  "interpreter": {
   "hash": "e774977668b7c0ae8309835a5187aa7fbf7669e7d0bb59755bc63e573643edcd"
  },
  "kernelspec": {
   "display_name": "Python 3 (clean)",
   "language": "python",
   "name": "python3"
  },
  "language_info": {
   "codemirror_mode": {
    "name": "ipython",
    "version": 3
   },
   "file_extension": ".py",
   "mimetype": "text/x-python",
   "name": "python",
   "nbconvert_exporter": "python",
   "pygments_lexer": "ipython3",
   "version": "3.8.3"
  }
 },
 "nbformat": 4,
 "nbformat_minor": 5
}